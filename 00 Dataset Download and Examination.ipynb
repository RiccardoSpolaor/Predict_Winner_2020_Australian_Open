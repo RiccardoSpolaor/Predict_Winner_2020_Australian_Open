{
 "cells": [
  {
   "cell_type": "markdown",
   "metadata": {},
   "source": [
    "<center>\n",
    "\n",
    "# Web Intelligence\n",
    "\n",
    "# Who will win the Tennis Australian Open 2020?\n",
    "\n",
    "## 00 Dataset Download and Examination\n",
    "\n",
    "\n",
    "### Riccardo Spolaor (864877)\n",
    "\n",
    "</center>"
   ]
  },
  {
   "cell_type": "markdown",
   "metadata": {},
   "source": [
    "## Index\n",
    "\n",
    "1. [Scaricare il dataset e rendere i dati facilmente accessibili](#s_1)\n",
    "1. Section 2"
   ]
  },
  {
   "cell_type": "markdown",
   "metadata": {},
   "source": [
    "<a id=\"s_1\"></a>\n",
    "\n",
    "## Scaricare il dataset e rendere i dati facilmente accessibili\n",
    "\n",
    "Il primo step consiste nello scaricare i vari dataset, importarli in oggetti DataFrame della libreria pandas ed unirli in un solo DataFrame.\n",
    "\n",
    "Tengo traccia dei differenti dataset scaricati assegnando ad ognuno una feature ***csvID***.\n",
    "\n",
    "Ignoro i dati dell'anno 2000 in quanto sono privi di dati riguardo alle scommesse."
   ]
  },
  {
   "cell_type": "code",
   "execution_count": 1,
   "metadata": {},
   "outputs": [
    {
     "data": {
      "text/html": [
       "<div>\n",
       "<style scoped>\n",
       "    .dataframe tbody tr th:only-of-type {\n",
       "        vertical-align: middle;\n",
       "    }\n",
       "\n",
       "    .dataframe tbody tr th {\n",
       "        vertical-align: top;\n",
       "    }\n",
       "\n",
       "    .dataframe thead th {\n",
       "        text-align: right;\n",
       "    }\n",
       "</style>\n",
       "<table border=\"1\" class=\"dataframe\">\n",
       "  <thead>\n",
       "    <tr style=\"text-align: right;\">\n",
       "      <th></th>\n",
       "      <th>csvID</th>\n",
       "      <th>ATP</th>\n",
       "      <th>Location</th>\n",
       "      <th>Tournament</th>\n",
       "      <th>Date</th>\n",
       "      <th>Series</th>\n",
       "      <th>Court</th>\n",
       "      <th>Surface</th>\n",
       "      <th>Round</th>\n",
       "      <th>Best of</th>\n",
       "      <th>...</th>\n",
       "      <th>UBW</th>\n",
       "      <th>UBL</th>\n",
       "      <th>LBW</th>\n",
       "      <th>LBL</th>\n",
       "      <th>SJW</th>\n",
       "      <th>SJL</th>\n",
       "      <th>MaxW</th>\n",
       "      <th>MaxL</th>\n",
       "      <th>AvgW</th>\n",
       "      <th>AvgL</th>\n",
       "    </tr>\n",
       "  </thead>\n",
       "  <tbody>\n",
       "    <tr>\n",
       "      <th>0</th>\n",
       "      <td>0</td>\n",
       "      <td>1.0</td>\n",
       "      <td>Adelaide</td>\n",
       "      <td>AAPT Championships</td>\n",
       "      <td>2001-01-01</td>\n",
       "      <td>International</td>\n",
       "      <td>Outdoor</td>\n",
       "      <td>Hard</td>\n",
       "      <td>1st Round</td>\n",
       "      <td>3.0</td>\n",
       "      <td>...</td>\n",
       "      <td>NaN</td>\n",
       "      <td>NaN</td>\n",
       "      <td>NaN</td>\n",
       "      <td>NaN</td>\n",
       "      <td>NaN</td>\n",
       "      <td>NaN</td>\n",
       "      <td>NaN</td>\n",
       "      <td>NaN</td>\n",
       "      <td>NaN</td>\n",
       "      <td>NaN</td>\n",
       "    </tr>\n",
       "    <tr>\n",
       "      <th>1</th>\n",
       "      <td>0</td>\n",
       "      <td>1.0</td>\n",
       "      <td>Adelaide</td>\n",
       "      <td>AAPT Championships</td>\n",
       "      <td>2001-01-01</td>\n",
       "      <td>International</td>\n",
       "      <td>Outdoor</td>\n",
       "      <td>Hard</td>\n",
       "      <td>1st Round</td>\n",
       "      <td>3.0</td>\n",
       "      <td>...</td>\n",
       "      <td>NaN</td>\n",
       "      <td>NaN</td>\n",
       "      <td>NaN</td>\n",
       "      <td>NaN</td>\n",
       "      <td>NaN</td>\n",
       "      <td>NaN</td>\n",
       "      <td>NaN</td>\n",
       "      <td>NaN</td>\n",
       "      <td>NaN</td>\n",
       "      <td>NaN</td>\n",
       "    </tr>\n",
       "    <tr>\n",
       "      <th>2</th>\n",
       "      <td>0</td>\n",
       "      <td>1.0</td>\n",
       "      <td>Adelaide</td>\n",
       "      <td>AAPT Championships</td>\n",
       "      <td>2001-01-01</td>\n",
       "      <td>International</td>\n",
       "      <td>Outdoor</td>\n",
       "      <td>Hard</td>\n",
       "      <td>1st Round</td>\n",
       "      <td>3.0</td>\n",
       "      <td>...</td>\n",
       "      <td>NaN</td>\n",
       "      <td>NaN</td>\n",
       "      <td>NaN</td>\n",
       "      <td>NaN</td>\n",
       "      <td>NaN</td>\n",
       "      <td>NaN</td>\n",
       "      <td>NaN</td>\n",
       "      <td>NaN</td>\n",
       "      <td>NaN</td>\n",
       "      <td>NaN</td>\n",
       "    </tr>\n",
       "    <tr>\n",
       "      <th>3</th>\n",
       "      <td>0</td>\n",
       "      <td>1.0</td>\n",
       "      <td>Adelaide</td>\n",
       "      <td>AAPT Championships</td>\n",
       "      <td>2001-01-01</td>\n",
       "      <td>International</td>\n",
       "      <td>Outdoor</td>\n",
       "      <td>Hard</td>\n",
       "      <td>1st Round</td>\n",
       "      <td>3.0</td>\n",
       "      <td>...</td>\n",
       "      <td>NaN</td>\n",
       "      <td>NaN</td>\n",
       "      <td>NaN</td>\n",
       "      <td>NaN</td>\n",
       "      <td>NaN</td>\n",
       "      <td>NaN</td>\n",
       "      <td>NaN</td>\n",
       "      <td>NaN</td>\n",
       "      <td>NaN</td>\n",
       "      <td>NaN</td>\n",
       "    </tr>\n",
       "    <tr>\n",
       "      <th>4</th>\n",
       "      <td>0</td>\n",
       "      <td>1.0</td>\n",
       "      <td>Adelaide</td>\n",
       "      <td>AAPT Championships</td>\n",
       "      <td>2001-01-01</td>\n",
       "      <td>International</td>\n",
       "      <td>Outdoor</td>\n",
       "      <td>Hard</td>\n",
       "      <td>1st Round</td>\n",
       "      <td>3.0</td>\n",
       "      <td>...</td>\n",
       "      <td>NaN</td>\n",
       "      <td>NaN</td>\n",
       "      <td>NaN</td>\n",
       "      <td>NaN</td>\n",
       "      <td>NaN</td>\n",
       "      <td>NaN</td>\n",
       "      <td>NaN</td>\n",
       "      <td>NaN</td>\n",
       "      <td>NaN</td>\n",
       "      <td>NaN</td>\n",
       "    </tr>\n",
       "  </tbody>\n",
       "</table>\n",
       "<p>5 rows × 55 columns</p>\n",
       "</div>"
      ],
      "text/plain": [
       "   csvID  ATP  Location          Tournament       Date         Series  \\\n",
       "0      0  1.0  Adelaide  AAPT Championships 2001-01-01  International   \n",
       "1      0  1.0  Adelaide  AAPT Championships 2001-01-01  International   \n",
       "2      0  1.0  Adelaide  AAPT Championships 2001-01-01  International   \n",
       "3      0  1.0  Adelaide  AAPT Championships 2001-01-01  International   \n",
       "4      0  1.0  Adelaide  AAPT Championships 2001-01-01  International   \n",
       "\n",
       "     Court Surface      Round  Best of  ... UBW UBL  LBW LBL  SJW  SJL MaxW  \\\n",
       "0  Outdoor    Hard  1st Round      3.0  ... NaN NaN  NaN NaN  NaN  NaN  NaN   \n",
       "1  Outdoor    Hard  1st Round      3.0  ... NaN NaN  NaN NaN  NaN  NaN  NaN   \n",
       "2  Outdoor    Hard  1st Round      3.0  ... NaN NaN  NaN NaN  NaN  NaN  NaN   \n",
       "3  Outdoor    Hard  1st Round      3.0  ... NaN NaN  NaN NaN  NaN  NaN  NaN   \n",
       "4  Outdoor    Hard  1st Round      3.0  ... NaN NaN  NaN NaN  NaN  NaN  NaN   \n",
       "\n",
       "  MaxL AvgW AvgL  \n",
       "0  NaN  NaN  NaN  \n",
       "1  NaN  NaN  NaN  \n",
       "2  NaN  NaN  NaN  \n",
       "3  NaN  NaN  NaN  \n",
       "4  NaN  NaN  NaN  \n",
       "\n",
       "[5 rows x 55 columns]"
      ]
     },
     "execution_count": 1,
     "metadata": {},
     "output_type": "execute_result"
    }
   ],
   "source": [
    "import urllib.request, zipfile, pandas\n",
    "\n",
    "def get_file(url):\n",
    "    filehandle, _ = urllib.request.urlretrieve(url)\n",
    "    zip_file_obj = zipfile.ZipFile(filehandle, 'r')\n",
    "    file = zip_file_obj.open(zip_file_obj.namelist()[0])\n",
    "    return file\n",
    "\n",
    "dataframe = pandas.DataFrame()\n",
    "dataframe.insert(0, column ='csvID', value = 0)\n",
    "\n",
    "for date in range(2001,2019+1):\n",
    "    file = get_file('http://tennis-data.co.uk/' + str(date) + '/' + str(date) + '.zip')\n",
    "    dataframe = dataframe.append(pandas.read_excel(file).assign(csvID = date-2001), sort = False, ignore_index = True)\n",
    "\n",
    "\n",
    "dataframe.head()"
   ]
  },
  {
   "cell_type": "code",
   "execution_count": 2,
   "metadata": {},
   "outputs": [
    {
     "data": {
      "text/plain": [
       "Index(['csvID', 'ATP', 'Location', 'Tournament', 'Date', 'Series', 'Court',\n",
       "       'Surface', 'Round', 'Best of', 'Winner', 'Loser', 'WRank', 'LRank',\n",
       "       'W1', 'L1', 'W2', 'L2', 'W3', 'L3', 'W4', 'L4', 'W5', 'L5', 'Wsets',\n",
       "       'Lsets', 'Comment', 'CBW', 'CBL', 'GBW', 'GBL', 'IWW', 'IWL', 'SBW',\n",
       "       'SBL', 'B365W', 'B365L', 'B&WW', 'B&WL', 'EXW', 'EXL', 'PSW', 'PSL',\n",
       "       'WPts', 'LPts', 'UBW', 'UBL', 'LBW', 'LBL', 'SJW', 'SJL', 'MaxW',\n",
       "       'MaxL', 'AvgW', 'AvgL'],\n",
       "      dtype='object')"
      ]
     },
     "execution_count": 2,
     "metadata": {},
     "output_type": "execute_result"
    }
   ],
   "source": [
    "dataframe.columns"
   ]
  },
  {
   "cell_type": "markdown",
   "metadata": {},
   "source": [
    "### Correzione dei tipi assegnati in modo scorretto\n",
    "Controllo se alcune feature hanno assegnati tipi differenti da quelli attesi e correggo eventuali valori errati"
   ]
  },
  {
   "cell_type": "code",
   "execution_count": 3,
   "metadata": {},
   "outputs": [
    {
     "name": "stdout",
     "output_type": "stream",
     "text": [
      "Feature di tipo Object:\n",
      " ['Location', 'Tournament', 'Series', 'Court', 'Surface', 'Round', 'Winner', 'Loser', 'LRank', 'W2', 'L2', 'W3', 'L3', 'Lsets', 'Comment', 'EXW']\n"
     ]
    },
    {
     "data": {
      "text/html": [
       "<div>\n",
       "<style scoped>\n",
       "    .dataframe tbody tr th:only-of-type {\n",
       "        vertical-align: middle;\n",
       "    }\n",
       "\n",
       "    .dataframe tbody tr th {\n",
       "        vertical-align: top;\n",
       "    }\n",
       "\n",
       "    .dataframe thead th {\n",
       "        text-align: right;\n",
       "    }\n",
       "</style>\n",
       "<table border=\"1\" class=\"dataframe\">\n",
       "  <thead>\n",
       "    <tr style=\"text-align: right;\">\n",
       "      <th></th>\n",
       "      <th>Location</th>\n",
       "      <th>Tournament</th>\n",
       "      <th>Series</th>\n",
       "      <th>Court</th>\n",
       "      <th>Surface</th>\n",
       "      <th>Round</th>\n",
       "      <th>Winner</th>\n",
       "      <th>Loser</th>\n",
       "      <th>LRank</th>\n",
       "      <th>W2</th>\n",
       "      <th>L2</th>\n",
       "      <th>W3</th>\n",
       "      <th>L3</th>\n",
       "      <th>Lsets</th>\n",
       "      <th>Comment</th>\n",
       "      <th>EXW</th>\n",
       "    </tr>\n",
       "  </thead>\n",
       "  <tbody>\n",
       "    <tr>\n",
       "      <th>0</th>\n",
       "      <td>Adelaide</td>\n",
       "      <td>AAPT Championships</td>\n",
       "      <td>International</td>\n",
       "      <td>Outdoor</td>\n",
       "      <td>Hard</td>\n",
       "      <td>1st Round</td>\n",
       "      <td>Clement A.</td>\n",
       "      <td>Gaudenzi A.</td>\n",
       "      <td>101</td>\n",
       "      <td>6</td>\n",
       "      <td>0</td>\n",
       "      <td>6</td>\n",
       "      <td>3</td>\n",
       "      <td>1</td>\n",
       "      <td>Completed</td>\n",
       "      <td>NaN</td>\n",
       "    </tr>\n",
       "    <tr>\n",
       "      <th>1</th>\n",
       "      <td>Adelaide</td>\n",
       "      <td>AAPT Championships</td>\n",
       "      <td>International</td>\n",
       "      <td>Outdoor</td>\n",
       "      <td>Hard</td>\n",
       "      <td>1st Round</td>\n",
       "      <td>Goldstein P.</td>\n",
       "      <td>Jones A.</td>\n",
       "      <td>442</td>\n",
       "      <td>6</td>\n",
       "      <td>2</td>\n",
       "      <td>NaN</td>\n",
       "      <td>NaN</td>\n",
       "      <td>0</td>\n",
       "      <td>Completed</td>\n",
       "      <td>NaN</td>\n",
       "    </tr>\n",
       "    <tr>\n",
       "      <th>2</th>\n",
       "      <td>Adelaide</td>\n",
       "      <td>AAPT Championships</td>\n",
       "      <td>International</td>\n",
       "      <td>Outdoor</td>\n",
       "      <td>Hard</td>\n",
       "      <td>1st Round</td>\n",
       "      <td>Haas T.</td>\n",
       "      <td>Smith L.</td>\n",
       "      <td>485</td>\n",
       "      <td>6</td>\n",
       "      <td>3</td>\n",
       "      <td>NaN</td>\n",
       "      <td>NaN</td>\n",
       "      <td>0</td>\n",
       "      <td>Completed</td>\n",
       "      <td>NaN</td>\n",
       "    </tr>\n",
       "    <tr>\n",
       "      <th>3</th>\n",
       "      <td>Adelaide</td>\n",
       "      <td>AAPT Championships</td>\n",
       "      <td>International</td>\n",
       "      <td>Outdoor</td>\n",
       "      <td>Hard</td>\n",
       "      <td>1st Round</td>\n",
       "      <td>Henman T.</td>\n",
       "      <td>Rusedski G.</td>\n",
       "      <td>69</td>\n",
       "      <td>7</td>\n",
       "      <td>6</td>\n",
       "      <td>NaN</td>\n",
       "      <td>NaN</td>\n",
       "      <td>0</td>\n",
       "      <td>Completed</td>\n",
       "      <td>NaN</td>\n",
       "    </tr>\n",
       "    <tr>\n",
       "      <th>4</th>\n",
       "      <td>Adelaide</td>\n",
       "      <td>AAPT Championships</td>\n",
       "      <td>International</td>\n",
       "      <td>Outdoor</td>\n",
       "      <td>Hard</td>\n",
       "      <td>1st Round</td>\n",
       "      <td>Hewitt L.</td>\n",
       "      <td>Arthurs W.</td>\n",
       "      <td>83</td>\n",
       "      <td>6</td>\n",
       "      <td>3</td>\n",
       "      <td>NaN</td>\n",
       "      <td>NaN</td>\n",
       "      <td>0</td>\n",
       "      <td>Completed</td>\n",
       "      <td>NaN</td>\n",
       "    </tr>\n",
       "  </tbody>\n",
       "</table>\n",
       "</div>"
      ],
      "text/plain": [
       "   Location          Tournament         Series    Court Surface      Round  \\\n",
       "0  Adelaide  AAPT Championships  International  Outdoor    Hard  1st Round   \n",
       "1  Adelaide  AAPT Championships  International  Outdoor    Hard  1st Round   \n",
       "2  Adelaide  AAPT Championships  International  Outdoor    Hard  1st Round   \n",
       "3  Adelaide  AAPT Championships  International  Outdoor    Hard  1st Round   \n",
       "4  Adelaide  AAPT Championships  International  Outdoor    Hard  1st Round   \n",
       "\n",
       "         Winner        Loser LRank W2 L2   W3   L3 Lsets    Comment  EXW  \n",
       "0    Clement A.  Gaudenzi A.   101  6  0    6    3     1  Completed  NaN  \n",
       "1  Goldstein P.     Jones A.   442  6  2  NaN  NaN     0  Completed  NaN  \n",
       "2       Haas T.     Smith L.   485  6  3  NaN  NaN     0  Completed  NaN  \n",
       "3     Henman T.  Rusedski G.    69  7  6  NaN  NaN     0  Completed  NaN  \n",
       "4     Hewitt L.   Arthurs W.    83  6  3  NaN  NaN     0  Completed  NaN  "
      ]
     },
     "execution_count": 3,
     "metadata": {},
     "output_type": "execute_result"
    }
   ],
   "source": [
    "print('Feature di tipo Object:\\n', dataframe.dtypes[dataframe.dtypes == object].index.tolist())\n",
    "\n",
    "dataframe.head()[dataframe.dtypes[dataframe.dtypes == object].index]"
   ]
  },
  {
   "cell_type": "markdown",
   "metadata": {},
   "source": [
    "***LRank***, ***W2***, ***L2***, ***W3***, ***L3***, ***Lsets*** e ***EXW*** presentano valori numerici, ma sono categorizzati come *Object*.\n",
    "\n",
    "Controllo quali sono i valori non numerici che non permettono il corretto casting dei tipi e procedo alla loro correzione"
   ]
  },
  {
   "cell_type": "code",
   "execution_count": 4,
   "metadata": {},
   "outputs": [
    {
     "name": "stdout",
     "output_type": "stream",
     "text": [
      "\"LRank\":  Wrong Values ->  {'NR'}\n",
      "\"W2\":  Wrong Values ->  {' '}\n",
      "\"L2\":  Wrong Values ->  {' '}\n",
      "\"W3\":  Wrong Values ->  {' '}\n",
      "\"L3\":  Wrong Values ->  {' '}\n",
      "\"Lsets\":  Wrong Values ->  {'`1'}\n",
      "\"EXW\":  Wrong Values ->  {'2.,3'}\n"
     ]
    }
   ],
   "source": [
    "import numbers\n",
    "import numpy as np\n",
    "\n",
    "def checkValues(attribute_names):\n",
    "    for a in attribute_names:\n",
    "        print('\"'+a+'\": ', 'Wrong Values -> ' , set([x for x in dataframe[a] if not isinstance(x, numbers.Number)]))\n",
    "    \n",
    "checkValues(['LRank', 'W2', 'L2', 'W3', 'L3', 'Lsets', 'EXW'])"
   ]
  },
  {
   "cell_type": "code",
   "execution_count": 5,
   "metadata": {},
   "outputs": [],
   "source": [
    "import re\n",
    "\n",
    "def reassignNans(attribute_names):\n",
    "    for a in attribute_names:\n",
    "        wrong_values = set([x for x in dataframe[a] if not isinstance(x, numbers.Number)])\n",
    "        dataframe.loc[dataframe[a].isin(wrong_values), a] = np.nan\n",
    "        dataframe[a] = dataframe[a].astype(float)\n",
    "\n",
    "def correctTypos(attribute_names):\n",
    "    for a in attribute_names:\n",
    "        wrong_values = set([x for x in dataframe[a] if not isinstance(x, numbers.Number)])\n",
    "        indexes = dataframe[dataframe[a].isin(wrong_values)].index.values\n",
    "        dataframe.iloc[indexes]\n",
    "        for i in indexes:\n",
    "            dataframe.iloc[i,dataframe.columns.get_loc(a)] = float(re.sub(\"[^0-9^.]\", \"\", str(dataframe.iloc[i][a])))            \n",
    "        dataframe[a] = dataframe[a].astype(float)"
   ]
  },
  {
   "cell_type": "code",
   "execution_count": 6,
   "metadata": {},
   "outputs": [
    {
     "name": "stdout",
     "output_type": "stream",
     "text": [
      "WRank, LRank, W2, L2, W3 and L3 have strings to represent NaN values.\n",
      "It is possible to set these strings to NaN and assign \"float\" as the features type :\n",
      "\n",
      "\"WRank\":  Wrong Values ->  set()\n",
      "\"LRank\":  Wrong Values ->  set()\n",
      "\"W2\":  Wrong Values ->  set()\n",
      "\"L2\":  Wrong Values ->  set()\n",
      "\"W3\":  Wrong Values ->  set()\n",
      "\"L3\":  Wrong Values ->  set()\n"
     ]
    }
   ],
   "source": [
    "print('WRank, LRank, W2, L2, W3 and L3 have strings to represent NaN values.')\n",
    "print('It is possible to set these strings to NaN and assign \"float\" as the features type :\\n')\n",
    "\n",
    "reassignNans(['WRank', 'LRank', 'W2', 'L2', 'W3', 'L3'])\n",
    "checkValues(['WRank', 'LRank', 'W2', 'L2', 'W3', 'L3'])"
   ]
  },
  {
   "cell_type": "code",
   "execution_count": 7,
   "metadata": {},
   "outputs": [
    {
     "name": "stdout",
     "output_type": "stream",
     "text": [
      "EXW and Lsets have typos.\n",
      "It is possible to correct these typos and assign \"float\" as the features type :\n",
      "\n",
      "\"EXW\":  Wrong Values ->  set()\n",
      "\"Lsets\":  Wrong Values ->  set()\n"
     ]
    }
   ],
   "source": [
    "print('EXW and Lsets have typos.')\n",
    "print('It is possible to correct these typos and assign \"float\" as the features type :\\n')\n",
    "\n",
    "correctTypos(['EXW', 'Lsets'])\n",
    "checkValues(['EXW', 'Lsets'])"
   ]
  },
  {
   "cell_type": "code",
   "execution_count": 8,
   "metadata": {},
   "outputs": [
    {
     "name": "stdout",
     "output_type": "stream",
     "text": [
      "Stored 'dataframe' (DataFrame)\n"
     ]
    }
   ],
   "source": [
    "%store dataframe"
   ]
  },
  {
   "cell_type": "code",
   "execution_count": 9,
   "metadata": {},
   "outputs": [
    {
     "name": "stdout",
     "output_type": "stream",
     "text": [
      "Stored variables and their in-db values:\n",
      "dataframe             ->        csvID   ATP  Location           Tournament \n"
     ]
    }
   ],
   "source": [
    "%store"
   ]
  },
  {
   "cell_type": "code",
   "execution_count": null,
   "metadata": {},
   "outputs": [],
   "source": []
  }
 ],
 "metadata": {
  "kernelspec": {
   "display_name": "Python 3",
   "language": "python",
   "name": "python3"
  },
  "language_info": {
   "codemirror_mode": {
    "name": "ipython",
    "version": 3
   },
   "file_extension": ".py",
   "mimetype": "text/x-python",
   "name": "python",
   "nbconvert_exporter": "python",
   "pygments_lexer": "ipython3",
   "version": "3.7.3"
  },
  "latex_envs": {
   "LaTeX_envs_menu_present": true,
   "autoclose": false,
   "autocomplete": true,
   "bibliofile": "biblio.bib",
   "cite_by": "apalike",
   "current_citInitial": 1,
   "eqLabelWithNumbers": true,
   "eqNumInitial": 1,
   "hotkeys": {
    "equation": "Ctrl-E",
    "itemize": "Ctrl-I"
   },
   "labels_anchors": false,
   "latex_user_defs": false,
   "report_style_numbering": false,
   "user_envs_cfg": false
  }
 },
 "nbformat": 4,
 "nbformat_minor": 2
}
