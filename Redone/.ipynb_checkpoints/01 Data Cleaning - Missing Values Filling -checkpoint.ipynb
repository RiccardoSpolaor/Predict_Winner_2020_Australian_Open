{
 "cells": [
  {
   "cell_type": "markdown",
   "metadata": {},
   "source": [
    "<center>\n",
    "\n",
    "# Web Intelligence\n",
    "\n",
    "# Who will win the Tennis Australian Open 2020?\n",
    "\n",
    "## 01 Data Cleaning - Missing Values Filling\n",
    "\n",
    "### Riccardo Spolaor (864877)\n",
    "\n",
    "</center>"
   ]
  },
  {
   "cell_type": "markdown",
   "metadata": {},
   "source": [
    "### Controllo e filling Missing Values\n",
    "Controllo quali feature presentano valori mancanti e procedo al loro filling."
   ]
  },
  {
   "cell_type": "code",
   "execution_count": 20,
   "metadata": {},
   "outputs": [],
   "source": [
    "import pandas as pd"
   ]
  },
  {
   "cell_type": "code",
   "execution_count": 21,
   "metadata": {},
   "outputs": [],
   "source": [
    "dataframe = pd.read_csv('./datasets/dataframe00.csv', low_memory = False)"
   ]
  },
  {
   "cell_type": "code",
   "execution_count": 22,
   "metadata": {},
   "outputs": [
    {
     "data": {
      "text/html": [
       "<div>\n",
       "<style scoped>\n",
       "    .dataframe tbody tr th:only-of-type {\n",
       "        vertical-align: middle;\n",
       "    }\n",
       "\n",
       "    .dataframe tbody tr th {\n",
       "        vertical-align: top;\n",
       "    }\n",
       "\n",
       "    .dataframe thead th {\n",
       "        text-align: right;\n",
       "    }\n",
       "</style>\n",
       "<table border=\"1\" class=\"dataframe\">\n",
       "  <thead>\n",
       "    <tr style=\"text-align: right;\">\n",
       "      <th></th>\n",
       "      <th>csvID</th>\n",
       "      <th>ATP</th>\n",
       "      <th>Location</th>\n",
       "      <th>Tournament</th>\n",
       "      <th>Date</th>\n",
       "      <th>Series</th>\n",
       "      <th>Court</th>\n",
       "      <th>Surface</th>\n",
       "      <th>Round</th>\n",
       "      <th>Best of</th>\n",
       "      <th>...</th>\n",
       "      <th>UBW</th>\n",
       "      <th>UBL</th>\n",
       "      <th>LBW</th>\n",
       "      <th>LBL</th>\n",
       "      <th>SJW</th>\n",
       "      <th>SJL</th>\n",
       "      <th>MaxW</th>\n",
       "      <th>MaxL</th>\n",
       "      <th>AvgW</th>\n",
       "      <th>AvgL</th>\n",
       "    </tr>\n",
       "  </thead>\n",
       "  <tbody>\n",
       "    <tr>\n",
       "      <th>0</th>\n",
       "      <td>0</td>\n",
       "      <td>1.0</td>\n",
       "      <td>Adelaide</td>\n",
       "      <td>AAPT Championships</td>\n",
       "      <td>2001-01-01</td>\n",
       "      <td>International</td>\n",
       "      <td>Outdoor</td>\n",
       "      <td>Hard</td>\n",
       "      <td>1st Round</td>\n",
       "      <td>3.0</td>\n",
       "      <td>...</td>\n",
       "      <td>NaN</td>\n",
       "      <td>NaN</td>\n",
       "      <td>NaN</td>\n",
       "      <td>NaN</td>\n",
       "      <td>NaN</td>\n",
       "      <td>NaN</td>\n",
       "      <td>NaN</td>\n",
       "      <td>NaN</td>\n",
       "      <td>NaN</td>\n",
       "      <td>NaN</td>\n",
       "    </tr>\n",
       "    <tr>\n",
       "      <th>1</th>\n",
       "      <td>0</td>\n",
       "      <td>1.0</td>\n",
       "      <td>Adelaide</td>\n",
       "      <td>AAPT Championships</td>\n",
       "      <td>2001-01-01</td>\n",
       "      <td>International</td>\n",
       "      <td>Outdoor</td>\n",
       "      <td>Hard</td>\n",
       "      <td>1st Round</td>\n",
       "      <td>3.0</td>\n",
       "      <td>...</td>\n",
       "      <td>NaN</td>\n",
       "      <td>NaN</td>\n",
       "      <td>NaN</td>\n",
       "      <td>NaN</td>\n",
       "      <td>NaN</td>\n",
       "      <td>NaN</td>\n",
       "      <td>NaN</td>\n",
       "      <td>NaN</td>\n",
       "      <td>NaN</td>\n",
       "      <td>NaN</td>\n",
       "    </tr>\n",
       "    <tr>\n",
       "      <th>2</th>\n",
       "      <td>0</td>\n",
       "      <td>1.0</td>\n",
       "      <td>Adelaide</td>\n",
       "      <td>AAPT Championships</td>\n",
       "      <td>2001-01-01</td>\n",
       "      <td>International</td>\n",
       "      <td>Outdoor</td>\n",
       "      <td>Hard</td>\n",
       "      <td>1st Round</td>\n",
       "      <td>3.0</td>\n",
       "      <td>...</td>\n",
       "      <td>NaN</td>\n",
       "      <td>NaN</td>\n",
       "      <td>NaN</td>\n",
       "      <td>NaN</td>\n",
       "      <td>NaN</td>\n",
       "      <td>NaN</td>\n",
       "      <td>NaN</td>\n",
       "      <td>NaN</td>\n",
       "      <td>NaN</td>\n",
       "      <td>NaN</td>\n",
       "    </tr>\n",
       "    <tr>\n",
       "      <th>3</th>\n",
       "      <td>0</td>\n",
       "      <td>1.0</td>\n",
       "      <td>Adelaide</td>\n",
       "      <td>AAPT Championships</td>\n",
       "      <td>2001-01-01</td>\n",
       "      <td>International</td>\n",
       "      <td>Outdoor</td>\n",
       "      <td>Hard</td>\n",
       "      <td>1st Round</td>\n",
       "      <td>3.0</td>\n",
       "      <td>...</td>\n",
       "      <td>NaN</td>\n",
       "      <td>NaN</td>\n",
       "      <td>NaN</td>\n",
       "      <td>NaN</td>\n",
       "      <td>NaN</td>\n",
       "      <td>NaN</td>\n",
       "      <td>NaN</td>\n",
       "      <td>NaN</td>\n",
       "      <td>NaN</td>\n",
       "      <td>NaN</td>\n",
       "    </tr>\n",
       "    <tr>\n",
       "      <th>4</th>\n",
       "      <td>0</td>\n",
       "      <td>1.0</td>\n",
       "      <td>Adelaide</td>\n",
       "      <td>AAPT Championships</td>\n",
       "      <td>2001-01-01</td>\n",
       "      <td>International</td>\n",
       "      <td>Outdoor</td>\n",
       "      <td>Hard</td>\n",
       "      <td>1st Round</td>\n",
       "      <td>3.0</td>\n",
       "      <td>...</td>\n",
       "      <td>NaN</td>\n",
       "      <td>NaN</td>\n",
       "      <td>NaN</td>\n",
       "      <td>NaN</td>\n",
       "      <td>NaN</td>\n",
       "      <td>NaN</td>\n",
       "      <td>NaN</td>\n",
       "      <td>NaN</td>\n",
       "      <td>NaN</td>\n",
       "      <td>NaN</td>\n",
       "    </tr>\n",
       "  </tbody>\n",
       "</table>\n",
       "<p>5 rows × 55 columns</p>\n",
       "</div>"
      ],
      "text/plain": [
       "   csvID  ATP  Location          Tournament        Date         Series  \\\n",
       "0      0  1.0  Adelaide  AAPT Championships  2001-01-01  International   \n",
       "1      0  1.0  Adelaide  AAPT Championships  2001-01-01  International   \n",
       "2      0  1.0  Adelaide  AAPT Championships  2001-01-01  International   \n",
       "3      0  1.0  Adelaide  AAPT Championships  2001-01-01  International   \n",
       "4      0  1.0  Adelaide  AAPT Championships  2001-01-01  International   \n",
       "\n",
       "     Court Surface      Round  Best of  ... UBW UBL  LBW  LBL  SJW  SJL  MaxW  \\\n",
       "0  Outdoor    Hard  1st Round      3.0  ... NaN NaN  NaN  NaN  NaN  NaN   NaN   \n",
       "1  Outdoor    Hard  1st Round      3.0  ... NaN NaN  NaN  NaN  NaN  NaN   NaN   \n",
       "2  Outdoor    Hard  1st Round      3.0  ... NaN NaN  NaN  NaN  NaN  NaN   NaN   \n",
       "3  Outdoor    Hard  1st Round      3.0  ... NaN NaN  NaN  NaN  NaN  NaN   NaN   \n",
       "4  Outdoor    Hard  1st Round      3.0  ... NaN NaN  NaN  NaN  NaN  NaN   NaN   \n",
       "\n",
       "   MaxL  AvgW  AvgL  \n",
       "0   NaN   NaN   NaN  \n",
       "1   NaN   NaN   NaN  \n",
       "2   NaN   NaN   NaN  \n",
       "3   NaN   NaN   NaN  \n",
       "4   NaN   NaN   NaN  \n",
       "\n",
       "[5 rows x 55 columns]"
      ]
     },
     "execution_count": 22,
     "metadata": {},
     "output_type": "execute_result"
    }
   ],
   "source": [
    "dataframe.head()"
   ]
  },
  {
   "cell_type": "code",
   "execution_count": 23,
   "metadata": {},
   "outputs": [
    {
     "data": {
      "image/png": "[encoded data removed]",
      "text/plain": [
       "<Figure size 720x1080 with 1 Axes>"
      ]
     },
     "metadata": {
      "needs_background": "light"
     },
     "output_type": "display_data"
    }
   ],
   "source": [
    "%matplotlib inline\n",
    "\n",
    "import matplotlib.pyplot as plt\n",
    "import numpy as np\n",
    "\n",
    "# Let's check how many missing values does each attribute have\n",
    "def printNan():\n",
    "    df = dataframe.isna().mean().reset_index()\n",
    "    df = df[df[0] > 0]\n",
    "    df.plot.barh('index', 0, figsize=(10, 15))\n",
    "    \n",
    "printNan()"
   ]
  },
  {
   "cell_type": "markdown",
   "metadata": {},
   "source": [
    "Come prima cosa procedo a correggere le feature riguardanti le scommesse dei bookmaker.\n",
    "\n",
    "Procedo riempiendo le feature ***AvgW*** e ***AvgL*** che presentano valori *NaN* rispettivamente con la media delle scommesse dei bookmaker per il vincitore e per il perdente.\n",
    "\n",
    "Procedo riempiendo le feature ***MaxW*** e ***MaxL*** che presentano valori *NaN* rispettivamente con il massimo tra le scommesse dei bookmaker per il vincitore e per il perdente (considero pure ***AvgW*** e ***AvgL***).\n",
    "\n",
    "Procedo riempiendo le feature ***AvgW***, ***AvgL***, ***MaxW*** e ***MaxL*** che presentano ancora valori *NaN* e che non avevano quindi scommesse singole dei bookmaker con la media dei valori delle rispettive colonne.\n",
    "\n",
    "Inserisco le colonne ***AvgWAdded***, ***AvgLAdded***, ***MaxWAdded*** e ***MaxLAdded*** che presentano il valore 0 se il valore delle scommesse medie o massime era già presente o è stato calcolato con la media delle scommesse dei bookmaker per quel giocatore, e che presentano il valore 1 se il valore è stato calcolato con la media dei valori della colonna.\n",
    "\n",
    "Infine elimino tutte le colonne del dataset riguardanti le scommesse dei singoli bookmaker."
   ]
  },
  {
   "cell_type": "code",
   "execution_count": 24,
   "metadata": {},
   "outputs": [
    {
     "name": "stdout",
     "output_type": "stream",
     "text": [
      "Procedo al filling di AvgW e AvgL usando le altre predizioni dei bookmaker dove è possibile:\n",
      "AvgW settati a NaN prima:  26591\n",
      "AvgL settati a NaN prima:  26591\n",
      "AvgW settati a NaN dopo:  929\n",
      "AvgL settati a NaN dopo:  929 \n",
      "\n",
      "Procedo al filling di MaxW e MaxL usando le altre predizioni dei bookmaker dove è possibile:\n",
      "MaxW settati a NaN prima:  26591\n",
      "MaxL settati a NaN prima:  26591\n",
      "MaxW settati a NaN dopo:  929\n",
      "MaxL settati a NaN dopo:  929 \n",
      "\n",
      "Procedo al filling delle righe dove AvgW, AvgL e MaxW, MaxL hanno valori NaN tramite la media dei valori della colonna:\n",
      "Index(['csvID', 'ATP', 'Location', 'Tournament', 'Date', 'Series', 'Court',\n",
      "       'Surface', 'Round', 'Best of', 'Winner', 'Loser', 'WRank', 'LRank',\n",
      "       'W1', 'L1', 'W2', 'L2', 'W3', 'L3', 'W4', 'L4', 'W5', 'L5', 'Wsets',\n",
      "       'Lsets', 'Comment', 'WPts', 'LPts', 'MaxW', 'MaxWAdded', 'MaxL',\n",
      "       'MaxLAdded', 'AvgW', 'AvgWAdded', 'AvgL', 'AvgLAdded'],\n",
      "      dtype='object')\n"
     ]
    }
   ],
   "source": [
    "# Calcolo AVG E E MAX DELLE PREDIZIONI DEI BOOKMAKER E FILLO CON VALORI MEDI CIO' CHE MANCA\n",
    "odds_W = ['B365W','PSW', 'EXW', 'LBW', 'SJW', 'UBW', 'CBW', 'IWW', 'SBW', 'B&WW', 'GBW']\n",
    "odds_L = ['B365L','PSL', 'EXL', 'LBL', 'SJL', 'UBL', 'CBL', 'IWL', 'SBL', 'B&WL', 'GBL']\n",
    "\n",
    "print('Procedo al filling di AvgW e AvgL usando le altre predizioni dei bookmaker dove è possibile:')\n",
    "print('AvgW settati a NaN prima: ',sum(dataframe['AvgW'].isna()))\n",
    "print('AvgL settati a NaN prima: ',sum(dataframe['AvgL'].isna()))\n",
    "dataframe['AvgW'].fillna(dataframe[odds_W].mean(axis=1), inplace = True)\n",
    "dataframe['AvgL'].fillna(dataframe[odds_L].mean(axis=1), inplace= True)\n",
    "print('AvgW settati a NaN dopo: ',sum(dataframe['AvgW'].isna()))\n",
    "print('AvgL settati a NaN dopo: ',sum(dataframe['AvgL'].isna()), '\\n')\n",
    "\n",
    "print('Procedo al filling di MaxW e MaxL usando le altre predizioni dei bookmaker dove è possibile:')\n",
    "print('MaxW settati a NaN prima: ',sum(dataframe['MaxW'].isna()))\n",
    "print('MaxL settati a NaN prima: ',sum(dataframe['MaxL'].isna()))\n",
    "dataframe['MaxW'].fillna(dataframe[odds_W + ['AvgW']].max(axis=1), inplace = True)\n",
    "dataframe['MaxL'].fillna(dataframe[odds_L + ['AvgL']].max(axis=1), inplace= True)\n",
    "print('MaxW settati a NaN dopo: ',sum(dataframe['MaxW'].isna()))\n",
    "print('MaxL settati a NaN dopo: ',sum(dataframe['MaxL'].isna()), '\\n')\n",
    "\n",
    "print('Procedo al filling delle righe dove AvgW, AvgL e MaxW, MaxL hanno valori NaN tramite la media dei valori della colonna:')\n",
    "\n",
    "dataframe.insert(dataframe.columns.get_loc('AvgW') + 1, column = 'AvgWAdded', value = 0)\n",
    "dataframe.loc[dataframe['AvgW'].isna(), 'AvgWAdded'] = 1\n",
    "dataframe.insert(dataframe.columns.get_loc('AvgL') + 1, column = 'AvgLAdded', value = 0)\n",
    "dataframe.loc[dataframe['AvgL'].isna(), 'AvgLAdded'] = 1\n",
    "\n",
    "dataframe.insert(dataframe.columns.get_loc('MaxW') + 1, column = 'MaxWAdded', value = 0)\n",
    "dataframe.loc[dataframe['MaxW'].isna(), 'MaxWAdded'] = 1\n",
    "dataframe.insert(dataframe.columns.get_loc('MaxL') + 1, column = 'MaxLAdded', value = 0)\n",
    "dataframe.loc[dataframe['MaxL'].isna(), 'MaxLAdded'] = 1\n",
    "\n",
    "\n",
    "dataframe['AvgW'].fillna(dataframe['AvgW'].mean(), inplace= True)\n",
    "dataframe['AvgL'].fillna(dataframe['AvgL'].mean(), inplace= True)\n",
    "dataframe['MaxW'].fillna(dataframe['MaxW'].mean(), inplace= True)\n",
    "dataframe['MaxL'].fillna(dataframe['MaxL'].mean(), inplace= True)\n",
    "dataframe.drop(odds_W + odds_L, axis = 1, inplace= True)\n",
    "\n",
    "print(dataframe.columns)\n",
    "\n",
    "dataframe = dataframe.reset_index(drop = True)"
   ]
  },
  {
   "cell_type": "code",
   "execution_count": 25,
   "metadata": {},
   "outputs": [
    {
     "data": {
      "text/plain": [
       "\"\\ndataframe.insert(dataframe.columns.get_loc('AvgW') + 1, column = 'AvgWAdded', value = 0)\\ndataframe.loc[dataframe['AvgW'].isna(), 'AvgWAdded'] = 1\\ndataframe.insert(dataframe.columns.get_loc('AvgL') + 1, column = 'AvgLAdded', value = 0)\\ndataframe.loc[dataframe['AvgL'].isna(), 'AvgLAdded'] = 1\\n\\ndataframe.insert(dataframe.columns.get_loc('MaxW') + 1, column = 'MaxWAdded', value = 0)\\ndataframe.loc[dataframe['MaxW'].isna(), 'MaxWAdded'] = 1\\ndataframe.insert(dataframe.columns.get_loc('MaxL') + 1, column = 'MaxLAdded', value = 0)\\ndataframe.loc[dataframe['MaxL'].isna(), 'MaxLAdded'] = 1\\n\\nodds_W = ['B365W','PSW', 'EXW', 'LBW', 'SJW', 'UBW', 'CBW', 'IWW', 'SBW', 'B&WW', 'GBW']\\nodds_L = ['B365L','PSL', 'EXL', 'LBL', 'SJL', 'UBL', 'CBL', 'IWL', 'SBL', 'B&WL', 'GBL']\\n\\n\\nprint('Procedo eliminando le righe senza alcuna scommessa dei bookmaker:')\\n\\nprint('Righe prima dell'eliminazione: ', dataframe.shape[0])\\ndataframe.dropna(subset = odds_W + ['AvgW'], axis=0, inplace= True, how = 'all')\\ndataframe.dropna(subset = odds_L + ['AvgL'], axis=0, inplace= True, how = 'all')\\nprint('Righe dopo l'eliminazione: ', dataframe.shape[0], '\\n')\\n\\nprint('Procedo al filling di AvgW e AvgL:')\\nprint('AvgW settati a NaN prima: ',sum(dataframe['AvgW'].isna()))\\nprint('AvgL settati a NaN prima: ',sum(dataframe['AvgL'].isna()))\\ndataframe['AvgW'].fillna(dataframe[odds_W].mean(axis=1), inplace = True)\\ndataframe['AvgL'].fillna(dataframe[odds_L].mean(axis=1), inplace= True)\\nprint('AvgW settati a NaN dopo: ',sum(dataframe['AvgW'].isna()))\\nprint('AvgL settati a NaN dopo: ',sum(dataframe['AvgL'].isna()), '\\n')\\n\\nprint('Procedo al filling di MaxW e MaxL:')\\nprint('MaxW settati a NaN prima: ',sum(dataframe['MaxW'].isna()))\\nprint('MaxL settati a NaN prima: ',sum(dataframe['MaxL'].isna()))\\ndataframe['MaxW'].fillna(dataframe[odds_W + ['AvgW']].max(axis=1), inplace = True)\\ndataframe['MaxL'].fillna(dataframe[odds_L + ['AvgL']].max(axis=1), inplace= True)\\nprint('MaxW settati a NaN dopo: ',sum(dataframe['MaxW'].isna()))\\nprint('MaxL settati a NaN dopo: ',sum(dataframe['MaxL'].isna()), '\\n')\\n\\nprint('Creo le colonne MinW e MinL e droppo le scommesse singole dei bookmaker:')\\ndataframe['MinW'] = dataframe[odds_W + ['AvgW']].min(axis=1)\\ndataframe['MinL'] = dataframe[odds_L + ['AvgL']].min(axis=1)\\ndataframe.drop(odds_W + odds_L, axis = 1, inplace= True)\\n\\nprint(dataframe.columns)\\n\\ndataframe = dataframe.reset_index(drop = True)\\n\""
      ]
     },
     "execution_count": 25,
     "metadata": {},
     "output_type": "execute_result"
    }
   ],
   "source": [
    "'''\n",
    "dataframe.insert(dataframe.columns.get_loc('AvgW') + 1, column = 'AvgWAdded', value = 0)\n",
    "dataframe.loc[dataframe['AvgW'].isna(), 'AvgWAdded'] = 1\n",
    "dataframe.insert(dataframe.columns.get_loc('AvgL') + 1, column = 'AvgLAdded', value = 0)\n",
    "dataframe.loc[dataframe['AvgL'].isna(), 'AvgLAdded'] = 1\n",
    "\n",
    "dataframe.insert(dataframe.columns.get_loc('MaxW') + 1, column = 'MaxWAdded', value = 0)\n",
    "dataframe.loc[dataframe['MaxW'].isna(), 'MaxWAdded'] = 1\n",
    "dataframe.insert(dataframe.columns.get_loc('MaxL') + 1, column = 'MaxLAdded', value = 0)\n",
    "dataframe.loc[dataframe['MaxL'].isna(), 'MaxLAdded'] = 1\n",
    "\n",
    "odds_W = ['B365W','PSW', 'EXW', 'LBW', 'SJW', 'UBW', 'CBW', 'IWW', 'SBW', 'B&WW', 'GBW']\n",
    "odds_L = ['B365L','PSL', 'EXL', 'LBL', 'SJL', 'UBL', 'CBL', 'IWL', 'SBL', 'B&WL', 'GBL']\n",
    "\n",
    "\n",
    "print('Procedo eliminando le righe senza alcuna scommessa dei bookmaker:')\n",
    "\n",
    "print('Righe prima dell\\'eliminazione: ', dataframe.shape[0])\n",
    "dataframe.dropna(subset = odds_W + ['AvgW'], axis=0, inplace= True, how = 'all')\n",
    "dataframe.dropna(subset = odds_L + ['AvgL'], axis=0, inplace= True, how = 'all')\n",
    "print('Righe dopo l\\'eliminazione: ', dataframe.shape[0], '\\n')\n",
    "\n",
    "print('Procedo al filling di AvgW e AvgL:')\n",
    "print('AvgW settati a NaN prima: ',sum(dataframe['AvgW'].isna()))\n",
    "print('AvgL settati a NaN prima: ',sum(dataframe['AvgL'].isna()))\n",
    "dataframe['AvgW'].fillna(dataframe[odds_W].mean(axis=1), inplace = True)\n",
    "dataframe['AvgL'].fillna(dataframe[odds_L].mean(axis=1), inplace= True)\n",
    "print('AvgW settati a NaN dopo: ',sum(dataframe['AvgW'].isna()))\n",
    "print('AvgL settati a NaN dopo: ',sum(dataframe['AvgL'].isna()), '\\n')\n",
    "\n",
    "print('Procedo al filling di MaxW e MaxL:')\n",
    "print('MaxW settati a NaN prima: ',sum(dataframe['MaxW'].isna()))\n",
    "print('MaxL settati a NaN prima: ',sum(dataframe['MaxL'].isna()))\n",
    "dataframe['MaxW'].fillna(dataframe[odds_W + ['AvgW']].max(axis=1), inplace = True)\n",
    "dataframe['MaxL'].fillna(dataframe[odds_L + ['AvgL']].max(axis=1), inplace= True)\n",
    "print('MaxW settati a NaN dopo: ',sum(dataframe['MaxW'].isna()))\n",
    "print('MaxL settati a NaN dopo: ',sum(dataframe['MaxL'].isna()), '\\n')\n",
    "\n",
    "print('Creo le colonne MinW e MinL e droppo le scommesse singole dei bookmaker:')\n",
    "dataframe['MinW'] = dataframe[odds_W + ['AvgW']].min(axis=1)\n",
    "dataframe['MinL'] = dataframe[odds_L + ['AvgL']].min(axis=1)\n",
    "dataframe.drop(odds_W + odds_L, axis = 1, inplace= True)\n",
    "\n",
    "print(dataframe.columns)\n",
    "\n",
    "dataframe = dataframe.reset_index(drop = True)\n",
    "'''"
   ]
  },
  {
   "cell_type": "code",
   "execution_count": 26,
   "metadata": {},
   "outputs": [
    {
     "data": {
      "image/png": "[encoded data removed]",
      "text/plain": [
       "<Figure size 720x1080 with 1 Axes>"
      ]
     },
     "metadata": {
      "needs_background": "light"
     },
     "output_type": "display_data"
    }
   ],
   "source": [
    "printNan()"
   ]
  },
  {
   "cell_type": "markdown",
   "metadata": {},
   "source": [
    "Procedo a correggere le feature riguardanti il Rank dei giocatori (***WRank*** e ***LRank***).\n",
    "\n",
    "Assegno ai valori del Ranking settati a *NaN* il valore  medio dei ranking (***WRank*** e ***LRank***) di quel giocatore, se questo valore non esiste elimino la riga.\n",
    "\n",
    "Aggiungo le colonne ***WRankAdded*** e ***LRankAdded*** che assumono valori binari:\n",
    "* 0 se il Rank era già presente;\n",
    "* 1 se è stato inferito manualmente."
   ]
  },
  {
   "cell_type": "code",
   "execution_count": 27,
   "metadata": {},
   "outputs": [
    {
     "data": {
      "text/plain": [
       "\"\\ndef getMeanFeatureOfPlayer(player, value):\\n    rankList = dataframe[dataframe['Winner'] == player]['W'+value].append(\\n        dataframe[dataframe['Loser'] == player]['L'+value])\\n    return rankList.mean(skipna = True)\\n\\ndef getPlayersMeanFeature (value):\\n    players = dataframe['Winner'].append(dataframe['Loser']).unique()\\n    return {x : getMeanFeatureOfPlayer(x,value) for x in players}\\n    \\ndef assignFeatureToPlayers(value):\\n    playersMeanRank = getPlayersMeanFeature (value)\\n    meanW = dataframe[dataframe['W'+value].isna()]['Winner'].apply(lambda x: playersMeanRank[x])\\n    meanL = dataframe[dataframe['L'+value].isna()]['Loser'].apply(lambda x: playersMeanRank[x])\\n    dataframe['W'+value].fillna(meanW, inplace = True)\\n    dataframe['L'+value].fillna(meanL, inplace = True)\\n\""
      ]
     },
     "execution_count": 27,
     "metadata": {},
     "output_type": "execute_result"
    }
   ],
   "source": [
    "'''\n",
    "def getMeanFeatureOfPlayer(player, value):\n",
    "    rankList = dataframe[dataframe['Winner'] == player]['W'+value].append(\n",
    "        dataframe[dataframe['Loser'] == player]['L'+value])\n",
    "    return rankList.mean(skipna = True)\n",
    "\n",
    "def getPlayersMeanFeature (value):\n",
    "    players = dataframe['Winner'].append(dataframe['Loser']).unique()\n",
    "    return {x : getMeanFeatureOfPlayer(x,value) for x in players}\n",
    "    \n",
    "def assignFeatureToPlayers(value):\n",
    "    playersMeanRank = getPlayersMeanFeature (value)\n",
    "    meanW = dataframe[dataframe['W'+value].isna()]['Winner'].apply(lambda x: playersMeanRank[x])\n",
    "    meanL = dataframe[dataframe['L'+value].isna()]['Loser'].apply(lambda x: playersMeanRank[x])\n",
    "    dataframe['W'+value].fillna(meanW, inplace = True)\n",
    "    dataframe['L'+value].fillna(meanL, inplace = True)\n",
    "'''"
   ]
  },
  {
   "cell_type": "code",
   "execution_count": 28,
   "metadata": {},
   "outputs": [
    {
     "name": "stdout",
     "output_type": "stream",
     "text": [
      "Filling di WRank e LRank:\n",
      "WRank settati a NaN prima:  19\n",
      "LRank settati a NaN prima:  108\n",
      "WRank settati a NaN dopo:  0\n",
      "LRank settati a NaN dopo:  0 \n",
      "\n"
     ]
    }
   ],
   "source": [
    "# NON SERVE AGGIUNGERE WADDED LADDED\n",
    "dataframe.insert(dataframe.columns.get_loc('WRank') + 1, column = 'WRankAdded', value = 0)\n",
    "dataframe.loc[dataframe['WRank'].isna(), 'WRankAdded'] = 1\n",
    "dataframe.insert(dataframe.columns.get_loc('LRank') + 1, column = 'LRankAdded', value = 0)\n",
    "dataframe.loc[dataframe['LRank'].isna(), 'LRankAdded'] = 1\n",
    "\n",
    "print('Filling di WRank e LRank:')\n",
    "\n",
    "print('WRank settati a NaN prima: ',sum(dataframe['WRank'].isna()))\n",
    "print('LRank settati a NaN prima: ',sum(dataframe['LRank'].isna()))\n",
    "\n",
    "dataframe['WRank'].fillna(max(list(dataframe['WRank']) + list(dataframe['LRank']))+1, inplace = True)\n",
    "\n",
    "dataframe['LRank'].fillna(max(list(dataframe['WRank']) + list(dataframe['LRank']))+1, inplace = True)\n",
    "\n",
    "print('WRank settati a NaN dopo: ',sum(dataframe['WRank'].isna()))\n",
    "print('LRank settati a NaN dopo: ',sum(dataframe['LRank'].isna()), '\\n')"
   ]
  },
  {
   "cell_type": "code",
   "execution_count": 29,
   "metadata": {},
   "outputs": [
    {
     "data": {
      "text/plain": [
       "\"\\ndataframe.insert(dataframe.columns.get_loc('WRank') + 1, column = 'WRankAdded', value = 0)\\ndataframe.loc[dataframe['WRank'].isna(), 'WRankAdded'] = 1\\ndataframe.insert(dataframe.columns.get_loc('LRank') + 1, column = 'LRankAdded', value = 0)\\ndataframe.loc[dataframe['LRank'].isna(), 'LRankAdded'] = 1\\n\\nprint('Filling di WRank e LRank:')\\nprint('WRank settati a NaN prima: ',sum(dataframe['WRank'].isna()))\\nprint('LRank settati a NaN prima: ',sum(dataframe['LRank'].isna()))\\n\\nassignFeatureToPlayers('Rank')\\n\\nprint('WRank settati a NaN dopo: ',sum(dataframe['WRank'].isna()))\\nprint('LRank settati a NaN dopo: ',sum(dataframe['LRank'].isna()), '\\n')\\n\\nprint('Dropping di righe  con WRank e LRank ancora settate a NaN:')\\nprint('Righe prima dell'eliminazione: ', dataframe.shape[0])\\n\\ndataframe.dropna(subset = ['WRank'], axis=0, inplace= True)\\ndataframe.dropna(subset = ['LRank'], axis=0, inplace= True)\\n\\nprint('Righe dopo l'eliminazione: ', dataframe.shape[0])\\n\\ndataframe = dataframe.reset_index(drop = True)\\n\""
      ]
     },
     "execution_count": 29,
     "metadata": {},
     "output_type": "execute_result"
    }
   ],
   "source": [
    "'''\n",
    "dataframe.insert(dataframe.columns.get_loc('WRank') + 1, column = 'WRankAdded', value = 0)\n",
    "dataframe.loc[dataframe['WRank'].isna(), 'WRankAdded'] = 1\n",
    "dataframe.insert(dataframe.columns.get_loc('LRank') + 1, column = 'LRankAdded', value = 0)\n",
    "dataframe.loc[dataframe['LRank'].isna(), 'LRankAdded'] = 1\n",
    "\n",
    "print('Filling di WRank e LRank:')\n",
    "print('WRank settati a NaN prima: ',sum(dataframe['WRank'].isna()))\n",
    "print('LRank settati a NaN prima: ',sum(dataframe['LRank'].isna()))\n",
    "\n",
    "assignFeatureToPlayers('Rank')\n",
    "\n",
    "print('WRank settati a NaN dopo: ',sum(dataframe['WRank'].isna()))\n",
    "print('LRank settati a NaN dopo: ',sum(dataframe['LRank'].isna()), '\\n')\n",
    "\n",
    "print('Dropping di righe  con WRank e LRank ancora settate a NaN:')\n",
    "print('Righe prima dell\\'eliminazione: ', dataframe.shape[0])\n",
    "\n",
    "dataframe.dropna(subset = ['WRank'], axis=0, inplace= True)\n",
    "dataframe.dropna(subset = ['LRank'], axis=0, inplace= True)\n",
    "\n",
    "print('Righe dopo l\\'eliminazione: ', dataframe.shape[0])\n",
    "\n",
    "dataframe = dataframe.reset_index(drop = True)\n",
    "'''"
   ]
  },
  {
   "cell_type": "code",
   "execution_count": 30,
   "metadata": {},
   "outputs": [
    {
     "data": {
      "image/png": "[encoded data removed]",
      "text/plain": [
       "<Figure size 720x1080 with 1 Axes>"
      ]
     },
     "metadata": {
      "needs_background": "light"
     },
     "output_type": "display_data"
    }
   ],
   "source": [
    "printNan()"
   ]
  },
  {
   "cell_type": "markdown",
   "metadata": {},
   "source": [
    "Procedo a correggere le feature mancanti riguardanti i Punti dei giocatori (***WPts*** e ***LPts***) in modo analogo a quanto ho fatto per ***WRank*** e ***LRank***.\n",
    "\n",
    "Aggiungo anche in questo caso le colonne ***WPtsAdded*** e ***LPtsAdded*** che assumono valori binari:\n",
    "\n",
    "* 0 se i Punti erano già presenti;\n",
    "* 1 se sono stati inferiti manualmente.\n"
   ]
  },
  {
   "cell_type": "code",
   "execution_count": 31,
   "metadata": {},
   "outputs": [
    {
     "name": "stdout",
     "output_type": "stream",
     "text": [
      "Filling di WPts e LPts:\n",
      "WPts settati a NaN prima:  13244\n",
      "LPts settati a NaN prima:  13313\n",
      "WPts settati a NaN dopo:  0\n",
      "LPts settati a NaN dopo:  0 \n",
      "\n"
     ]
    }
   ],
   "source": [
    "dataframe.insert(dataframe.columns.get_loc('WPts') + 1, column = 'WPtsAdded', value = 0)\n",
    "dataframe.loc[dataframe['WPts'].isna(), 'WPtsAdded'] = 1\n",
    "dataframe.insert(dataframe.columns.get_loc('LPts') + 1, column = 'LPtsAdded', value = 0)\n",
    "dataframe.loc[dataframe['LPts'].isna(), 'LPtsAdded'] = 1\n",
    "\n",
    "print('Filling di WPts e LPts:')\n",
    "print('WPts settati a NaN prima: ',sum(dataframe['WPts'].isna()))\n",
    "print('LPts settati a NaN prima: ',sum(dataframe['LPts'].isna()))\n",
    "\n",
    "dataframe['WPts'].fillna(np.nanmin(list(dataframe['WPts']) + list(dataframe['LPts']))-1, inplace = True)\n",
    "dataframe['LPts'].fillna(np.nanmin(list(dataframe['WPts']) + list(dataframe['LPts']))-1, inplace = True)\n",
    "\n",
    "print('WPts settati a NaN dopo: ',sum(dataframe['WPts'].isna()))\n",
    "print('LPts settati a NaN dopo: ',sum(dataframe['LPts'].isna()), '\\n')"
   ]
  },
  {
   "cell_type": "code",
   "execution_count": 32,
   "metadata": {},
   "outputs": [
    {
     "data": {
      "text/plain": [
       "\"\\ndataframe.insert(dataframe.columns.get_loc('WPts') + 1, column = 'WPtsAdded', value = 0)\\ndataframe.loc[dataframe['WPts'].isna(), 'WPtsAdded'] = 1\\ndataframe.insert(dataframe.columns.get_loc('LPts') + 1, column = 'LPtsAdded', value = 0)\\ndataframe.loc[dataframe['LPts'].isna(), 'LPtsAdded'] = 1\\n\\nprint('Filling di WPts e LPts:')\\nprint('WPts settati a NaN prima: ',sum(dataframe['WPts'].isna()))\\nprint('LPts settati a NaN prima: ',sum(dataframe['LPts'].isna()))\\n            \\nassignFeatureToPlayers('Pts')\\n\\nprint('WPts settati a NaN dopo: ',sum(dataframe['WPts'].isna()))\\nprint('LPts settati a NaN dopo: ',sum(dataframe['LPts'].isna()), '\\n')\\n\\nprint('Dropping di righe  con WPts e LPts ancora settate a NaN:')\\nprint('Righe prima dell'eliminazione: ', dataframe.shape[0])\\n\\ndataframe.dropna(subset = ['WPts'], axis=0, inplace= True)\\ndataframe.dropna(subset = ['LPts'], axis=0, inplace= True)\\n\\nprint('Righe dopo l'eliminazione: ', dataframe.shape[0])\\n\\ndataframe = dataframe.reset_index(drop = True)\\n\""
      ]
     },
     "execution_count": 32,
     "metadata": {},
     "output_type": "execute_result"
    }
   ],
   "source": [
    "'''\n",
    "dataframe.insert(dataframe.columns.get_loc('WPts') + 1, column = 'WPtsAdded', value = 0)\n",
    "dataframe.loc[dataframe['WPts'].isna(), 'WPtsAdded'] = 1\n",
    "dataframe.insert(dataframe.columns.get_loc('LPts') + 1, column = 'LPtsAdded', value = 0)\n",
    "dataframe.loc[dataframe['LPts'].isna(), 'LPtsAdded'] = 1\n",
    "\n",
    "print('Filling di WPts e LPts:')\n",
    "print('WPts settati a NaN prima: ',sum(dataframe['WPts'].isna()))\n",
    "print('LPts settati a NaN prima: ',sum(dataframe['LPts'].isna()))\n",
    "            \n",
    "assignFeatureToPlayers('Pts')\n",
    "\n",
    "print('WPts settati a NaN dopo: ',sum(dataframe['WPts'].isna()))\n",
    "print('LPts settati a NaN dopo: ',sum(dataframe['LPts'].isna()), '\\n')\n",
    "\n",
    "print('Dropping di righe  con WPts e LPts ancora settate a NaN:')\n",
    "print('Righe prima dell\\'eliminazione: ', dataframe.shape[0])\n",
    "\n",
    "dataframe.dropna(subset = ['WPts'], axis=0, inplace= True)\n",
    "dataframe.dropna(subset = ['LPts'], axis=0, inplace= True)\n",
    "\n",
    "print('Righe dopo l\\'eliminazione: ', dataframe.shape[0])\n",
    "\n",
    "dataframe = dataframe.reset_index(drop = True)\n",
    "'''"
   ]
  },
  {
   "cell_type": "code",
   "execution_count": 33,
   "metadata": {},
   "outputs": [
    {
     "data": {
      "image/png": "[encoded data removed]",
      "text/plain": [
       "<Figure size 720x1080 with 1 Axes>"
      ]
     },
     "metadata": {
      "needs_background": "light"
     },
     "output_type": "display_data"
    }
   ],
   "source": [
    "printNan()"
   ]
  },
  {
   "cell_type": "markdown",
   "metadata": {},
   "source": [
    "Per quanto riguarda i valori *NaN* delle feature riguardanti i Set vinti dal vincitore e dal perdente (***Wsets*** e ***Lsets***) e i valori delle feature riguardanti i Punti per ogni Set dei due giocatori (***W1***, ***W2***, ***W3***, ***W4***, ***W5*** e ***L1***, ***L2***, ***L3***, ***L4***, ***L5***):\n",
    "* Controllo solo i valori *NaN* di ***Wsets***, ***Lsets***, ***W1***, ***L1***, ***W2***, ***L2*** per tutte le partite e di ***W3***, ***L3*** solo per le partite al meglio di 5 (***Best Of*** = 5);\n",
    "* Controllo solo le partite portate a termine (***Comment*** = *'Completed'*);\n",
    "* Elimino le righe corrispondenti a questi match;\n",
    "* Setto tutti i valori *NaN* rimanenti delle feature a 0."
   ]
  },
  {
   "cell_type": "code",
   "execution_count": 34,
   "metadata": {},
   "outputs": [
    {
     "data": {
      "text/plain": [
       "\"\\ndef dropCompletedNan (feature):\\n    if feature == 'sets':\\n        print ('\\nCommenti delle partite in cui W'+feature, ' e L'+feature, ' è NULL o 0.\\n')\\n        noDf = dataframe[dataframe['W'+feature].isna()].append(dataframe[dataframe['W'+feature] == 0]).drop_duplicates()\\n        noDf = noDf.append(dataframe[dataframe['L'+feature].isna()]).drop_duplicates()\\n    else:\\n        print ('\\nCommenti delle partite in cui W'+feature, ' e L'+feature, ' è NULL.\\n')\\n        noDf = dataframe[dataframe['W'+feature].isna()].append(dataframe[dataframe['L'+feature].isna()]).drop_duplicates()\\n        \\n    if feature == '3':\\n        print ('Consideriamo solo le partite al meglio di 5.\\n')\\n        noDf = noDf[noDf['Best of'] == 5]\\n    \\n    print(noDf['Comment'].unique())\\n        \\n    if noDf[noDf['Comment'] == 'Completed'].shape[0] > 0:\\n        print ('\\nControlliamo solo i casi in cui la partita è stata completata.\\n')\\n\\n        print(noDf[noDf['Comment'] == 'Completed'][['W1','W2','W3','W4','W5','L1','L2','L3','L4','L5',\\n                                                    'Wsets','Lsets', 'Best of']])\\n\\n        print('\\nScarto le righe incomplete.\\n')\\n\\n        print('Righe prima della modifica: ', dataframe.shape[0])\\n\\n        dataframe.drop(noDf[noDf['Comment'] == 'Completed'].index.values, axis = 0, inplace = True)\\n\\n        print('Righe dopo la modifica: ', dataframe.shape[0])\\n    else:\\n        print ('\\nEsistono solo i casi in cui la partita non è stata completata, non scartiamo nessuna riga.\\n')\\n        \\n    print('\\n\\n')\\n    \""
      ]
     },
     "execution_count": 34,
     "metadata": {},
     "output_type": "execute_result"
    }
   ],
   "source": [
    "'''\n",
    "def dropCompletedNan (feature):\n",
    "    if feature == 'sets':\n",
    "        print ('\\nCommenti delle partite in cui W'+feature, ' e L'+feature, ' è NULL o 0.\\n')\n",
    "        noDf = dataframe[dataframe['W'+feature].isna()].append(dataframe[dataframe['W'+feature] == 0]).drop_duplicates()\n",
    "        noDf = noDf.append(dataframe[dataframe['L'+feature].isna()]).drop_duplicates()\n",
    "    else:\n",
    "        print ('\\nCommenti delle partite in cui W'+feature, ' e L'+feature, ' è NULL.\\n')\n",
    "        noDf = dataframe[dataframe['W'+feature].isna()].append(dataframe[dataframe['L'+feature].isna()]).drop_duplicates()\n",
    "        \n",
    "    if feature == '3':\n",
    "        print ('Consideriamo solo le partite al meglio di 5.\\n')\n",
    "        noDf = noDf[noDf['Best of'] == 5]\n",
    "    \n",
    "    print(noDf['Comment'].unique())\n",
    "        \n",
    "    if noDf[noDf['Comment'] == 'Completed'].shape[0] > 0:\n",
    "        print ('\\nControlliamo solo i casi in cui la partita è stata completata.\\n')\n",
    "\n",
    "        print(noDf[noDf['Comment'] == 'Completed'][['W1','W2','W3','W4','W5','L1','L2','L3','L4','L5',\n",
    "                                                    'Wsets','Lsets', 'Best of']])\n",
    "\n",
    "        print('\\nScarto le righe incomplete.\\n')\n",
    "\n",
    "        print('Righe prima della modifica: ', dataframe.shape[0])\n",
    "\n",
    "        dataframe.drop(noDf[noDf['Comment'] == 'Completed'].index.values, axis = 0, inplace = True)\n",
    "\n",
    "        print('Righe dopo la modifica: ', dataframe.shape[0])\n",
    "    else:\n",
    "        print ('\\nEsistono solo i casi in cui la partita non è stata completata, non scartiamo nessuna riga.\\n')\n",
    "        \n",
    "    print('\\n\\n')\n",
    "    '''"
   ]
  },
  {
   "cell_type": "code",
   "execution_count": 35,
   "metadata": {},
   "outputs": [],
   "source": [
    "dataframe[dataframe['Wsets'].isna()]['Wsets'].fillna(2)\n",
    "dataframe.fillna({'Wsets':0,'Lsets':0,'W1':0,'W2':0,'W3':0,'W4':0,'W5':0,'L1':0,'L2':0,'L3':0,'L4':0,'L5':0}, inplace = True)"
   ]
  },
  {
   "cell_type": "code",
   "execution_count": 36,
   "metadata": {
    "scrolled": true
   },
   "outputs": [
    {
     "data": {
      "text/plain": [
       "\"\\ndropCompletedNan('sets')\\ndropCompletedNan('1')\\ndropCompletedNan('2')\\ndropCompletedNan('3')\\ndataframe.reset_index(drop = True, inplace = True)\\n\""
      ]
     },
     "execution_count": 36,
     "metadata": {},
     "output_type": "execute_result"
    }
   ],
   "source": [
    "'''\n",
    "dropCompletedNan('sets')\n",
    "dropCompletedNan('1')\n",
    "dropCompletedNan('2')\n",
    "dropCompletedNan('3')\n",
    "dataframe.reset_index(drop = True, inplace = True)\n",
    "'''"
   ]
  },
  {
   "cell_type": "code",
   "execution_count": 37,
   "metadata": {},
   "outputs": [
    {
     "ename": "TypeError",
     "evalue": "Empty 'DataFrame': no numeric data to plot",
     "output_type": "error",
     "traceback": [
      "\u001b[1;31m---------------------------------------------------------------------------\u001b[0m",
      "\u001b[1;31mTypeError\u001b[0m                                 Traceback (most recent call last)",
      "\u001b[1;32m<ipython-input-37-d19107fa3ab5>\u001b[0m in \u001b[0;36m<module>\u001b[1;34m\u001b[0m\n\u001b[0;32m      1\u001b[0m \u001b[1;31m#dataframe.loc[:,'W1':'Lsets'] = dataframe.loc[:,'W1':'Lsets'].fillna(0)\u001b[0m\u001b[1;33m\u001b[0m\u001b[1;33m\u001b[0m\u001b[1;33m\u001b[0m\u001b[0m\n\u001b[0;32m      2\u001b[0m \u001b[1;33m\u001b[0m\u001b[0m\n\u001b[1;32m----> 3\u001b[1;33m \u001b[0mprintNan\u001b[0m\u001b[1;33m(\u001b[0m\u001b[1;33m)\u001b[0m\u001b[1;33m\u001b[0m\u001b[1;33m\u001b[0m\u001b[0m\n\u001b[0m",
      "\u001b[1;32m<ipython-input-23-d281afb8a9f1>\u001b[0m in \u001b[0;36mprintNan\u001b[1;34m()\u001b[0m\n\u001b[0;32m      8\u001b[0m     \u001b[0mdf\u001b[0m \u001b[1;33m=\u001b[0m \u001b[0mdataframe\u001b[0m\u001b[1;33m.\u001b[0m\u001b[0misna\u001b[0m\u001b[1;33m(\u001b[0m\u001b[1;33m)\u001b[0m\u001b[1;33m.\u001b[0m\u001b[0mmean\u001b[0m\u001b[1;33m(\u001b[0m\u001b[1;33m)\u001b[0m\u001b[1;33m.\u001b[0m\u001b[0mreset_index\u001b[0m\u001b[1;33m(\u001b[0m\u001b[1;33m)\u001b[0m\u001b[1;33m\u001b[0m\u001b[1;33m\u001b[0m\u001b[0m\n\u001b[0;32m      9\u001b[0m     \u001b[0mdf\u001b[0m \u001b[1;33m=\u001b[0m \u001b[0mdf\u001b[0m\u001b[1;33m[\u001b[0m\u001b[0mdf\u001b[0m\u001b[1;33m[\u001b[0m\u001b[1;36m0\u001b[0m\u001b[1;33m]\u001b[0m \u001b[1;33m>\u001b[0m \u001b[1;36m0\u001b[0m\u001b[1;33m]\u001b[0m\u001b[1;33m\u001b[0m\u001b[1;33m\u001b[0m\u001b[0m\n\u001b[1;32m---> 10\u001b[1;33m     \u001b[0mdf\u001b[0m\u001b[1;33m.\u001b[0m\u001b[0mplot\u001b[0m\u001b[1;33m.\u001b[0m\u001b[0mbarh\u001b[0m\u001b[1;33m(\u001b[0m\u001b[1;34m'index'\u001b[0m\u001b[1;33m,\u001b[0m \u001b[1;36m0\u001b[0m\u001b[1;33m,\u001b[0m \u001b[0mfigsize\u001b[0m\u001b[1;33m=\u001b[0m\u001b[1;33m(\u001b[0m\u001b[1;36m10\u001b[0m\u001b[1;33m,\u001b[0m \u001b[1;36m15\u001b[0m\u001b[1;33m)\u001b[0m\u001b[1;33m)\u001b[0m\u001b[1;33m\u001b[0m\u001b[1;33m\u001b[0m\u001b[0m\n\u001b[0m\u001b[0;32m     11\u001b[0m \u001b[1;33m\u001b[0m\u001b[0m\n\u001b[0;32m     12\u001b[0m \u001b[0mprintNan\u001b[0m\u001b[1;33m(\u001b[0m\u001b[1;33m)\u001b[0m\u001b[1;33m\u001b[0m\u001b[1;33m\u001b[0m\u001b[0m\n",
      "\u001b[1;32m~\\Anaconda3\\lib\\site-packages\\pandas\\plotting\\_core.py\u001b[0m in \u001b[0;36mbarh\u001b[1;34m(self, x, y, **kwds)\u001b[0m\n\u001b[0;32m   3169\u001b[0m             \u001b[1;33m>>\u001b[0m\u001b[1;33m>\u001b[0m \u001b[0max\u001b[0m \u001b[1;33m=\u001b[0m \u001b[0mdf\u001b[0m\u001b[1;33m.\u001b[0m\u001b[0mplot\u001b[0m\u001b[1;33m.\u001b[0m\u001b[0mbarh\u001b[0m\u001b[1;33m(\u001b[0m\u001b[0mx\u001b[0m\u001b[1;33m=\u001b[0m\u001b[1;34m'lifespan'\u001b[0m\u001b[1;33m)\u001b[0m\u001b[1;33m\u001b[0m\u001b[1;33m\u001b[0m\u001b[0m\n\u001b[0;32m   3170\u001b[0m         \"\"\"\n\u001b[1;32m-> 3171\u001b[1;33m         \u001b[1;32mreturn\u001b[0m \u001b[0mself\u001b[0m\u001b[1;33m(\u001b[0m\u001b[0mkind\u001b[0m\u001b[1;33m=\u001b[0m\u001b[1;34m'barh'\u001b[0m\u001b[1;33m,\u001b[0m \u001b[0mx\u001b[0m\u001b[1;33m=\u001b[0m\u001b[0mx\u001b[0m\u001b[1;33m,\u001b[0m \u001b[0my\u001b[0m\u001b[1;33m=\u001b[0m\u001b[0my\u001b[0m\u001b[1;33m,\u001b[0m \u001b[1;33m**\u001b[0m\u001b[0mkwds\u001b[0m\u001b[1;33m)\u001b[0m\u001b[1;33m\u001b[0m\u001b[1;33m\u001b[0m\u001b[0m\n\u001b[0m\u001b[0;32m   3172\u001b[0m \u001b[1;33m\u001b[0m\u001b[0m\n\u001b[0;32m   3173\u001b[0m     \u001b[1;32mdef\u001b[0m \u001b[0mbox\u001b[0m\u001b[1;33m(\u001b[0m\u001b[0mself\u001b[0m\u001b[1;33m,\u001b[0m \u001b[0mby\u001b[0m\u001b[1;33m=\u001b[0m\u001b[1;32mNone\u001b[0m\u001b[1;33m,\u001b[0m \u001b[1;33m**\u001b[0m\u001b[0mkwds\u001b[0m\u001b[1;33m)\u001b[0m\u001b[1;33m:\u001b[0m\u001b[1;33m\u001b[0m\u001b[1;33m\u001b[0m\u001b[0m\n",
      "\u001b[1;32m~\\Anaconda3\\lib\\site-packages\\pandas\\plotting\\_core.py\u001b[0m in \u001b[0;36m__call__\u001b[1;34m(self, x, y, kind, ax, subplots, sharex, sharey, layout, figsize, use_index, title, grid, legend, style, logx, logy, loglog, xticks, yticks, xlim, ylim, rot, fontsize, colormap, table, yerr, xerr, secondary_y, sort_columns, **kwds)\u001b[0m\n\u001b[0;32m   2940\u001b[0m                           \u001b[0mfontsize\u001b[0m\u001b[1;33m=\u001b[0m\u001b[0mfontsize\u001b[0m\u001b[1;33m,\u001b[0m \u001b[0mcolormap\u001b[0m\u001b[1;33m=\u001b[0m\u001b[0mcolormap\u001b[0m\u001b[1;33m,\u001b[0m \u001b[0mtable\u001b[0m\u001b[1;33m=\u001b[0m\u001b[0mtable\u001b[0m\u001b[1;33m,\u001b[0m\u001b[1;33m\u001b[0m\u001b[1;33m\u001b[0m\u001b[0m\n\u001b[0;32m   2941\u001b[0m                           \u001b[0myerr\u001b[0m\u001b[1;33m=\u001b[0m\u001b[0myerr\u001b[0m\u001b[1;33m,\u001b[0m \u001b[0mxerr\u001b[0m\u001b[1;33m=\u001b[0m\u001b[0mxerr\u001b[0m\u001b[1;33m,\u001b[0m \u001b[0msecondary_y\u001b[0m\u001b[1;33m=\u001b[0m\u001b[0msecondary_y\u001b[0m\u001b[1;33m,\u001b[0m\u001b[1;33m\u001b[0m\u001b[1;33m\u001b[0m\u001b[0m\n\u001b[1;32m-> 2942\u001b[1;33m                           sort_columns=sort_columns, **kwds)\n\u001b[0m\u001b[0;32m   2943\u001b[0m     \u001b[0m__call__\u001b[0m\u001b[1;33m.\u001b[0m\u001b[0m__doc__\u001b[0m \u001b[1;33m=\u001b[0m \u001b[0mplot_frame\u001b[0m\u001b[1;33m.\u001b[0m\u001b[0m__doc__\u001b[0m\u001b[1;33m\u001b[0m\u001b[1;33m\u001b[0m\u001b[0m\n\u001b[0;32m   2944\u001b[0m \u001b[1;33m\u001b[0m\u001b[0m\n",
      "\u001b[1;32m~\\Anaconda3\\lib\\site-packages\\pandas\\plotting\\_core.py\u001b[0m in \u001b[0;36mplot_frame\u001b[1;34m(data, x, y, kind, ax, subplots, sharex, sharey, layout, figsize, use_index, title, grid, legend, style, logx, logy, loglog, xticks, yticks, xlim, ylim, rot, fontsize, colormap, table, yerr, xerr, secondary_y, sort_columns, **kwds)\u001b[0m\n\u001b[0;32m   1971\u001b[0m                  \u001b[0myerr\u001b[0m\u001b[1;33m=\u001b[0m\u001b[0myerr\u001b[0m\u001b[1;33m,\u001b[0m \u001b[0mxerr\u001b[0m\u001b[1;33m=\u001b[0m\u001b[0mxerr\u001b[0m\u001b[1;33m,\u001b[0m\u001b[1;33m\u001b[0m\u001b[1;33m\u001b[0m\u001b[0m\n\u001b[0;32m   1972\u001b[0m                  \u001b[0msecondary_y\u001b[0m\u001b[1;33m=\u001b[0m\u001b[0msecondary_y\u001b[0m\u001b[1;33m,\u001b[0m \u001b[0msort_columns\u001b[0m\u001b[1;33m=\u001b[0m\u001b[0msort_columns\u001b[0m\u001b[1;33m,\u001b[0m\u001b[1;33m\u001b[0m\u001b[1;33m\u001b[0m\u001b[0m\n\u001b[1;32m-> 1973\u001b[1;33m                  **kwds)\n\u001b[0m\u001b[0;32m   1974\u001b[0m \u001b[1;33m\u001b[0m\u001b[0m\n\u001b[0;32m   1975\u001b[0m \u001b[1;33m\u001b[0m\u001b[0m\n",
      "\u001b[1;32m~\\Anaconda3\\lib\\site-packages\\pandas\\plotting\\_core.py\u001b[0m in \u001b[0;36m_plot\u001b[1;34m(data, x, y, subplots, ax, kind, **kwds)\u001b[0m\n\u001b[0;32m   1799\u001b[0m         \u001b[0mplot_obj\u001b[0m \u001b[1;33m=\u001b[0m \u001b[0mklass\u001b[0m\u001b[1;33m(\u001b[0m\u001b[0mdata\u001b[0m\u001b[1;33m,\u001b[0m \u001b[0msubplots\u001b[0m\u001b[1;33m=\u001b[0m\u001b[0msubplots\u001b[0m\u001b[1;33m,\u001b[0m \u001b[0max\u001b[0m\u001b[1;33m=\u001b[0m\u001b[0max\u001b[0m\u001b[1;33m,\u001b[0m \u001b[0mkind\u001b[0m\u001b[1;33m=\u001b[0m\u001b[0mkind\u001b[0m\u001b[1;33m,\u001b[0m \u001b[1;33m**\u001b[0m\u001b[0mkwds\u001b[0m\u001b[1;33m)\u001b[0m\u001b[1;33m\u001b[0m\u001b[1;33m\u001b[0m\u001b[0m\n\u001b[0;32m   1800\u001b[0m \u001b[1;33m\u001b[0m\u001b[0m\n\u001b[1;32m-> 1801\u001b[1;33m     \u001b[0mplot_obj\u001b[0m\u001b[1;33m.\u001b[0m\u001b[0mgenerate\u001b[0m\u001b[1;33m(\u001b[0m\u001b[1;33m)\u001b[0m\u001b[1;33m\u001b[0m\u001b[1;33m\u001b[0m\u001b[0m\n\u001b[0m\u001b[0;32m   1802\u001b[0m     \u001b[0mplot_obj\u001b[0m\u001b[1;33m.\u001b[0m\u001b[0mdraw\u001b[0m\u001b[1;33m(\u001b[0m\u001b[1;33m)\u001b[0m\u001b[1;33m\u001b[0m\u001b[1;33m\u001b[0m\u001b[0m\n\u001b[0;32m   1803\u001b[0m     \u001b[1;32mreturn\u001b[0m \u001b[0mplot_obj\u001b[0m\u001b[1;33m.\u001b[0m\u001b[0mresult\u001b[0m\u001b[1;33m\u001b[0m\u001b[1;33m\u001b[0m\u001b[0m\n",
      "\u001b[1;32m~\\Anaconda3\\lib\\site-packages\\pandas\\plotting\\_core.py\u001b[0m in \u001b[0;36mgenerate\u001b[1;34m(self)\u001b[0m\n\u001b[0;32m    247\u001b[0m     \u001b[1;32mdef\u001b[0m \u001b[0mgenerate\u001b[0m\u001b[1;33m(\u001b[0m\u001b[0mself\u001b[0m\u001b[1;33m)\u001b[0m\u001b[1;33m:\u001b[0m\u001b[1;33m\u001b[0m\u001b[1;33m\u001b[0m\u001b[0m\n\u001b[0;32m    248\u001b[0m         \u001b[0mself\u001b[0m\u001b[1;33m.\u001b[0m\u001b[0m_args_adjust\u001b[0m\u001b[1;33m(\u001b[0m\u001b[1;33m)\u001b[0m\u001b[1;33m\u001b[0m\u001b[1;33m\u001b[0m\u001b[0m\n\u001b[1;32m--> 249\u001b[1;33m         \u001b[0mself\u001b[0m\u001b[1;33m.\u001b[0m\u001b[0m_compute_plot_data\u001b[0m\u001b[1;33m(\u001b[0m\u001b[1;33m)\u001b[0m\u001b[1;33m\u001b[0m\u001b[1;33m\u001b[0m\u001b[0m\n\u001b[0m\u001b[0;32m    250\u001b[0m         \u001b[0mself\u001b[0m\u001b[1;33m.\u001b[0m\u001b[0m_setup_subplots\u001b[0m\u001b[1;33m(\u001b[0m\u001b[1;33m)\u001b[0m\u001b[1;33m\u001b[0m\u001b[1;33m\u001b[0m\u001b[0m\n\u001b[0;32m    251\u001b[0m         \u001b[0mself\u001b[0m\u001b[1;33m.\u001b[0m\u001b[0m_make_plot\u001b[0m\u001b[1;33m(\u001b[0m\u001b[1;33m)\u001b[0m\u001b[1;33m\u001b[0m\u001b[1;33m\u001b[0m\u001b[0m\n",
      "\u001b[1;32m~\\Anaconda3\\lib\\site-packages\\pandas\\plotting\\_core.py\u001b[0m in \u001b[0;36m_compute_plot_data\u001b[1;34m(self)\u001b[0m\n\u001b[0;32m    365\u001b[0m         \u001b[1;32mif\u001b[0m \u001b[0mis_empty\u001b[0m\u001b[1;33m:\u001b[0m\u001b[1;33m\u001b[0m\u001b[1;33m\u001b[0m\u001b[0m\n\u001b[0;32m    366\u001b[0m             raise TypeError('Empty {0!r}: no numeric data to '\n\u001b[1;32m--> 367\u001b[1;33m                             'plot'.format(numeric_data.__class__.__name__))\n\u001b[0m\u001b[0;32m    368\u001b[0m \u001b[1;33m\u001b[0m\u001b[0m\n\u001b[0;32m    369\u001b[0m         \u001b[0mself\u001b[0m\u001b[1;33m.\u001b[0m\u001b[0mdata\u001b[0m \u001b[1;33m=\u001b[0m \u001b[0mnumeric_data\u001b[0m\u001b[1;33m\u001b[0m\u001b[1;33m\u001b[0m\u001b[0m\n",
      "\u001b[1;31mTypeError\u001b[0m: Empty 'DataFrame': no numeric data to plot"
     ]
    }
   ],
   "source": [
    "#dataframe.loc[:,'W1':'Lsets'] = dataframe.loc[:,'W1':'Lsets'].fillna(0)\n",
    "\n",
    "printNan()"
   ]
  },
  {
   "cell_type": "code",
   "execution_count": null,
   "metadata": {},
   "outputs": [],
   "source": [
    "dataframe.to_csv('./datasets/dataframe01.csv', index = False)"
   ]
  },
  {
   "cell_type": "code",
   "execution_count": null,
   "metadata": {},
   "outputs": [],
   "source": []
  }
 ],
 "metadata": {
  "kernelspec": {
   "display_name": "Python 3",
   "language": "python",
   "name": "python3"
  },
  "language_info": {
   "codemirror_mode": {
    "name": "ipython",
    "version": 3
   },
   "file_extension": ".py",
   "mimetype": "text/x-python",
   "name": "python",
   "nbconvert_exporter": "python",
   "pygments_lexer": "ipython3",
   "version": "3.7.3"
  },
  "latex_envs": {
   "LaTeX_envs_menu_present": true,
   "autoclose": false,
   "autocomplete": true,
   "bibliofile": "biblio.bib",
   "cite_by": "apalike",
   "current_citInitial": 1,
   "eqLabelWithNumbers": true,
   "eqNumInitial": 1,
   "hotkeys": {
    "equation": "Ctrl-E",
    "itemize": "Ctrl-I"
   },
   "labels_anchors": false,
   "latex_user_defs": false,
   "report_style_numbering": false,
   "user_envs_cfg": false
  }
 },
 "nbformat": 4,
 "nbformat_minor": 2
}
