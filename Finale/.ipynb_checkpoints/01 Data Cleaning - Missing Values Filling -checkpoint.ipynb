{
 "cells": [
  {
   "cell_type": "markdown",
   "metadata": {},
   "source": [
    "<center>\n",
    "\n",
    "# Web Intelligence\n",
    "\n",
    "# Who will win the Tennis Australian Open 2020?\n",
    "\n",
    "## 01 Data Cleaning - Missing Values Filling\n",
    "\n",
    "### Riccardo Spolaor (864877)\n",
    "\n",
    "</center>"
   ]
  },
  {
   "cell_type": "markdown",
   "metadata": {},
   "source": [
    "# Controllo e filling Missing Values\n",
    "Controllo quali feature presentano valori mancanti e procedo al loro filling."
   ]
  },
  {
   "cell_type": "code",
   "execution_count": 1,
   "metadata": {},
   "outputs": [],
   "source": [
    "import pandas as pd\n",
    "import numpy as np"
   ]
  },
  {
   "cell_type": "code",
   "execution_count": 2,
   "metadata": {},
   "outputs": [],
   "source": [
    "dataframe = pd.read_csv('./datasets/dataframe00.csv', low_memory = False)"
   ]
  },
  {
   "cell_type": "code",
   "execution_count": 3,
   "metadata": {},
   "outputs": [
    {
     "data": {
      "text/html": [
       "<div>\n",
       "<style scoped>\n",
       "    .dataframe tbody tr th:only-of-type {\n",
       "        vertical-align: middle;\n",
       "    }\n",
       "\n",
       "    .dataframe tbody tr th {\n",
       "        vertical-align: top;\n",
       "    }\n",
       "\n",
       "    .dataframe thead th {\n",
       "        text-align: right;\n",
       "    }\n",
       "</style>\n",
       "<table border=\"1\" class=\"dataframe\">\n",
       "  <thead>\n",
       "    <tr style=\"text-align: right;\">\n",
       "      <th></th>\n",
       "      <th>csvID</th>\n",
       "      <th>ATP</th>\n",
       "      <th>Location</th>\n",
       "      <th>Tournament</th>\n",
       "      <th>Date</th>\n",
       "      <th>Series</th>\n",
       "      <th>Court</th>\n",
       "      <th>Surface</th>\n",
       "      <th>Round</th>\n",
       "      <th>Best of</th>\n",
       "      <th>...</th>\n",
       "      <th>UBW</th>\n",
       "      <th>UBL</th>\n",
       "      <th>LBW</th>\n",
       "      <th>LBL</th>\n",
       "      <th>SJW</th>\n",
       "      <th>SJL</th>\n",
       "      <th>MaxW</th>\n",
       "      <th>MaxL</th>\n",
       "      <th>AvgW</th>\n",
       "      <th>AvgL</th>\n",
       "    </tr>\n",
       "  </thead>\n",
       "  <tbody>\n",
       "    <tr>\n",
       "      <th>0</th>\n",
       "      <td>0</td>\n",
       "      <td>1.0</td>\n",
       "      <td>Adelaide</td>\n",
       "      <td>AAPT Championships</td>\n",
       "      <td>2001-01-01</td>\n",
       "      <td>International</td>\n",
       "      <td>Outdoor</td>\n",
       "      <td>Hard</td>\n",
       "      <td>1st Round</td>\n",
       "      <td>3.0</td>\n",
       "      <td>...</td>\n",
       "      <td>NaN</td>\n",
       "      <td>NaN</td>\n",
       "      <td>NaN</td>\n",
       "      <td>NaN</td>\n",
       "      <td>NaN</td>\n",
       "      <td>NaN</td>\n",
       "      <td>NaN</td>\n",
       "      <td>NaN</td>\n",
       "      <td>NaN</td>\n",
       "      <td>NaN</td>\n",
       "    </tr>\n",
       "    <tr>\n",
       "      <th>1</th>\n",
       "      <td>0</td>\n",
       "      <td>1.0</td>\n",
       "      <td>Adelaide</td>\n",
       "      <td>AAPT Championships</td>\n",
       "      <td>2001-01-01</td>\n",
       "      <td>International</td>\n",
       "      <td>Outdoor</td>\n",
       "      <td>Hard</td>\n",
       "      <td>1st Round</td>\n",
       "      <td>3.0</td>\n",
       "      <td>...</td>\n",
       "      <td>NaN</td>\n",
       "      <td>NaN</td>\n",
       "      <td>NaN</td>\n",
       "      <td>NaN</td>\n",
       "      <td>NaN</td>\n",
       "      <td>NaN</td>\n",
       "      <td>NaN</td>\n",
       "      <td>NaN</td>\n",
       "      <td>NaN</td>\n",
       "      <td>NaN</td>\n",
       "    </tr>\n",
       "    <tr>\n",
       "      <th>2</th>\n",
       "      <td>0</td>\n",
       "      <td>1.0</td>\n",
       "      <td>Adelaide</td>\n",
       "      <td>AAPT Championships</td>\n",
       "      <td>2001-01-01</td>\n",
       "      <td>International</td>\n",
       "      <td>Outdoor</td>\n",
       "      <td>Hard</td>\n",
       "      <td>1st Round</td>\n",
       "      <td>3.0</td>\n",
       "      <td>...</td>\n",
       "      <td>NaN</td>\n",
       "      <td>NaN</td>\n",
       "      <td>NaN</td>\n",
       "      <td>NaN</td>\n",
       "      <td>NaN</td>\n",
       "      <td>NaN</td>\n",
       "      <td>NaN</td>\n",
       "      <td>NaN</td>\n",
       "      <td>NaN</td>\n",
       "      <td>NaN</td>\n",
       "    </tr>\n",
       "    <tr>\n",
       "      <th>3</th>\n",
       "      <td>0</td>\n",
       "      <td>1.0</td>\n",
       "      <td>Adelaide</td>\n",
       "      <td>AAPT Championships</td>\n",
       "      <td>2001-01-01</td>\n",
       "      <td>International</td>\n",
       "      <td>Outdoor</td>\n",
       "      <td>Hard</td>\n",
       "      <td>1st Round</td>\n",
       "      <td>3.0</td>\n",
       "      <td>...</td>\n",
       "      <td>NaN</td>\n",
       "      <td>NaN</td>\n",
       "      <td>NaN</td>\n",
       "      <td>NaN</td>\n",
       "      <td>NaN</td>\n",
       "      <td>NaN</td>\n",
       "      <td>NaN</td>\n",
       "      <td>NaN</td>\n",
       "      <td>NaN</td>\n",
       "      <td>NaN</td>\n",
       "    </tr>\n",
       "    <tr>\n",
       "      <th>4</th>\n",
       "      <td>0</td>\n",
       "      <td>1.0</td>\n",
       "      <td>Adelaide</td>\n",
       "      <td>AAPT Championships</td>\n",
       "      <td>2001-01-01</td>\n",
       "      <td>International</td>\n",
       "      <td>Outdoor</td>\n",
       "      <td>Hard</td>\n",
       "      <td>1st Round</td>\n",
       "      <td>3.0</td>\n",
       "      <td>...</td>\n",
       "      <td>NaN</td>\n",
       "      <td>NaN</td>\n",
       "      <td>NaN</td>\n",
       "      <td>NaN</td>\n",
       "      <td>NaN</td>\n",
       "      <td>NaN</td>\n",
       "      <td>NaN</td>\n",
       "      <td>NaN</td>\n",
       "      <td>NaN</td>\n",
       "      <td>NaN</td>\n",
       "    </tr>\n",
       "  </tbody>\n",
       "</table>\n",
       "<p>5 rows × 55 columns</p>\n",
       "</div>"
      ],
      "text/plain": [
       "   csvID  ATP  Location          Tournament        Date         Series  \\\n",
       "0      0  1.0  Adelaide  AAPT Championships  2001-01-01  International   \n",
       "1      0  1.0  Adelaide  AAPT Championships  2001-01-01  International   \n",
       "2      0  1.0  Adelaide  AAPT Championships  2001-01-01  International   \n",
       "3      0  1.0  Adelaide  AAPT Championships  2001-01-01  International   \n",
       "4      0  1.0  Adelaide  AAPT Championships  2001-01-01  International   \n",
       "\n",
       "     Court Surface      Round  Best of  ... UBW UBL  LBW  LBL  SJW  SJL  MaxW  \\\n",
       "0  Outdoor    Hard  1st Round      3.0  ... NaN NaN  NaN  NaN  NaN  NaN   NaN   \n",
       "1  Outdoor    Hard  1st Round      3.0  ... NaN NaN  NaN  NaN  NaN  NaN   NaN   \n",
       "2  Outdoor    Hard  1st Round      3.0  ... NaN NaN  NaN  NaN  NaN  NaN   NaN   \n",
       "3  Outdoor    Hard  1st Round      3.0  ... NaN NaN  NaN  NaN  NaN  NaN   NaN   \n",
       "4  Outdoor    Hard  1st Round      3.0  ... NaN NaN  NaN  NaN  NaN  NaN   NaN   \n",
       "\n",
       "   MaxL  AvgW  AvgL  \n",
       "0   NaN   NaN   NaN  \n",
       "1   NaN   NaN   NaN  \n",
       "2   NaN   NaN   NaN  \n",
       "3   NaN   NaN   NaN  \n",
       "4   NaN   NaN   NaN  \n",
       "\n",
       "[5 rows x 55 columns]"
      ]
     },
     "execution_count": 3,
     "metadata": {},
     "output_type": "execute_result"
    }
   ],
   "source": [
    "dataframe.head()"
   ]
  },
  {
   "cell_type": "code",
   "execution_count": 4,
   "metadata": {},
   "outputs": [
    {
     "data": {
      "image/png": "[encoded data removed]",
      "text/plain": [
       "<Figure size 720x1080 with 1 Axes>"
      ]
     },
     "metadata": {
      "needs_background": "light"
     },
     "output_type": "display_data"
    }
   ],
   "source": [
    "%matplotlib inline\n",
    "\n",
    "def printNan():\n",
    "    try:\n",
    "        df = dataframe.isna().sum()\n",
    "        df = df[df > 0]\n",
    "        ax = df.plot.barh(figsize=(10, 15), title = 'NaN Values per Feature')\n",
    "        ax.set(xlabel = 'Number of NaN Values', ylabel = 'Feature')\n",
    "        ax\n",
    "    except:\n",
    "        print(\"Non ci sono valori NaN.\")\n",
    "    \n",
    "printNan()"
   ]
  },
  {
   "cell_type": "markdown",
   "metadata": {},
   "source": [
    "## MaxW, MaxL, AvgW, AvgL Filling\n",
    "\n",
    "Come prima cosa procedo a correggere le feature riguardanti le scommesse dei bookmaker.\n",
    "\n",
    "Procedo riempiendo le feature ***AvgW*** e ***AvgL*** che presentano valori *NaN* rispettivamente con la media delle scommesse dei bookmaker per il vincitore e per il perdente.\n",
    "\n",
    "Procedo riempiendo le feature ***MaxW*** e ***MaxL*** che presentano valori *NaN* rispettivamente con il massimo tra le scommesse dei bookmaker per il vincitore e per il perdente (considero pure ***AvgW*** e ***AvgL***).\n",
    "\n",
    "Procedo riempiendo le feature ***AvgW***, ***AvgL***, ***MaxW*** e ***MaxL*** che presentano ancora valori *NaN* e che non avevano quindi scommesse singole dei bookmaker con la media dei valori delle rispettive colonne.\n",
    "\n",
    "Inserisco le colonne ***AvgWAdded***, ***AvgLAdded***, ***MaxWAdded*** e ***MaxLAdded*** che presentano il valore 0 se il valore delle scommesse medie o massime era già presente o è stato calcolato con la media delle scommesse dei bookmaker per quel giocatore, e che presentano il valore 1 se il valore è stato calcolato con la media dei valori della colonna.\n",
    "\n",
    "Infine elimino tutte le colonne del dataset riguardanti le scommesse dei singoli bookmaker."
   ]
  },
  {
   "cell_type": "code",
   "execution_count": 5,
   "metadata": {},
   "outputs": [
    {
     "name": "stdout",
     "output_type": "stream",
     "text": [
      "Procedo al filling di AvgW e AvgL usando le altre predizioni dei bookmaker dove è possibile:\n",
      "AvgW settati a NaN prima:  26591\n",
      "AvgL settati a NaN prima:  26591\n",
      "AvgW settati a NaN dopo:  929\n",
      "AvgL settati a NaN dopo:  929 \n",
      "\n",
      "Procedo al filling di MaxW e MaxL usando le altre predizioni dei bookmaker dove è possibile:\n",
      "MaxW settati a NaN prima:  26591\n",
      "MaxL settati a NaN prima:  26591\n",
      "MaxW settati a NaN dopo:  929\n",
      "MaxL settati a NaN dopo:  929 \n",
      "\n",
      "Procedo al filling delle righe dove AvgW, AvgL e MaxW, MaxL hanno valori NaN tramite la media dei valori della colonna:\n",
      "Index(['csvID', 'ATP', 'Location', 'Tournament', 'Date', 'Series', 'Court',\n",
      "       'Surface', 'Round', 'Best of', 'Winner', 'Loser', 'WRank', 'LRank',\n",
      "       'W1', 'L1', 'W2', 'L2', 'W3', 'L3', 'W4', 'L4', 'W5', 'L5', 'Wsets',\n",
      "       'Lsets', 'Comment', 'WPts', 'LPts', 'MaxW', 'MaxWAdded', 'MaxL',\n",
      "       'MaxLAdded', 'AvgW', 'AvgWAdded', 'AvgL', 'AvgLAdded'],\n",
      "      dtype='object')\n"
     ]
    }
   ],
   "source": [
    "# Calcolo AVG E E MAX DELLE PREDIZIONI DEI BOOKMAKER E FILLO CON VALORI MEDI CIO' CHE MANCA\n",
    "odds_W = ['B365W','PSW', 'EXW', 'LBW', 'SJW', 'UBW', 'CBW', 'IWW', 'SBW', 'B&WW', 'GBW']\n",
    "odds_L = ['B365L','PSL', 'EXL', 'LBL', 'SJL', 'UBL', 'CBL', 'IWL', 'SBL', 'B&WL', 'GBL']\n",
    "\n",
    "print('Procedo al filling di AvgW e AvgL usando le altre predizioni dei bookmaker dove è possibile:')\n",
    "print('AvgW settati a NaN prima: ',sum(dataframe['AvgW'].isna()))\n",
    "print('AvgL settati a NaN prima: ',sum(dataframe['AvgL'].isna()))\n",
    "dataframe['AvgW'].fillna(dataframe[odds_W].mean(axis=1), inplace = True)\n",
    "dataframe['AvgL'].fillna(dataframe[odds_L].mean(axis=1), inplace= True)\n",
    "print('AvgW settati a NaN dopo: ',sum(dataframe['AvgW'].isna()))\n",
    "print('AvgL settati a NaN dopo: ',sum(dataframe['AvgL'].isna()), '\\n')\n",
    "\n",
    "print('Procedo al filling di MaxW e MaxL usando le altre predizioni dei bookmaker dove è possibile:')\n",
    "print('MaxW settati a NaN prima: ',sum(dataframe['MaxW'].isna()))\n",
    "print('MaxL settati a NaN prima: ',sum(dataframe['MaxL'].isna()))\n",
    "dataframe['MaxW'].fillna(dataframe[odds_W + ['AvgW']].max(axis=1), inplace = True)\n",
    "dataframe['MaxL'].fillna(dataframe[odds_L + ['AvgL']].max(axis=1), inplace= True)\n",
    "print('MaxW settati a NaN dopo: ',sum(dataframe['MaxW'].isna()))\n",
    "print('MaxL settati a NaN dopo: ',sum(dataframe['MaxL'].isna()), '\\n')\n",
    "\n",
    "print('Procedo al filling delle righe dove AvgW, AvgL e MaxW, MaxL hanno valori NaN tramite la media dei valori della colonna:')\n",
    "\n",
    "dataframe.insert(dataframe.columns.get_loc('AvgW') + 1, column = 'AvgWAdded', value = 0)\n",
    "dataframe.loc[dataframe['AvgW'].isna(), 'AvgWAdded'] = 1\n",
    "dataframe.insert(dataframe.columns.get_loc('AvgL') + 1, column = 'AvgLAdded', value = 0)\n",
    "dataframe.loc[dataframe['AvgL'].isna(), 'AvgLAdded'] = 1\n",
    "\n",
    "dataframe.insert(dataframe.columns.get_loc('MaxW') + 1, column = 'MaxWAdded', value = 0)\n",
    "dataframe.loc[dataframe['MaxW'].isna(), 'MaxWAdded'] = 1\n",
    "dataframe.insert(dataframe.columns.get_loc('MaxL') + 1, column = 'MaxLAdded', value = 0)\n",
    "dataframe.loc[dataframe['MaxL'].isna(), 'MaxLAdded'] = 1\n",
    "\n",
    "\n",
    "dataframe['AvgW'].fillna(dataframe['AvgW'].mean(), inplace= True)\n",
    "dataframe['AvgL'].fillna(dataframe['AvgL'].mean(), inplace= True)\n",
    "dataframe['MaxW'].fillna(dataframe['MaxW'].mean(), inplace= True)\n",
    "dataframe['MaxL'].fillna(dataframe['MaxL'].mean(), inplace= True)\n",
    "dataframe.drop(odds_W + odds_L, axis = 1, inplace= True)\n",
    "\n",
    "print(dataframe.columns)\n",
    "\n",
    "dataframe = dataframe.reset_index(drop = True)"
   ]
  },
  {
   "cell_type": "code",
   "execution_count": 6,
   "metadata": {},
   "outputs": [
    {
     "data": {
      "image/png": "[encoded data removed]",
      "text/plain": [
       "<Figure size 720x1080 with 1 Axes>"
      ]
     },
     "metadata": {
      "needs_background": "light"
     },
     "output_type": "display_data"
    }
   ],
   "source": [
    "printNan()"
   ]
  },
  {
   "cell_type": "markdown",
   "metadata": {},
   "source": [
    "## WRank e LRank Filling\n",
    "\n",
    "Procedo a correggere le feature riguardanti il Rank dei giocatori (***WRank*** e ***LRank***).\n",
    "\n",
    "Assegno ai valori del Ranking settati a *NaN* il valore  medio dei ranking (***WRank*** e ***LRank***) di quel giocatore, se questo valore non esiste assegno al giocatore il Rank più alto + 1.\n",
    "\n",
    "Aggiungo le colonne ***WRankAdded*** e ***LRankAdded*** che assumono valori binari:\n",
    "* 0 se il Rank era già presente;\n",
    "* 1 se è stato inferito manualmente."
   ]
  },
  {
   "cell_type": "code",
   "execution_count": 7,
   "metadata": {},
   "outputs": [],
   "source": [
    "def getMeanFeatureOfPlayer(player, value):\n",
    "    rankList = dataframe[dataframe['Winner'] == player]['W'+value].append(\n",
    "        dataframe[dataframe['Loser'] == player]['L'+value])\n",
    "    return rankList.mean(skipna = True)\n",
    "\n",
    "def getPlayersMeanFeature (value):\n",
    "    players = dataframe['Winner'].append(dataframe['Loser']).unique()\n",
    "    return {x : getMeanFeatureOfPlayer(x,value) for x in players}\n",
    "    \n",
    "def assignFeatureToPlayers(value):\n",
    "    playersMeanRank = getPlayersMeanFeature (value)\n",
    "    meanW = dataframe[dataframe['W'+value].isna()]['Winner'].apply(lambda x: playersMeanRank[x])\n",
    "    meanL = dataframe[dataframe['L'+value].isna()]['Loser'].apply(lambda x: playersMeanRank[x])\n",
    "    dataframe['W'+value].fillna(meanW, inplace = True)\n",
    "    dataframe['L'+value].fillna(meanL, inplace = True)"
   ]
  },
  {
   "cell_type": "code",
   "execution_count": 8,
   "metadata": {},
   "outputs": [
    {
     "name": "stdout",
     "output_type": "stream",
     "text": [
      "Filling di WRank e LRank:\n",
      "WRank settati a NaN prima:  19\n",
      "LRank settati a NaN prima:  108\n",
      "WRank settati a NaN dopo:  1\n",
      "LRank settati a NaN dopo:  34 \n",
      "\n",
      "Metto il Rank più basso a righe  con WRank e LRank ancora settate a NaN:\n",
      "WRank settati a NaN prima:  1\n",
      "LRank settati a NaN prima:  34\n",
      "WRank settati a NaN dopo:  0\n",
      "LRank settati a NaN dopo:  0 \n",
      "\n"
     ]
    }
   ],
   "source": [
    "dataframe.insert(dataframe.columns.get_loc('WRank') + 1, column = 'WRankAdded', value = 0)\n",
    "dataframe.loc[dataframe['WRank'].isna(), 'WRankAdded'] = 1\n",
    "dataframe.insert(dataframe.columns.get_loc('LRank') + 1, column = 'LRankAdded', value = 0)\n",
    "dataframe.loc[dataframe['LRank'].isna(), 'LRankAdded'] = 1\n",
    "\n",
    "print('Filling di WRank e LRank:')\n",
    "print('WRank settati a NaN prima: ',sum(dataframe['WRank'].isna()))\n",
    "print('LRank settati a NaN prima: ',sum(dataframe['LRank'].isna()))\n",
    "\n",
    "assignFeatureToPlayers('Rank')\n",
    "\n",
    "print('WRank settati a NaN dopo: ',sum(dataframe['WRank'].isna()))\n",
    "print('LRank settati a NaN dopo: ',sum(dataframe['LRank'].isna()), '\\n')\n",
    "\n",
    "print('Metto il Rank più basso a righe  con WRank e LRank ancora settate a NaN:')\n",
    "print('WRank settati a NaN prima: ',sum(dataframe['WRank'].isna()))\n",
    "print('LRank settati a NaN prima: ',sum(dataframe['LRank'].isna()))\n",
    "\n",
    "dataframe['WRank'].fillna(max(list(dataframe['WRank']) + list(dataframe['LRank']))+1, inplace = True)\n",
    "dataframe['LRank'].fillna(max(list(dataframe['WRank']) + list(dataframe['LRank']))+1, inplace = True)\n",
    "\n",
    "print('WRank settati a NaN dopo: ',sum(dataframe['WRank'].isna()))\n",
    "print('LRank settati a NaN dopo: ',sum(dataframe['LRank'].isna()), '\\n')\n",
    "\n",
    "dataframe = dataframe.reset_index(drop = True)"
   ]
  },
  {
   "cell_type": "code",
   "execution_count": 9,
   "metadata": {},
   "outputs": [
    {
     "data": {
      "image/png": "[encoded data removed]",
      "text/plain": [
       "<Figure size 720x1080 with 1 Axes>"
      ]
     },
     "metadata": {
      "needs_background": "light"
     },
     "output_type": "display_data"
    }
   ],
   "source": [
    "printNan()"
   ]
  },
  {
   "cell_type": "markdown",
   "metadata": {},
   "source": [
    "## WPts e LPts Filling\n",
    "\n",
    "Procedo a correggere le feature mancanti riguardanti i Punti dei giocatori (***WPts*** e ***LPts***) in modo analogo a quanto ho fatto per ***WRank*** e ***LRank***, eccetto che inserisco il valore dei punti minimo -1 quando non riesco ad inferire i punti dalla media dei punti del giocatore.\n",
    "\n",
    "Aggiungo anche in questo caso le colonne ***WPtsAdded*** e ***LPtsAdded*** che assumono valori binari:\n",
    "\n",
    "* 0 se i Punti erano già presenti;\n",
    "* 1 se sono stati inferiti manualmente.\n"
   ]
  },
  {
   "cell_type": "code",
   "execution_count": 10,
   "metadata": {},
   "outputs": [
    {
     "name": "stdout",
     "output_type": "stream",
     "text": [
      "Filling di WPts e LPts:\n",
      "WPts settati a NaN prima:  13244\n",
      "LPts settati a NaN prima:  13313\n",
      "WPts settati a NaN dopo:  1823\n",
      "LPts settati a NaN dopo:  2597 \n",
      "\n",
      "Metto punti minimi a righe  con WPts e LPts ancora settate a NaN:\n",
      "WPts settati a NaN prima:  1823\n",
      "LPts settati a NaN prima:  2597\n",
      "WPts settati a NaN dopo:  0\n",
      "LPts settati a NaN dopo:  0 \n",
      "\n"
     ]
    }
   ],
   "source": [
    "dataframe.insert(dataframe.columns.get_loc('WPts') + 1, column = 'WPtsAdded', value = 0)\n",
    "dataframe.loc[dataframe['WPts'].isna(), 'WPtsAdded'] = 1\n",
    "dataframe.insert(dataframe.columns.get_loc('LPts') + 1, column = 'LPtsAdded', value = 0)\n",
    "dataframe.loc[dataframe['LPts'].isna(), 'LPtsAdded'] = 1\n",
    "\n",
    "print('Filling di WPts e LPts:')\n",
    "print('WPts settati a NaN prima: ',sum(dataframe['WPts'].isna()))\n",
    "print('LPts settati a NaN prima: ',sum(dataframe['LPts'].isna()))\n",
    "            \n",
    "assignFeatureToPlayers('Pts')\n",
    "\n",
    "print('WPts settati a NaN dopo: ',sum(dataframe['WPts'].isna()))\n",
    "print('LPts settati a NaN dopo: ',sum(dataframe['LPts'].isna()), '\\n')\n",
    "\n",
    "print('Metto punti minimi a righe  con WPts e LPts ancora settate a NaN:')\n",
    "print('WPts settati a NaN prima: ',sum(dataframe['WPts'].isna()))\n",
    "print('LPts settati a NaN prima: ',sum(dataframe['LPts'].isna()))\n",
    "\n",
    "dataframe['WPts'].fillna(np.nanmin(list(dataframe['WPts']) + list(dataframe['LPts']))-1, inplace = True)\n",
    "dataframe['LPts'].fillna(np.nanmin(list(dataframe['WPts']) + list(dataframe['LPts']))-1, inplace = True)\n",
    "\n",
    "print('WPts settati a NaN dopo: ',sum(dataframe['WPts'].isna()))\n",
    "print('LPts settati a NaN dopo: ',sum(dataframe['LPts'].isna()), '\\n')\n",
    "\n",
    "dataframe = dataframe.reset_index(drop = True)"
   ]
  },
  {
   "cell_type": "code",
   "execution_count": 11,
   "metadata": {},
   "outputs": [
    {
     "data": {
      "image/png": "[encoded data removed]",
      "text/plain": [
       "<Figure size 720x1080 with 1 Axes>"
      ]
     },
     "metadata": {
      "needs_background": "light"
     },
     "output_type": "display_data"
    }
   ],
   "source": [
    "printNan()"
   ]
  },
  {
   "cell_type": "markdown",
   "metadata": {},
   "source": [
    "## W1, W2, W3, W4, W5, L1, L2, L3, L4, L5, Wsets, Lsets Filling\n",
    "\n",
    "Per quanto riguarda i valori *NaN* delle feature riguardanti i Set vinti dal vincitore e dal perdente (***Wsets*** e ***Lsets***) e i valori delle feature riguardanti i Punti per ogni Set dei due giocatori (***W1***, ***W2***, ***W3***, ***W4***, ***W5*** e ***L1***, ***L2***, ***L3***, ***L4***, ***L5***):\n",
    "* Controllo solo i valori *NaN* di ***Wsets*** quando le partite sono state portate a termine (***Comment*** = *'Completed'*);\n",
    "* Correggo assegnando un valore adeguato;\n",
    "* Setto tutti i valori *NaN* rimanenti delle feature a 0."
   ]
  },
  {
   "cell_type": "code",
   "execution_count": 12,
   "metadata": {},
   "outputs": [
    {
     "name": "stdout",
     "output_type": "stream",
     "text": [
      "\n",
      "Commenti delle partite in cui Wsets  e Lsets  è NULL e la partita è stata completata.\n",
      "\n"
     ]
    },
    {
     "data": {
      "text/html": [
       "<div>\n",
       "<style scoped>\n",
       "    .dataframe tbody tr th:only-of-type {\n",
       "        vertical-align: middle;\n",
       "    }\n",
       "\n",
       "    .dataframe tbody tr th {\n",
       "        vertical-align: top;\n",
       "    }\n",
       "\n",
       "    .dataframe thead th {\n",
       "        text-align: right;\n",
       "    }\n",
       "</style>\n",
       "<table border=\"1\" class=\"dataframe\">\n",
       "  <thead>\n",
       "    <tr style=\"text-align: right;\">\n",
       "      <th></th>\n",
       "      <th>W1</th>\n",
       "      <th>W2</th>\n",
       "      <th>W3</th>\n",
       "      <th>W4</th>\n",
       "      <th>W5</th>\n",
       "      <th>L1</th>\n",
       "      <th>L2</th>\n",
       "      <th>L3</th>\n",
       "      <th>L4</th>\n",
       "      <th>L5</th>\n",
       "      <th>Wsets</th>\n",
       "      <th>Lsets</th>\n",
       "      <th>Best of</th>\n",
       "      <th>Comment</th>\n",
       "    </tr>\n",
       "  </thead>\n",
       "  <tbody>\n",
       "    <tr>\n",
       "      <th>16201</th>\n",
       "      <td>NaN</td>\n",
       "      <td>NaN</td>\n",
       "      <td>NaN</td>\n",
       "      <td>NaN</td>\n",
       "      <td>NaN</td>\n",
       "      <td>NaN</td>\n",
       "      <td>NaN</td>\n",
       "      <td>NaN</td>\n",
       "      <td>NaN</td>\n",
       "      <td>NaN</td>\n",
       "      <td>NaN</td>\n",
       "      <td>NaN</td>\n",
       "      <td>5.0</td>\n",
       "      <td>Completed</td>\n",
       "    </tr>\n",
       "  </tbody>\n",
       "</table>\n",
       "</div>"
      ],
      "text/plain": [
       "       W1  W2  W3  W4  W5  L1  L2  L3  L4  L5  Wsets  Lsets  Best of  \\\n",
       "16201 NaN NaN NaN NaN NaN NaN NaN NaN NaN NaN    NaN    NaN      5.0   \n",
       "\n",
       "         Comment  \n",
       "16201  Completed  "
      ]
     },
     "metadata": {},
     "output_type": "display_data"
    },
    {
     "name": "stdout",
     "output_type": "stream",
     "text": [
      "\n",
      "Essendo una partita al meglio di 5 riempio il valore NaN con 3\n",
      "\n"
     ]
    },
    {
     "data": {
      "text/html": [
       "<div>\n",
       "<style scoped>\n",
       "    .dataframe tbody tr th:only-of-type {\n",
       "        vertical-align: middle;\n",
       "    }\n",
       "\n",
       "    .dataframe tbody tr th {\n",
       "        vertical-align: top;\n",
       "    }\n",
       "\n",
       "    .dataframe thead th {\n",
       "        text-align: right;\n",
       "    }\n",
       "</style>\n",
       "<table border=\"1\" class=\"dataframe\">\n",
       "  <thead>\n",
       "    <tr style=\"text-align: right;\">\n",
       "      <th></th>\n",
       "      <th>W1</th>\n",
       "      <th>W2</th>\n",
       "      <th>W3</th>\n",
       "      <th>W4</th>\n",
       "      <th>W5</th>\n",
       "      <th>L1</th>\n",
       "      <th>L2</th>\n",
       "      <th>L3</th>\n",
       "      <th>L4</th>\n",
       "      <th>L5</th>\n",
       "      <th>Wsets</th>\n",
       "      <th>Lsets</th>\n",
       "      <th>Best of</th>\n",
       "      <th>Comment</th>\n",
       "    </tr>\n",
       "  </thead>\n",
       "  <tbody>\n",
       "    <tr>\n",
       "      <th>16201</th>\n",
       "      <td>NaN</td>\n",
       "      <td>NaN</td>\n",
       "      <td>NaN</td>\n",
       "      <td>NaN</td>\n",
       "      <td>NaN</td>\n",
       "      <td>NaN</td>\n",
       "      <td>NaN</td>\n",
       "      <td>NaN</td>\n",
       "      <td>NaN</td>\n",
       "      <td>NaN</td>\n",
       "      <td>3.0</td>\n",
       "      <td>NaN</td>\n",
       "      <td>5.0</td>\n",
       "      <td>Completed</td>\n",
       "    </tr>\n",
       "  </tbody>\n",
       "</table>\n",
       "</div>"
      ],
      "text/plain": [
       "       W1  W2  W3  W4  W5  L1  L2  L3  L4  L5  Wsets  Lsets  Best of  \\\n",
       "16201 NaN NaN NaN NaN NaN NaN NaN NaN NaN NaN    3.0    NaN      5.0   \n",
       "\n",
       "         Comment  \n",
       "16201  Completed  "
      ]
     },
     "metadata": {},
     "output_type": "display_data"
    }
   ],
   "source": [
    "def fill_wsets_nan():\n",
    "    print ('\\nCommenti delle partite in cui Wsets', ' e Lsets', ' è NULL e la partita è stata completata.\\n')\n",
    "    df = dataframe[dataframe['Wsets'].isna()]\n",
    "    wrong_df = df[df['Comment']=='Completed']\n",
    "    display(wrong_df[['W1','W2','W3','W4','W5','L1','L2','L3','L4','L5', 'Wsets','Lsets', 'Best of', 'Comment']])\n",
    "    print ('\\nEssendo una partita al meglio di 5 riempio il valore NaN con 3\\n')\n",
    "    dataframe.loc[wrong_df.index,'Wsets'] = 3\n",
    "    display(dataframe.loc[wrong_df.index,['W1','W2','W3','W4','W5','L1','L2','L3','L4','L5', 'Wsets','Lsets', \n",
    "                                          'Best of','Comment']])\n",
    "\n",
    "fill_wsets_nan()"
   ]
  },
  {
   "cell_type": "code",
   "execution_count": 13,
   "metadata": {},
   "outputs": [],
   "source": [
    "dataframe.loc[:,'W1':'Lsets'] = dataframe.loc[:,'W1':'Lsets'].fillna(0)"
   ]
  },
  {
   "cell_type": "code",
   "execution_count": 14,
   "metadata": {},
   "outputs": [
    {
     "name": "stdout",
     "output_type": "stream",
     "text": [
      "Non ci sono valori NaN.\n"
     ]
    }
   ],
   "source": [
    "printNan()"
   ]
  },
  {
   "cell_type": "code",
   "execution_count": 15,
   "metadata": {},
   "outputs": [],
   "source": [
    "dataframe.to_csv('./datasets/dataframe01.csv', index = False)"
   ]
  },
  {
   "cell_type": "code",
   "execution_count": null,
   "metadata": {},
   "outputs": [],
   "source": []
  }
 ],
 "metadata": {
  "kernelspec": {
   "display_name": "Python 3",
   "language": "python",
   "name": "python3"
  },
  "language_info": {
   "codemirror_mode": {
    "name": "ipython",
    "version": 3
   },
   "file_extension": ".py",
   "mimetype": "text/x-python",
   "name": "python",
   "nbconvert_exporter": "python",
   "pygments_lexer": "ipython3",
   "version": "3.7.3"
  },
  "latex_envs": {
   "LaTeX_envs_menu_present": true,
   "autoclose": false,
   "autocomplete": true,
   "bibliofile": "biblio.bib",
   "cite_by": "apalike",
   "current_citInitial": 1,
   "eqLabelWithNumbers": true,
   "eqNumInitial": 1,
   "hotkeys": {
    "equation": "Ctrl-E",
    "itemize": "Ctrl-I"
   },
   "labels_anchors": false,
   "latex_user_defs": false,
   "report_style_numbering": false,
   "user_envs_cfg": false
  }
 },
 "nbformat": 4,
 "nbformat_minor": 2
}
