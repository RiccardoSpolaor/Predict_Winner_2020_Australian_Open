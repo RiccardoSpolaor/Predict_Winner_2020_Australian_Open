{
 "cells": [
  {
   "cell_type": "markdown",
   "metadata": {},
   "source": [
    "<center>\n",
    "\n",
    "# Web Intelligence\n",
    "\n",
    "# Who will win the Tennis Australian Open 2020?\n",
    "\n",
    "## 03 Building The Prediction Model\n",
    "\n",
    "### Riccardo Spolaor (864877)\n",
    "\n",
    "</center>"
   ]
  },
  {
   "cell_type": "markdown",
   "metadata": {},
   "source": [
    "Modifico il dataframe in modo da poter ottenere un modello adatto alla predizione:\n",
    "* Rinomino ***Winner*** in ***PlayerA*** e ***Loser*** in ***PlayerB***;\n",
    "* Rinomino tutte le colonne con informazioni legate al vincitore e al perdente in modo da riflettere il legame ai nuovi nomi assegnati;\n",
    "* Creo la colonna ***Winner*** che assume i valori:\n",
    "    * 0 se ha vinto ***PlayerA***;\n",
    "    * 1 se ha vinto ***PlayerB***;\n",
    "* Assegno a ***Winner*** tutti valori 0;\n",
    "* Duplico il dataframe e faccio lo swapping tra tutte le colonne con informazioni sul Giocatore A e quelle con informazioni sul Giocatore B;\n",
    "* Assegno il valore 1 a ogni entry della colonna ***Winner*** del nuovo dataframe;\n",
    "* Unisco i due dataframe."
   ]
  },
  {
   "cell_type": "code",
   "execution_count": 127,
   "metadata": {},
   "outputs": [],
   "source": [
    "import pandas as pd"
   ]
  },
  {
   "cell_type": "code",
   "execution_count": 128,
   "metadata": {},
   "outputs": [],
   "source": [
    "dataframe = pd.read_csv('./datasets/dataframe05.csv', low_memory = False)"
   ]
  },
  {
   "cell_type": "code",
   "execution_count": 129,
   "metadata": {},
   "outputs": [
    {
     "data": {
      "text/plain": [
       "array(['csvID', 'ATP', 'Location', 'Tournament', 'Date', 'Series',\n",
       "       'Round', 'Best of', 'Winner', 'Loser', 'PlayedA', 'PlayedB',\n",
       "       'WinRatioA', 'WinRatioB', 'setsTournA', 'setsTournB',\n",
       "       'setsWRatioTournA', 'setsWRatioTournB', 'gamesTournA',\n",
       "       'gamesTournB', 'gamesWRatioTournA', 'gamesWRatioTournB', 'WRank',\n",
       "       'WRankAdded', 'LRank', 'LRankAdded', 'WPts', 'WPtsAdded', 'LPts',\n",
       "       'LPtsAdded', 'W1', 'L1', 'W2', 'L2', 'W3', 'L3', 'W4', 'L4', 'W5',\n",
       "       'L5', 'Wsets', 'Lsets', 'MaxW', 'MaxWAdded', 'MaxL', 'MaxLAdded',\n",
       "       'AvgW', 'AvgWAdded', 'AvgL', 'AvgLAdded', 'MinW', 'MinL',\n",
       "       'PlayedCourtA', 'PlayedCourtB', 'WonRatioCourtA', 'WonRatioCourtB',\n",
       "       'Indoor', 'Outdoor', 'Clay', 'Grass', 'Hard', 'Awarded',\n",
       "       'Completed', 'Disqualified', 'Retired', 'Sched', 'Walkover',\n",
       "       'TournamentEnc', 'Djokovic N.A', 'Djokovic N.B', 'Nadal R.A',\n",
       "       'Nadal R.B', 'Federer R.A', 'Federer R.B', 'Murray A.A',\n",
       "       'Murray A.B', 'Ferrer D.A', 'Ferrer D.B', 'Berdych T.A',\n",
       "       'Berdych T.B', 'Nishikori K.A', 'Nishikori K.B', 'Wawrinka S.A',\n",
       "       'Wawrinka S.B', 'Del Potro J.M.A', 'Del Potro J.M.B',\n",
       "       'Tsonga J.W.A', 'Tsonga J.W.B', 'Cilic M.A', 'Cilic M.B',\n",
       "       'Raonic M.A', 'Raonic M.B', 'Isner J.A', 'Isner J.B',\n",
       "       'Monfils G.A', 'Monfils G.B', 'Gasquet R.A', 'Gasquet R.B',\n",
       "       'Thiem D.A', 'Thiem D.B', 'Anderson K.A', 'Anderson K.B',\n",
       "       'Dimitrov G.A', 'Dimitrov G.B', 'Zverev A.A', 'Zverev A.B',\n",
       "       'Almagro N.A', 'Almagro N.B', 'Goffin D.A', 'Goffin D.B',\n",
       "       'Kohlschreiber P.A', 'Kohlschreiber P.B', 'Simon G.A', 'Simon G.B',\n",
       "       'Bautista Agut R.A', 'Bautista Agut R.B', 'Verdasco F.A',\n",
       "       'Verdasco F.B', 'OtherA', 'OtherB'], dtype=object)"
      ]
     },
     "execution_count": 129,
     "metadata": {},
     "output_type": "execute_result"
    }
   ],
   "source": [
    "dataframe.columns.values\n"
   ]
  },
  {
   "cell_type": "code",
   "execution_count": 130,
   "metadata": {},
   "outputs": [],
   "source": [
    "def renameColumns():\n",
    "    dataframe.rename(columns={'Winner':'PlayerA', \n",
    "                          'Loser':'PlayerB',\n",
    "                          'WRank':'RankA',\n",
    "                          'WRankAdded':'RankFilledA',\n",
    "                          'LRank':'RankB',\n",
    "                          'LRankAdded':'RankFilledB',\n",
    "                          'W1':'1A',\n",
    "                          'L1':'1B',\n",
    "                          'W2':'2A',\n",
    "                          'L2':'2B',\n",
    "                          'W3':'3A',\n",
    "                          'L3':'3B',\n",
    "                          'W4':'4A',\n",
    "                          'L4':'4B',\n",
    "                          'W5':'5A',\n",
    "                          'L5':'5B',\n",
    "                          'Wsets':'setsA',\n",
    "                          'Lsets':'setsB',\n",
    "                          'WPts':'PtsA',\n",
    "                          'LPts':'PtsB',\n",
    "                          'WPtsAdded':'PtsFilledA',\n",
    "                          'LPtsAdded':'PtsFilledB',\n",
    "                          'MaxW':'MaxA',\n",
    "                          'MaxWAdded':'MaxFilledA',\n",
    "                          'MaxL':'MaxB',\n",
    "                          'MaxLAdded':'MaxFilledB',\n",
    "                          'AvgW':'AvgA',\n",
    "                          'AvgWAdded':'AvgFilledA',\n",
    "                          'AvgL':'AvgB',\n",
    "                          'AvgLAdded':'AvgFilledB',\n",
    "                          'MinW':'MinA',\n",
    "                          'MinL':'MinB',\n",
    "                         }, inplace = True)\n",
    "    dataframe.insert(0, column ='Winner', value = 0)"
   ]
  },
  {
   "cell_type": "code",
   "execution_count": 131,
   "metadata": {},
   "outputs": [
    {
     "data": {
      "text/plain": [
       "Index(['Winner', 'csvID', 'ATP', 'Location', 'Tournament', 'Date', 'Series',\n",
       "       'Round', 'Best of', 'PlayerA',\n",
       "       ...\n",
       "       'Kohlschreiber P.A', 'Kohlschreiber P.B', 'Simon G.A', 'Simon G.B',\n",
       "       'Bautista Agut R.A', 'Bautista Agut R.B', 'Verdasco F.A',\n",
       "       'Verdasco F.B', 'OtherA', 'OtherB'],\n",
       "      dtype='object', length=121)"
      ]
     },
     "execution_count": 131,
     "metadata": {},
     "output_type": "execute_result"
    }
   ],
   "source": [
    "renameColumns()\n",
    "dataframe.columns"
   ]
  },
  {
   "cell_type": "code",
   "execution_count": 132,
   "metadata": {},
   "outputs": [],
   "source": [
    "def getInvertedDataFrame(colToInvert):\n",
    "    \n",
    "    players = dataframe['PlayerA'].value_counts().subtract(\n",
    "        dataframe['PlayerB'].value_counts(), fill_value = 0).sort_values(ascending = False).index.tolist()[:25]\n",
    "    \n",
    "    colToInvert += players\n",
    "    \n",
    "    dataframeInverted = dataframe.copy(deep = True)\n",
    "\n",
    "    dataframeInverted['Winner'] = 1\n",
    "    \n",
    "    for f in colToInvert:\n",
    "        dataframeInverted[[f+'A', f+'B']] = dataframeInverted[[f+'B', f+'A']]\n",
    "    \n",
    "    return dataframeInverted"
   ]
  },
  {
   "cell_type": "code",
   "execution_count": 133,
   "metadata": {},
   "outputs": [],
   "source": [
    "dataframeInverted = getInvertedDataFrame(['Player', 'Rank', 'RankFilled', 'Pts', 'PtsFilled', '1', \n",
    "                   '2', '3', '4', '5', 'sets', 'Max', 'Avg', 'Min', 'Other', 'MaxFilled', 'AvgFilled',  'Played',\n",
    "       'WinRatio', 'gamesTourn', 'gamesWRatioTourn',\n",
    "       'setsTourn', 'setsWRatioTourn', 'WonRatioCourt', 'PlayedCourt'])"
   ]
  },
  {
   "cell_type": "code",
   "execution_count": 134,
   "metadata": {},
   "outputs": [
    {
     "data": {
      "text/html": [
       "<div>\n",
       "<style scoped>\n",
       "    .dataframe tbody tr th:only-of-type {\n",
       "        vertical-align: middle;\n",
       "    }\n",
       "\n",
       "    .dataframe tbody tr th {\n",
       "        vertical-align: top;\n",
       "    }\n",
       "\n",
       "    .dataframe thead th {\n",
       "        text-align: right;\n",
       "    }\n",
       "</style>\n",
       "<table border=\"1\" class=\"dataframe\">\n",
       "  <thead>\n",
       "    <tr style=\"text-align: right;\">\n",
       "      <th></th>\n",
       "      <th>Winner</th>\n",
       "      <th>csvID</th>\n",
       "      <th>ATP</th>\n",
       "      <th>Location</th>\n",
       "      <th>Tournament</th>\n",
       "      <th>Date</th>\n",
       "      <th>Series</th>\n",
       "      <th>Round</th>\n",
       "      <th>Best of</th>\n",
       "      <th>PlayerA</th>\n",
       "      <th>...</th>\n",
       "      <th>Kohlschreiber P.A</th>\n",
       "      <th>Kohlschreiber P.B</th>\n",
       "      <th>Simon G.A</th>\n",
       "      <th>Simon G.B</th>\n",
       "      <th>Bautista Agut R.A</th>\n",
       "      <th>Bautista Agut R.B</th>\n",
       "      <th>Verdasco F.A</th>\n",
       "      <th>Verdasco F.B</th>\n",
       "      <th>OtherA</th>\n",
       "      <th>OtherB</th>\n",
       "    </tr>\n",
       "  </thead>\n",
       "  <tbody>\n",
       "    <tr>\n",
       "      <th>0</th>\n",
       "      <td>1</td>\n",
       "      <td>0</td>\n",
       "      <td>1.0</td>\n",
       "      <td>Brisbane</td>\n",
       "      <td>Brisbane International</td>\n",
       "      <td>2010-01-04</td>\n",
       "      <td>0</td>\n",
       "      <td>0</td>\n",
       "      <td>3.0</td>\n",
       "      <td>Nieminen J.</td>\n",
       "      <td>...</td>\n",
       "      <td>0</td>\n",
       "      <td>0</td>\n",
       "      <td>0</td>\n",
       "      <td>0</td>\n",
       "      <td>0</td>\n",
       "      <td>0</td>\n",
       "      <td>0</td>\n",
       "      <td>0</td>\n",
       "      <td>1</td>\n",
       "      <td>0</td>\n",
       "    </tr>\n",
       "    <tr>\n",
       "      <th>1</th>\n",
       "      <td>1</td>\n",
       "      <td>0</td>\n",
       "      <td>1.0</td>\n",
       "      <td>Brisbane</td>\n",
       "      <td>Brisbane International</td>\n",
       "      <td>2010-01-04</td>\n",
       "      <td>0</td>\n",
       "      <td>0</td>\n",
       "      <td>3.0</td>\n",
       "      <td>Clement A.</td>\n",
       "      <td>...</td>\n",
       "      <td>0</td>\n",
       "      <td>0</td>\n",
       "      <td>0</td>\n",
       "      <td>0</td>\n",
       "      <td>0</td>\n",
       "      <td>0</td>\n",
       "      <td>0</td>\n",
       "      <td>0</td>\n",
       "      <td>1</td>\n",
       "      <td>1</td>\n",
       "    </tr>\n",
       "    <tr>\n",
       "      <th>2</th>\n",
       "      <td>1</td>\n",
       "      <td>0</td>\n",
       "      <td>1.0</td>\n",
       "      <td>Brisbane</td>\n",
       "      <td>Brisbane International</td>\n",
       "      <td>2010-01-04</td>\n",
       "      <td>0</td>\n",
       "      <td>0</td>\n",
       "      <td>3.0</td>\n",
       "      <td>Petzschner P.</td>\n",
       "      <td>...</td>\n",
       "      <td>0</td>\n",
       "      <td>0</td>\n",
       "      <td>0</td>\n",
       "      <td>0</td>\n",
       "      <td>0</td>\n",
       "      <td>0</td>\n",
       "      <td>0</td>\n",
       "      <td>0</td>\n",
       "      <td>1</td>\n",
       "      <td>1</td>\n",
       "    </tr>\n",
       "    <tr>\n",
       "      <th>3</th>\n",
       "      <td>1</td>\n",
       "      <td>0</td>\n",
       "      <td>1.0</td>\n",
       "      <td>Brisbane</td>\n",
       "      <td>Brisbane International</td>\n",
       "      <td>2010-01-04</td>\n",
       "      <td>0</td>\n",
       "      <td>0</td>\n",
       "      <td>3.0</td>\n",
       "      <td>Chardy J.</td>\n",
       "      <td>...</td>\n",
       "      <td>0</td>\n",
       "      <td>0</td>\n",
       "      <td>0</td>\n",
       "      <td>0</td>\n",
       "      <td>0</td>\n",
       "      <td>0</td>\n",
       "      <td>0</td>\n",
       "      <td>0</td>\n",
       "      <td>1</td>\n",
       "      <td>1</td>\n",
       "    </tr>\n",
       "    <tr>\n",
       "      <th>4</th>\n",
       "      <td>1</td>\n",
       "      <td>0</td>\n",
       "      <td>1.0</td>\n",
       "      <td>Brisbane</td>\n",
       "      <td>Brisbane International</td>\n",
       "      <td>2010-01-04</td>\n",
       "      <td>0</td>\n",
       "      <td>0</td>\n",
       "      <td>3.0</td>\n",
       "      <td>Llodra M.</td>\n",
       "      <td>...</td>\n",
       "      <td>0</td>\n",
       "      <td>0</td>\n",
       "      <td>0</td>\n",
       "      <td>0</td>\n",
       "      <td>0</td>\n",
       "      <td>0</td>\n",
       "      <td>0</td>\n",
       "      <td>0</td>\n",
       "      <td>1</td>\n",
       "      <td>1</td>\n",
       "    </tr>\n",
       "  </tbody>\n",
       "</table>\n",
       "<p>5 rows × 121 columns</p>\n",
       "</div>"
      ],
      "text/plain": [
       "   Winner  csvID  ATP  Location              Tournament        Date  Series  \\\n",
       "0       1      0  1.0  Brisbane  Brisbane International  2010-01-04       0   \n",
       "1       1      0  1.0  Brisbane  Brisbane International  2010-01-04       0   \n",
       "2       1      0  1.0  Brisbane  Brisbane International  2010-01-04       0   \n",
       "3       1      0  1.0  Brisbane  Brisbane International  2010-01-04       0   \n",
       "4       1      0  1.0  Brisbane  Brisbane International  2010-01-04       0   \n",
       "\n",
       "   Round  Best of        PlayerA  ... Kohlschreiber P.A  Kohlschreiber P.B  \\\n",
       "0      0      3.0    Nieminen J.  ...                 0                  0   \n",
       "1      0      3.0     Clement A.  ...                 0                  0   \n",
       "2      0      3.0  Petzschner P.  ...                 0                  0   \n",
       "3      0      3.0      Chardy J.  ...                 0                  0   \n",
       "4      0      3.0      Llodra M.  ...                 0                  0   \n",
       "\n",
       "   Simon G.A  Simon G.B  Bautista Agut R.A  Bautista Agut R.B  Verdasco F.A  \\\n",
       "0          0          0                  0                  0             0   \n",
       "1          0          0                  0                  0             0   \n",
       "2          0          0                  0                  0             0   \n",
       "3          0          0                  0                  0             0   \n",
       "4          0          0                  0                  0             0   \n",
       "\n",
       "   Verdasco F.B  OtherA  OtherB  \n",
       "0             0       1       0  \n",
       "1             0       1       1  \n",
       "2             0       1       1  \n",
       "3             0       1       1  \n",
       "4             0       1       1  \n",
       "\n",
       "[5 rows x 121 columns]"
      ]
     },
     "execution_count": 134,
     "metadata": {},
     "output_type": "execute_result"
    }
   ],
   "source": [
    "dataframeInverted.head()"
   ]
  },
  {
   "cell_type": "code",
   "execution_count": 135,
   "metadata": {},
   "outputs": [],
   "source": [
    "dataframe = dataframe.append(dataframeInverted, sort = False, ignore_index = True)"
   ]
  },
  {
   "cell_type": "code",
   "execution_count": 136,
   "metadata": {},
   "outputs": [],
   "source": [
    "def sortMatchesByDate ():\n",
    "    dataframe['Index'] = dataframe.index\n",
    "    dataframe.sort_values(['Date','Index'],inplace = True)\n",
    "    dataframe.drop('Index', axis=1, inplace = True)\n",
    "    \n",
    "sortMatchesByDate()"
   ]
  },
  {
   "cell_type": "code",
   "execution_count": 137,
   "metadata": {},
   "outputs": [
    {
     "data": {
      "text/plain": [
       "Index(['Winner', 'csvID', 'ATP', 'Location', 'Tournament', 'Date', 'Series',\n",
       "       'Round', 'Best of', 'PlayerA',\n",
       "       ...\n",
       "       'Kohlschreiber P.A', 'Kohlschreiber P.B', 'Simon G.A', 'Simon G.B',\n",
       "       'Bautista Agut R.A', 'Bautista Agut R.B', 'Verdasco F.A',\n",
       "       'Verdasco F.B', 'OtherA', 'OtherB'],\n",
       "      dtype='object', length=121)"
      ]
     },
     "execution_count": 137,
     "metadata": {},
     "output_type": "execute_result"
    }
   ],
   "source": [
    "dataframe.columns"
   ]
  },
  {
   "cell_type": "code",
   "execution_count": 138,
   "metadata": {},
   "outputs": [
    {
     "ename": "KeyError",
     "evalue": "\"['wonRatio'] not found in axis\"",
     "output_type": "error",
     "traceback": [
      "\u001b[1;31m---------------------------------------------------------------------------\u001b[0m",
      "\u001b[1;31mKeyError\u001b[0m                                  Traceback (most recent call last)",
      "\u001b[1;32m<ipython-input-138-e91995780f10>\u001b[0m in \u001b[0;36m<module>\u001b[1;34m\u001b[0m\n\u001b[0;32m      1\u001b[0m dataframe.drop(['Location', 'Date', 'PlayerA', 'PlayerB', '1A', '1B', '2A', '2B', '3A', '3B', '4A', \n\u001b[0;32m      2\u001b[0m                 \u001b[1;34m'4B'\u001b[0m\u001b[1;33m,\u001b[0m \u001b[1;34m'5A'\u001b[0m\u001b[1;33m,\u001b[0m \u001b[1;34m'5B'\u001b[0m\u001b[1;33m,\u001b[0m \u001b[1;34m'setsA'\u001b[0m\u001b[1;33m,\u001b[0m \u001b[1;34m'setsB'\u001b[0m\u001b[1;33m,\u001b[0m \u001b[1;34m'Awarded'\u001b[0m\u001b[1;33m,\u001b[0m \u001b[1;34m'Completed'\u001b[0m\u001b[1;33m,\u001b[0m\u001b[1;33m\u001b[0m\u001b[1;33m\u001b[0m\u001b[0m\n\u001b[1;32m----> 3\u001b[1;33m        'Disqualified', 'Retired', 'Sched', 'Walkover', 'Tournament', 'wonRatio'], axis = 1, inplace = True)\n\u001b[0m",
      "\u001b[1;32m~\\Anaconda3\\lib\\site-packages\\pandas\\core\\frame.py\u001b[0m in \u001b[0;36mdrop\u001b[1;34m(self, labels, axis, index, columns, level, inplace, errors)\u001b[0m\n\u001b[0;32m   3938\u001b[0m                                            \u001b[0mindex\u001b[0m\u001b[1;33m=\u001b[0m\u001b[0mindex\u001b[0m\u001b[1;33m,\u001b[0m \u001b[0mcolumns\u001b[0m\u001b[1;33m=\u001b[0m\u001b[0mcolumns\u001b[0m\u001b[1;33m,\u001b[0m\u001b[1;33m\u001b[0m\u001b[1;33m\u001b[0m\u001b[0m\n\u001b[0;32m   3939\u001b[0m                                            \u001b[0mlevel\u001b[0m\u001b[1;33m=\u001b[0m\u001b[0mlevel\u001b[0m\u001b[1;33m,\u001b[0m \u001b[0minplace\u001b[0m\u001b[1;33m=\u001b[0m\u001b[0minplace\u001b[0m\u001b[1;33m,\u001b[0m\u001b[1;33m\u001b[0m\u001b[1;33m\u001b[0m\u001b[0m\n\u001b[1;32m-> 3940\u001b[1;33m                                            errors=errors)\n\u001b[0m\u001b[0;32m   3941\u001b[0m \u001b[1;33m\u001b[0m\u001b[0m\n\u001b[0;32m   3942\u001b[0m     @rewrite_axis_style_signature('mapper', [('copy', True),\n",
      "\u001b[1;32m~\\Anaconda3\\lib\\site-packages\\pandas\\core\\generic.py\u001b[0m in \u001b[0;36mdrop\u001b[1;34m(self, labels, axis, index, columns, level, inplace, errors)\u001b[0m\n\u001b[0;32m   3778\u001b[0m         \u001b[1;32mfor\u001b[0m \u001b[0maxis\u001b[0m\u001b[1;33m,\u001b[0m \u001b[0mlabels\u001b[0m \u001b[1;32min\u001b[0m \u001b[0maxes\u001b[0m\u001b[1;33m.\u001b[0m\u001b[0mitems\u001b[0m\u001b[1;33m(\u001b[0m\u001b[1;33m)\u001b[0m\u001b[1;33m:\u001b[0m\u001b[1;33m\u001b[0m\u001b[1;33m\u001b[0m\u001b[0m\n\u001b[0;32m   3779\u001b[0m             \u001b[1;32mif\u001b[0m \u001b[0mlabels\u001b[0m \u001b[1;32mis\u001b[0m \u001b[1;32mnot\u001b[0m \u001b[1;32mNone\u001b[0m\u001b[1;33m:\u001b[0m\u001b[1;33m\u001b[0m\u001b[1;33m\u001b[0m\u001b[0m\n\u001b[1;32m-> 3780\u001b[1;33m                 \u001b[0mobj\u001b[0m \u001b[1;33m=\u001b[0m \u001b[0mobj\u001b[0m\u001b[1;33m.\u001b[0m\u001b[0m_drop_axis\u001b[0m\u001b[1;33m(\u001b[0m\u001b[0mlabels\u001b[0m\u001b[1;33m,\u001b[0m \u001b[0maxis\u001b[0m\u001b[1;33m,\u001b[0m \u001b[0mlevel\u001b[0m\u001b[1;33m=\u001b[0m\u001b[0mlevel\u001b[0m\u001b[1;33m,\u001b[0m \u001b[0merrors\u001b[0m\u001b[1;33m=\u001b[0m\u001b[0merrors\u001b[0m\u001b[1;33m)\u001b[0m\u001b[1;33m\u001b[0m\u001b[1;33m\u001b[0m\u001b[0m\n\u001b[0m\u001b[0;32m   3781\u001b[0m \u001b[1;33m\u001b[0m\u001b[0m\n\u001b[0;32m   3782\u001b[0m         \u001b[1;32mif\u001b[0m \u001b[0minplace\u001b[0m\u001b[1;33m:\u001b[0m\u001b[1;33m\u001b[0m\u001b[1;33m\u001b[0m\u001b[0m\n",
      "\u001b[1;32m~\\Anaconda3\\lib\\site-packages\\pandas\\core\\generic.py\u001b[0m in \u001b[0;36m_drop_axis\u001b[1;34m(self, labels, axis, level, errors)\u001b[0m\n\u001b[0;32m   3810\u001b[0m                 \u001b[0mnew_axis\u001b[0m \u001b[1;33m=\u001b[0m \u001b[0maxis\u001b[0m\u001b[1;33m.\u001b[0m\u001b[0mdrop\u001b[0m\u001b[1;33m(\u001b[0m\u001b[0mlabels\u001b[0m\u001b[1;33m,\u001b[0m \u001b[0mlevel\u001b[0m\u001b[1;33m=\u001b[0m\u001b[0mlevel\u001b[0m\u001b[1;33m,\u001b[0m \u001b[0merrors\u001b[0m\u001b[1;33m=\u001b[0m\u001b[0merrors\u001b[0m\u001b[1;33m)\u001b[0m\u001b[1;33m\u001b[0m\u001b[1;33m\u001b[0m\u001b[0m\n\u001b[0;32m   3811\u001b[0m             \u001b[1;32melse\u001b[0m\u001b[1;33m:\u001b[0m\u001b[1;33m\u001b[0m\u001b[1;33m\u001b[0m\u001b[0m\n\u001b[1;32m-> 3812\u001b[1;33m                 \u001b[0mnew_axis\u001b[0m \u001b[1;33m=\u001b[0m \u001b[0maxis\u001b[0m\u001b[1;33m.\u001b[0m\u001b[0mdrop\u001b[0m\u001b[1;33m(\u001b[0m\u001b[0mlabels\u001b[0m\u001b[1;33m,\u001b[0m \u001b[0merrors\u001b[0m\u001b[1;33m=\u001b[0m\u001b[0merrors\u001b[0m\u001b[1;33m)\u001b[0m\u001b[1;33m\u001b[0m\u001b[1;33m\u001b[0m\u001b[0m\n\u001b[0m\u001b[0;32m   3813\u001b[0m             \u001b[0mresult\u001b[0m \u001b[1;33m=\u001b[0m \u001b[0mself\u001b[0m\u001b[1;33m.\u001b[0m\u001b[0mreindex\u001b[0m\u001b[1;33m(\u001b[0m\u001b[1;33m**\u001b[0m\u001b[1;33m{\u001b[0m\u001b[0maxis_name\u001b[0m\u001b[1;33m:\u001b[0m \u001b[0mnew_axis\u001b[0m\u001b[1;33m}\u001b[0m\u001b[1;33m)\u001b[0m\u001b[1;33m\u001b[0m\u001b[1;33m\u001b[0m\u001b[0m\n\u001b[0;32m   3814\u001b[0m \u001b[1;33m\u001b[0m\u001b[0m\n",
      "\u001b[1;32m~\\Anaconda3\\lib\\site-packages\\pandas\\core\\indexes\\base.py\u001b[0m in \u001b[0;36mdrop\u001b[1;34m(self, labels, errors)\u001b[0m\n\u001b[0;32m   4963\u001b[0m             \u001b[1;32mif\u001b[0m \u001b[0merrors\u001b[0m \u001b[1;33m!=\u001b[0m \u001b[1;34m'ignore'\u001b[0m\u001b[1;33m:\u001b[0m\u001b[1;33m\u001b[0m\u001b[1;33m\u001b[0m\u001b[0m\n\u001b[0;32m   4964\u001b[0m                 raise KeyError(\n\u001b[1;32m-> 4965\u001b[1;33m                     '{} not found in axis'.format(labels[mask]))\n\u001b[0m\u001b[0;32m   4966\u001b[0m             \u001b[0mindexer\u001b[0m \u001b[1;33m=\u001b[0m \u001b[0mindexer\u001b[0m\u001b[1;33m[\u001b[0m\u001b[1;33m~\u001b[0m\u001b[0mmask\u001b[0m\u001b[1;33m]\u001b[0m\u001b[1;33m\u001b[0m\u001b[1;33m\u001b[0m\u001b[0m\n\u001b[0;32m   4967\u001b[0m         \u001b[1;32mreturn\u001b[0m \u001b[0mself\u001b[0m\u001b[1;33m.\u001b[0m\u001b[0mdelete\u001b[0m\u001b[1;33m(\u001b[0m\u001b[0mindexer\u001b[0m\u001b[1;33m)\u001b[0m\u001b[1;33m\u001b[0m\u001b[1;33m\u001b[0m\u001b[0m\n",
      "\u001b[1;31mKeyError\u001b[0m: \"['wonRatio'] not found in axis\""
     ]
    }
   ],
   "source": [
    "dataframe.drop(['Location', 'Date', 'PlayerA', 'PlayerB', '1A', '1B', '2A', '2B', '3A', '3B', '4A', \n",
    "                '4B', '5A', '5B', 'setsA', 'setsB', 'Awarded', 'Completed',\n",
    "       'Disqualified', 'Retired', 'Sched', 'Walkover', 'Tournament', 'wonRatio'], axis = 1, inplace = True)"
   ]
  },
  {
   "cell_type": "code",
   "execution_count": null,
   "metadata": {},
   "outputs": [],
   "source": [
    "dataframe = dataframe.reset_index(drop = True)\n",
    "dataframe.head()"
   ]
  },
  {
   "cell_type": "code",
   "execution_count": null,
   "metadata": {},
   "outputs": [],
   "source": [
    "dataframe.to_csv('./datasets/dataframe03.csv', index = False)"
   ]
  },
  {
   "cell_type": "code",
   "execution_count": null,
   "metadata": {},
   "outputs": [],
   "source": []
  },
  {
   "cell_type": "code",
   "execution_count": null,
   "metadata": {},
   "outputs": [],
   "source": []
  }
 ],
 "metadata": {
  "kernelspec": {
   "display_name": "Python 3",
   "language": "python",
   "name": "python3"
  },
  "language_info": {
   "codemirror_mode": {
    "name": "ipython",
    "version": 3
   },
   "file_extension": ".py",
   "mimetype": "text/x-python",
   "name": "python",
   "nbconvert_exporter": "python",
   "pygments_lexer": "ipython3",
   "version": "3.7.3"
  },
  "latex_envs": {
   "LaTeX_envs_menu_present": true,
   "autoclose": false,
   "autocomplete": true,
   "bibliofile": "biblio.bib",
   "cite_by": "apalike",
   "current_citInitial": 1,
   "eqLabelWithNumbers": true,
   "eqNumInitial": 1,
   "hotkeys": {
    "equation": "Ctrl-E",
    "itemize": "Ctrl-I"
   },
   "labels_anchors": false,
   "latex_user_defs": false,
   "report_style_numbering": false,
   "user_envs_cfg": false
  }
 },
 "nbformat": 4,
 "nbformat_minor": 2
}
