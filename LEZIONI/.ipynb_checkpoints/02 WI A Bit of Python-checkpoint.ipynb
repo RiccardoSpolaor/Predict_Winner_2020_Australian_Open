{
 "cells": [
  {
   "cell_type": "markdown",
   "metadata": {},
   "source": [
    "# Web Intelligence\n",
    "## Python crash course\n",
    "\n",
    "#### Prof. Claudio Lucchese"
   ]
  },
  {
   "cell_type": "markdown",
   "metadata": {},
   "source": [
    "## Books\n",
    "\n",
    " - Learning Python. O'Reilly. Mark Lutz.\n",
    " \n",
    " - advanced notes: https://github.com/satwikkansal/wtfpython\n",
    " \n",
    "## How can I run my Python code ?\n",
    "\n",
    "In this course we use **Jupyter notebooks** as provided by **Anaconda for Python 3.0**\n",
    " - see instructions: https://www.anaconda.com/distribution/\n",
    " - be careful! python 3 and not python 2.7\n",
    "\n",
    "Jupyter notebooks allow \n",
    " - to write slides like this.\n",
    " - to write complex documents interleaving text with programs\n",
    " - it is basically an interactive interpreter accessed via browser\n",
    " \n",
    " \n",
    "Additional tools:\n",
    " - PyCharm by JetBrains https://www.jetbrains.com/pycharm/\n",
    "\n",
    "## Your best friends in learning Python\n",
    "\n",
    "1. The Python website:\n",
    "    - plenty of links to books and tutorials!\n",
    "        - e.g., https://docs.python.org/3/tutorial/\n",
    "0. The official Python documentation:\n",
    "    - https://docs.python.org/3/library/index.html\n",
    "0. Google & StackOverflow:\n",
    "    - try googling for `TypeError: can't multiply sequence by non-int of type 'float'`\n",
    "0. Python Tutor\n",
    "    - visualizes the execution of python code\n",
    "    - http://pythontutor.com/\n",
    "\n",
    "## Who uses python\n",
    "\n",
    " - The popular *YouTube* video sharing service is largely written in Python\n",
    " - The *Dropbox* storage service codes both its server and desktop client software primarily in Python\n",
    " - The widespread *BitTorrent* peer-to-peer file sharing system began its life as a Python program\n",
    " - *Netflix* and *Yelp* have both documented the role of Python in their software infrastructures\n",
    " - *JPMorgan, Chase, UBS, Getco, and Citadel* apply Python to financial market forecasting\n",
    " - *NASA, Los Alamos, Fermilab, JPL*, and others use Python for scientific programming tasks\n",
    " \n",
    " - In \"The Anatomy of a Large-Scale Hypertextual Web Search Engine\" 1998, Google founders describe the Google architecture\n",
    "    - crawlers were written in python !"
   ]
  },
  {
   "cell_type": "markdown",
   "metadata": {},
   "source": [
    "# Python types\n",
    "\n",
    "Python provides the following types:\n",
    "\n",
    "| Object type | Examples |\n",
    "|:-:|:-:|\n",
    "| Numbers | `1234`, `3.1415`, `3+4j`, ... |\n",
    "| Strings | `'spam'`, `\"Bob's\"`, ... |\n",
    "| Lists   | `[1, [2, 'three'], 4.5]`, `list(range(10))`, ... |\n",
    "| Dictionaries | `{'food': 'spam', 'taste': 'yum'}`, `dict(hours=10)`, ... |\n",
    "| Tuples |  `(1, 'spam', 4, 'U')`, `tuple('spam')`, ...|\n",
    "| Files |   `open('eggs.txt')`, `open(r'C:\\ham.bin', 'wb')`, ... |\n",
    "| Sets  | `set('abc')`, `{'a', 'b', 'c'}`, ... |\n",
    "| Other core types | `Booleans`, `None`, ... |\n",
    "\n",
    " - The type of a variable is inferred from the expression.\n",
    " - You can use the function `type` to ask Python which type is being used\n",
    " - The type determines the set of valid operators"
   ]
  },
  {
   "cell_type": "code",
   "execution_count": 1,
   "metadata": {},
   "outputs": [
    {
     "name": "stdout",
     "output_type": "stream",
     "text": [
      "<class 'float'>\n",
      "<class 'float'>\n",
      "<class 'str'>\n"
     ]
    }
   ],
   "source": [
    "a = 2.0\n",
    "print (type(a))\n",
    "a = 7.\n",
    "print (type(a))\n",
    "a = \"Hello!\"\n",
    "print (type(a))"
   ]
  },
  {
   "cell_type": "markdown",
   "metadata": {},
   "source": [
    "# Numbers\n",
    "\n",
    "Check integer vs. floating point division. Type of the results is determined by the operation."
   ]
  },
  {
   "cell_type": "code",
   "execution_count": 1,
   "metadata": {},
   "outputs": [
    {
     "name": "stdout",
     "output_type": "stream",
     "text": [
      "What is the output of 11/2: 5.5\n",
      "What is the output of 11%2: 1\n",
      "What is the output of  2**10: 1024\n"
     ]
    }
   ],
   "source": [
    "print (\"What is the output of 11/2:\", 11/2)\n",
    "print (\"What is the output of 11%2:\", 11%2)\n",
    "print (\"What is the output of  2**10:\", 2**10)"
   ]
  },
  {
   "cell_type": "code",
   "execution_count": 2,
   "metadata": {},
   "outputs": [
    {
     "name": "stdout",
     "output_type": "stream",
     "text": [
      "What is the output of 11//2: 5\n"
     ]
    }
   ],
   "source": [
    "print (\"What is the output of 11//2:\", 11//2)"
   ]
  },
  {
   "cell_type": "markdown",
   "metadata": {},
   "source": [
    "# Strings\n",
    "\n",
    "Check the `*` operation."
   ]
  },
  {
   "cell_type": "code",
   "execution_count": 3,
   "metadata": {},
   "outputs": [
    {
     "name": "stdout",
     "output_type": "stream",
     "text": [
      "What is the output of 'a'+'b': ab\n",
      "What is the output of 'a'=='b': False\n",
      "What is the output of 'a'<='b': True\n",
      "What is the output of 'a'<='A': False\n"
     ]
    }
   ],
   "source": [
    "print (\"What is the output of 'a'+'b':\",  'a'+'b'   )\n",
    "print (\"What is the output of 'a'=='b':\", 'a'=='b'  )\n",
    "print (\"What is the output of 'a'<='b':\", 'a'<='b'  )\n",
    "print (\"What is the output of 'a'<='A':\", 'a'=='A'  )"
   ]
  },
  {
   "cell_type": "code",
   "execution_count": 4,
   "metadata": {},
   "outputs": [
    {
     "name": "stdout",
     "output_type": "stream",
     "text": [
      "What is the output of 'a'*5: aaaaa\n"
     ]
    },
    {
     "ename": "TypeError",
     "evalue": "unsupported operand type(s) for /: 'str' and 'int'",
     "output_type": "error",
     "traceback": [
      "\u001b[1;31m---------------------------------------------------------------------------\u001b[0m",
      "\u001b[1;31mTypeError\u001b[0m                                 Traceback (most recent call last)",
      "\u001b[1;32m<ipython-input-4-2085b61cb8c5>\u001b[0m in \u001b[0;36m<module>\u001b[1;34m\u001b[0m\n\u001b[0;32m      1\u001b[0m \u001b[0mprint\u001b[0m \u001b[1;33m(\u001b[0m\u001b[1;34m\"What is the output of 'a'*5:\"\u001b[0m\u001b[1;33m,\u001b[0m    \u001b[1;34m'a'\u001b[0m\u001b[1;33m*\u001b[0m\u001b[1;36m5\u001b[0m \u001b[1;33m)\u001b[0m\u001b[1;33m\u001b[0m\u001b[1;33m\u001b[0m\u001b[0m\n\u001b[1;32m----> 2\u001b[1;33m \u001b[0mprint\u001b[0m \u001b[1;33m(\u001b[0m\u001b[1;34m\"What is the output of 'aaaa'/5:\"\u001b[0m\u001b[1;33m,\u001b[0m \u001b[1;34m'a'\u001b[0m\u001b[1;33m/\u001b[0m\u001b[1;36m5\u001b[0m \u001b[1;33m)\u001b[0m\u001b[1;33m\u001b[0m\u001b[1;33m\u001b[0m\u001b[0m\n\u001b[0m",
      "\u001b[1;31mTypeError\u001b[0m: unsupported operand type(s) for /: 'str' and 'int'"
     ]
    }
   ],
   "source": [
    "print (\"What is the output of 'a'*5:\",    'a'*5 )\n",
    "print (\"What is the output of 'aaaa'/5:\", 'a'/5 )"
   ]
  },
  {
   "cell_type": "code",
   "execution_count": 5,
   "metadata": {},
   "outputs": [
    {
     "name": "stdout",
     "output_type": "stream",
     "text": [
      "What is the output of int('10')/5: 2.0\n"
     ]
    }
   ],
   "source": [
    "print (\"What is the output of int('10')/5:\", int('10')/5)"
   ]
  },
  {
   "cell_type": "markdown",
   "metadata": {},
   "source": [
    "# Conditional Statements\n",
    "\n",
    "Tabbing is used to identify the body of `if`-`else` and other constructs such as `for`, `while`, `functions`.\n",
    "\n",
    "Check if a variable x is within the interval $[0,10]$."
   ]
  },
  {
   "cell_type": "code",
   "execution_count": 6,
   "metadata": {},
   "outputs": [
    {
     "name": "stdout",
     "output_type": "stream",
     "text": [
      "x is not in the interval [0,10]\n"
     ]
    }
   ],
   "source": [
    "x = 33\n",
    "if x<=10 and x>=0 :\n",
    "    print (\"x is in the interval [0,10]\")\n",
    "    pass # pass does nothing\n",
    "    pass\n",
    "    print (\"I'm here !\")\n",
    "else :\n",
    "    print (\"x is not in the interval [0,10]\")\n",
    "    pass\n",
    "    pass\n"
   ]
  },
  {
   "cell_type": "code",
   "execution_count": 7,
   "metadata": {},
   "outputs": [
    {
     "name": "stdout",
     "output_type": "stream",
     "text": [
      "x is not in the interval [0,10]\n"
     ]
    }
   ],
   "source": [
    "x = 33\n",
    "# This is a special compact form\n",
    "if 0<=x<=10 :\n",
    "    print (\"x is in the interval [0,10]\")\n",
    "else :\n",
    "    print (\"x is not in the interval [0,10]\")"
   ]
  },
  {
   "cell_type": "code",
   "execution_count": 8,
   "metadata": {},
   "outputs": [
    {
     "name": "stdout",
     "output_type": "stream",
     "text": [
      "x is not in the interval [0,10]\n"
     ]
    }
   ],
   "source": [
    "x = 33\n",
    "if 0<=x<=10 : print (\"x is in the interval [0,10]\")\n",
    "else : print (\"x is not in the interval [0,10]\")"
   ]
  },
  {
   "cell_type": "markdown",
   "metadata": {},
   "source": [
    "# While loops\n",
    "\n",
    "Nothing new: `while`, `break` `continue`\n"
   ]
  },
  {
   "cell_type": "code",
   "execution_count": null,
   "metadata": {},
   "outputs": [
    {
     "name": "stdout",
     "output_type": "stream",
     "text": [
      "This is Iteration N. 0\n",
      "This is Iteration N. 1\n",
      "This is Iteration N. 2\n",
      "This is Iteration N. 3\n",
      "This is Iteration N. 4\n"
     ]
    }
   ],
   "source": [
    "i = 0\n",
    "while i<10:\n",
    "    pass\n",
    "    if i==8: break\n",
    "    pass\n",
    "    print (\"This is Iteration N.\", i)\n",
    "    pass\n",
    "    i += 1\n",
    "    pass\n",
    "    pass\n",
    "    if i==5: continue\n",
    "    pass\n",
    "    pass\n"
   ]
  },
  {
   "cell_type": "markdown",
   "metadata": {},
   "source": [
    "# For Loops\n",
    "\n",
    "A `range` is a special tool to create sequences of numbers, given start, end, and step parameters."
   ]
  },
  {
   "cell_type": "code",
   "execution_count": 9,
   "metadata": {},
   "outputs": [
    {
     "name": "stdout",
     "output_type": "stream",
     "text": [
      "This is Iteration N. 0\n",
      "This is Iteration N. 1\n",
      "This is Iteration N. 2\n",
      "This is Iteration N. 3\n",
      "This is Iteration N. 4\n"
     ]
    }
   ],
   "source": [
    "for i in range(5):\n",
    "    print (\"This is Iteration N.\", i)"
   ]
  },
  {
   "cell_type": "code",
   "execution_count": 10,
   "metadata": {},
   "outputs": [
    {
     "name": "stdout",
     "output_type": "stream",
     "text": [
      "This is Iteration N. 0\n",
      "This is Iteration N. 2\n",
      "This is Iteration N. 4\n",
      "This is Iteration N. 6\n",
      "This is Iteration N. 8\n"
     ]
    }
   ],
   "source": [
    "for i in range(0,10,2):\n",
    "    print (\"This is Iteration N.\", i)"
   ]
  },
  {
   "cell_type": "code",
   "execution_count": 11,
   "metadata": {},
   "outputs": [
    {
     "name": "stdout",
     "output_type": "stream",
     "text": [
      "This is Iteration N. 10\n",
      "This is Iteration N. 8\n",
      "This is Iteration N. 6\n",
      "This is Iteration N. 4\n",
      "This is Iteration N. 2\n"
     ]
    }
   ],
   "source": [
    "for i in range(10,0,-2):\n",
    "    print (\"This is Iteration N.\", i)"
   ]
  },
  {
   "cell_type": "code",
   "execution_count": null,
   "metadata": {},
   "outputs": [],
   "source": [
    "print ( range(5) )"
   ]
  },
  {
   "cell_type": "markdown",
   "metadata": {},
   "source": [
    "This is called **iterable**! You can only iterate through it ..."
   ]
  },
  {
   "cell_type": "markdown",
   "metadata": {},
   "source": [
    "# Lists\n",
    "\n",
    "Lists are used very frequently, and they can be dynamically modified."
   ]
  },
  {
   "cell_type": "code",
   "execution_count": 12,
   "metadata": {},
   "outputs": [
    {
     "name": "stdout",
     "output_type": "stream",
     "text": [
      "This is Iteration N. 0\n",
      "This is Iteration N. 1\n",
      "This is Iteration N. 2\n",
      "This is Iteration N. 3\n",
      "This is Iteration N. 4\n"
     ]
    }
   ],
   "source": [
    "for i in [0,1,2,3,4]:\n",
    "    print (\"This is Iteration N.\", i)"
   ]
  },
  {
   "cell_type": "code",
   "execution_count": 13,
   "metadata": {},
   "outputs": [
    {
     "name": "stdout",
     "output_type": "stream",
     "text": [
      "[1, 2, 3, 4, 5]\n"
     ]
    }
   ],
   "source": [
    "my_list = [1,2,3] + [4,5]\n",
    "print (my_list)"
   ]
  },
  {
   "cell_type": "code",
   "execution_count": 14,
   "metadata": {},
   "outputs": [
    {
     "name": "stdout",
     "output_type": "stream",
     "text": [
      "[1, 2, 3, 4, 5]\n"
     ]
    }
   ],
   "source": [
    "my_list = [1,2,3]\n",
    "my_list += [4,5]\n",
    "print (my_list)"
   ]
  },
  {
   "cell_type": "code",
   "execution_count": 15,
   "metadata": {},
   "outputs": [
    {
     "name": "stdout",
     "output_type": "stream",
     "text": [
      "[1, 2, 3, 'donald duck', 42.0]\n"
     ]
    }
   ],
   "source": [
    "my_list = [1,2,3] + [\"donald duck\", 42.0]\n",
    "print (my_list)"
   ]
  },
  {
   "cell_type": "code",
   "execution_count": 16,
   "metadata": {},
   "outputs": [
    {
     "name": "stdout",
     "output_type": "stream",
     "text": [
      "[1, 2, 3, 'donald duck', ['this', 'is', 1, 'nested', 'list']]\n"
     ]
    }
   ],
   "source": [
    "my_list = [1,2,3] + [\"donald duck\", [\"this\", \"is\", 1, \"nested\", \"list\"] ]\n",
    "print (my_list)"
   ]
  },
  {
   "cell_type": "code",
   "execution_count": 17,
   "metadata": {},
   "outputs": [
    {
     "name": "stdout",
     "output_type": "stream",
     "text": [
      "5\n"
     ]
    }
   ],
   "source": [
    "print ( len([1,2,3,4,5]) )"
   ]
  },
  {
   "cell_type": "code",
   "execution_count": 18,
   "metadata": {},
   "outputs": [
    {
     "name": "stdout",
     "output_type": "stream",
     "text": [
      "1\n",
      "5\n"
     ]
    },
    {
     "ename": "IndexError",
     "evalue": "list index out of range",
     "output_type": "error",
     "traceback": [
      "\u001b[1;31m---------------------------------------------------------------------------\u001b[0m",
      "\u001b[1;31mIndexError\u001b[0m                                Traceback (most recent call last)",
      "\u001b[1;32m<ipython-input-18-c8fea6adf933>\u001b[0m in \u001b[0;36m<module>\u001b[1;34m\u001b[0m\n\u001b[0;32m      2\u001b[0m \u001b[0mprint\u001b[0m \u001b[1;33m(\u001b[0m \u001b[0mmy_list\u001b[0m\u001b[1;33m[\u001b[0m\u001b[1;36m0\u001b[0m\u001b[1;33m]\u001b[0m\u001b[1;33m)\u001b[0m\u001b[1;33m\u001b[0m\u001b[1;33m\u001b[0m\u001b[0m\n\u001b[0;32m      3\u001b[0m \u001b[0mprint\u001b[0m \u001b[1;33m(\u001b[0m \u001b[0mmy_list\u001b[0m\u001b[1;33m[\u001b[0m\u001b[1;36m4\u001b[0m\u001b[1;33m]\u001b[0m\u001b[1;33m)\u001b[0m\u001b[1;33m\u001b[0m\u001b[1;33m\u001b[0m\u001b[0m\n\u001b[1;32m----> 4\u001b[1;33m \u001b[0mprint\u001b[0m \u001b[1;33m(\u001b[0m \u001b[0mmy_list\u001b[0m\u001b[1;33m[\u001b[0m\u001b[1;36m5\u001b[0m\u001b[1;33m]\u001b[0m\u001b[1;33m)\u001b[0m\u001b[1;33m\u001b[0m\u001b[1;33m\u001b[0m\u001b[0m\n\u001b[0m",
      "\u001b[1;31mIndexError\u001b[0m: list index out of range"
     ]
    }
   ],
   "source": [
    "my_list = [1,2,3,4,5]\n",
    "print ( my_list[0])\n",
    "print ( my_list[4])\n",
    "print ( my_list[5])"
   ]
  },
  {
   "cell_type": "code",
   "execution_count": 19,
   "metadata": {},
   "outputs": [
    {
     "name": "stdout",
     "output_type": "stream",
     "text": [
      "5\n",
      "4\n"
     ]
    },
    {
     "ename": "IndexError",
     "evalue": "list index out of range",
     "output_type": "error",
     "traceback": [
      "\u001b[1;31m---------------------------------------------------------------------------\u001b[0m",
      "\u001b[1;31mIndexError\u001b[0m                                Traceback (most recent call last)",
      "\u001b[1;32m<ipython-input-19-ac33ff1cbb60>\u001b[0m in \u001b[0;36m<module>\u001b[1;34m\u001b[0m\n\u001b[0;32m      2\u001b[0m \u001b[0mprint\u001b[0m \u001b[1;33m(\u001b[0m \u001b[0mmy_list\u001b[0m\u001b[1;33m[\u001b[0m\u001b[1;33m-\u001b[0m\u001b[1;36m1\u001b[0m\u001b[1;33m]\u001b[0m\u001b[1;33m)\u001b[0m\u001b[1;33m\u001b[0m\u001b[1;33m\u001b[0m\u001b[0m\n\u001b[0;32m      3\u001b[0m \u001b[0mprint\u001b[0m \u001b[1;33m(\u001b[0m \u001b[0mmy_list\u001b[0m\u001b[1;33m[\u001b[0m\u001b[1;33m-\u001b[0m\u001b[1;36m2\u001b[0m\u001b[1;33m]\u001b[0m\u001b[1;33m)\u001b[0m\u001b[1;33m\u001b[0m\u001b[1;33m\u001b[0m\u001b[0m\n\u001b[1;32m----> 4\u001b[1;33m \u001b[0mprint\u001b[0m \u001b[1;33m(\u001b[0m \u001b[0mmy_list\u001b[0m\u001b[1;33m[\u001b[0m\u001b[1;33m-\u001b[0m\u001b[1;36m100\u001b[0m\u001b[1;33m]\u001b[0m\u001b[1;33m)\u001b[0m\u001b[1;33m\u001b[0m\u001b[1;33m\u001b[0m\u001b[0m\n\u001b[0m",
      "\u001b[1;31mIndexError\u001b[0m: list index out of range"
     ]
    }
   ],
   "source": [
    "my_list = [1,2,3,4,5]\n",
    "print ( my_list[-1])\n",
    "print ( my_list[-2])\n",
    "print ( my_list[-100])"
   ]
  },
  {
   "cell_type": "code",
   "execution_count": 20,
   "metadata": {},
   "outputs": [
    {
     "name": "stdout",
     "output_type": "stream",
     "text": [
      "True\n",
      "2\n",
      "0\n"
     ]
    }
   ],
   "source": [
    "my_list = [1,2,3,4,5,4,3,2,1]\n",
    "\n",
    "print ( 3 in my_list)\n",
    "\n",
    "print ( my_list.count(3))\n",
    "\n",
    "print ( my_list.index(1))\n",
    "# print ( my_list.index(33)) # this raises an error"
   ]
  },
  {
   "cell_type": "markdown",
   "metadata": {},
   "source": [
    "# Slicing\n",
    "\n",
    "Slicing allows to access a sublist"
   ]
  },
  {
   "cell_type": "code",
   "execution_count": 21,
   "metadata": {},
   "outputs": [
    {
     "name": "stdout",
     "output_type": "stream",
     "text": [
      "['orange', 'yellow']\n"
     ]
    }
   ],
   "source": [
    "my_list = ['red', 'orange', 'yellow', 'green', 'blue', 'indigo',\n",
    "           'violet']\n",
    "\n",
    "print ( my_list[1:3] ) "
   ]
  },
  {
   "cell_type": "code",
   "execution_count": 22,
   "metadata": {},
   "outputs": [
    {
     "name": "stdout",
     "output_type": "stream",
     "text": [
      "['green', 'blue', 'indigo']\n"
     ]
    }
   ],
   "source": [
    "print ( my_list[3:-1] ) "
   ]
  },
  {
   "cell_type": "code",
   "execution_count": 23,
   "metadata": {},
   "outputs": [
    {
     "name": "stdout",
     "output_type": "stream",
     "text": [
      "['green', 'blue', 'indigo', 'violet']\n"
     ]
    }
   ],
   "source": [
    "print ( my_list[3:] )"
   ]
  },
  {
   "cell_type": "code",
   "execution_count": 24,
   "metadata": {},
   "outputs": [
    {
     "name": "stdout",
     "output_type": "stream",
     "text": [
      "['red', 'yellow', 'blue', 'violet']\n"
     ]
    }
   ],
   "source": [
    "print ( my_list[0:7:2] )"
   ]
  },
  {
   "cell_type": "code",
   "execution_count": 25,
   "metadata": {},
   "outputs": [
    {
     "name": "stdout",
     "output_type": "stream",
     "text": [
      "['red', 'yellow', 'blue', 'violet']\n"
     ]
    }
   ],
   "source": [
    "print ( my_list[0::2] )"
   ]
  },
  {
   "cell_type": "code",
   "execution_count": 26,
   "metadata": {},
   "outputs": [
    {
     "name": "stdout",
     "output_type": "stream",
     "text": [
      "['red', 'yellow', 'blue', 'violet']\n"
     ]
    }
   ],
   "source": [
    "print ( my_list[::2] )"
   ]
  },
  {
   "cell_type": "code",
   "execution_count": 27,
   "metadata": {},
   "outputs": [
    {
     "name": "stdout",
     "output_type": "stream",
     "text": [
      "['violet', 'indigo', 'blue', 'green', 'yellow', 'orange', 'red']\n"
     ]
    }
   ],
   "source": [
    "print ( my_list[::-1] )"
   ]
  },
  {
   "cell_type": "markdown",
   "metadata": {},
   "source": [
    "# Lists are mutable\n",
    "\n",
    "Elements of a list can be replaced. Sublists can be replaced with other sublists."
   ]
  },
  {
   "cell_type": "code",
   "execution_count": null,
   "metadata": {},
   "outputs": [],
   "source": [
    "# original list\n",
    "my_list = ['red', 'orange', 'yellow', 'green', 'blue', 'indigo', 'violet']\n",
    "print (my_list)\n",
    "\n",
    "# modify one element\n",
    "my_list[-2] = 'ultramarine'\n",
    "\n",
    "# the new list\n",
    "print (my_list)"
   ]
  },
  {
   "cell_type": "code",
   "execution_count": 28,
   "metadata": {},
   "outputs": [
    {
     "name": "stdout",
     "output_type": "stream",
     "text": [
      "['red', 'orange', 'yellow', 'green', ['light blue', 'blue', 'dark blue'], 'indigo', 'violet']\n"
     ]
    }
   ],
   "source": [
    "my_list = ['red', 'orange', 'yellow', 'green', 'blue', 'indigo', 'violet']\n",
    "my_list[4] = ['light blue', 'blue', 'dark blue']\n",
    "print (my_list)"
   ]
  },
  {
   "cell_type": "code",
   "execution_count": 29,
   "metadata": {},
   "outputs": [
    {
     "name": "stdout",
     "output_type": "stream",
     "text": [
      "['red', 'orange', 'yellow', 'green', 'light blue', 'blue', 'dark blue', 'indigo', 'violet']\n"
     ]
    }
   ],
   "source": [
    "# here we replace one slice with another slice\n",
    "my_list = ['red', 'orange', 'yellow', 'green', 'blue', 'indigo', 'violet']\n",
    "my_list[4:5] = ['light blue', 'blue', 'dark blue']\n",
    "print (my_list)"
   ]
  },
  {
   "cell_type": "code",
   "execution_count": 30,
   "metadata": {},
   "outputs": [
    {
     "name": "stdout",
     "output_type": "stream",
     "text": [
      "['red', 'orange', 'yellow', 'green', 'blue', 'dark blue', 'darker blue', 'indigo', 'violet']\n"
     ]
    }
   ],
   "source": [
    "# A special case of replacement when start and end index are the same\n",
    "my_list = ['red', 'orange', 'yellow', 'green', 'blue', 'indigo', 'violet']\n",
    "my_list[5:5] = ['dark blue', 'darker blue'] \n",
    "print (my_list)"
   ]
  },
  {
   "cell_type": "code",
   "execution_count": 31,
   "metadata": {},
   "outputs": [
    {
     "name": "stdout",
     "output_type": "stream",
     "text": [
      "['red', 'orange', [], 'green', 'blue', 'indigo', 'violet']\n"
     ]
    }
   ],
   "source": [
    "my_list = ['red', 'orange', 'yellow', 'green', 'blue', 'indigo', 'violet']\n",
    "my_list[2] = []\n",
    "print (my_list)"
   ]
  },
  {
   "cell_type": "code",
   "execution_count": 32,
   "metadata": {},
   "outputs": [
    {
     "name": "stdout",
     "output_type": "stream",
     "text": [
      "['red', 'orange', 'green', 'blue', 'indigo', 'violet']\n"
     ]
    }
   ],
   "source": [
    "my_list = ['red', 'orange', 'yellow', 'green', 'blue', 'indigo', 'violet']\n",
    "my_list[2:3] = []\n",
    "print (my_list)"
   ]
  },
  {
   "cell_type": "code",
   "execution_count": null,
   "metadata": {},
   "outputs": [],
   "source": [
    "my_list = ['red', 'orange', 'yellow', 'green', 'blue', 'indigo', 'violet']\n",
    "\n",
    "print (\"Is orange in the rainbow?\", 'orange' in my_list )\n",
    "\n",
    "print (\"Is brown in the rainbow?\", 'brown' in my_list )\n",
    "\n",
    "print (\"Is it true that cobal is not in the rainbow?\", 'cobalt' not in my_list )"
   ]
  },
  {
   "cell_type": "markdown",
   "metadata": {},
   "source": [
    "# Tuple\n",
    "\n",
    "Like lists, but **immutable**."
   ]
  },
  {
   "cell_type": "code",
   "execution_count": 33,
   "metadata": {},
   "outputs": [
    {
     "name": "stdout",
     "output_type": "stream",
     "text": [
      "(1, 2, 3, 4, 'five')\n",
      "3\n"
     ]
    }
   ],
   "source": [
    "my_tuple = (1,2,3,4, \"five\")\n",
    "\n",
    "print (my_tuple)\n",
    "print (my_tuple[2])"
   ]
  },
  {
   "cell_type": "code",
   "execution_count": 34,
   "metadata": {},
   "outputs": [
    {
     "name": "stdout",
     "output_type": "stream",
     "text": [
      "(1, 2, 3, 4, 'five')\n",
      "3\n"
     ]
    }
   ],
   "source": [
    "my_tuple = (1,2,3) + (4, \"five\")\n",
    "\n",
    "print (my_tuple)\n",
    "print (my_tuple[2])"
   ]
  },
  {
   "cell_type": "code",
   "execution_count": 35,
   "metadata": {},
   "outputs": [
    {
     "ename": "TypeError",
     "evalue": "'tuple' object does not support item assignment",
     "output_type": "error",
     "traceback": [
      "\u001b[1;31m---------------------------------------------------------------------------\u001b[0m",
      "\u001b[1;31mTypeError\u001b[0m                                 Traceback (most recent call last)",
      "\u001b[1;32m<ipython-input-35-b49643ee8aba>\u001b[0m in \u001b[0;36m<module>\u001b[1;34m\u001b[0m\n\u001b[1;32m----> 1\u001b[1;33m \u001b[0mmy_tuple\u001b[0m\u001b[1;33m[\u001b[0m\u001b[1;36m2\u001b[0m\u001b[1;33m]\u001b[0m \u001b[1;33m=\u001b[0m \u001b[1;36m3\u001b[0m\u001b[1;33m\u001b[0m\u001b[1;33m\u001b[0m\u001b[0m\n\u001b[0m",
      "\u001b[1;31mTypeError\u001b[0m: 'tuple' object does not support item assignment"
     ]
    }
   ],
   "source": [
    "my_tuple[2] = 3"
   ]
  },
  {
   "cell_type": "markdown",
   "metadata": {},
   "source": [
    "# Unpacking\n",
    "\n",
    "Multiple assignment, typical of function returning multiple values."
   ]
  },
  {
   "cell_type": "code",
   "execution_count": 36,
   "metadata": {},
   "outputs": [
    {
     "name": "stdout",
     "output_type": "stream",
     "text": [
      "1 2 3\n"
     ]
    }
   ],
   "source": [
    "my_tuple = (1,2,3)\n",
    "a,b,c = my_tuple\n",
    "print (a,b,c)"
   ]
  },
  {
   "cell_type": "code",
   "execution_count": 37,
   "metadata": {},
   "outputs": [
    {
     "name": "stdout",
     "output_type": "stream",
     "text": [
      "1 2 3\n"
     ]
    }
   ],
   "source": [
    "my_list = [1,2,3]\n",
    "a,b,c = my_list\n",
    "print (a,b,c)"
   ]
  },
  {
   "cell_type": "markdown",
   "metadata": {},
   "source": [
    "# Sorting\n",
    "\n",
    "In-place vs. returning a new list."
   ]
  },
  {
   "cell_type": "code",
   "execution_count": null,
   "metadata": {},
   "outputs": [],
   "source": [
    "my_list = [2,3,1]\n",
    "\n",
    "my_list.sort()\n",
    "\n",
    "print (my_list)"
   ]
  },
  {
   "cell_type": "code",
   "execution_count": null,
   "metadata": {},
   "outputs": [],
   "source": [
    "my_list = [2,3,1]\n",
    "\n",
    "new_list = sorted( my_list )\n",
    "\n",
    "print (my_list)\n",
    "print (new_list)"
   ]
  },
  {
   "cell_type": "markdown",
   "metadata": {},
   "source": [
    "# Careful !\n",
    "\n",
    "**Check** in python tutor: http://pythontutor.com/  !"
   ]
  },
  {
   "cell_type": "code",
   "execution_count": 38,
   "metadata": {},
   "outputs": [
    {
     "name": "stdout",
     "output_type": "stream",
     "text": [
      "22 11\n"
     ]
    }
   ],
   "source": [
    "a = 11\n",
    "b = a\n",
    "a = 22\n",
    "print (a,b)"
   ]
  },
  {
   "cell_type": "code",
   "execution_count": 39,
   "metadata": {},
   "outputs": [
    {
     "name": "stdout",
     "output_type": "stream",
     "text": [
      "[22] [22]\n"
     ]
    }
   ],
   "source": [
    "a = [11]\n",
    "b = a\n",
    "a[0] = 22\n",
    "print (a,b)"
   ]
  },
  {
   "cell_type": "code",
   "execution_count": 40,
   "metadata": {},
   "outputs": [
    {
     "name": "stdout",
     "output_type": "stream",
     "text": [
      "[1, 77, 3, 1, 77, 3]\n"
     ]
    }
   ],
   "source": [
    "my_list = [1,2,3]\n",
    "new_list = my_list\n",
    "new_list[1] = 77\n",
    "\n",
    "print ( new_list + my_list)"
   ]
  },
  {
   "cell_type": "code",
   "execution_count": 41,
   "metadata": {},
   "outputs": [
    {
     "name": "stdout",
     "output_type": "stream",
     "text": [
      "[1, 2, 3, 1, 2, 3]\n"
     ]
    }
   ],
   "source": [
    "my_list = [1,2,3] *2\n",
    "print (my_list)"
   ]
  },
  {
   "cell_type": "code",
   "execution_count": 42,
   "metadata": {},
   "outputs": [
    {
     "name": "stdout",
     "output_type": "stream",
     "text": [
      "[[1, 2, 3], [1, 2, 3]]\n"
     ]
    }
   ],
   "source": [
    "my_list = [ [1,2,3] ]*2\n",
    "print (my_list)"
   ]
  },
  {
   "cell_type": "code",
   "execution_count": 43,
   "metadata": {},
   "outputs": [
    {
     "name": "stdout",
     "output_type": "stream",
     "text": [
      "[[1, 2, 3, 4], [1, 2, 3, 4]]\n"
     ]
    }
   ],
   "source": [
    "my_list[0]+= [4]\n",
    "print ( my_list )"
   ]
  },
  {
   "cell_type": "code",
   "execution_count": 44,
   "metadata": {},
   "outputs": [
    {
     "name": "stdout",
     "output_type": "stream",
     "text": [
      "(1, 2, 3, 1, 2, 3, 77)\n"
     ]
    }
   ],
   "source": [
    "my_tuple = (1,2,3)\n",
    "new_tuple = my_tuple\n",
    "my_tuple += tuple([77])\n",
    "\n",
    "print ( new_tuple + my_tuple)"
   ]
  },
  {
   "cell_type": "code",
   "execution_count": 45,
   "metadata": {},
   "outputs": [
    {
     "name": "stdout",
     "output_type": "stream",
     "text": [
      "[22] [11]\n"
     ]
    }
   ],
   "source": [
    "# if you want to actually copy a list\n",
    "a = [11]\n",
    "b = a.copy()\n",
    "a[0] = 22\n",
    "print (a,b)"
   ]
  },
  {
   "cell_type": "code",
   "execution_count": null,
   "metadata": {},
   "outputs": [],
   "source": [
    "a = [11]\n",
    "b = list(a)\n",
    "a[0] = 22\n",
    "print (a,b)"
   ]
  },
  {
   "cell_type": "code",
   "execution_count": null,
   "metadata": {},
   "outputs": [],
   "source": [
    "a = [11]\n",
    "b = a[:]\n",
    "a[0] = 22\n",
    "print (a,b)"
   ]
  },
  {
   "cell_type": "markdown",
   "metadata": {},
   "source": [
    "# Iterating through lists\n",
    "\n",
    "Or through multiple lists."
   ]
  },
  {
   "cell_type": "code",
   "execution_count": null,
   "metadata": {},
   "outputs": [],
   "source": [
    "my_list = [2,3,1]\n",
    "for x in my_list:\n",
    "    print (x)"
   ]
  },
  {
   "cell_type": "code",
   "execution_count": 47,
   "metadata": {},
   "outputs": [
    {
     "name": "stdout",
     "output_type": "stream",
     "text": [
      "0 2\n",
      "1 3\n",
      "2 1\n"
     ]
    }
   ],
   "source": [
    "my_list = [2,3,1]\n",
    "for i,x in enumerate(my_list):\n",
    "    print (i,x)"
   ]
  },
  {
   "cell_type": "code",
   "execution_count": 46,
   "metadata": {},
   "outputs": [
    {
     "name": "stdout",
     "output_type": "stream",
     "text": [
      "(0, 2) <class 'tuple'>\n",
      "(1, 3) <class 'tuple'>\n",
      "(2, 1) <class 'tuple'>\n"
     ]
    }
   ],
   "source": [
    "my_list = [2,3,1]\n",
    "for z in enumerate(my_list):\n",
    "    print (z, type(z))"
   ]
  },
  {
   "cell_type": "code",
   "execution_count": 48,
   "metadata": {},
   "outputs": [
    {
     "name": "stdout",
     "output_type": "stream",
     "text": [
      "2 two\n",
      "3 three\n",
      "1 one\n"
     ]
    }
   ],
   "source": [
    "A = [2,3,1]\n",
    "B = [\"two\", \"three\", \"one\"]\n",
    "for a,b in zip(A,B):\n",
    "    print (a,b)"
   ]
  },
  {
   "cell_type": "markdown",
   "metadata": {},
   "source": [
    "# More about strings\n",
    "\n",
    "Strings are like lists of character, but they are immutable."
   ]
  },
  {
   "cell_type": "code",
   "execution_count": 49,
   "metadata": {},
   "outputs": [],
   "source": [
    "msg = \"I like programming with python!\""
   ]
  },
  {
   "cell_type": "code",
   "execution_count": 50,
   "metadata": {},
   "outputs": [
    {
     "name": "stdout",
     "output_type": "stream",
     "text": [
      "l\n"
     ]
    }
   ],
   "source": [
    "print (msg[2])"
   ]
  },
  {
   "cell_type": "code",
   "execution_count": 51,
   "metadata": {},
   "outputs": [
    {
     "name": "stdout",
     "output_type": "stream",
     "text": [
      "like\n"
     ]
    }
   ],
   "source": [
    "print (msg[2:6])"
   ]
  },
  {
   "cell_type": "code",
   "execution_count": 52,
   "metadata": {},
   "outputs": [
    {
     "ename": "TypeError",
     "evalue": "'str' object does not support item assignment",
     "output_type": "error",
     "traceback": [
      "\u001b[1;31m---------------------------------------------------------------------------\u001b[0m",
      "\u001b[1;31mTypeError\u001b[0m                                 Traceback (most recent call last)",
      "\u001b[1;32m<ipython-input-52-c9f97e302dbf>\u001b[0m in \u001b[0;36m<module>\u001b[1;34m\u001b[0m\n\u001b[1;32m----> 1\u001b[1;33m \u001b[0mmsg\u001b[0m\u001b[1;33m[\u001b[0m\u001b[1;36m3\u001b[0m\u001b[1;33m]\u001b[0m \u001b[1;33m=\u001b[0m \u001b[1;34m\"x\"\u001b[0m\u001b[1;33m\u001b[0m\u001b[1;33m\u001b[0m\u001b[0m\n\u001b[0m",
      "\u001b[1;31mTypeError\u001b[0m: 'str' object does not support item assignment"
     ]
    }
   ],
   "source": [
    "msg[3] = \"x\""
   ]
  },
  {
   "cell_type": "code",
   "execution_count": 53,
   "metadata": {},
   "outputs": [
    {
     "name": "stdout",
     "output_type": "stream",
     "text": [
      "I\n",
      " \n",
      "l\n",
      "i\n",
      "k\n",
      "e\n",
      " \n",
      "p\n",
      "r\n",
      "o\n",
      "g\n",
      "r\n",
      "a\n",
      "m\n",
      "m\n",
      "i\n",
      "n\n",
      "g\n",
      " \n",
      "w\n",
      "i\n",
      "t\n",
      "h\n",
      " \n",
      "p\n",
      "y\n",
      "t\n",
      "h\n",
      "o\n",
      "n\n",
      "!\n"
     ]
    }
   ],
   "source": [
    "for c in msg:\n",
    "    print (c)"
   ]
  },
  {
   "cell_type": "code",
   "execution_count": 54,
   "metadata": {},
   "outputs": [
    {
     "name": "stdout",
     "output_type": "stream",
     "text": [
      "['I', 'like', 'programming', 'with', 'python!']\n"
     ]
    }
   ],
   "source": [
    "print (msg.split())"
   ]
  },
  {
   "cell_type": "code",
   "execution_count": 55,
   "metadata": {},
   "outputs": [
    {
     "name": "stdout",
     "output_type": "stream",
     "text": [
      "['I l', 'ke programm', 'ng w', 'th python!']\n"
     ]
    }
   ],
   "source": [
    "print (msg.split(\"i\"))"
   ]
  },
  {
   "cell_type": "code",
   "execution_count": 58,
   "metadata": {},
   "outputs": [
    {
     "name": "stdout",
     "output_type": "stream",
     "text": [
      "---     A Bit of Python \n",
      "---\n",
      "---A Bit of Python---\n"
     ]
    }
   ],
   "source": [
    "#Remove leading and training whitespaces\n",
    "\n",
    "my_string = \"     A Bit of Python \\n\"\n",
    "\n",
    "print ( \"---\", my_string, \"---\", sep=\"\" )\n",
    "print ( \"---\", my_string.strip(), \"---\", sep=\"\" )"
   ]
  },
  {
   "cell_type": "code",
   "execution_count": 59,
   "metadata": {},
   "outputs": [
    {
     "name": "stdout",
     "output_type": "stream",
     "text": [
      "---!#!#!##!#A Bit of Python?!!???---\n",
      "---!#!#!##!#A Bit of Python?!!---\n",
      "---A Bit of Python---\n"
     ]
    }
   ],
   "source": [
    "# Remove leading and training characters of choice\n",
    "\n",
    "my_string = \"###!#!#!##!#A Bit of Python?!!???##\"\n",
    "\n",
    "print ( \"---\", my_string.strip(\"#\"), \"---\", sep=\"\" )\n",
    "print ( \"---\", my_string.strip(\"#?\"), \"---\", sep=\"\" )\n",
    "print ( \"---\", my_string.strip(\"!?#\"), \"---\", sep=\"\" )"
   ]
  },
  {
   "cell_type": "markdown",
   "metadata": {},
   "source": [
    "# Sets\n",
    "\n",
    "The mathematical notion of set."
   ]
  },
  {
   "cell_type": "code",
   "execution_count": 60,
   "metadata": {},
   "outputs": [
    {
     "name": "stdout",
     "output_type": "stream",
     "text": [
      "{1, 2, 3, 4, 5}\n"
     ]
    }
   ],
   "source": [
    "my_set = set([1,2,3,4,5,4,3,2,1])\n",
    "\n",
    "print (my_set)"
   ]
  },
  {
   "cell_type": "code",
   "execution_count": 61,
   "metadata": {},
   "outputs": [
    {
     "name": "stdout",
     "output_type": "stream",
     "text": [
      "{1, 2, 3, 4, 5}\n"
     ]
    }
   ],
   "source": [
    "A = set([1,2,3])\n",
    "B = set([4,5])\n",
    "C = A | B\n",
    "\n",
    "print (C)"
   ]
  },
  {
   "cell_type": "code",
   "execution_count": 62,
   "metadata": {},
   "outputs": [
    {
     "name": "stdout",
     "output_type": "stream",
     "text": [
      "{3}\n"
     ]
    }
   ],
   "source": [
    "A = set([1,2,3])\n",
    "B = set([3,4,5])\n",
    "C = A & B\n",
    "\n",
    "print (C)"
   ]
  },
  {
   "cell_type": "code",
   "execution_count": 63,
   "metadata": {},
   "outputs": [
    {
     "name": "stdout",
     "output_type": "stream",
     "text": [
      "{1, 2}\n"
     ]
    }
   ],
   "source": [
    "A = set([1,2,3])\n",
    "B = set([3,4,5])\n",
    "C = A - B\n",
    "\n",
    "print (C)"
   ]
  },
  {
   "cell_type": "code",
   "execution_count": 64,
   "metadata": {},
   "outputs": [
    {
     "name": "stdout",
     "output_type": "stream",
     "text": [
      "True\n",
      "True\n"
     ]
    }
   ],
   "source": [
    "A = set([1,2,3])\n",
    "B = set([3,4,5])\n",
    "\n",
    "print (1 in A)\n",
    "print (7 not in A)"
   ]
  },
  {
   "cell_type": "markdown",
   "metadata": {},
   "source": [
    "# Dictionaries\n",
    "\n",
    "A dictionary is a map"
   ]
  },
  {
   "cell_type": "code",
   "execution_count": 65,
   "metadata": {},
   "outputs": [
    {
     "ename": "KeyError",
     "evalue": "0",
     "output_type": "error",
     "traceback": [
      "\u001b[1;31m---------------------------------------------------------------------------\u001b[0m",
      "\u001b[1;31mKeyError\u001b[0m                                  Traceback (most recent call last)",
      "\u001b[1;32m<ipython-input-65-461cf6a5d9f7>\u001b[0m in \u001b[0;36m<module>\u001b[1;34m\u001b[0m\n\u001b[0;32m      2\u001b[0m            7:\"Jul\", 8:\"Aug\", 9:\"Sep\", 10:\"Oct\", 11:\"Nov\", 12:\"Dec\"}\n\u001b[0;32m      3\u001b[0m \u001b[1;33m\u001b[0m\u001b[0m\n\u001b[1;32m----> 4\u001b[1;33m \u001b[0mprint\u001b[0m \u001b[1;33m(\u001b[0m\u001b[0mmy_dict\u001b[0m\u001b[1;33m[\u001b[0m\u001b[1;36m0\u001b[0m\u001b[1;33m]\u001b[0m\u001b[1;33m)\u001b[0m\u001b[1;33m\u001b[0m\u001b[1;33m\u001b[0m\u001b[0m\n\u001b[0m",
      "\u001b[1;31mKeyError\u001b[0m: 0"
     ]
    }
   ],
   "source": [
    "my_dict = {1:\"Jan\", 2:\"Feb\", 3:\"Mar\", 4:\"Apr\", 5:\"May\", 6:\"Jun\",\n",
    "           7:\"Jul\", 8:\"Aug\", 9:\"Sep\", 10:\"Oct\", 11:\"Nov\", 12:\"Dec\"}\n",
    "\n",
    "print (my_dict[0])"
   ]
  },
  {
   "cell_type": "code",
   "execution_count": 66,
   "metadata": {},
   "outputs": [
    {
     "name": "stdout",
     "output_type": "stream",
     "text": [
      "Jan\n",
      "Dec\n"
     ]
    }
   ],
   "source": [
    "my_dict = {1:\"Jan\", 2:\"Feb\", 3:\"Mar\", 4:\"Apr\", 5:\"May\", 6:\"Jun\",\n",
    "           7:\"Jul\", 8:\"Aug\", 9:\"Sep\", 10:\"Oct\", 11:\"Nov\", 12:\"Dec\"}\n",
    "\n",
    "print (my_dict[1])\n",
    "print (my_dict[12])"
   ]
  },
  {
   "cell_type": "code",
   "execution_count": 67,
   "metadata": {},
   "outputs": [
    {
     "name": "stdout",
     "output_type": "stream",
     "text": [
      "{1: 777, 2: 'Feb', 3: 'Mar', 4: 'Apr', 5: 'May', 6: 'Jun', 7: 'Jul', 8: 'Aug', 9: 'Sep', 10: 'Oct', 11: 'Nov'}\n"
     ]
    }
   ],
   "source": [
    "my_dict = {1:\"Jan\", 2:\"Feb\", 3:\"Mar\", 4:\"Apr\", 5:\"May\", 6:\"Jun\",\n",
    "           7:\"Jul\", 8:\"Aug\", 9:\"Sep\", 10:\"Oct\", 11:\"Nov\", 12:\"Dec\"}\n",
    "\n",
    "my_dict[1] = 777\n",
    "del my_dict[12]\n",
    "print (my_dict)"
   ]
  },
  {
   "cell_type": "code",
   "execution_count": 68,
   "metadata": {},
   "outputs": [
    {
     "name": "stdout",
     "output_type": "stream",
     "text": [
      "{1: 777, 2: 'Feb', 3: 'Mar', 4: 'Apr', 5: 'May', 6: 'Jun', 7: 'Jul', 8: 'Aug', 9: 'Sep', 10: 'Oct', 11: 'Nov', 8474: 'claudio'}\n"
     ]
    }
   ],
   "source": [
    "my_dict[8474] = \"claudio\"\n",
    "print (my_dict)"
   ]
  },
  {
   "cell_type": "code",
   "execution_count": 69,
   "metadata": {},
   "outputs": [
    {
     "name": "stdout",
     "output_type": "stream",
     "text": [
      "dict_keys([1, 2, 3, 4, 5, 6, 7, 8, 9, 10, 11, 8474])\n"
     ]
    }
   ],
   "source": [
    "print (my_dict.keys())"
   ]
  },
  {
   "cell_type": "code",
   "execution_count": 70,
   "metadata": {},
   "outputs": [
    {
     "name": "stdout",
     "output_type": "stream",
     "text": [
      "dict_values([777, 'Feb', 'Mar', 'Apr', 'May', 'Jun', 'Jul', 'Aug', 'Sep', 'Oct', 'Nov', 'claudio'])\n"
     ]
    }
   ],
   "source": [
    "print (my_dict.values())"
   ]
  },
  {
   "cell_type": "code",
   "execution_count": 71,
   "metadata": {},
   "outputs": [
    {
     "name": "stdout",
     "output_type": "stream",
     "text": [
      "1\n",
      "2\n",
      "3\n",
      "4\n",
      "5\n",
      "6\n",
      "7\n",
      "8\n",
      "9\n",
      "10\n",
      "11\n",
      "12\n"
     ]
    }
   ],
   "source": [
    "my_dict = {1:\"Jan\", 2:\"Feb\", 3:\"Mar\", 4:\"Apr\", 5:\"May\", 6:\"Jun\",\n",
    "           7:\"Jul\", 8:\"Aug\", 9:\"Sep\", 10:\"Oct\", 11:\"Nov\", 12:\"Dec\"}\n",
    "\n",
    "for k in my_dict:\n",
    "    print (k)"
   ]
  },
  {
   "cell_type": "code",
   "execution_count": 72,
   "metadata": {},
   "outputs": [
    {
     "name": "stdout",
     "output_type": "stream",
     "text": [
      "1 Jan\n",
      "2 Feb\n",
      "3 Mar\n",
      "4 Apr\n",
      "5 May\n",
      "6 Jun\n",
      "7 Jul\n",
      "8 Aug\n",
      "9 Sep\n",
      "10 Oct\n",
      "11 Nov\n",
      "12 Dec\n"
     ]
    }
   ],
   "source": [
    "my_dict = {1:\"Jan\", 2:\"Feb\", 3:\"Mar\", 4:\"Apr\", 5:\"May\", 6:\"Jun\",\n",
    "           7:\"Jul\", 8:\"Aug\", 9:\"Sep\", 10:\"Oct\", 11:\"Nov\", 12:\"Dec\"}\n",
    "\n",
    "for k,v in my_dict.items():\n",
    "    print (k,v)"
   ]
  },
  {
   "cell_type": "markdown",
   "metadata": {},
   "source": [
    "# Comprehensions\n",
    "\n",
    "Creating lists by iterating through other lists."
   ]
  },
  {
   "cell_type": "code",
   "execution_count": 73,
   "metadata": {},
   "outputs": [
    {
     "name": "stdout",
     "output_type": "stream",
     "text": [
      "[0, 1, 4, 9, 16, 25, 36, 49, 64, 81]\n"
     ]
    }
   ],
   "source": [
    "my_list = [x**2 for x in range(10)]\n",
    "print (my_list)"
   ]
  },
  {
   "cell_type": "code",
   "execution_count": 74,
   "metadata": {},
   "outputs": [
    {
     "name": "stdout",
     "output_type": "stream",
     "text": [
      "[0, 4, 16, 36, 64]\n"
     ]
    }
   ],
   "source": [
    "my_list = [x**2 for x in range(10) if x%2==0]\n",
    "print (my_list)"
   ]
  },
  {
   "cell_type": "code",
   "execution_count": 75,
   "metadata": {},
   "outputs": [
    {
     "name": "stdout",
     "output_type": "stream",
     "text": [
      "{0: 0, 2: 4, 4: 16, 6: 36, 8: 64}\n"
     ]
    }
   ],
   "source": [
    "my_dict = {x:x**2 for x in range(10) if x%2==0}\n",
    "print (my_dict)"
   ]
  },
  {
   "cell_type": "markdown",
   "metadata": {},
   "source": [
    "# Functions\n",
    "\n",
    "Do not write code outside functions! \n",
    "\n",
    "Careful when passing lists as parameters.\n",
    "\n",
    "You can return lists, tuples, sets, dictionaries.\n",
    "\n",
    "Get used to move *stable* functions in a separate `module.py`."
   ]
  },
  {
   "cell_type": "code",
   "execution_count": null,
   "metadata": {},
   "outputs": [],
   "source": [
    "def square(x):\n",
    "    return x**2\n",
    "\n",
    "print ( square(3) )"
   ]
  },
  {
   "cell_type": "code",
   "execution_count": 76,
   "metadata": {},
   "outputs": [
    {
     "name": "stdout",
     "output_type": "stream",
     "text": [
      "[1, 2, 4, 8, 16]\n"
     ]
    }
   ],
   "source": [
    "def powers(x,n):\n",
    "    return [ x**i for i in range(n) ]\n",
    "\n",
    "print ( powers(2,5) )"
   ]
  },
  {
   "cell_type": "code",
   "execution_count": 77,
   "metadata": {},
   "outputs": [
    {
     "name": "stdout",
     "output_type": "stream",
     "text": [
      "[1, 2, 4, 8, 16]\n"
     ]
    }
   ],
   "source": [
    "copy_f = powers\n",
    "\n",
    "print ( copy_f(2,5) )"
   ]
  },
  {
   "cell_type": "code",
   "execution_count": 78,
   "metadata": {},
   "outputs": [
    {
     "name": "stdout",
     "output_type": "stream",
     "text": [
      "[1, 3, 9]\n"
     ]
    }
   ],
   "source": [
    "powers_3 = lambda x:powers(x,3)\n",
    "\n",
    "print (powers_3(3))"
   ]
  },
  {
   "cell_type": "code",
   "execution_count": 79,
   "metadata": {},
   "outputs": [
    {
     "name": "stdout",
     "output_type": "stream",
     "text": [
      "[-6, -4, -2, 1, 3, 5]\n",
      "[1, -2, 3, -4, 5, -6]\n"
     ]
    }
   ],
   "source": [
    "a = [1,-2,3,-4,5,-6]\n",
    "\n",
    "print (sorted(a))\n",
    "\n",
    "print (sorted(a, key=lambda x:abs(x)))"
   ]
  },
  {
   "cell_type": "code",
   "execution_count": 80,
   "metadata": {},
   "outputs": [
    {
     "name": "stdout",
     "output_type": "stream",
     "text": [
      "10 11\n"
     ]
    }
   ],
   "source": [
    "def add1(x):\n",
    "    x+=1\n",
    "    return x\n",
    "\n",
    "y = 10\n",
    "z = add1(y)\n",
    "print( y,z )"
   ]
  },
  {
   "cell_type": "code",
   "execution_count": 81,
   "metadata": {},
   "outputs": [
    {
     "name": "stdout",
     "output_type": "stream",
     "text": [
      "[2, 3, 4, 5, 6] [2, 3, 4, 5, 6]\n"
     ]
    }
   ],
   "source": [
    "def add1(x):\n",
    "    for i in range(len(x)):\n",
    "        x[i] = x[i]+1\n",
    "    return x\n",
    "\n",
    "\n",
    "y = [1,2,3,4,5]\n",
    "z = add1(y)\n",
    "print( y,z )"
   ]
  },
  {
   "cell_type": "markdown",
   "metadata": {},
   "source": [
    "# JSON\n",
    "\n",
    "JavaScript Object Notation, very popular in Web APIs."
   ]
  },
  {
   "cell_type": "code",
   "execution_count": 17,
   "metadata": {},
   "outputs": [
    {
     "name": "stdout",
     "output_type": "stream",
     "text": [
      "<class 'str'>\n",
      "{\"key\": 10}\n"
     ]
    }
   ],
   "source": [
    "import json\n",
    "\n",
    "a  = {\"key\": 10}\n",
    "\n",
    "# to string\n",
    "s = json.dumps(a)\n",
    "\n",
    "print (type(s))\n",
    "print (s)\n"
   ]
  },
  {
   "cell_type": "code",
   "execution_count": null,
   "metadata": {},
   "outputs": [],
   "source": [
    "a = json.loads('{\"key\": 10}')\n",
    "\n",
    "print (type(a))\n",
    "print (a)"
   ]
  },
  {
   "cell_type": "markdown",
   "metadata": {},
   "source": [
    "# Files\n",
    "\n",
    "Check how to iterate through a file, and how to run shell commands in Jupyter."
   ]
  },
  {
   "cell_type": "code",
   "execution_count": 85,
   "metadata": {},
   "outputs": [],
   "source": [
    "out_file = open(\"test.txt\", \"w\")\n",
    "out_file.write(\"line 1\\n\")\n",
    "out_file.write(\"line 2\\n\")\n",
    "out_file.close()"
   ]
  },
  {
   "cell_type": "code",
   "execution_count": 18,
   "metadata": {},
   "outputs": [
    {
     "name": "stderr",
     "output_type": "stream",
     "text": [
      "\"cat\" non è riconosciuto come comando interno o esterno,\n",
      " un programma eseguibile o un file batch.\n"
     ]
    }
   ],
   "source": [
    "!cat test.txt"
   ]
  },
  {
   "cell_type": "code",
   "execution_count": 83,
   "metadata": {},
   "outputs": [],
   "source": [
    "out_file = open(\"test.txt\", \"w\")\n",
    "print (\"line 11\", file=out_file)\n",
    "print (\"line 22\", file=out_file)\n",
    "out_file.close()"
   ]
  },
  {
   "cell_type": "code",
   "execution_count": 86,
   "metadata": {},
   "outputs": [
    {
     "name": "stdout",
     "output_type": "stream",
     "text": [
      "line 1\n",
      "\n",
      "line 2\n",
      "\n"
     ]
    }
   ],
   "source": [
    "in_file = open(\"test.txt\", \"r\")\n",
    "line = in_file.readline()\n",
    "print ( line )\n",
    "line = in_file.readline()\n",
    "print ( line )\n",
    "\n",
    "in_file.close()"
   ]
  },
  {
   "cell_type": "code",
   "execution_count": 7,
   "metadata": {},
   "outputs": [
    {
     "name": "stdout",
     "output_type": "stream",
     "text": [
      "line 11\n",
      "\n"
     ]
    }
   ],
   "source": [
    "with open(\"test.txt\", \"r\") as in_file:\n",
    "    line = in_file.readline()\n",
    "    print ( line )"
   ]
  },
  {
   "cell_type": "code",
   "execution_count": 8,
   "metadata": {},
   "outputs": [
    {
     "name": "stdout",
     "output_type": "stream",
     "text": [
      "line 11\n",
      "\n",
      "line 22\n",
      "\n"
     ]
    }
   ],
   "source": [
    "with open(\"test.txt\", \"r\") as in_file:\n",
    "    for line in in_file:\n",
    "        print ( line )"
   ]
  },
  {
   "cell_type": "code",
   "execution_count": 9,
   "metadata": {},
   "outputs": [
    {
     "name": "stdout",
     "output_type": "stream",
     "text": [
      "**line 11\n",
      "** \n",
      "**line 22\n",
      "** \n"
     ]
    }
   ],
   "source": [
    "with open(\"test.txt\", \"r\") as in_file:\n",
    "    for line in in_file:\n",
    "        print ( \"**\" + line + \"** \")"
   ]
  },
  {
   "cell_type": "code",
   "execution_count": 10,
   "metadata": {},
   "outputs": [
    {
     "name": "stdout",
     "output_type": "stream",
     "text": [
      "line 11\n",
      "line 22\n"
     ]
    }
   ],
   "source": [
    "with open(\"test.txt\", \"r\") as in_file:\n",
    "    for line in in_file:\n",
    "        print (line, end=\"\")"
   ]
  },
  {
   "cell_type": "markdown",
   "metadata": {},
   "source": [
    "# JSON"
   ]
  },
  {
   "cell_type": "code",
   "execution_count": null,
   "metadata": {},
   "outputs": [],
   "source": [
    "import json\n",
    "\n",
    "a  = {\"key\": 10}\n",
    "\n",
    "# to string\n",
    "with open(\"test.txt\", \"w\") as out_file:\n",
    "    json.dump(a,out_file)\n",
    "\n",
    "!cat test.txt"
   ]
  },
  {
   "cell_type": "code",
   "execution_count": null,
   "metadata": {},
   "outputs": [],
   "source": [
    "with open(\"test.txt\", \"r\") as in_file:\n",
    "    b = json.load(in_file)\n",
    "    print (type(b))\n",
    "    print (b)"
   ]
  },
  {
   "cell_type": "markdown",
   "metadata": {},
   "source": [
    "# Let's collect some stats from our data\n",
    "\n",
    "I used excel to transform the data file from http://tennis-data.co.uk/alldata.php into a csv file."
   ]
  },
  {
   "cell_type": "code",
   "execution_count": 1,
   "metadata": {},
   "outputs": [
    {
     "name": "stderr",
     "output_type": "stream",
     "text": [
      "\"ls\" non è riconosciuto come comando interno o esterno,\n",
      " un programma eseguibile o un file batch.\n"
     ]
    }
   ],
   "source": [
    "!ls datasets/tennis/"
   ]
  },
  {
   "cell_type": "code",
   "execution_count": 2,
   "metadata": {},
   "outputs": [
    {
     "name": "stderr",
     "output_type": "stream",
     "text": [
      "\"head\" non è riconosciuto come comando interno o esterno,\n",
      " un programma eseguibile o un file batch.\n"
     ]
    }
   ],
   "source": [
    "!head datasets/tennis/2019.csv"
   ]
  },
  {
   "cell_type": "code",
   "execution_count": 2,
   "metadata": {},
   "outputs": [],
   "source": [
    "def load_data(data_file):\n",
    "    # read text lines\n",
    "    raw_lines = []\n",
    "    with open(data_file) as f:\n",
    "        raw_lines = [line.strip() for line in f]\n",
    "    \n",
    "    # extract header\n",
    "    header = raw_lines[0]\n",
    "    fields = header.split(\";\")\n",
    "    \n",
    "    # put data into a \"transposed\" dictionary\n",
    "    data = { c:[] for c in fields }\n",
    "    for line in raw_lines[1:]:\n",
    "        values = line.split(\";\")\n",
    "        for c,v in zip(fields, values):\n",
    "            data[c] += [v]\n",
    "    \n",
    "    return data"
   ]
  },
  {
   "cell_type": "code",
   "execution_count": 3,
   "metadata": {},
   "outputs": [
    {
     "name": "stdout",
     "output_type": "stream",
     "text": [
      "dict_keys(['ATP', 'Location', 'Tournament', 'Date', 'Series', 'Court', 'Surface', 'Round', 'Best of', 'Winner', 'Loser', 'WRank', 'LRank', 'WPts', 'LPts', 'W1', 'L1', 'W2', 'L2', 'W3', 'L3', 'W4', 'L4', 'W5', 'L5', 'Wsets', 'Lsets', 'Comment', 'B365W', 'B365L', 'PSW', 'PSL', 'MaxW', 'MaxL', 'AvgW', 'AvgL'])\n"
     ]
    }
   ],
   "source": [
    "dataset = \"./datasets/tennis/2019.csv\"\n",
    "\n",
    "data = load_data(dataset)\n",
    "print ( data.keys() )"
   ]
  },
  {
   "cell_type": "code",
   "execution_count": null,
   "metadata": {},
   "outputs": [],
   "source": [
    "#print ( data[\"Location\"] )"
   ]
  },
  {
   "cell_type": "markdown",
   "metadata": {},
   "source": [
    "**Todo**: check `csv.reader` and `csv.dictreader`\n",
    " https://docs.python.org/3/library/csv.html."
   ]
  },
  {
   "cell_type": "markdown",
   "metadata": {},
   "source": [
    "## Now Try answering the following questions\n",
    "\n",
    " - What is the number of matches?\n",
    " - List the tournament names\n",
    " - List the player names\n",
    " - List the comments\n",
    " - Find player with most wins\n",
    " \n",
    " \n",
    "*Do not look at the answers below!*"
   ]
  },
  {
   "cell_type": "code",
   "execution_count": 18,
   "metadata": {},
   "outputs": [
    {
     "name": "stdout",
     "output_type": "stream",
     "text": [
      "2234\n"
     ]
    }
   ],
   "source": [
    "print (len(data['ATP']))"
   ]
  },
  {
   "cell_type": "code",
   "execution_count": 17,
   "metadata": {},
   "outputs": [
    {
     "name": "stdout",
     "output_type": "stream",
     "text": [
      "{'ASB Classic', 'Hungarian Open', \"Queen's Club Championships\", 'Brisbane International', 'Antalya Open', 'Suisse Open Gstaad', 'Open 13', 'Geneva Open', 'Rosmalen Grass Court Championships', 'Hall of Fame Championships', 'Sofia Open', 'Open Sud de France', 'ABN AMRO World Tennis Tournament', 'Maharashtra Open', 'Halle Open', 'Abierto Mexicano', 'BNP Paribas Open', 'Sony Ericsson Open', 'SkiStar Swedish Open', 'Open Banco Sabadell ', 'Open de Moselle', 'French Open', 'Croatia Open', 'German Tennis Championships', 'St. Petersburg Open', 'Argentina Open', 'Delray Beach Open', 'Wimbledon', 'Winston-Salem Open at Wake Forest University', 'Citi Open', 'Monte Carlo Masters', \"U.S. Men's Clay Court Championships\", \"Internazionali BNL d'Italia\", 'Western & Southern Financial Group Masters', 'Grand Prix Hassan II', 'Sydney International', 'Cordoba Open', 'Australian Open', 'BMW Open', 'Rogers Masters', 'Rio Open', 'US Open', 'Lyon Open', 'Generali Open', 'New York Open', 'Dubai Tennis Championships', 'Mercedes Cup', 'Millennium Estoril Open', 'Mutua Madrid Open', 'Brasil Open', 'Abierto Mexicano Mifel', 'BB&T Atlanta Open', 'Eastbourne International', 'Qatar Exxon Mobil Open'}\n"
     ]
    }
   ],
   "source": [
    "print (set(data['Tournament']))"
   ]
  },
  {
   "cell_type": "code",
   "execution_count": 15,
   "metadata": {},
   "outputs": [
    {
     "name": "stdout",
     "output_type": "stream",
     "text": [
      "{'Murray A.', 'Altmaier D.', 'Fognini F.', 'Simon G.', 'Bachinger M.', 'Arguello F.', 'Lazarov A.', 'Kadhe A.', 'Delbonis F.', 'Li Z.', 'Garcia-Lopez G.', 'Lamasine T.', 'Djere L.', 'Eubanks C.', 'Berlocq C.', 'Schwartzman D.', 'Federer R.', 'Ramanathan R.', 'Brown D.', 'Ymer E.', 'Gromley C.', 'Kokkinakis T.', 'Verdasco F.', 'Muller A.', 'Gomez L.', 'Mcdonald M.', 'Paire B.', 'Ward J.', 'Bolelli S.', 'Hanfmann Y.', 'Bolt A.', 'Basilashvili N.', 'Jung J.', 'Lestienne C.', 'Cachin P.', 'Giannessi A.', 'Paul T.', 'Krstin P.', 'Otte O.', 'Jarry N.', 'Martin A.', 'Lin J.M.', 'Sugita Y.', 'Ramos-Vinolas A.', 'Galan D.E.', 'Tsitsipas S.', 'Albot R.', 'Koepfer D.', 'Lopez Villasenor G.', 'Thompson J.', 'Torebko P.', 'Weintraub A.', 'Del Potro J.M.', 'Skugor F.', 'Travaglia S.', 'Rublev A.', 'Uchiyama Y.', 'Evans D.', 'Gasquet R.', 'Monteiro T.', 'Coric B.', 'Escobedo E.', 'Mayer L.', 'Zverev M.', 'Kwiatkowski T.S.', 'Dimitrov G.', 'Rubin N.', 'Tiafoe F.', 'Gerasimov E.', 'Munar J.', 'Kubler J.', 'King D.', 'Marterer M.', 'Sock J.', 'Kudla D.', 'Brooksby J.', 'Ofner S.', 'Shapovalov D.', 'Miedler L.', 'Aragone JC', 'Herbert P.H.', 'Haase R.', 'Torpegaard M.', 'Pella G.', 'Fucsovics M.', 'Edmund K.', 'Carreno Busta P.', 'Pospisil V.', 'Raonic M.', 'King K.', 'Andujar P.', 'De Minaur A.', 'Seyboth Wild T.', 'Kuhn N.', 'Arevalo M.', 'Kukushkin M.', 'Auger-Aliassime F.', 'Klahn B.', 'Garin C.', 'Lacko L.', 'Chardy J.', 'Tomic B.', 'Medvedev D.', 'Trungelliti M.', 'Rola B.', 'Kamke T.', 'Maden Y.', 'Majchrzak K.', 'Tipsarevic J.', 'Opelka R.', 'Ruud C.', 'Monfils G.', 'Lopez F.', 'Martinez P.', 'Berdych T.', 'Struff J.L.', 'Krueger M.', 'Huesler M.A.', 'Sarmiento R.', 'Mannarino A.', 'Sousa P.', 'Kyrgios N.', 'Novak D.', 'Ehrat S.', 'Watanuki Y.', 'Laaksonen H.', 'Brands D.', 'Polmans M.', 'Sousa J.', 'Bautista Agut R.', 'Wawrinka S.', 'Jubb P.', 'Celikbilek A.', 'Mahut N.', 'Roumane R.', 'Tsonga J.W.', 'Balazs A.', 'Schnur B.', 'Gunneswaran P.', 'Lenz J.', 'Tseng C.H.', 'Basso A.', 'Popyrin A.', 'Bublik A.', 'Isner J.', 'Norrie C.', 'Goffin D.', 'Svajda Z.', 'Gulbis E.', 'Sakamoto P.', 'Young D.', 'Basic M.', 'Querrey S.', 'Sakharov G.', 'Sandgren T.', 'Sela D.', 'Kirkin E.', 'Vanni L.', 'Harris L.', 'Halys Q.', 'Klizan M.', 'Bagnis F.', 'Clarke J.', 'Troicki V.', 'Donaldson J.', 'Millman J.', 'Nava E.', 'Davidovich Fokina A.', 'Fratangelo B.', 'Lee D.H.', 'Griekspoor T.', 'Kuzmanov D.', 'Arnaboldi A.', 'Dzumhur D.', 'Monteiro J.', 'Johnson S.', 'Darcis S.', 'Gaio F.', 'Copil M.', 'Seppi A.', 'Baghdatis M.', 'Kohlschreiber P.', 'Nishioka Y.', 'Cilic M.', 'Polansky P.', 'Andreozzi G.', 'Coppejans K.', 'Serdarusic N.', 'Thiem D.', 'Ferrer D.', 'Khachanov K.', 'Bedene A.', 'Mmoh M.', 'Anderson K.', 'Donskoy E.', 'Andreev A.', 'Baldi F.', 'Krajinovic F.', 'Giron M.', 'Ebden M.', 'Granollers M.', 'Pouille L.', 'Hurkacz H.', 'Nishikori K.', 'Domingues J.', 'Benchetrit E.', 'Molleker R.', 'Valkusz M.', 'Kecmanovic M.', 'Bemelmans R.', 'Menendez-Maceiras A.', 'Vatutin A.', 'Rosol L.', 'Sinner J.', 'Galovic V.', 'Nagal S.', 'Gray A.', 'Istomin D.', 'Karlovic I.', 'Cecchinato M.', 'Cuevas P.', 'Hoang A.', 'Berankis R.', 'Ymer M.', 'Caruso S.', 'Djokovic N.', 'Barrere G.', 'Giraldo S.', 'Moraing M.', 'Catarina L.', 'Kwon S.W.', 'Gombos N.', 'Moutet C.', 'Ito T.', 'Kovalik J.', 'Duckworth J.', 'Ilkel C.', 'Harrison R.', 'Jaziri M.', 'Sonego L.', 'Viola M.', 'Rodionov J.', 'Berrettini M.', 'Carballes Baena R.', 'Cerundolo F.', 'Zapata Miralles B.', 'Lajovic D.', 'Londero J.I.', 'Stebe C.M.', 'Krawietz K.', 'Statham J.', 'Humbert U.', 'Ivashka I.', 'Stakhovsky S.', 'Zayid M.S.', 'Daniel T.', 'Dutra Silva R.', 'Diez S.', 'Nadal R.', 'Vesely J.', 'Zverev A.', 'Janvier M.', 'De Bakker T.', 'Robredo T.', 'Safwat M.', 'Dellien H.', 'Gojowczyk P.', 'Chung H.', 'Fritz T.', 'Fabbiano T.', 'Lorenzi P.', 'Moroni G.', 'Smyczek T.'}\n"
     ]
    }
   ],
   "source": [
    "print (set(data['Winner']) | set(data['Loser']))"
   ]
  },
  {
   "cell_type": "code",
   "execution_count": 16,
   "metadata": {},
   "outputs": [
    {
     "name": "stdout",
     "output_type": "stream",
     "text": [
      "{'Retired', 'Sched', 'Awarded', 'Completed', 'Walkover'}\n"
     ]
    }
   ],
   "source": [
    "print (set(data['Comment']))"
   ]
  },
  {
   "cell_type": "code",
   "execution_count": 8,
   "metadata": {},
   "outputs": [
    {
     "name": "stdout",
     "output_type": "stream",
     "text": [
      "Medvedev D.: 53\n"
     ]
    }
   ],
   "source": [
    "maximum = 0\n",
    "person = ''\n",
    "for x in set(data['Winner']):\n",
    "    count = data['Winner'].count(x)\n",
    "    if count >= maximum:\n",
    "        maximum = count\n",
    "        person = x\n",
    "print (person + ': ' + str(maximum))"
   ]
  },
  {
   "cell_type": "markdown",
   "metadata": {},
   "source": [
    "## What is the number of matches?"
   ]
  },
  {
   "cell_type": "code",
   "execution_count": null,
   "metadata": {},
   "outputs": [],
   "source": [
    "print ( len(data[\"ATP\"]) )"
   ]
  },
  {
   "cell_type": "markdown",
   "metadata": {},
   "source": [
    "## List the tournament names"
   ]
  },
  {
   "cell_type": "code",
   "execution_count": null,
   "metadata": {},
   "outputs": [],
   "source": [
    "tournament_names = set(data[\"Tournament\"])\n",
    "print ( len(tournament_names) )\n",
    "print (tournament_names)"
   ]
  },
  {
   "cell_type": "markdown",
   "metadata": {},
   "source": [
    "## List the player names"
   ]
  },
  {
   "cell_type": "code",
   "execution_count": null,
   "metadata": {},
   "outputs": [],
   "source": [
    "player_names = set(data[\"Winner\"]) | set(data[\"Loser\"])\n",
    "print ( len(player_names) )\n",
    "print (player_names)"
   ]
  },
  {
   "cell_type": "markdown",
   "metadata": {},
   "source": [
    "## List the comments"
   ]
  },
  {
   "cell_type": "code",
   "execution_count": null,
   "metadata": {},
   "outputs": [],
   "source": [
    "comments = set(data[\"Comment\"])\n",
    "print ( len(comments) )\n",
    "print (comments)"
   ]
  },
  {
   "cell_type": "markdown",
   "metadata": {},
   "source": [
    "## Find player with most wins"
   ]
  },
  {
   "cell_type": "code",
   "execution_count": 4,
   "metadata": {},
   "outputs": [
    {
     "name": "stdout",
     "output_type": "stream",
     "text": [
      "The best playes is Medvedev D. with 53 victories.\n"
     ]
    }
   ],
   "source": [
    "def most_wins(data):\n",
    "    # mapping playes : number of wins\n",
    "    wins = {}\n",
    "    for p in data[\"Winner\"]:\n",
    "        if p not in wins:\n",
    "            wins[p] = 0\n",
    "        wins[p] += 1\n",
    "    \n",
    "    # create a list (#wins, player)\n",
    "    wins = [ (w,p) for p,w in wins.items() ]\n",
    "    best_player = max(wins)\n",
    "    \n",
    "    return best_player\n",
    "    \n",
    "best_wins, best_player = most_wins(data)\n",
    "\n",
    "print ( \"The best playes is\", best_player, \"with\", best_wins, \"victories.\" )"
   ]
  },
  {
   "cell_type": "markdown",
   "metadata": {},
   "source": [
    "## Start thinking and evaluating your baseline strategy !\n",
    "\n",
    "For instance:\n",
    " - how many times the player with the best ranking won the match?\n",
    " - how much would you gain or lose by always betting 1€ on the best ranked player?"
   ]
  },
  {
   "cell_type": "code",
   "execution_count": 1,
   "metadata": {},
   "outputs": [
    {
     "name": "stdout",
     "output_type": "stream",
     "text": [
      "38.00358102059087\n"
     ]
    }
   ],
   "source": [
    "import pandas as pd\n",
    "\n",
    "dataset_file = './datasets/tennis/2019.xlsx'\n",
    "df = pd.read_excel(dataset_file) \n",
    "\n",
    "# QUESTION 1\n",
    "\n",
    "n_rows = (df[df['WRank']>df['LRank']]).shape[0]\n",
    "\n",
    "print(n_rows*100/(df.shape[0]))\n",
    "\n",
    "# QUESTION 2"
   ]
  },
  {
   "cell_type": "code",
   "execution_count": null,
   "metadata": {},
   "outputs": [],
   "source": []
  }
 ],
 "metadata": {
  "kernelspec": {
   "display_name": "Python 3",
   "language": "python",
   "name": "python3"
  },
  "language_info": {
   "codemirror_mode": {
    "name": "ipython",
    "version": 3
   },
   "file_extension": ".py",
   "mimetype": "text/x-python",
   "name": "python",
   "nbconvert_exporter": "python",
   "pygments_lexer": "ipython3",
   "version": "3.7.3"
  },
  "latex_envs": {
   "LaTeX_envs_menu_present": true,
   "autoclose": false,
   "autocomplete": true,
   "bibliofile": "biblio.bib",
   "cite_by": "apalike",
   "current_citInitial": 1,
   "eqLabelWithNumbers": true,
   "eqNumInitial": 1,
   "hotkeys": {
    "equation": "Ctrl-E",
    "itemize": "Ctrl-I"
   },
   "labels_anchors": false,
   "latex_user_defs": false,
   "report_style_numbering": false,
   "user_envs_cfg": false
  }
 },
 "nbformat": 4,
 "nbformat_minor": 2
}
