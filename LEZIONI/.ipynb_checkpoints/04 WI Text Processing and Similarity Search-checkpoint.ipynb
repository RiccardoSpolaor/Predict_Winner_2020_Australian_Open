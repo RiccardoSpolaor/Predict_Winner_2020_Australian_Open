{
 "cells": [
  {
   "cell_type": "markdown",
   "metadata": {},
   "source": [
    "# Web Intelligence\n",
    "# Text Processing and Similarity Search\n",
    "\n",
    "#### Prof. Claudio Lucchese"
   ]
  },
  {
   "cell_type": "markdown",
   "metadata": {},
   "source": [
    "## Similarity search\n",
    "\n",
    "Similarity search is a fundamental task in Web and Data Mining. It's a building block for:\n",
    " - **Plagiarism Detection**. Consider newly published document that may infringe copyrights, including images and videos.\n",
    " - **Mirror Pages**. Crawled pages from a search engines may have 40% mirror pages.\n",
    " - **Recommendation Systems**. On-line purchases, Movies, Hotels, Restaurants, ...\n",
    " - **Person identification**. Personal devices, security monitoring, ..."
   ]
  },
  {
   "cell_type": "markdown",
   "metadata": {},
   "source": [
    "## Similarity Search in text"
   ]
  },
  {
   "cell_type": "markdown",
   "metadata": {},
   "source": [
    "Data source:\n",
    "    https://www.kaggle.com/mousehead/songlyrics\n",
    "\n",
    "**Task:\n",
    "Find the most similar song to \"Pink\" by Aerosmith**\n"
   ]
  },
  {
   "cell_type": "code",
   "execution_count": 1,
   "metadata": {},
   "outputs": [],
   "source": [
    "songs_file = \"datasets/lyrics/songdata.csv\""
   ]
  },
  {
   "cell_type": "code",
   "execution_count": null,
   "metadata": {},
   "outputs": [],
   "source": [
    "#linux only\n",
    "!head {songs_file}"
   ]
  },
  {
   "cell_type": "code",
   "execution_count": 2,
   "metadata": {
    "scrolled": false
   },
   "outputs": [
    {
     "name": "stdout",
     "output_type": "stream",
     "text": [
      "artist : ABBA\n",
      "song : Ahe's My Kind Of Girl\n",
      "link : /a/abba/ahes+my+kind+of+girl_20598417.html\n",
      "text : Look at her face, it's a wonderful face  \n",
      "And it means something special to me  \n",
      "Look at the way that she smiles when she sees me  \n",
      "How lucky can one fellow be?  \n",
      "  \n",
      "She's just my kind of girl, she makes me feel fine  \n",
      "Who could ever believe that she could be mine?  \n",
      "She's just my kind of girl, without her I'm blue  \n",
      "And if she ever leaves me what could I do, what could I do?  \n",
      "  \n",
      "And when we go for a walk in the park  \n",
      "And she holds me and squeezes my hand  \n",
      "We'll go on walking for hours and talking  \n",
      "About all the things that we plan  \n",
      "  \n",
      "She's just my kind of girl, she makes me feel fine  \n",
      "Who could ever believe that she could be mine?  \n",
      "She's just my kind of girl, without her I'm blue  \n",
      "And if she ever leaves me what could I do, what could I do?\n",
      "\n",
      "\n",
      "artist : ABBA\n",
      "song : Andante, Andante\n",
      "link : /a/abba/andante+andante_20002708.html\n",
      "text : Take it easy with me, please  \n",
      "Touch me gently like a summer evening breeze  \n",
      "Take your time, make it slow  \n",
      "Andante, Andante  \n",
      "Just let the feeling grow  \n",
      "  \n",
      "Make your fingers soft and light  \n",
      "Let your body be the velvet of the night  \n",
      "Touch my soul, you know how  \n",
      "Andante, Andante  \n",
      "Go slowly with me now  \n",
      "  \n",
      "I'm your music  \n",
      "(I am your music and I am your song)  \n",
      "I'm your song  \n",
      "(I am your music and I am your song)  \n",
      "Play me time and time again and make me strong  \n",
      "(Play me again 'cause you're making me strong)  \n",
      "Make me sing, make me sound  \n",
      "(You make me sing and you make me)  \n",
      "Andante, Andante  \n",
      "Tread lightly on my ground  \n",
      "Andante, Andante  \n",
      "Oh please don't let me down  \n",
      "  \n",
      "There's a shimmer in your eyes  \n",
      "Like the feeling of a thousand butterflies  \n",
      "Please don't talk, go on, play  \n",
      "Andante, Andante  \n",
      "And let me float away  \n",
      "  \n",
      "I'm your music  \n",
      "(I am your music and I am your song)  \n",
      "I'm your song  \n",
      "(I am your music and I am your song)  \n",
      "Play me time and time again and make me strong  \n",
      "(Play me again 'cause you're making me strong)  \n",
      "Make me sing, make me sound  \n",
      "(You make me sing and you make me)  \n",
      "Andante, Andante  \n",
      "Tread lightly on my ground  \n",
      "Andante, Andante  \n",
      "Oh please don't let me down  \n",
      "  \n",
      "Make me sing, make me sound  \n",
      "(You make me sing and you make me)  \n",
      "Andante, Andante  \n",
      "Tread lightly on my ground  \n",
      "Andante, Andante  \n",
      "Oh please don't let me down  \n",
      "Andante, Andante  \n",
      "Oh please don't let me down\n",
      "\n",
      "\n",
      "artist : ABBA\n",
      "song : As Good As New\n",
      "link : /a/abba/as+good+as+new_20003033.html\n",
      "text : I'll never know why I had to go  \n",
      "Why I had to put up such a lousy rotten show  \n",
      "Boy, I was tough, packing all my stuff  \n",
      "Saying I don't need you anymore, I've had enough  \n",
      "And now, look at me standing here again 'cause I found out that  \n",
      "Ma ma ma ma ma ma ma ma ma ma ma ma ma ma ma ma my life is here  \n",
      "Gotta have you near  \n",
      "  \n",
      "As good as new, my love for you  \n",
      "And keeping it that way is my intention  \n",
      "As good as new and growing too  \n",
      "Yes, I think it's taking on a new dimension  \n",
      "It's as good as new, my love for you  \n",
      "Just like it used to be and even better  \n",
      "As good as new, thank God it's true  \n",
      "Darling, we were always meant to stay together  \n",
      "  \n",
      "Feel like a creep, never felt so cheap  \n",
      "Never had a notion that my love could be so deep  \n",
      "How could I make such a dumb mistake  \n",
      "Now I know I'm not entitled to another break  \n",
      "But please, baby, I beg you to forgive 'cause I found out that  \n",
      "Ma ma ma ma ma ma ma ma ma ma ma ma ma ma ma ma my life is here  \n",
      "Gotta get you near  \n",
      "  \n",
      "I thought that our love was at an end but here I am again  \n",
      "  \n",
      "As good as new, my love for you  \n",
      "And keeping it that way is my intention  \n",
      "As good as new and growing too  \n",
      "Yes, I think it's taking on a new dimension  \n",
      "It's as good as new, my love for you  \n",
      "Just like it used to be and even better  \n",
      "As good as new, thank God it's true  \n",
      "Darling, we were always meant to stay together  \n",
      "  \n",
      "Yes the love I have for you feels as good as new  \n",
      "Darling, we were always meant to stay together\n",
      "\n",
      "\n",
      "artist : ABBA\n",
      "song : Bang\n",
      "link : /a/abba/bang_20598415.html\n",
      "text : Making somebody happy is a question of give and take  \n",
      "You can learn how to show it so come on, give yourself a break  \n",
      "Every smile and every little touch  \n",
      "Don't you know that they mean so much  \n",
      "Sweet sweet kisses so tender  \n",
      "Always will return to sender  \n",
      "  \n",
      "Like a bang, a boom-a-boomerang  \n",
      "Dum-be-dum-dum be-dum-be-dum-dum  \n",
      "Oh bang, a boom-a-boomerang  \n",
      "Love is a tune you hum-de-hum-hum  \n",
      "So give it away, I think you'll learn  \n",
      "You'll get love in return  \n",
      "So bang, a boom-a-boomerang is love  \n",
      "A boom-a-boomerang is love  \n",
      "  \n",
      "Love is always around and you can look for it anywhere  \n",
      "When you feel that you've found it my advice is to take good care  \n",
      "Never use it as a selfish tool  \n",
      "Never ever be such a fool  \n",
      "Every feeling you're showing  \n",
      "Is a boomerang you're throwing  \n",
      "  \n",
      "Yes a bang, a boom-a-boomerang  \n",
      "Dum-be-dum-dum be-dum-be-dum-dum  \n",
      "Oh bang, a boom-a-boomerang  \n",
      "Love is a tune you hum-de-hum-hum  \n",
      "So give it away, I think you'll learn  \n",
      "You'll get love in return  \n",
      "So bang, a boom-a-boomerang is love  \n",
      "  \n",
      "And if you're warm and tender  \n",
      "I'll kiss you, return to sender  \n",
      "Please surrender  \n",
      "  \n",
      "Bang, a boom-a-boomerang  \n",
      "Dum-be-dum-dum be-dum-be-dum-dum  \n",
      "Oh bang, a boom-a-boomerang is love  \n",
      "A boom-a-boomerang is love\n",
      "\n",
      "\n",
      "artist : ABBA\n",
      "song : Bang-A-Boomerang\n",
      "link : /a/abba/bang+a+boomerang_20002668.html\n",
      "text : Making somebody happy is a question of give and take  \n",
      "You can learn how to show it so come on, give yourself a break  \n",
      "Every smile and every little touch  \n",
      "Don't you know that they mean so much  \n",
      "Sweet sweet kisses so tender  \n",
      "Always will return to sender  \n",
      "  \n",
      "Like a bang, a boom-a-boomerang  \n",
      "Dumb-be-dumb-dumb be-dumb-be-dumb-dumb  \n",
      "Oh bang, a boom-a-boomerang  \n",
      "Love is a tune you hum-de-hum-hum  \n",
      "By giving away, I think you'll learn  \n",
      "You'll get love in return  \n",
      "So bang, a boom-a-boomerang is love  \n",
      "A boom-a-boomerang is love  \n",
      "  \n",
      "Love is always around and you can look for it anywhere  \n",
      "When you feel that you've found it my advice is to take good care  \n",
      "Never use it as a selfish tool  \n",
      "Never ever be such a fool  \n",
      "Every feeling you're showing  \n",
      "Is a boomerang you're throwing  \n",
      "  \n",
      "Yes a bang, a boom-a-boomerang  \n",
      "Dumb-be-dumb-dumb be-dumb-be-dumb-dumb  \n",
      "Oh bang, a boom-a-boomerang  \n",
      "Love is a tune you hum-de-hum-hum  \n",
      "By giving away, I think you'll learn  \n",
      "You'll get love in return  \n",
      "So bang, a boom-a-boomerang is love  \n",
      "  \n",
      "And if you're warm and tender  \n",
      "I'll kiss you, return to sender  \n",
      "Please surrender  \n",
      "  \n",
      "Bang, a boom-a-boomerang  \n",
      "Dumb-be-dumb-dumb be-dumb-be-dumb-dumb  \n",
      "Oh bang, a boom-a-boomerang is love  \n",
      "A boom-a-boomerang is love\n",
      "\n",
      "\n",
      "artist : ABBA\n",
      "song : Burning My Bridges\n",
      "link : /a/abba/burning+my+bridges_20003011.html\n",
      "text : Well, you hoot and you holler and you make me mad  \n",
      "And I've always been under your heel  \n",
      "Holy christ what a lousy deal  \n",
      "Now I'm sick and tired of your tedious ways  \n",
      "And I ain't gonna take it no more  \n",
      "Oh no no - walkin' out that door  \n",
      "  \n",
      "Burning my bridges, cutting my tie  \n",
      "Once again I wanna look into the eye  \n",
      "Being myself  \n",
      "Counting my pride  \n",
      "No un-right neighbour's gonna take me for a ride  \n",
      "Burning my bridges  \n",
      "Moving at last  \n",
      "Girl I'm leaving and I'm burying the past  \n",
      "Gonna have peace now  \n",
      "You can be free  \n",
      "No one here will make a sucker out of me\n",
      "\n",
      "\n",
      "artist : ABBA\n",
      "song : Cassandra\n",
      "link : /a/abba/cassandra_20002811.html\n",
      "text : Down in the street they're all singing and shouting  \n",
      "Staying alive though the city is dead  \n",
      "Hiding their shame behind hollow laughter  \n",
      "While you are crying alone on your bed  \n",
      "  \n",
      "Pity Cassandra that no one believed you  \n",
      "But then again you were lost from the start  \n",
      "Now we must suffer and sell our secrets  \n",
      "Bargain, playing smart, aching in our hearts  \n",
      "  \n",
      "Sorry Cassandra I misunderstood  \n",
      "Now the last day is dawning  \n",
      "Some of us wanted but none of us would  \n",
      "Listen to words of warning  \n",
      "But on the darkest of nights  \n",
      "Nobody knew how to fight  \n",
      "And we were caught in our sleep  \n",
      "Sorry Cassandra I didn't believe  \n",
      "You really had the power  \n",
      "I only saw it as dreams you would weave  \n",
      "Until the final hour  \n",
      "  \n",
      "So in the morning your ship will be sailing  \n",
      "Now that your father and sister are gone  \n",
      "There is no reason for you to linger  \n",
      "You're grieving deeply but still moving on  \n",
      "  \n",
      "You know the future is casting a shadow  \n",
      "No one else sees it but you know your fate  \n",
      "Packing your bags, being slow and thorough  \n",
      "Knowing, though you're late, that ship is sure to wait  \n",
      "  \n",
      "Sorry Cassandra I misunderstood  \n",
      "Now the last day is dawning  \n",
      "Some of us wanted but none of us would  \n",
      "Listen to words of warning  \n",
      "But on the darkest of nights  \n",
      "Nobody knew how to fight  \n",
      "And we were caught in our sleep  \n",
      "Sorry Cassandra I didn't believe  \n",
      "You really had the power  \n",
      "I only saw it as dreams you would weave  \n",
      "Until the final hour  \n",
      "  \n",
      "I watched the ship leaving harbor at sunrise  \n",
      "Sails almost slack in the cool morning rain  \n",
      "She stood on deck, just a tiny figure  \n",
      "Rigid and restrained, blue eyes filled with pain  \n",
      "  \n",
      "Sorry Cassandra I misunderstood  \n",
      "Now the last day is dawning  \n",
      "Some of us wanted but none of us would  \n",
      "Listen to words of warning  \n",
      "But on the darkest of nights  \n",
      "Nobody knew how to fight  \n",
      "And we were caught in our sleep  \n",
      "Sorry Cassandra I didn't believe  \n",
      "You really had the power  \n",
      "I only saw it as dreams you would weave  \n",
      "Until the final hour  \n",
      "  \n",
      "I'm sorry Cassandra  \n",
      "I'm sorry Cassandra\n",
      "\n",
      "\n",
      "artist : ABBA\n",
      "song : Chiquitita\n",
      "link : /a/abba/chiquitita_20002978.html\n",
      "text : Chiquitita, tell me what's wrong  \n",
      "You're enchained by your own sorrow  \n",
      "In your eyes there is no hope for tomorrow  \n",
      "How I hate to see you like this  \n",
      "There is no way you can deny it  \n",
      "I can see that you're oh so sad, so quiet  \n",
      "  \n",
      "Chiquitita, tell me the truth  \n",
      "I'm a shoulder you can cry on  \n",
      "Your best friend, I'm the one you must rely on  \n",
      "You were always sure of yourself  \n",
      "Now I see you've broken a feather  \n",
      "I hope we can patch it up together  \n",
      "  \n",
      "Chiquitita, you and I know  \n",
      "How the heartaches come and they go and the scars they're leaving  \n",
      "You'll be dancing once again and the pain will end  \n",
      "You will have no time for grieving  \n",
      "Chiquitita, you and I cry  \n",
      "But the sun is still in the sky and shining above you  \n",
      "Let me hear you sing once more like you did before  \n",
      "Sing a new song, Chiquitita  \n",
      "Try once more like you did before  \n",
      "Sing a new song, Chiquitita  \n",
      "  \n",
      "So the walls came tumbling down  \n",
      "And your love's a blown out candle  \n",
      "All is gone and it seems too hard to handle  \n",
      "Chiquitita, tell me the truth  \n",
      "There is no way you can deny it  \n",
      "I see that you're oh so sad, so quiet  \n",
      "  \n",
      "Chiquitita, you and I know  \n",
      "How the heartaches come and they go and the scars they're leaving  \n",
      "You'll be dancing once again and the pain will end  \n",
      "You will have no time for grieving  \n",
      "Chiquitita, you and I cry  \n",
      "But the sun is still in the sky and shining above you  \n",
      "Let me hear you sing once more like you did before  \n",
      "Sing a new song, Chiquitita  \n",
      "Try once more like you did before  \n",
      "Sing a new song, Chiquitita  \n",
      "Try once more like you did before  \n",
      "Sing a new song, Chiquitita\n",
      "\n",
      "\n",
      "artist : ABBA\n",
      "song : Crazy World\n",
      "link : /a/abba/crazy+world_20003013.html\n",
      "text : I was out with the morning sun  \n",
      "Couldn't sleep, so I thought I'd take a walk  \n",
      "I was thinking of you and me  \n",
      "And I went to your house, 'cause I had to talk  \n",
      "  \n",
      "I could hardly believe my eyes  \n",
      "When I saw this guy closing your front door  \n",
      "Had the feeling of emptiness like I never had before  \n",
      "And I closed my eyes, will you leave me girl  \n",
      "  \n",
      "Then I realized, it's a crazy world  \n",
      "As he disapeared in his car  \n",
      "I was stunned and I didn't know what to do  \n",
      "Everything I had ever dreamed  \n",
      "  \n",
      "Everything in my life's part of you  \n",
      "And I just couldn't move my feet  \n",
      "So I stood on the pavement as you came out  \n",
      "You acted as you didn't know what it was all about  \n",
      "  \n",
      "And I closed my eyes, will you leave me girl  \n",
      "Then I realized, it's a crazy world  \n",
      "Baby, how could you do it  \n",
      "You just told me lies  \n",
      "  \n",
      "And you meet behind my back  \n",
      "With other guys  \n",
      "Baby, how could you tell me  \n",
      "There was only me  \n",
      "  \n",
      "I was stupid to believe you  \n",
      "I was blind but now I see  \n",
      "Then you smiled and you took my hand  \n",
      "\"There is something\", you said, \"that you may not know  \n",
      "  \n",
      "There's a couple of men in my life  \n",
      "And one of them is my brother Joe  \n",
      "He's been gone for a long, long time  \n",
      "But he's back and I think he's gonna stay  \n",
      "  \n",
      "You'll be seeing a lot of him, he's so nice in every way\"  \n",
      "Then I closed my eyes, never leave me girl  \n",
      "Then I realized, it's a crazy world  \n",
      "So I closed my eyes, never leave me girl  \n",
      "  \n",
      "Then I realized, it's a crazy world  \n",
      "So I closed my eyes, never leave me girl  \n",
      "Then I realized, it's a crazy world\n",
      "\n",
      "\n",
      "artist : ABBA\n",
      "song : Crying Over You\n",
      "link : /a/abba/crying+over+you_20177611.html\n",
      "text : I'm waitin' for you baby  \n",
      "I'm sitting all alone  \n",
      "I feel so cold without you  \n",
      "It chills me to the bone  \n",
      "I never thought you'd leave me  \n",
      "But now I know it's true  \n",
      "Oh Lord I'm blue  \n",
      "I'm cryin' over you  \n",
      "I'm waitin' for you baby  \n",
      "I'm sittin' all alone  \n",
      "I feel so cold without you  \n",
      "It chills me to the bone  \n",
      "I never thought you'd leave me  \n",
      "But now I know it's true  \n",
      "Oh Lord I'm blue  \n",
      "I'm cryin' over you  \n",
      "  \n",
      "Cryin' over you  \n",
      "I'm cryin' over you  \n",
      "Cryin' over  \n",
      "Little memories of things we used to do  \n",
      "Oh Lord I'm blue  \n",
      "I'm cryin' over you  \n",
      "Oh Lord I'm blue  \n",
      "I'm cryin' over you  \n",
      "Oh Lord I'm blue  \n",
      "I'm cryin' over you\n",
      "\n",
      "\n"
     ]
    }
   ],
   "source": [
    "# Tentative: read the first 10 lines and inspect the content\n",
    "\n",
    "import csv\n",
    "# see DickReader https://docs.python.org/3/library/csv.html\n",
    "\n",
    "with open(songs_file, newline='') as f:\n",
    "    reader = csv.DictReader(f)\n",
    "    for i,row in enumerate(reader):\n",
    "        if i==10:break\n",
    "        for k,v in row.items():\n",
    "            print (k,\":\",v)"
   ]
  },
  {
   "cell_type": "markdown",
   "metadata": {},
   "source": [
    "### Load all dataset in memory\n",
    "\n",
    "**Disclaimer**: in the following we limit the number of songs to make sure we have enough memory and reasonable running times. It's clear that \n",
    "**the more songs the more interesting the result**."
   ]
  },
  {
   "cell_type": "code",
   "execution_count": 6,
   "metadata": {},
   "outputs": [
    {
     "name": "stdout",
     "output_type": "stream",
     "text": [
      "artist: ABBA\n",
      "title: Andante, Andante\n",
      "lyrics: Take it easy with me, please  \n",
      "Touch me gently like a summer evening breeze  \n",
      "Take your time, make it slow  \n",
      "Andante, Andante  \n",
      "Just let the feeling grow  \n",
      "  \n",
      "Make your fingers soft and light  \n",
      "Let your body be the velvet of the night  \n",
      "Touch my soul, you know how  \n",
      "Andante, Andante  \n",
      "Go slowly with me now  \n",
      "  \n",
      "I'm your music  \n",
      "(I am your music and I am your song)  \n",
      "I'm your song  \n",
      "(I am your music and I am your song)  \n",
      "Play me time and time again and make me strong  \n",
      "(Play me again 'cause you're making me strong)  \n",
      "Make me sing, make me sound  \n",
      "(You make me sing and you make me)  \n",
      "Andante, Andante  \n",
      "Tread lightly on my ground  \n",
      "Andante, Andante  \n",
      "Oh please don't let me down  \n",
      "  \n",
      "There's a shimmer in your eyes  \n",
      "Like the feeling of a thousand butterflies  \n",
      "Please don't talk, go on, play  \n",
      "Andante, Andante  \n",
      "And let me float away  \n",
      "  \n",
      "I'm your music  \n",
      "(I am your music and I am your song)  \n",
      "I'm your song  \n",
      "(I am your music and I am your song)  \n",
      "Play me time and time again and make me strong  \n",
      "(Play me again 'cause you're making me strong)  \n",
      "Make me sing, make me sound  \n",
      "(You make me sing and you make me)  \n",
      "Andante, Andante  \n",
      "Tread lightly on my ground  \n",
      "Andante, Andante  \n",
      "Oh please don't let me down  \n",
      "  \n",
      "Make me sing, make me sound  \n",
      "(You make me sing and you make me)  \n",
      "Andante, Andante  \n",
      "Tread lightly on my ground  \n",
      "Andante, Andante  \n",
      "Oh please don't let me down  \n",
      "Andante, Andante  \n",
      "Oh please don't let me down\n",
      "\n",
      "\n"
     ]
    }
   ],
   "source": [
    "def load_data(filename, max_songs = 5000):\n",
    "    rows = []\n",
    "\n",
    "    with open(filename, newline='') as f:\n",
    "        reader = csv.DictReader(f)\n",
    "        for row in reader:\n",
    "            rows += [ [x for x in row.values()] ]\n",
    "            if len(rows)>=max_songs:\n",
    "                break\n",
    "    return rows\n",
    "\n",
    "raw_dataset = load_data(songs_file)\n",
    "\n",
    "print (\"artist:\", raw_dataset[1][0])\n",
    "print (\"title:\",  raw_dataset[1][1])\n",
    "print (\"lyrics:\", raw_dataset[1][-1])"
   ]
  },
  {
   "cell_type": "markdown",
   "metadata": {},
   "source": [
    "#### Search for \"Pink\" by Aerosmith\n",
    "\n",
    "Try with another song of your choice."
   ]
  },
  {
   "cell_type": "code",
   "execution_count": 7,
   "metadata": {},
   "outputs": [
    {
     "name": "stdout",
     "output_type": "stream",
     "text": [
      "183 Aerosmith Pink\n",
      "780 Ariana Grande Pink Champagne\n",
      "2126 Cake Pretty Pink Ribbon\n"
     ]
    }
   ],
   "source": [
    "for i,row in enumerate(raw_dataset):\n",
    "    if \"Pink\" in row[1]:\n",
    "        print(i,row[0],row[1])"
   ]
  },
  {
   "cell_type": "code",
   "execution_count": 8,
   "metadata": {},
   "outputs": [
    {
     "name": "stdout",
     "output_type": "stream",
     "text": [
      "Pink, it's my new obsession, yeah  \n",
      "Pink, it's not even a question  \n",
      "Pink, on the lips of your lover  \n",
      "'Cause pink is the love you discover  \n",
      "Pink, as the bing on your cherry  \n",
      "Pink, 'cause you are so very  \n",
      "Pink, it's the color of passion  \n",
      "  \n",
      "'Cause today it just goes with the fashion  \n",
      "Pink, it was love at first sight  \n",
      "Yeah pink, when I turn out the light  \n",
      "And pink gets me high as a kite  \n",
      "And I think everything is going to be alright  \n",
      "No matter what we do tonight  \n",
      "  \n",
      "You could be my flamingo  \n",
      "'Cause pink, it's a new kinda lingo  \n",
      "Pink, like a deco umbrella  \n",
      "Ffff, it's kink that you don't ever tell her  \n",
      "Yeah, pink, it was love at first sight  \n",
      "Then pink when I turn out the light  \n",
      "Yeah, pink gets me high as a kite  \n",
      "And I think everything is going to be alright  \n",
      "No matter what we do tonight  \n",
      "  \n",
      "Yeah,  \n",
      "I, want to be your lover  \n",
      "Ffff, I I wanna wrap you in rubber  \n",
      "And it's pink as the sheets that we lay on  \n",
      "'Cause pink, It's my favorite crayon  \n",
      "  \n",
      "Yeah  \n",
      "Pink, it was love at first sight, yeah  \n",
      "Pink, when I turn out the light  \n",
      "Yeah pink, it's like red but not quite  \n",
      "And I think everything is going to be alright  \n",
      "No matter what we do tonight\n",
      "\n",
      "\n"
     ]
    }
   ],
   "source": [
    "print (raw_dataset[183][-1])"
   ]
  },
  {
   "cell_type": "code",
   "execution_count": 9,
   "metadata": {},
   "outputs": [
    {
     "name": "stdout",
     "output_type": "stream",
     "text": [
      "183 Aerosmith Pink\n",
      "780 Ariana Grande Pink Champagne\n",
      "2126 Cake Pretty Pink Ribbon\n"
     ]
    }
   ],
   "source": [
    "for i,(a,t,u,l) in enumerate(raw_dataset):\n",
    "    if \"Pink\" in t:\n",
    "        print(i,a,t)"
   ]
  },
  {
   "cell_type": "code",
   "execution_count": 10,
   "metadata": {},
   "outputs": [],
   "source": [
    "# This is the query song\n",
    "query_id = 183\n",
    "skip = [] # if any, put covers here !"
   ]
  },
  {
   "cell_type": "code",
   "execution_count": 11,
   "metadata": {},
   "outputs": [
    {
     "name": "stdout",
     "output_type": "stream",
     "text": [
      "Pink, it's my new obsession, yeah  \n",
      "Pink, it's not even a question  \n",
      "Pink, on the lips of your lover  \n",
      "'Cause pink is the love you discover  \n",
      "Pink, as the bing on your cherry  \n",
      "Pink, 'cause you are so very  \n",
      "Pink, it's the color of passion  \n",
      "  \n",
      "'Cause today it just goes with the fashion  \n",
      "Pink, it was love at first sight  \n",
      "Yeah pink, when I turn out the light  \n",
      "And pink gets me high as a kite  \n",
      "And I think everything is going to be alright  \n",
      "No matter what we do tonight  \n",
      "  \n",
      "You could be my flamingo  \n",
      "'Cause pink, it's a new kinda lingo  \n",
      "Pink, like a deco umbrella  \n",
      "Ffff, it's kink that you don't ever tell her  \n",
      "Yeah, pink, it was love at first sight  \n",
      "Then pink when I turn out the light  \n",
      "Yeah, pink gets me high as a kite  \n",
      "And I think everything is going to be alright  \n",
      "No matter what we do tonight  \n",
      "  \n",
      "Yeah,  \n",
      "I, want to be your lover  \n",
      "Ffff, I I wanna wrap you in rubber  \n",
      "And it's pink as the sheets that we lay on  \n",
      "'Cause pink, It's my favorite crayon  \n",
      "  \n",
      "Yeah  \n",
      "Pink, it was love at first sight, yeah  \n",
      "Pink, when I turn out the light  \n",
      "Yeah pink, it's like red but not quite  \n",
      "And I think everything is going to be alright  \n",
      "No matter what we do tonight\n",
      "\n",
      "\n"
     ]
    }
   ],
   "source": [
    "print ( raw_dataset[query_id][-1])"
   ]
  },
  {
   "cell_type": "markdown",
   "metadata": {},
   "source": [
    "## How to find the most similar song?\n",
    "\n",
    "We need two ingredients:\n",
    " - define what is a song?\n",
    " - define when two songs are similar\n",
    " \n",
    "better:\n",
    " - define a **representation** for the song\n",
    " - define a **similarity** function \n",
    "\n",
    "\n",
    "Representation and similarity are two key ingredients in several data mining tasks, e.g., collaborative filtering, clustering, etc. Beyond the limitations of the example below, you should first design a suitable similarity function, and then find a good representation to implement such similarity function."
   ]
  },
  {
   "cell_type": "markdown",
   "metadata": {},
   "source": [
    "## Option 1\n",
    "\n",
    " - A song is a **set of words**\n",
    " - Similarity is given by the **number of shared words**"
   ]
  },
  {
   "cell_type": "markdown",
   "metadata": {},
   "source": [
    "#### Compute the set of words of each song"
   ]
  },
  {
   "cell_type": "code",
   "execution_count": 12,
   "metadata": {},
   "outputs": [
    {
     "name": "stdout",
     "output_type": "stream",
     "text": [
      "ABBA Ahe's My Kind Of Girl\n"
     ]
    }
   ],
   "source": [
    "print (raw_dataset[0][0], raw_dataset[0][1])"
   ]
  },
  {
   "cell_type": "code",
   "execution_count": 13,
   "metadata": {},
   "outputs": [
    {
     "name": "stdout",
     "output_type": "stream",
     "text": [
      "Look at her face, it's a wonderful face  \n",
      "And it means something special to me  \n",
      "Look at the way that she smiles when she sees me  \n",
      "How lucky can one fellow be?  \n",
      "  \n",
      "She's just my kind of girl, she makes me feel fine  \n",
      "Who could ever believe that she could be mine?  \n",
      "She's just my kind of girl, without her I'm blue  \n",
      "And if she ever leaves me what could I do, what could I do?  \n",
      "  \n",
      "And when we go for a walk in the park  \n",
      "And she holds me and squeezes my hand  \n",
      "We'll go on walking for hours and talking  \n",
      "About all the things that we plan  \n",
      "  \n",
      "She's just my kind of girl, she makes me feel fine  \n",
      "Who could ever believe that she could be mine?  \n",
      "She's just my kind of girl, without her I'm blue  \n",
      "And if she ever leaves me what could I do, what could I do?\n",
      "\n",
      "\n"
     ]
    }
   ],
   "source": [
    "print (raw_dataset[0][-1])"
   ]
  },
  {
   "cell_type": "code",
   "execution_count": 14,
   "metadata": {},
   "outputs": [
    {
     "name": "stdout",
     "output_type": "stream",
     "text": [
      "{\"it's\", 'on', 'wonderful', 'things', 'what', 'plan', 'when', 'fellow', \"We'll\", 'it', 'feel', 'blue', 'leaves', 'at', 'that', 'talking', 'to', 'if', 'without', 'holds', 'Look', 'face', 'of', 'can', 'hours', 'her', 'smiles', 'face,', 'kind', 'mine?', 'could', 'ever', 'me', 'walk', 'squeezes', 'walking', 'she', 'for', 'one', 'the', \"She's\", 'all', 'we', 'a', 'go', 'How', 'just', 'do?', 'in', 'fine', 'do,', 'means', 'Who', 'girl,', 'believe', 'park', 'About', 'my', 'I', 'and', 'hand', 'something', 'way', 'special', 'be', 'lucky', 'And', 'be?', \"I'm\", 'sees', 'makes'}\n"
     ]
    }
   ],
   "source": [
    "# Python allows sets !\n",
    "print ( set(raw_dataset[0][-1].split()) )"
   ]
  },
  {
   "cell_type": "code",
   "execution_count": 15,
   "metadata": {},
   "outputs": [
    {
     "name": "stdout",
     "output_type": "stream",
     "text": [
      "[{\"it's\", 'on', 'wonderful', 'things', 'what', 'plan', 'when', 'fellow', \"We'll\", 'it', 'feel', 'blue', 'leaves', 'at', 'that', 'talking', 'to', 'if', 'without', 'holds', 'Look', 'face', 'of', 'can', 'hours', 'her', 'smiles', 'face,', 'kind', 'mine?', 'could', 'ever', 'me', 'walk', 'squeezes', 'walking', 'she', 'for', 'one', 'the', \"She's\", 'all', 'we', 'a', 'go', 'How', 'just', 'do?', 'in', 'fine', 'do,', 'means', 'Who', 'girl,', 'believe', 'park', 'About', 'my', 'I', 'and', 'hand', 'something', 'way', 'special', 'be', 'lucky', 'And', 'be?', \"I'm\", 'sees', 'makes'}, {'on', 'eyes', 'Like', 'it', 'your', 'make', 'me)', 'night', 'butterflies', 'slow', 'know', 'strong)', 'time,', 'Let', 'down', \"don't\", \"There's\", 'a', 'float', 'my', '(You', 'Andante', 'like', 'summer', 'song', 'me,', 'now', 'how', 'fingers', 'am', 'again', 'of', 'gently', 'Take', 'the', 'let', 'talk,', 'body', 'away', 'grow', 'time', 'Play', 'ground', 'I', 'music', 'be', 'strong', 'And', '(I', 'shimmer', 'feeling', 'play', 'Go', 'you', 'me', 'easy', 'velvet', 'lightly', 'Tread', 'slowly', 'Oh', 'Just', 'evening', 'making', \"'cause\", '(Play', 'sound', \"you're\", \"I'm\", 'light', 'soul,', 'Andante,', 'please', 'with', 'sing', 'on,', 'thousand', 'song)', 'go', 'Make', 'in', 'and', 'Touch', 'Please', 'breeze', 'soft', 'sing,'}]\n"
     ]
    }
   ],
   "source": [
    "def get_words (songs):\n",
    "    songs_words = []\n",
    "    for s in songs:\n",
    "        lyrics = s[-1]         # this is a string\n",
    "        words = lyrics.split() # this is a list\n",
    "        words = set(words)     # create a set\n",
    "        songs_words += [words] # append words to the list\n",
    "    return songs_words\n",
    "\n",
    "\n",
    "lyrics_word_split = get_words(raw_dataset)\n",
    "\n",
    "print ( lyrics_word_split[0:2] )"
   ]
  },
  {
   "cell_type": "code",
   "execution_count": null,
   "metadata": {},
   "outputs": [],
   "source": []
  },
  {
   "cell_type": "code",
   "execution_count": 16,
   "metadata": {},
   "outputs": [
    {
     "name": "stdout",
     "output_type": "stream",
     "text": [
      "{\"it's\", 'on', 'wonderful', 'things', 'what', 'plan', 'when', 'fellow', \"We'll\", 'it', 'feel', 'blue', 'leaves', 'at', 'that', 'talking', 'to', 'if', 'without', 'holds', 'Look', 'face', 'of', 'can', 'hours', 'her', 'smiles', 'face,', 'kind', 'mine?', 'could', 'ever', 'me', 'walk', 'squeezes', 'walking', 'she', 'for', 'one', 'the', \"She's\", 'all', 'we', 'a', 'go', 'How', 'just', 'do?', 'in', 'fine', 'do,', 'means', 'Who', 'girl,', 'believe', 'park', 'About', 'my', 'I', 'and', 'hand', 'something', 'way', 'special', 'be', 'lucky', 'And', 'be?', \"I'm\", 'sees', 'makes'}\n"
     ]
    }
   ],
   "source": [
    "# As above, but in one line\n",
    "def get_words (songs):\n",
    "    return [ set(s[-1].split()) for s in songs ]\n",
    "\n",
    "lyrics_word_split = get_words(raw_dataset)\n",
    "\n",
    "print ( lyrics_word_split[0] )"
   ]
  },
  {
   "cell_type": "code",
   "execution_count": null,
   "metadata": {},
   "outputs": [],
   "source": []
  },
  {
   "cell_type": "code",
   "execution_count": 17,
   "metadata": {},
   "outputs": [
    {
     "name": "stdout",
     "output_type": "stream",
     "text": [
      "{'on', 'yeah', 'passion', 'Yeah', 'pink,', 'what', 'going', 'but', \"'Cause\", 'it', 'fashion', 'sight', 'to', 'your', 'is', 'want', 'flamingo', 'today', 'No', 'not', \"don't\", 'umbrella', 'lay', 'we', 'a', 'wrap', 'gets', 'just', 'discover', 'as', 'think', 'my', 'like', 'Then', 'favorite', 'sight,', \"it's\", 'You', 'bing', 'kite', 'of', 'cherry', 'could', 'obsession,', 'the', 'pink', 'out', 'I', 'turn', 'be', 'wanna', 'Ffff,', 'lover', 'question', 'high', 'And', 'alright', 'Pink,', 'goes', 'even', 'quite', \"It's\", 'you', 'me', 'red', 'crayon', 'lips', 'very', 'kink', 'color', 'was', \"'cause\", 'kinda', 'lingo', 'love', 'when', 'light', 'rubber', 'matter', 'at', 'that', 'do', 'deco', 'with', 'her', 'Yeah,', 'tell', 'so', 'are', 'ever', 'everything', 'sheets', 'in', 'first', 'tonight', 'I,', 'new'}\n"
     ]
    }
   ],
   "source": [
    "print (lyrics_word_split[query_id])"
   ]
  },
  {
   "cell_type": "markdown",
   "metadata": {},
   "source": [
    "#### Find the most similar"
   ]
  },
  {
   "cell_type": "code",
   "execution_count": 18,
   "metadata": {},
   "outputs": [
    {
     "name": "stdout",
     "output_type": "stream",
     "text": [
      "{\"it's\", 'on', 'what', 'when', 'it', 'at', 'that', 'to', 'of', 'her', 'could', 'ever', 'me', 'the', 'we', 'a', 'just', 'in', 'my', 'I', 'be', 'And'}\n"
     ]
    }
   ],
   "source": [
    "# Test similarity\n",
    "print ( lyrics_word_split[0] & lyrics_word_split[query_id])"
   ]
  },
  {
   "cell_type": "code",
   "execution_count": 19,
   "metadata": {},
   "outputs": [
    {
     "name": "stdout",
     "output_type": "stream",
     "text": [
      "22\n"
     ]
    }
   ],
   "source": [
    "print ( len(lyrics_word_split[0] & lyrics_word_split[query_id]) )"
   ]
  },
  {
   "cell_type": "code",
   "execution_count": 20,
   "metadata": {
    "scrolled": false
   },
   "outputs": [
    {
     "name": "stdout",
     "output_type": "stream",
     "text": [
      "Most similar song is: 151\n",
      "Similarity is: 45\n",
      "Artist: Aerosmith\n",
      "Title: Fever\n",
      "Lyrics: I got a rip in my shoes  \n",
      "And a hole in my brand new shoes  \n",
      "I got a Margarita nose  \n",
      "And a breath full of Mad Dog Booze  \n",
      "I got the fever, fever, fever, fever  \n",
      "Yeah, they threw me outta jail  \n",
      "I tell ya it ain't fair  \n",
      "I tried to kiss the judge  \n",
      "From the electrica' chair  \n",
      "Yeah we're all here  \n",
      "'Cause we're not all there tonight  \n",
      "The guitar's cranked  \n",
      "And the bass man's blown a fuse  \n",
      "And when the whole gang bangs  \n",
      "Then what is your excuse?  \n",
      "I got the fever, fever, fever, fever  \n",
      "Fever gives you lust with an appetite  \n",
      "It hits you like the fangs  \n",
      "From a rattlesnake bite  \n",
      "Yeah we're all here  \n",
      "'Cause we're not all there tonight  \n",
      "We can't run away from trouble  \n",
      "There ain't no place that far  \n",
      "But if we do it right at the speed of light  \n",
      "There's the backseat of my car - caviar  \n",
      "I was feelin' so high I forgot what day  \n",
      "Now I'm feeling low down  \n",
      "Even slow feels way to fast  \n",
      "And now the booze don't work  \n",
      "'Cause the drugs ran out of gas  \n",
      "I got the fever, fever, fever, fever  \n",
      "The buzz that you're gettin'  \n",
      "From the crack don't last  \n",
      "I'd rather be O.D.in' on the crack of her ass  \n",
      "Yeah we're all here  \n",
      "'Cause we're not all there tonight  \n",
      "My first time ever lover  \n",
      "We fell asleep out on the lawn  \n",
      "And when I woke up I was all alone  \n",
      "Making love to the crack of dawn  \n",
      "So yo, I beg yo pardon sir  \n",
      "The gangster of love rides again  \n",
      "You know I gotta chill  \n",
      "It gimme such a thrill  \n",
      "Like a burnin' plague  \n",
      "Yeah get outta my way  \n",
      "Fever may be Hell and a cross to bear  \n",
      "As long as I'm in heaven, honey I don't care  \n",
      "You look so good baby, look so fine  \n",
      "I tell you you're the image of a perfect crime  \n",
      "You get so tired holdin' on so tight  \n",
      "If you think you're goin' crazy  \n",
      "Well you may be right  \n",
      "Yeah we're all here  \n",
      "'Cause we're not all there tonight\n",
      "\n",
      "\n"
     ]
    }
   ],
   "source": [
    "def most_similar_by_words(s, songs, skip_list):\n",
    "    most_similar = None\n",
    "    largest_similarity = 0.0\n",
    "    \n",
    "    for s_id, s_text in enumerate(songs):\n",
    "        \n",
    "        if s_id == query_id: continue\n",
    "        if s_id in skip_list: continue\n",
    "        \n",
    "        # compute number of common words\n",
    "        sim = len(s_text & songs[s])      \n",
    "\n",
    "        if sim>=largest_similarity:\n",
    "            most_similar = s_id\n",
    "            largest_similarity = sim\n",
    "    \n",
    "    return most_similar, largest_similarity\n",
    "\n",
    "sim_id, sim_value = most_similar_by_words(query_id, lyrics_word_split, skip)\n",
    "\n",
    "print (\"Most similar song is:\", sim_id)\n",
    "print (\"Similarity is:\", sim_value)\n",
    "print (\"Artist:\", raw_dataset[sim_id][0])\n",
    "print (\"Title:\", raw_dataset[sim_id][1])\n",
    "print (\"Lyrics:\", raw_dataset[sim_id][-1])"
   ]
  },
  {
   "cell_type": "markdown",
   "metadata": {},
   "source": [
    "Can we do it in one line of code?"
   ]
  },
  {
   "cell_type": "code",
   "execution_count": 25,
   "metadata": {},
   "outputs": [
    {
     "name": "stdout",
     "output_type": "stream",
     "text": [
      "3\n",
      "(2, 2)\n",
      "[0, 1, 4, 9, 16, 25, 36, 49, 64, 81]\n"
     ]
    }
   ],
   "source": [
    "# a small check\n",
    "print ( max([1,2,3]) )\n",
    "print ( max([(2,1),(2,2),(1,3)]) )\n",
    "\n",
    "#List comprehensions\n",
    "#Prima metto espressione e poi un'iterazione\n",
    "nuova_l = [i**2 for i in range(10)]\n",
    "print (nuova_l)"
   ]
  },
  {
   "cell_type": "code",
   "execution_count": 26,
   "metadata": {
    "scrolled": false
   },
   "outputs": [
    {
     "name": "stdout",
     "output_type": "stream",
     "text": [
      "Most similar song is: 151\n",
      "Similarity is: 45\n",
      "Artist: Aerosmith\n",
      "Title: Fever\n",
      "Lyrics: I got a rip in my shoes  \n",
      "And a hole in my brand new shoes  \n",
      "I got a Margarita nose  \n",
      "And a breath full of Mad Dog Booze  \n",
      "I got the fever, fever, fever, fever  \n",
      "Yeah, they threw me outta jail  \n",
      "I tell ya it ain't fair  \n",
      "I tried to kiss the judge  \n",
      "From the electrica' chair  \n",
      "Yeah we're all here  \n",
      "'Cause we're not all there tonight  \n",
      "The guitar's cranked  \n",
      "And the bass man's blown a fuse  \n",
      "And when the whole gang bangs  \n",
      "Then what is your excuse?  \n",
      "I got the fever, fever, fever, fever  \n",
      "Fever gives you lust with an appetite  \n",
      "It hits you like the fangs  \n",
      "From a rattlesnake bite  \n",
      "Yeah we're all here  \n",
      "'Cause we're not all there tonight  \n",
      "We can't run away from trouble  \n",
      "There ain't no place that far  \n",
      "But if we do it right at the speed of light  \n",
      "There's the backseat of my car - caviar  \n",
      "I was feelin' so high I forgot what day  \n",
      "Now I'm feeling low down  \n",
      "Even slow feels way to fast  \n",
      "And now the booze don't work  \n",
      "'Cause the drugs ran out of gas  \n",
      "I got the fever, fever, fever, fever  \n",
      "The buzz that you're gettin'  \n",
      "From the crack don't last  \n",
      "I'd rather be O.D.in' on the crack of her ass  \n",
      "Yeah we're all here  \n",
      "'Cause we're not all there tonight  \n",
      "My first time ever lover  \n",
      "We fell asleep out on the lawn  \n",
      "And when I woke up I was all alone  \n",
      "Making love to the crack of dawn  \n",
      "So yo, I beg yo pardon sir  \n",
      "The gangster of love rides again  \n",
      "You know I gotta chill  \n",
      "It gimme such a thrill  \n",
      "Like a burnin' plague  \n",
      "Yeah get outta my way  \n",
      "Fever may be Hell and a cross to bear  \n",
      "As long as I'm in heaven, honey I don't care  \n",
      "You look so good baby, look so fine  \n",
      "I tell you you're the image of a perfect crime  \n",
      "You get so tired holdin' on so tight  \n",
      "If you think you're goin' crazy  \n",
      "Well you may be right  \n",
      "Yeah we're all here  \n",
      "'Cause we're not all there tonight\n",
      "\n",
      "\n"
     ]
    }
   ],
   "source": [
    "## Exercise\n",
    "\n",
    "def most_similar_by_words(s, songs, skiplist):\n",
    "    most_similar = max( [ (len(s_text & songs[s]), s_id) \n",
    "                             for s_id, s_text in enumerate(songs) \n",
    "                             if s_id not in skiplist ]   )\n",
    "    return most_similar[1], most_similar[0]\n",
    "\n",
    "    \n",
    "sim_id, sim_value = most_similar_by_words(query_id, lyrics_word_split, \n",
    "                                          set(skip+[query_id]))\n",
    "\n",
    "print (\"Most similar song is:\", sim_id)\n",
    "print (\"Similarity is:\", sim_value)\n",
    "print (\"Artist:\", raw_dataset[sim_id][0])\n",
    "print (\"Title:\", raw_dataset[sim_id][1])\n",
    "print (\"Lyrics:\", raw_dataset[sim_id][-1])"
   ]
  },
  {
   "cell_type": "markdown",
   "metadata": {},
   "source": [
    "just too many words in this song ?"
   ]
  },
  {
   "cell_type": "markdown",
   "metadata": {},
   "source": [
    "Some exercises:\n",
    " - longest song\n",
    " - shortest song\n",
    " - song with most unique terms\n",
    " - song with least unique terms\n",
    " - artist with most songs\n",
    " - artist with most unique terms\n",
    " - how many unique terms in all songs"
   ]
  },
  {
   "cell_type": "code",
   "execution_count": 76,
   "metadata": {},
   "outputs": [
    {
     "name": "stdout",
     "output_type": "stream",
     "text": [
      "Longest song is: 2079\n",
      "Lenght is: 727\n",
      "Artist: Bruno Mars\n",
      "Title: Nothin On You\n",
      "Lyrics: Beautiful girls all over the world  \n",
      "I could be chasing but my time would be wasted  \n",
      "They got nothin' on you baby  \n",
      "Nothin' on you baby  \n",
      "  \n",
      "They might say hi and I might say hey  \n",
      "But you shouldn't worry about what they say  \n",
      "'Cause they got nothin' on you baby  \n",
      "Nothin' on you baby  \n",
      "  \n",
      "No' no' no' nothin' on you babe  \n",
      "No' no' nothin' on you  \n",
      "I know you feel where I'm coming from  \n",
      "Regardless of the things in my past that I've done  \n",
      "Most of it really was for the hell of the fun  \n",
      "On the carousel so around I spun (spun)  \n",
      "With no directions just tryna get some (some)  \n",
      "Tryna chase skirts, living in the summer sun (sun)  \n",
      "An' so I lost more than I had ever won  \n",
      "And honestly I ended up with none  \n",
      "  \n",
      "There's so much nonsense  \n",
      "It's on my conscience  \n",
      "I'm thinking baby I should get it out  \n",
      "And I don't wanna sound redundant  \n",
      "But I was wondering, if there was something that you wanna know  \n",
      "(That you wanna know)  \n",
      "But never mind that we should let it go (we should let it go)  \n",
      "'Cause we don't wanna be a t.v episode (t.v episode)  \n",
      "And all the bad thoughts just let them go (go, go, go)  \n",
      "  \n",
      "Beautiful girls all over the world  \n",
      "I could be chasing but my time would be wasted  \n",
      "They got nothin' on you baby  \n",
      "(No' no' no' nothin' on you babe)  \n",
      "(No' no' nothin' on you)  \n",
      "Nothin' on you baby  \n",
      "(No' no' no' nothin' on you babe)  \n",
      "(No' no' nothin' on you)  \n",
      "They might say hi (hi) and I might say hey (hey)  \n",
      "But you shouldn't worry about what they say  \n",
      "'Cause they got nothin' on you baby  \n",
      "(No' no' no' nothin' on you babe)  \n",
      "(No' no' nothin' on you)  \n",
      "Nothin' on you baby  \n",
      "(No' no' no' nothin' on you babe)  \n",
      "(No' no' nothin' on you)  \n",
      "  \n",
      "Hands down there will never be another one  \n",
      "I been around and I never seen another one  \n",
      "Because your style I ain't really got nothin' on  \n",
      "And you wow when you got nothin' on?  \n",
      "Baby you the whole package plus you pay your taxes  \n",
      "And you keep it real while them other stay plastic  \n",
      "You're my Wonder Women call me Mr. Fantastic  \n",
      "Stop, now think about it  \n",
      "  \n",
      "I've been to London, I've been to Paris  \n",
      "Even way out there in Tokyo  \n",
      "Back home down in Georgia to New Orleans  \n",
      "But you always steal the show (steal the show)  \n",
      "And just like that girl you got a fro (got a fro)  \n",
      "Like a Nintendo 64 (64)  \n",
      "If you never knew well now you know (know, know, know)  \n",
      "  \n",
      "Beautiful girls all over the world (all over)  \n",
      "I could be chasing but my time would be wasted (haha)  \n",
      "They got nothin' on you baby  \n",
      "(No' no' no' nothin' on you babe)  \n",
      "(No' no' nothin' on you)  \n",
      "Nothin' on you baby  \n",
      "(No' no' no' nothin' on you babe)  \n",
      "(No' no' nothin' on you)  \n",
      "They might say hi (hi) and I might say hey (hey)  \n",
      "But you shouldn't worry about what they say (why?)  \n",
      "'Cause they got nothin' on you baby  \n",
      "(No' no' no' nothin' on you babe)  \n",
      "(No' no' nothin' on you)  \n",
      "Nothin' on you baby  \n",
      "(No' no' no' nothin' on you babe)  \n",
      "(No' no' nothin' on you)  \n",
      "  \n",
      "Everywhere I go I'm always hearing your name (name, name)  \n",
      "And no matter where I'm at girl you make me wanna sing (sing)  \n",
      "Whether a bus or a plane (plane) or a car or a train (train)  \n",
      "No other girls in my brain and you the one to blame (blame)  \n",
      "  \n",
      "Beautiful girls all over the world (all over)  \n",
      "I could be chasing but my time would be wasted (why?)  \n",
      "They got nothin' on you baby  \n",
      "(No' no' no' nothin' on you babe)  \n",
      "(No' no' nothin' on you)  \n",
      "Nothin' on you baby  \n",
      "(No' no' no' nothin' on you babe)  \n",
      "(No' no' nothin' on you)  \n",
      "They might say hi (hi) and I might say hey (hello)  \n",
      "But you shouldn't worry about what they say (why?)  \n",
      "'Cause they got nothin' on you baby  \n",
      "(No' no' no' nothin' on you babe)  \n",
      "(No' no' nothin' on you)  \n",
      "Nothin' on you baby  \n",
      "(No' no' no' nothin' on you babe)  \n",
      "(No' no' nothin' on you)  \n",
      "  \n",
      "Yeah and that's just how we do it, ha ha  \n",
      "And I'm a let this ride  \n",
      "B-O-B and Bruno Mars\n",
      "\n",
      "\n",
      "Shortest song is: 947\n",
      "Lenght is: 57\n",
      "Artist: Avril Lavigne\n",
      "Title: The Spongebob Squarepants Theme\n",
      "Lyrics: Are you ready kids?  \n",
      "I said, \"Are you ready?\"  \n",
      "  \n",
      "Who lives in a pineapple under the sea  \n",
      "SpongeBob SquarePants  \n",
      "Absorbent and yellow and porous is he  \n",
      "SpongeBob SquarePants  \n",
      "  \n",
      "If nautical nonsense be something you wish  \n",
      "SpongeBob SquarePants  \n",
      "Then drop on the deck and flop like a fish  \n",
      "SpongeBob SquarePants  \n",
      "  \n",
      "SpongeBob SquarePants  \n",
      "SpongeBob SquarePants  \n",
      "SpongeBob SquarePants  \n",
      "SpongeBob SquarePants\n",
      "\n",
      "\n",
      "Song with most unique terms is: 1425\n",
      "Number of unique terms is: 113\n",
      "Artist: Billy Joel\n",
      "Title: We Didn't Start The Fire\n",
      "Lyrics: Harry Truman, Doris Day, Red China, Johnnie Ray  \n",
      "South Pacific, Walter Winchell, Joe DiMaggio  \n",
      "  \n",
      "Joe McCarthy, Richard Nixon, Studebaker, television  \n",
      "North Korea, South Korea, Marilyn Monroe  \n",
      "  \n",
      "Rosenbergs, H-bomb, Sugar Ray, Panmunjom  \n",
      "Brando, \"The King and I\" and \"The Catcher in the Rye\"  \n",
      "  \n",
      "Eisenhower, vaccine, England's got a new queen  \n",
      "Marciano, Liberace, Santayana goodbye  \n",
      "  \n",
      "We didn't start the fire  \n",
      "It was always burning  \n",
      "Since the world's been turning  \n",
      "We didn't start the fire  \n",
      "No we didn't light it  \n",
      "But we tried to fight it  \n",
      "  \n",
      "Joseph Stalin, Malenkov, Nasser and Prokofiev  \n",
      "Rockefeller, Campanella, Communist Bloc  \n",
      "  \n",
      "Roy Cohn, Juan Peron, Toscanini, Dacron  \n",
      "Dien Bien Phu falls, \"Rock Around the Clock\"  \n",
      "  \n",
      "Einstein, James Dean, Brooklyn's got a winning team  \n",
      "Davy Crockett, Peter Pan, Elvis Presley, Disneyland  \n",
      "  \n",
      "Bardot, Budapest, Alabama, Krushchev  \n",
      "Princess Grace, \"Peyton Place\", trouble in the Suez  \n",
      "  \n",
      "We didn't start the fire  \n",
      "It was always burning  \n",
      "Since the world's been turning  \n",
      "We didn't start the fire  \n",
      "No we didn't light it  \n",
      "But we tried to fight it  \n",
      "  \n",
      "Little Rock, Pasternak, Mickey Mantle, Kerouac  \n",
      "Sputnik, Chou En-Lai, \"Bridge on the River Kwai\"  \n",
      "  \n",
      "Lebanon, Charles de Gaulle, California baseball  \n",
      "Starkweather homicide, children of thalidomide  \n",
      "  \n",
      "Buddy Holly, \"Ben Hur\", space monkey, Mafia  \n",
      "Hula hoops, Castro, Edsel is a no-go  \n",
      "  \n",
      "U2, Syngman Rhee, payola and Kennedy  \n",
      "Chubby Checker, \"Psycho\", Belgians in the Congo  \n",
      "  \n",
      "We didn't start the fire  \n",
      "It was always burning  \n",
      "Since the world's been turning  \n",
      "We didn't start the fire  \n",
      "No we didn't light it  \n",
      "But we tried to fight it  \n",
      "  \n",
      "Hemingway, Eichmann, \"Stranger in a Strange Land\"  \n",
      "Dylan, Berlin, Bay of Pigs invasion  \n",
      "  \n",
      "\"Lawrence of Arabia\", British Beatlemania  \n",
      "Ole Miss, John Glenn, Liston beats Patterson  \n",
      "  \n",
      "Pope Paul, Malcolm X, British politician sex  \n",
      "JFK, blown away, what else do I have to say?  \n",
      "  \n",
      "We didn't start the fire  \n",
      "It was always burning  \n",
      "Since the world's been turning  \n",
      "We didn't start the fire  \n",
      "No we didn't light it  \n",
      "But we tried to fight it  \n",
      "  \n",
      "Birth control, Ho Chi Minh, Richard Nixon back again  \n",
      "Moonshot, Woodstock, Watergate, punk rock  \n",
      "  \n",
      "Begin, Reagan, Palestine, terror on the airline  \n",
      "Ayatollahs in Iran, Russians in Afghanistan  \n",
      "  \n",
      "\"Wheel of Fortune\", Sally Ride, heavy metal suicide  \n",
      "Foreign debts, homeless vets, AIDS, crack, Bernie Goetz  \n",
      "  \n",
      "Hypodermics on the shore, China's under martial law  \n",
      "Rock and roller cola wars, I can't take it anymore  \n",
      "  \n",
      "We didn't start the fire  \n",
      "It was always burning  \n",
      "Since the world's been turning  \n",
      "We didn't start the fire  \n",
      "But when we are gone  \n",
      "It will still burn on, and on, and on, and on  \n",
      "  \n",
      "We didn't start the fire  \n",
      "It was always burning  \n",
      "Since the world's been turning  \n",
      "We didn't start the fire  \n",
      "No we didn't light it  \n",
      "But we tried to fight it  \n",
      "  \n",
      "We didn't start the fire  \n",
      "It was always burning  \n",
      "Since the world's been turning  \n",
      "We didn't start the fire  \n",
      "No we didn't light it  \n",
      "But we tried to fight it\n",
      "\n",
      "\n",
      "Song with least unique terms is: 1\n",
      "Number of unique terms is: 0\n",
      "Artist: ABBA\n",
      "Title: Andante, Andante\n",
      "Lyrics: Take it easy with me, please  \n",
      "Touch me gently like a summer evening breeze  \n",
      "Take your time, make it slow  \n",
      "Andante, Andante  \n",
      "Just let the feeling grow  \n",
      "  \n",
      "Make your fingers soft and light  \n",
      "Let your body be the velvet of the night  \n",
      "Touch my soul, you know how  \n",
      "Andante, Andante  \n",
      "Go slowly with me now  \n",
      "  \n",
      "I'm your music  \n",
      "(I am your music and I am your song)  \n",
      "I'm your song  \n",
      "(I am your music and I am your song)  \n",
      "Play me time and time again and make me strong  \n",
      "(Play me again 'cause you're making me strong)  \n",
      "Make me sing, make me sound  \n",
      "(You make me sing and you make me)  \n",
      "Andante, Andante  \n",
      "Tread lightly on my ground  \n",
      "Andante, Andante  \n",
      "Oh please don't let me down  \n",
      "  \n",
      "There's a shimmer in your eyes  \n",
      "Like the feeling of a thousand butterflies  \n",
      "Please don't talk, go on, play  \n",
      "Andante, Andante  \n",
      "And let me float away  \n",
      "  \n",
      "I'm your music  \n",
      "(I am your music and I am your song)  \n",
      "I'm your song  \n",
      "(I am your music and I am your song)  \n",
      "Play me time and time again and make me strong  \n",
      "(Play me again 'cause you're making me strong)  \n",
      "Make me sing, make me sound  \n",
      "(You make me sing and you make me)  \n",
      "Andante, Andante  \n",
      "Tread lightly on my ground  \n",
      "Andante, Andante  \n",
      "Oh please don't let me down  \n",
      "  \n",
      "Make me sing, make me sound  \n",
      "(You make me sing and you make me)  \n",
      "Andante, Andante  \n",
      "Tread lightly on my ground  \n",
      "Andante, Andante  \n",
      "Oh please don't let me down  \n",
      "Andante, Andante  \n",
      "Oh please don't let me down\n",
      "\n",
      "\n"
     ]
    },
    {
     "name": "stdout",
     "output_type": "stream",
     "text": [
      "Artist with most songs is: Conway Twitty\n",
      "Number of songs is: 121\n",
      "\n",
      "Artist with most unique terms is: Chris Brown\n",
      "Number of terms is: 781\n",
      "\n",
      "Unique terms number: 20086\n"
     ]
    }
   ],
   "source": [
    "# Longest song\n",
    "def longest_song(songs):\n",
    "    lyrics_list = [s[-1].split() for s in songs]\n",
    "    return len(max(lyrics_list, key= len)), lyrics_list.index(max(lyrics_list, key= len))\n",
    "\n",
    "longest_lenght, longest_id = longest_song(raw_dataset)\n",
    "\n",
    "print (\"Longest song is:\", longest_id)\n",
    "print (\"Lenght is:\", longest_lenght)\n",
    "print (\"Artist:\", raw_dataset[longest_id][0])\n",
    "print (\"Title:\", raw_dataset[longest_id][1])\n",
    "print (\"Lyrics:\", raw_dataset[longest_id][-1])\n",
    "\n",
    "# Shortest song\n",
    "def shortest_song(songs):\n",
    "    lyrics_list = [s[-1].split() for s in songs]\n",
    "    return len(min(lyrics_list, key=len)), lyrics_list.index(min(lyrics_list, key= len))\n",
    "\n",
    "shortest_lenght, shortest_id = shortest_song(raw_dataset)\n",
    "\n",
    "print (\"Shortest song is:\", shortest_id)\n",
    "print (\"Lenght is:\", shortest_lenght)\n",
    "print (\"Artist:\", raw_dataset[shortest_id][0])\n",
    "print (\"Title:\", raw_dataset[shortest_id][1])\n",
    "print (\"Lyrics:\", raw_dataset[shortest_id][-1])\n",
    "\n",
    "# Song with most unique terms\n",
    "\n",
    "def terms_frequency(songs):\n",
    "    terms_frequency = {}\n",
    "    for s in songs:\n",
    "        terms_list = s[-1].split()\n",
    "        for l in terms_list:\n",
    "            terms_frequency[l] = terms_frequency.get(l,0) + 1\n",
    "    return (terms_frequency)\n",
    "\n",
    "def most_unique_song(songs, terms_frequency):\n",
    "    song_unique_terms = []\n",
    "    for s in songs:\n",
    "        terms_list = s[-1].split()\n",
    "        i = 0\n",
    "        for l in terms_list:\n",
    "            if terms_frequency[l] == 1: i += 1\n",
    "        song_unique_terms+= [i]\n",
    "    return max(song_unique_terms), song_unique_terms.index(max(song_unique_terms))\n",
    "        \n",
    "\n",
    "number_unique_terms, unique_song_id = most_unique_song(raw_dataset,terms_frequency(raw_dataset))\n",
    "\n",
    "print (\"Song with most unique terms is:\", unique_song_id)\n",
    "print (\"Number of unique terms is:\", number_unique_terms)\n",
    "print (\"Artist:\", raw_dataset[unique_song_id][0])\n",
    "print (\"Title:\", raw_dataset[unique_song_id][1])\n",
    "print (\"Lyrics:\", raw_dataset[unique_song_id][-1])\n",
    "\n",
    "# Song with least unique terms\n",
    "\n",
    "def least_unique_song(songs, terms_frequency):\n",
    "    song_unique_terms = []\n",
    "    for s in songs:\n",
    "        terms_list = s[-1].split()\n",
    "        i = 0\n",
    "        for l in terms_list:\n",
    "            if terms_frequency[l] == 1: i += 1\n",
    "        song_unique_terms+= [i]\n",
    "    return min(song_unique_terms), song_unique_terms.index(min(song_unique_terms))\n",
    "        \n",
    "\n",
    "number_unique_terms, least_unique_song_id = least_unique_song(raw_dataset,terms_frequency(raw_dataset))\n",
    "\n",
    "print (\"Song with least unique terms is:\", least_unique_song_id)\n",
    "print (\"Number of unique terms is:\", number_unique_terms)\n",
    "print (\"Artist:\", raw_dataset[least_unique_song_id][0])\n",
    "print (\"Title:\", raw_dataset[least_unique_song_id][1])\n",
    "print (\"Lyrics:\", raw_dataset[least_unique_song_id][-1])\n",
    "\n",
    "# Artist with most songs\n",
    "\n",
    "def artist_most_songs(songs):\n",
    "    artists = [s[0] for s in songs]\n",
    "    songs_per_artist = {s:artists.count(s) for s in artists}\n",
    "    return max(songs_per_artist, key = songs_per_artist.get), max(songs_per_artist.values())\n",
    "\n",
    "artist_most_id, n_songs = artist_most_songs(raw_dataset)\n",
    "\n",
    "print (\"Artist with most songs is:\", artist_most_id)\n",
    "print (\"Number of songs is:\", n_songs)\n",
    "\n",
    "print()\n",
    "# Artist with most unique terms\n",
    "\n",
    "def artist_most_unique_terms(songs, terms_frequency):\n",
    "    artists = {s[0]:0 for s in songs}\n",
    "    for s in songs:\n",
    "        terms_list = s[-1].split()\n",
    "        i = 0\n",
    "        for l in terms_list:\n",
    "            if terms_frequency[l] == 1: artists[s[0]] += 1\n",
    "        \n",
    "    return max(artists, key = artists.get), max(artists.values())\n",
    "\n",
    "artist_id, n_terms = artist_most_unique_terms(raw_dataset,terms_frequency(raw_dataset))\n",
    "\n",
    "print (\"Artist with most unique terms is:\", artist_id)\n",
    "print (\"Number of terms is:\", n_terms)\n",
    "print()\n",
    "\n",
    "def n_unique_terms(terms_frequency):\n",
    "    return list(terms_frequency.values()).count(1)\n",
    "\n",
    "print (\"Unique terms number:\", n_unique_terms(terms_frequency(raw_dataset)))\n",
    "\n",
    "\n"
   ]
  },
  {
   "cell_type": "markdown",
   "metadata": {},
   "source": [
    "# Jaccard similarity\n",
    "\n",
    "\n",
    "$$\n",
    "J(A,B) = \\frac{|A\\cap B|}{|A \\cup B|}\n",
    "$$"
   ]
  },
  {
   "cell_type": "code",
   "execution_count": 96,
   "metadata": {},
   "outputs": [
    {
     "name": "stdout",
     "output_type": "stream",
     "text": [
      "0.5\n"
     ]
    }
   ],
   "source": [
    "#più documenti sonomlunghi più aumenta denominatore, più diminuisce valore: cardinalità intersez/ cardinalità unione\n",
    "\n",
    "def jaccard(a,b):\n",
    "    return len(a & b) / len( a | b)\n",
    "\n",
    "print ( jaccard( set([1,2,3]), set([2,3,4])))"
   ]
  },
  {
   "cell_type": "code",
   "execution_count": 28,
   "metadata": {},
   "outputs": [
    {
     "name": "stdout",
     "output_type": "stream",
     "text": [
      "Most similar song is: 2390\n",
      "Similarity is: 0.21379310344827587\n",
      "Artist: Chaka Khan\n",
      "Title: Jigsaw\n",
      "Lyrics: Jigsaw - Puzzle  \n",
      "Jigsaw - Puzzle  \n",
      "  \n",
      "Your love is like a maze  \n",
      "I can't get through to you  \n",
      "You keep me in a daze  \n",
      "What's a girl to do with you?  \n",
      "  \n",
      "Loving you is like a puzzle  \n",
      "Just when I think that this is it  \n",
      "You shake me up  \n",
      "The pieces just don't fit  \n",
      "It's like a ...  \n",
      "Jigsaw - Puzzle  \n",
      "  \n",
      "I lay my heart out on the table  \n",
      "I let you know my every move  \n",
      "But darlin' you are so unstable  \n",
      "Your needle never lifts the groove  \n",
      "  \n",
      "Now order may not be your nature  \n",
      "But I think that we could work out fine  \n",
      "If you would only trace the dotted line  \n",
      "  \n",
      "Jigsaw - Puzzle  \n",
      "Jigsaw - Puzzle\n",
      "\n",
      "\n"
     ]
    }
   ],
   "source": [
    "def most_similar_jaccard(s, songs, skiplist):\n",
    "    most_similar = max( [ (jaccard(s_text, songs[s]), s_id) \n",
    "                             for s_id, s_text in enumerate(songs) \n",
    "                             if s_id not in skiplist ]   )\n",
    "    return most_similar[1], most_similar[0]\n",
    "\n",
    "sim_id, sim_value = most_similar_jaccard(query_id, lyrics_word_split, \n",
    "                                         set(skip+[query_id]))\n",
    "\n",
    "print (\"Most similar song is:\", sim_id)\n",
    "print (\"Similarity is:\", sim_value)\n",
    "print (\"Artist:\", raw_dataset[sim_id][0])\n",
    "print (\"Title:\", raw_dataset[sim_id][1])\n",
    "print (\"Lyrics:\", raw_dataset[sim_id][-1])"
   ]
  },
  {
   "cell_type": "code",
   "execution_count": 29,
   "metadata": {},
   "outputs": [
    {
     "name": "stdout",
     "output_type": "stream",
     "text": [
      "Aerosmith\n",
      "Pink\n",
      "Pink, it's my new obsession, yeah  \n",
      "Pink, it's not even a question  \n",
      "Pink, on the lips of your lover  \n",
      "'Cause pink is the love you discover  \n",
      "Pink, as the bing on your cherry  \n",
      "Pink, 'cause you are so very  \n",
      "Pink, it's the color of passion  \n",
      "  \n",
      "'Cause today it just goes with the fashion  \n",
      "Pink, it was love at first sight  \n",
      "Yeah pink, when I turn out the light  \n",
      "And pink gets me high as a kite  \n",
      "And I think everything is going to be alright  \n",
      "No matter what we do tonight  \n",
      "  \n",
      "You could be my flamingo  \n",
      "'Cause pink, it's a new kinda lingo  \n",
      "Pink, like a deco umbrella  \n",
      "Ffff, it's kink that you don't ever tell her  \n",
      "Yeah, pink, it was love at first sight  \n",
      "Then pink when I turn out the light  \n",
      "Yeah, pink gets me high as a kite  \n",
      "And I think everything is going to be alright  \n",
      "No matter what we do tonight  \n",
      "  \n",
      "Yeah,  \n",
      "I, want to be your lover  \n",
      "Ffff, I I wanna wrap you in rubber  \n",
      "And it's pink as the sheets that we lay on  \n",
      "'Cause pink, It's my favorite crayon  \n",
      "  \n",
      "Yeah  \n",
      "Pink, it was love at first sight, yeah  \n",
      "Pink, when I turn out the light  \n",
      "Yeah pink, it's like red but not quite  \n",
      "And I think everything is going to be alright  \n",
      "No matter what we do tonight\n",
      "\n",
      "\n"
     ]
    }
   ],
   "source": [
    "print (raw_dataset[query_id][0])\n",
    "print (raw_dataset[query_id][1])\n",
    "print (raw_dataset[query_id][-1])"
   ]
  },
  {
   "cell_type": "code",
   "execution_count": 30,
   "metadata": {
    "scrolled": false
   },
   "outputs": [
    {
     "data": {
      "text/plain": [
       "{\"'Cause\",\n",
       " \"'cause\",\n",
       " 'And',\n",
       " 'Ffff,',\n",
       " 'I',\n",
       " 'I,',\n",
       " \"It's\",\n",
       " 'No',\n",
       " 'Pink,',\n",
       " 'Then',\n",
       " 'Yeah',\n",
       " 'Yeah,',\n",
       " 'You',\n",
       " 'a',\n",
       " 'alright',\n",
       " 'are',\n",
       " 'as',\n",
       " 'at',\n",
       " 'be',\n",
       " 'bing',\n",
       " 'but',\n",
       " 'cherry',\n",
       " 'color',\n",
       " 'could',\n",
       " 'crayon',\n",
       " 'deco',\n",
       " 'discover',\n",
       " 'do',\n",
       " \"don't\",\n",
       " 'even',\n",
       " 'ever',\n",
       " 'everything',\n",
       " 'fashion',\n",
       " 'favorite',\n",
       " 'first',\n",
       " 'flamingo',\n",
       " 'gets',\n",
       " 'goes',\n",
       " 'going',\n",
       " 'her',\n",
       " 'high',\n",
       " 'in',\n",
       " 'is',\n",
       " 'it',\n",
       " \"it's\",\n",
       " 'just',\n",
       " 'kinda',\n",
       " 'kink',\n",
       " 'kite',\n",
       " 'lay',\n",
       " 'light',\n",
       " 'like',\n",
       " 'lingo',\n",
       " 'lips',\n",
       " 'love',\n",
       " 'lover',\n",
       " 'matter',\n",
       " 'me',\n",
       " 'my',\n",
       " 'new',\n",
       " 'not',\n",
       " 'obsession,',\n",
       " 'of',\n",
       " 'on',\n",
       " 'out',\n",
       " 'passion',\n",
       " 'pink',\n",
       " 'pink,',\n",
       " 'question',\n",
       " 'quite',\n",
       " 'red',\n",
       " 'rubber',\n",
       " 'sheets',\n",
       " 'sight',\n",
       " 'sight,',\n",
       " 'so',\n",
       " 'tell',\n",
       " 'that',\n",
       " 'the',\n",
       " 'think',\n",
       " 'to',\n",
       " 'today',\n",
       " 'tonight',\n",
       " 'turn',\n",
       " 'umbrella',\n",
       " 'very',\n",
       " 'wanna',\n",
       " 'want',\n",
       " 'was',\n",
       " 'we',\n",
       " 'what',\n",
       " 'when',\n",
       " 'with',\n",
       " 'wrap',\n",
       " 'yeah',\n",
       " 'you',\n",
       " 'your'}"
      ]
     },
     "execution_count": 30,
     "metadata": {},
     "output_type": "execute_result"
    }
   ],
   "source": [
    "# non abbiamo considerato punteggiatura e maiuscole minuscole, si fa tokenizzazione\n",
    "\n",
    "lyrics_word_split[query_id]"
   ]
  },
  {
   "cell_type": "markdown",
   "metadata": {},
   "source": [
    "# Attempt 1: Tokenization\n",
    "\n",
    "Text Processing library: https://textblob.readthedocs.io/en/dev/"
   ]
  },
  {
   "cell_type": "code",
   "execution_count": 77,
   "metadata": {},
   "outputs": [],
   "source": [
    "from textblob import Sentence, TextBlob\n",
    "\n",
    "# if the above command is not working\n",
    "# execute below"
   ]
  },
  {
   "cell_type": "code",
   "execution_count": 49,
   "metadata": {},
   "outputs": [
    {
     "name": "stdout",
     "output_type": "stream",
     "text": [
      "Requirement already satisfied: TextBlob in c:\\users\\ricca\\anaconda3\\lib\\site-packages (0.15.3)\n",
      "Requirement already satisfied: nltk>=3.1 in c:\\users\\ricca\\anaconda3\\lib\\site-packages (from TextBlob) (3.4.4)\n",
      "Requirement already satisfied: six in c:\\users\\ricca\\anaconda3\\lib\\site-packages (from nltk>=3.1->TextBlob) (1.12.0)\n"
     ]
    },
    {
     "name": "stderr",
     "output_type": "stream",
     "text": [
      "[nltk_data] Downloading package punkt to\n",
      "[nltk_data]     C:\\Users\\ricca\\AppData\\Roaming\\nltk_data...\n",
      "[nltk_data]   Unzipping tokenizers\\punkt.zip.\n"
     ]
    },
    {
     "data": {
      "text/plain": [
       "True"
      ]
     },
     "execution_count": 49,
     "metadata": {},
     "output_type": "execute_result"
    }
   ],
   "source": [
    "# linux\n",
    "import sys\n",
    "!{sys.executable} -m pip install TextBlob\n",
    "\n",
    "# windows try\n",
    "#pip install TextBlob\n",
    "\n",
    "import nltk\n",
    "\n",
    "nltk.download('punkt')"
   ]
  },
  {
   "cell_type": "code",
   "execution_count": 80,
   "metadata": {},
   "outputs": [
    {
     "data": {
      "text/plain": [
       "WordList(['pink', 'it', \"'s\", 'my', 'new', 'obsession', 'yeah', 'pink', 'it', \"'s\", 'not', 'even', 'a', 'question', 'pink', 'on', 'the', 'lips', 'of', 'your', 'lover', \"'cause\", 'pink', 'is', 'the', 'love', 'you', 'discover', 'pink', 'as', 'the', 'bing', 'on', 'your', 'cherry', 'pink', \"'cause\", 'you', 'are', 'so', 'very', 'pink', 'it', \"'s\", 'the', 'color', 'of', 'passion', \"'cause\", 'today', 'it', 'just', 'goes', 'with', 'the', 'fashion', 'pink', 'it', 'was', 'love', 'at', 'first', 'sight', 'yeah', 'pink', 'when', 'i', 'turn', 'out', 'the', 'light', 'and', 'pink', 'gets', 'me', 'high', 'as', 'a', 'kite', 'and', 'i', 'think', 'everything', 'is', 'going', 'to', 'be', 'alright', 'no', 'matter', 'what', 'we', 'do', 'tonight', 'you', 'could', 'be', 'my', 'flamingo', \"'cause\", 'pink', 'it', \"'s\", 'a', 'new', 'kinda', 'lingo', 'pink', 'like', 'a', 'deco', 'umbrella', 'ffff', 'it', \"'s\", 'kink', 'that', 'you', 'do', \"n't\", 'ever', 'tell', 'her', 'yeah', 'pink', 'it', 'was', 'love', 'at', 'first', 'sight', 'then', 'pink', 'when', 'i', 'turn', 'out', 'the', 'light', 'yeah', 'pink', 'gets', 'me', 'high', 'as', 'a', 'kite', 'and', 'i', 'think', 'everything', 'is', 'going', 'to', 'be', 'alright', 'no', 'matter', 'what', 'we', 'do', 'tonight', 'yeah', 'i', 'want', 'to', 'be', 'your', 'lover', 'ffff', 'i', 'i', 'wan', 'na', 'wrap', 'you', 'in', 'rubber', 'and', 'it', \"'s\", 'pink', 'as', 'the', 'sheets', 'that', 'we', 'lay', 'on', \"'cause\", 'pink', 'it', \"'s\", 'my', 'favorite', 'crayon', 'yeah', 'pink', 'it', 'was', 'love', 'at', 'first', 'sight', 'yeah', 'pink', 'when', 'i', 'turn', 'out', 'the', 'light', 'yeah', 'pink', 'it', \"'s\", 'like', 'red', 'but', 'not', 'quite', 'and', 'i', 'think', 'everything', 'is', 'going', 'to', 'be', 'alright', 'no', 'matter', 'what', 'we', 'do', 'tonight'])"
      ]
     },
     "execution_count": 80,
     "metadata": {},
     "output_type": "execute_result"
    }
   ],
   "source": [
    "TextBlob(raw_dataset[query_id][-1])\n",
    "\n",
    "TextBlob(raw_dataset[query_id][-1]).lower()\n",
    "\n",
    "TextBlob(raw_dataset[query_id][-1]).lower().words"
   ]
  },
  {
   "cell_type": "code",
   "execution_count": 81,
   "metadata": {},
   "outputs": [],
   "source": [
    "def get_tokens (songs):\n",
    "    return [ set(TextBlob(song[-1]).lower().words) for song in songs ]\n",
    "\n",
    "lyrics_tokens = get_tokens(raw_dataset)"
   ]
  },
  {
   "cell_type": "code",
   "execution_count": 82,
   "metadata": {},
   "outputs": [
    {
     "name": "stdout",
     "output_type": "stream",
     "text": [
      "[\"'Cause\", \"'cause\", 'And', 'Ffff,', 'I', 'I,', \"It's\", 'No', 'Pink,', 'Then', 'Yeah', 'Yeah,', 'You', 'a', 'alright', 'are', 'as', 'at', 'be', 'bing', 'but', 'cherry', 'color', 'could', 'crayon', 'deco', 'discover', 'do', \"don't\", 'even', 'ever', 'everything', 'fashion', 'favorite', 'first', 'flamingo', 'gets', 'goes', 'going', 'her', 'high', 'in', 'is', 'it', \"it's\", 'just', 'kinda', 'kink', 'kite', 'lay', 'light', 'like', 'lingo', 'lips', 'love', 'lover', 'matter', 'me', 'my', 'new', 'not', 'obsession,', 'of', 'on', 'out', 'passion', 'pink', 'pink,', 'question', 'quite', 'red', 'rubber', 'sheets', 'sight', 'sight,', 'so', 'tell', 'that', 'the', 'think', 'to', 'today', 'tonight', 'turn', 'umbrella', 'very', 'wanna', 'want', 'was', 'we', 'what', 'when', 'with', 'wrap', 'yeah', 'you', 'your']\n",
      "\n",
      "[\"'cause\", \"'s\", 'a', 'alright', 'and', 'are', 'as', 'at', 'be', 'bing', 'but', 'cherry', 'color', 'could', 'crayon', 'deco', 'discover', 'do', 'even', 'ever', 'everything', 'fashion', 'favorite', 'ffff', 'first', 'flamingo', 'gets', 'goes', 'going', 'her', 'high', 'i', 'in', 'is', 'it', 'just', 'kinda', 'kink', 'kite', 'lay', 'light', 'like', 'lingo', 'lips', 'love', 'lover', 'matter', 'me', 'my', \"n't\", 'na', 'new', 'no', 'not', 'obsession', 'of', 'on', 'out', 'passion', 'pink', 'question', 'quite', 'red', 'rubber', 'sheets', 'sight', 'so', 'tell', 'that', 'the', 'then', 'think', 'to', 'today', 'tonight', 'turn', 'umbrella', 'very', 'wan', 'want', 'was', 'we', 'what', 'when', 'with', 'wrap', 'yeah', 'you', 'your']\n"
     ]
    }
   ],
   "source": [
    "print ( sorted(lyrics_word_split[query_id] ) )\n",
    "print ()\n",
    "print ( sorted(lyrics_tokens[query_id] ) )"
   ]
  },
  {
   "cell_type": "code",
   "execution_count": 53,
   "metadata": {},
   "outputs": [
    {
     "name": "stdout",
     "output_type": "stream",
     "text": [
      "Most similar song is: 156\n",
      "Similarity is: 0.25308641975308643\n",
      "Artist: Aerosmith\n",
      "Title: Lay It Down\n",
      "Lyrics: Ruby red... her lips were on fire  \n",
      "A do me with a kiss, if you please  \n",
      "Tell me what your sweet heart desires  \n",
      "Tell me how you want it to be  \n",
      "  \n",
      "'Cause if it's love you want  \n",
      "Then you won't mind a little tenderness  \n",
      "That sometimes is so hard to find  \n",
      "  \n",
      "(Lay it down)  \n",
      "Lay it down  \n",
      "Make it alright  \n",
      "(Lay it down)  \n",
      "Lay it down  \n",
      "I'll hold you so tight  \n",
      "(Lay it down)  \n",
      "Oh...before the morning light  \n",
      "It's gonna be alright  \n",
      "  \n",
      "Oh...lay it down  \n",
      "Come and lay it down tonight  \n",
      "  \n",
      "Tell me how you feel when we make love  \n",
      "Tell me is it real or just make believe  \n",
      "You will never know what'chor made of  \n",
      "'Til you open up your heart to receive  \n",
      "'Cause if the love you got that same old crime  \n",
      "We're talkin' tenderness that's so hard to find  \n",
      "And I'm gettin' behind you  \n",
      "  \n",
      "(Lay it down)  \n",
      "Lay it down  \n",
      "Make it alright  \n",
      "(Lay it down)  \n",
      "A lay it down  \n",
      "I'll hold you so tight  \n",
      "(Lay it down)  \n",
      "Yeah... before the morning light  \n",
      "It's gonna be alright  \n",
      "  \n",
      "Oh...lay it down  \n",
      "Come and lay it down tonight  \n",
      "  \n",
      "Do you remember them times talkin' in your sleep  \n",
      "With a pocket full of promises you never could keep  \n",
      "From your best friends lover you dreamt about then  \n",
      "When you pullin' up the covers the voices in your head  \n",
      "  \n",
      "Say if you want it bad  \n",
      "Don't ever let it slip away  \n",
      "  \n",
      "'Cause if it's love you want and tenderness...yeah  \n",
      "  \n",
      "(Lay it down)  \n",
      "Lay it down  \n",
      "Make it alright  \n",
      "(Lay it down)  \n",
      "Lay it down  \n",
      "I'll hold you so tight  \n",
      "(Lay it down)  \n",
      "  \n",
      "Oh... before the morning light  \n",
      "It's gonna be alright  \n",
      "  \n",
      "Oh...lay it down  \n",
      "Gonna lay it down tonight  \n",
      "Gonna come around tonight  \n",
      "You gotta lay it down\n",
      "\n",
      "\n"
     ]
    }
   ],
   "source": [
    "sim_id, sim_value = most_similar_jaccard(query_id, lyrics_tokens, \n",
    "                                         set(skip+[query_id]))\n",
    "\n",
    "print (\"Most similar song is:\", sim_id)\n",
    "print (\"Similarity is:\", sim_value)\n",
    "print (\"Artist:\", raw_dataset[sim_id][0])\n",
    "print (\"Title:\", raw_dataset[sim_id][1])\n",
    "print (\"Lyrics:\", raw_dataset[sim_id][-1])"
   ]
  },
  {
   "cell_type": "markdown",
   "metadata": {},
   "source": [
    "# Attempt 2: Stemming, Lemmatization\n",
    "\n",
    "Stemming refers to the removal of prefix/suffixes: `being` -> `be`, `was`->`was` \n",
    "\n",
    "Lemming refers to the identification of the \"origin\" of a word: `being` -> `be`, `was`->`be`\n",
    "\n",
    "\n",
    "The task is quite difficult, there might be errors anyway ..."
   ]
  },
  {
   "cell_type": "code",
   "execution_count": 54,
   "metadata": {},
   "outputs": [
    {
     "name": "stdout",
     "output_type": "stream",
     "text": [
      "[\"'caus\", \"'s\", 'a', 'alright', 'and', 'are', 'as', 'at', 'be', 'bing', 'but', 'cherri', 'color', 'could', 'crayon', 'deco', 'discov', 'do', 'even', 'ever', 'everyth', 'fashion', 'favorit', 'ffff', 'first', 'flamingo', 'get', 'go', 'goe', 'her', 'high', 'i', 'in', 'is', 'it', 'just', 'kinda', 'kink', 'kite', 'lay', 'light', 'like', 'lingo', 'lip', 'love', 'lover', 'matter', 'me', 'my', \"n't\", 'na', 'new', 'no', 'not', 'obsess', 'of', 'on', 'out', 'passion', 'pink', 'question', 'quit', 'red', 'rubber', 'sheet', 'sight', 'so', 'tell', 'that', 'the', 'then', 'think', 'to', 'today', 'tonight', 'turn', 'umbrella', 'veri', 'wa', 'wan', 'want', 'we', 'what', 'when', 'with', 'wrap', 'yeah', 'you', 'your']\n"
     ]
    }
   ],
   "source": [
    "print ( sorted(set(TextBlob(raw_dataset[query_id][-1]).lower().words.stem() ) ) )"
   ]
  },
  {
   "cell_type": "code",
   "execution_count": 91,
   "metadata": {},
   "outputs": [],
   "source": [
    "def get_stems (songs):\n",
    "    return [ set(TextBlob(song[-1]).lower().words.stem()) for song in raw_dataset ]\n",
    "\n",
    "lyrics_stems = get_stems(raw_dataset)"
   ]
  },
  {
   "cell_type": "code",
   "execution_count": 92,
   "metadata": {},
   "outputs": [
    {
     "name": "stdout",
     "output_type": "stream",
     "text": [
      "[\"'caus\", \"'s\", 'a', 'alright', 'and', 'are', 'as', 'at', 'be', 'bing', 'but', 'cherri', 'color', 'could', 'crayon', 'deco', 'discov', 'do', 'even', 'ever', 'everyth', 'fashion', 'favorit', 'ffff', 'first', 'flamingo', 'get', 'go', 'goe', 'her', 'high', 'i', 'in', 'is', 'it', 'just', 'kinda', 'kink', 'kite', 'lay', 'light', 'like', 'lingo', 'lip', 'love', 'lover', 'matter', 'me', 'my', \"n't\", 'na', 'new', 'no', 'not', 'obsess', 'of', 'on', 'out', 'passion', 'pink', 'question', 'quit', 'red', 'rubber', 'sheet', 'sight', 'so', 'tell', 'that', 'the', 'then', 'think', 'to', 'today', 'tonight', 'turn', 'umbrella', 'veri', 'wa', 'wan', 'want', 'we', 'what', 'when', 'with', 'wrap', 'yeah', 'you', 'your']\n"
     ]
    }
   ],
   "source": [
    "print ( sorted(lyrics_stems[query_id] ) )"
   ]
  },
  {
   "cell_type": "code",
   "execution_count": 94,
   "metadata": {},
   "outputs": [
    {
     "ename": "NameError",
     "evalue": "name 'most_similar_jaccard' is not defined",
     "output_type": "error",
     "traceback": [
      "\u001b[1;31m---------------------------------------------------------------------------\u001b[0m",
      "\u001b[1;31mNameError\u001b[0m                                 Traceback (most recent call last)",
      "\u001b[1;32m<ipython-input-94-dd68c3e624a6>\u001b[0m in \u001b[0;36m<module>\u001b[1;34m\u001b[0m\n\u001b[1;32m----> 1\u001b[1;33m \u001b[0msim_id\u001b[0m\u001b[1;33m,\u001b[0m \u001b[0msim_value\u001b[0m \u001b[1;33m=\u001b[0m \u001b[0mmost_similar_jaccard\u001b[0m\u001b[1;33m(\u001b[0m\u001b[0mquery_id\u001b[0m\u001b[1;33m,\u001b[0m \u001b[0mlyrics_stems\u001b[0m\u001b[1;33m,\u001b[0m \u001b[0mset\u001b[0m\u001b[1;33m(\u001b[0m\u001b[0mskip\u001b[0m\u001b[1;33m+\u001b[0m\u001b[1;33m[\u001b[0m\u001b[0mquery_id\u001b[0m\u001b[1;33m]\u001b[0m\u001b[1;33m)\u001b[0m\u001b[1;33m)\u001b[0m\u001b[1;33m\u001b[0m\u001b[1;33m\u001b[0m\u001b[0m\n\u001b[0m\u001b[0;32m      2\u001b[0m \u001b[1;33m\u001b[0m\u001b[0m\n\u001b[0;32m      3\u001b[0m \u001b[0mprint\u001b[0m \u001b[1;33m(\u001b[0m\u001b[1;34m\"Most similar song is:\"\u001b[0m\u001b[1;33m,\u001b[0m \u001b[0msim_id\u001b[0m\u001b[1;33m)\u001b[0m\u001b[1;33m\u001b[0m\u001b[1;33m\u001b[0m\u001b[0m\n\u001b[0;32m      4\u001b[0m \u001b[0mprint\u001b[0m \u001b[1;33m(\u001b[0m\u001b[1;34m\"Similarity is:\"\u001b[0m\u001b[1;33m,\u001b[0m \u001b[0msim_value\u001b[0m\u001b[1;33m)\u001b[0m\u001b[1;33m\u001b[0m\u001b[1;33m\u001b[0m\u001b[0m\n\u001b[0;32m      5\u001b[0m \u001b[0mprint\u001b[0m \u001b[1;33m(\u001b[0m\u001b[1;34m\"Artist:\"\u001b[0m\u001b[1;33m,\u001b[0m \u001b[0mraw_dataset\u001b[0m\u001b[1;33m[\u001b[0m\u001b[0msim_id\u001b[0m\u001b[1;33m]\u001b[0m\u001b[1;33m[\u001b[0m\u001b[1;36m0\u001b[0m\u001b[1;33m]\u001b[0m\u001b[1;33m)\u001b[0m\u001b[1;33m\u001b[0m\u001b[1;33m\u001b[0m\u001b[0m\n",
      "\u001b[1;31mNameError\u001b[0m: name 'most_similar_jaccard' is not defined"
     ]
    }
   ],
   "source": [
    "sim_id, sim_value = most_similar_jaccard(query_id, lyrics_stems, set(skip+[query_id]))\n",
    "\n",
    "print (\"Most similar song is:\", sim_id)\n",
    "print (\"Similarity is:\", sim_value)\n",
    "print (\"Artist:\", raw_dataset[sim_id][0])\n",
    "print (\"Title:\", raw_dataset[sim_id][1])\n",
    "print (\"Lyrics:\", raw_dataset[sim_id][-1])"
   ]
  },
  {
   "cell_type": "code",
   "execution_count": null,
   "metadata": {},
   "outputs": [],
   "source": [
    "print ( lyrics_stems[sim_id] )"
   ]
  },
  {
   "cell_type": "code",
   "execution_count": 59,
   "metadata": {},
   "outputs": [
    {
     "name": "stdout",
     "output_type": "stream",
     "text": [
      "[\"'s\", 'a', 'are', 'be', 'but', 'could', 'do', 'get', 'i', 'in', 'is', 'it', 'just', 'lay', 'like', 'love', 'me', 'my', \"n't\", 'not', 'on', 'out', 'so', 'that', 'the', 'think', 'to', 'we', 'what', 'when', 'with', 'you', 'your']\n"
     ]
    }
   ],
   "source": [
    "print ( sorted( lyrics_stems[sim_id] & lyrics_stems[query_id]) )"
   ]
  },
  {
   "cell_type": "markdown",
   "metadata": {},
   "source": [
    "Exercise:\n",
    " - find the pair of songs whose similarity that was most affected by the stemming"
   ]
  },
  {
   "cell_type": "code",
   "execution_count": 126,
   "metadata": {},
   "outputs": [
    {
     "ename": "KeyboardInterrupt",
     "evalue": "",
     "output_type": "error",
     "traceback": [
      "\u001b[1;31m---------------------------------------------------------------------------\u001b[0m",
      "\u001b[1;31mKeyboardInterrupt\u001b[0m                         Traceback (most recent call last)",
      "\u001b[1;32m<ipython-input-126-da2d71e3839b>\u001b[0m in \u001b[0;36m<module>\u001b[1;34m\u001b[0m\n\u001b[0;32m      9\u001b[0m     \u001b[1;32mreturn\u001b[0m \u001b[0mpair\u001b[0m\u001b[1;33m\u001b[0m\u001b[1;33m\u001b[0m\u001b[0m\n\u001b[0;32m     10\u001b[0m \u001b[1;33m\u001b[0m\u001b[0m\n\u001b[1;32m---> 11\u001b[1;33m \u001b[0msong1\u001b[0m\u001b[1;33m,\u001b[0m \u001b[0msong2\u001b[0m \u001b[1;33m=\u001b[0m \u001b[0mmost_affected_pair\u001b[0m\u001b[1;33m(\u001b[0m\u001b[0mlyrics_tokens\u001b[0m\u001b[1;33m,\u001b[0m \u001b[0mlyrics_stems\u001b[0m\u001b[1;33m)\u001b[0m\u001b[1;33m\u001b[0m\u001b[1;33m\u001b[0m\u001b[0m\n\u001b[0m\u001b[0;32m     12\u001b[0m \u001b[1;33m\u001b[0m\u001b[0m\n\u001b[0;32m     13\u001b[0m \u001b[0mprint\u001b[0m \u001b[1;33m(\u001b[0m\u001b[1;34m\"Most affected pair is is:\"\u001b[0m\u001b[1;33m,\u001b[0m \u001b[0mraw_dataset\u001b[0m\u001b[1;33m[\u001b[0m\u001b[0msong1\u001b[0m\u001b[1;33m]\u001b[0m\u001b[1;33m[\u001b[0m\u001b[1;36m1\u001b[0m\u001b[1;33m]\u001b[0m\u001b[1;33m,\u001b[0m \u001b[0mraw_dataset\u001b[0m\u001b[1;33m[\u001b[0m\u001b[0msong2\u001b[0m\u001b[1;33m]\u001b[0m\u001b[1;33m[\u001b[0m\u001b[1;36m1\u001b[0m\u001b[1;33m]\u001b[0m\u001b[1;33m)\u001b[0m\u001b[1;33m\u001b[0m\u001b[1;33m\u001b[0m\u001b[0m\n",
      "\u001b[1;32m<ipython-input-126-da2d71e3839b>\u001b[0m in \u001b[0;36mmost_affected_pair\u001b[1;34m(lyrics_tokens, lyrics_stems)\u001b[0m\n\u001b[0;32m      4\u001b[0m     \u001b[1;32mfor\u001b[0m \u001b[0mi\u001b[0m\u001b[1;33m,\u001b[0m \u001b[1;33m(\u001b[0m\u001b[0mt1\u001b[0m\u001b[1;33m,\u001b[0m \u001b[0ms1\u001b[0m\u001b[1;33m)\u001b[0m \u001b[1;32min\u001b[0m \u001b[0menumerate\u001b[0m\u001b[1;33m(\u001b[0m\u001b[0mzip\u001b[0m\u001b[1;33m(\u001b[0m\u001b[0mlyrics_tokens\u001b[0m\u001b[1;33m,\u001b[0m \u001b[0mlyrics_stems\u001b[0m\u001b[1;33m)\u001b[0m\u001b[1;33m)\u001b[0m\u001b[1;33m:\u001b[0m\u001b[1;33m\u001b[0m\u001b[1;33m\u001b[0m\u001b[0m\n\u001b[0;32m      5\u001b[0m         \u001b[1;32mfor\u001b[0m \u001b[0mj\u001b[0m\u001b[1;33m,\u001b[0m \u001b[1;33m(\u001b[0m\u001b[0mt2\u001b[0m\u001b[1;33m,\u001b[0m \u001b[0ms2\u001b[0m\u001b[1;33m)\u001b[0m \u001b[1;32min\u001b[0m \u001b[0menumerate\u001b[0m\u001b[1;33m(\u001b[0m\u001b[0mzip\u001b[0m\u001b[1;33m(\u001b[0m\u001b[0mlyrics_tokens\u001b[0m\u001b[1;33m,\u001b[0m \u001b[0mlyrics_stems\u001b[0m\u001b[1;33m)\u001b[0m\u001b[1;33m,\u001b[0m \u001b[0mi\u001b[0m \u001b[1;33m+\u001b[0m \u001b[1;36m1\u001b[0m\u001b[1;33m)\u001b[0m\u001b[1;33m:\u001b[0m\u001b[1;33m\u001b[0m\u001b[1;33m\u001b[0m\u001b[0m\n\u001b[1;32m----> 6\u001b[1;33m             \u001b[1;32mif\u001b[0m \u001b[0mabs\u001b[0m\u001b[1;33m(\u001b[0m\u001b[0mjaccard\u001b[0m\u001b[1;33m(\u001b[0m\u001b[0mt1\u001b[0m\u001b[1;33m,\u001b[0m\u001b[0mt2\u001b[0m\u001b[1;33m)\u001b[0m \u001b[1;33m-\u001b[0m \u001b[0mjaccard\u001b[0m\u001b[1;33m(\u001b[0m\u001b[0ms1\u001b[0m\u001b[1;33m,\u001b[0m\u001b[0ms2\u001b[0m\u001b[1;33m)\u001b[0m\u001b[1;33m)\u001b[0m \u001b[1;33m>\u001b[0m \u001b[0mmaxval\u001b[0m\u001b[1;33m:\u001b[0m\u001b[1;33m\u001b[0m\u001b[1;33m\u001b[0m\u001b[0m\n\u001b[0m\u001b[0;32m      7\u001b[0m                 \u001b[0mmaxval\u001b[0m \u001b[1;33m=\u001b[0m \u001b[0mabs\u001b[0m\u001b[1;33m(\u001b[0m\u001b[0mjaccard\u001b[0m\u001b[1;33m(\u001b[0m\u001b[0mt1\u001b[0m\u001b[1;33m,\u001b[0m\u001b[0mt2\u001b[0m\u001b[1;33m)\u001b[0m \u001b[1;33m-\u001b[0m \u001b[0mjaccard\u001b[0m\u001b[1;33m(\u001b[0m\u001b[0ms1\u001b[0m\u001b[1;33m,\u001b[0m\u001b[0ms2\u001b[0m\u001b[1;33m)\u001b[0m\u001b[1;33m)\u001b[0m\u001b[1;33m\u001b[0m\u001b[1;33m\u001b[0m\u001b[0m\n\u001b[0;32m      8\u001b[0m                 \u001b[0mpair\u001b[0m \u001b[1;33m=\u001b[0m \u001b[1;33m(\u001b[0m\u001b[0mi\u001b[0m\u001b[1;33m,\u001b[0m\u001b[0mj\u001b[0m\u001b[1;33m)\u001b[0m\u001b[1;33m\u001b[0m\u001b[1;33m\u001b[0m\u001b[0m\n",
      "\u001b[1;32m<ipython-input-96-bf91f9c690b9>\u001b[0m in \u001b[0;36mjaccard\u001b[1;34m(a, b)\u001b[0m\n\u001b[0;32m      2\u001b[0m \u001b[1;33m\u001b[0m\u001b[0m\n\u001b[0;32m      3\u001b[0m \u001b[1;32mdef\u001b[0m \u001b[0mjaccard\u001b[0m\u001b[1;33m(\u001b[0m\u001b[0ma\u001b[0m\u001b[1;33m,\u001b[0m\u001b[0mb\u001b[0m\u001b[1;33m)\u001b[0m\u001b[1;33m:\u001b[0m\u001b[1;33m\u001b[0m\u001b[1;33m\u001b[0m\u001b[0m\n\u001b[1;32m----> 4\u001b[1;33m     \u001b[1;32mreturn\u001b[0m \u001b[0mlen\u001b[0m\u001b[1;33m(\u001b[0m\u001b[0ma\u001b[0m \u001b[1;33m&\u001b[0m \u001b[0mb\u001b[0m\u001b[1;33m)\u001b[0m \u001b[1;33m/\u001b[0m \u001b[0mlen\u001b[0m\u001b[1;33m(\u001b[0m \u001b[0ma\u001b[0m \u001b[1;33m|\u001b[0m \u001b[0mb\u001b[0m\u001b[1;33m)\u001b[0m\u001b[1;33m\u001b[0m\u001b[1;33m\u001b[0m\u001b[0m\n\u001b[0m\u001b[0;32m      5\u001b[0m \u001b[1;33m\u001b[0m\u001b[0m\n\u001b[0;32m      6\u001b[0m \u001b[0mprint\u001b[0m \u001b[1;33m(\u001b[0m \u001b[0mjaccard\u001b[0m\u001b[1;33m(\u001b[0m \u001b[0mset\u001b[0m\u001b[1;33m(\u001b[0m\u001b[1;33m[\u001b[0m\u001b[1;36m1\u001b[0m\u001b[1;33m,\u001b[0m\u001b[1;36m2\u001b[0m\u001b[1;33m,\u001b[0m\u001b[1;36m3\u001b[0m\u001b[1;33m]\u001b[0m\u001b[1;33m)\u001b[0m\u001b[1;33m,\u001b[0m \u001b[0mset\u001b[0m\u001b[1;33m(\u001b[0m\u001b[1;33m[\u001b[0m\u001b[1;36m2\u001b[0m\u001b[1;33m,\u001b[0m\u001b[1;36m3\u001b[0m\u001b[1;33m,\u001b[0m\u001b[1;36m4\u001b[0m\u001b[1;33m]\u001b[0m\u001b[1;33m)\u001b[0m\u001b[1;33m)\u001b[0m\u001b[1;33m)\u001b[0m\u001b[1;33m\u001b[0m\u001b[1;33m\u001b[0m\u001b[0m\n",
      "\u001b[1;31mKeyboardInterrupt\u001b[0m: "
     ]
    }
   ],
   "source": [
    "def most_affected_pair(lyrics_tokens, lyrics_stems):\n",
    "    pair = ()\n",
    "    maxval = 0\n",
    "    for i, (t1, s1) in enumerate(zip(lyrics_tokens, lyrics_stems)):\n",
    "        for j, (t2, s2) in enumerate(zip(lyrics_tokens, lyrics_stems), i + 1):\n",
    "            if abs(jaccard(t1,t2) - jaccard(s1,s2)) > maxval:\n",
    "                maxval = abs(jaccard(t1,t2) - jaccard(s1,s2))\n",
    "                pair = (i,j)\n",
    "    return pair\n",
    "\n",
    "song1, song2 = most_affected_pair(lyrics_tokens, lyrics_stems)\n",
    "\n",
    "print (\"Most affected pair is is:\", raw_dataset[song1][1], raw_dataset[song2][1])"
   ]
  },
  {
   "cell_type": "markdown",
   "metadata": {},
   "source": [
    "# Attempt 3: Term Frequency and Inverse Document Frequency\n",
    "\n",
    "\n",
    "We want to take into account the number of occurences of terms. Therefore we need to change our representation:\n",
    " - A song is vector of occurences\n",
    " - Similarity is ...\n",
    " \n",
    " \n",
    "To do so, we use a large matrix #songs x #terms."
   ]
  },
  {
   "cell_type": "markdown",
   "metadata": {},
   "source": [
    "### Build a vector space"
   ]
  },
  {
   "cell_type": "code",
   "execution_count": 129,
   "metadata": {},
   "outputs": [
    {
     "name": "stdout",
     "output_type": "stream",
     "text": [
      "16919\n",
      "{'accid', 'def', 'thrub', 'chopper', 'bumpi', 'rican', 'phycadel', 'unsouffl', 'bleedin', 'norweigian', 'funhous', 'gees', 'yoke', 'gram', 'diet', 'often', 'lead', 'hilaga', 'shineth', 'excess', 'zee', 'dispers', 'overcomin', 'gard', 'freak', 'lev', 'hang', 'klan', 'voi', 'deisel', 'afriad', 'unwind', 'evergreen', 'joanna', 'pleas', 'ojo', 'squirm', 'groovi', 'brotha', 'chateaux', 'dreamer', 'sanctuari', 'useless', 'cra', 'keepin', 'breezier', 'peaux', \"'one\", 'regal-eagl', 'float', 'unravel', 'vasser', 'dirti', 'jamai', 'swiftli', 'paralyz', 'spinman', 'harshli', 'ur', 'cipher', 'reactor', 'grindin', 'looki', 'squander', 'gatekeep', 'eternidad', 'dit', 'chooglin', 'lavish', 'doctor', 'tear', 'nap', 'osaka', 'marmalad', 'vista', 'scatter', 'murki', \"should't\", 'whoop-ee-doo', 'gnaw', 'dustpan', 'nameless', 'bo-bo-bo-boy', 'threaten', 'cosh', 'jojo', 'caramel', 'stamped', 'pina', 'wife', 'bobsl', 'methadon', 'bride', 'mirth', 'precipit', 'undoubtedli', 'franticli', \"cow'stal\", 'backseat', 'outfit', 'amen', 'ooohhhhhhh', 'radio', 'orneri', 'bei', 'childhood', '97', 'temtat', 'downsid', 'hershey', 'gemini', 'townhal', 'licens', 'disciplin', 'graviti', 'underway', 'batter', 'mtv', 'syracus', 'astral', 'exquisit', 'sandman', 'way-back-when', 'sink', 'valid', 'background', 'stimul', 'barsha', 'parachut', 'ascap', 'gospel', 'pergi', 'holland', 'free-walk', 'tobacco', 'eastern', 'continent', 'camouflag', 'paradi', 'saliv', 'redund', 'enterpris', 'needless', 'movi', 'iii', 'lee', 'shaven', 'orion', 'judah', 'cop', 'youth', 'huf', 'getin', 'malaria', 'croon', 'leopard', 'forbidden', 'brass', 'autri', 'splendour', 'solac', '1965', 'hasard', 'swank', 'honda', 'licker', 'spirit', 'beacon', 'soltanto', 'wrack', 'forgot', 'lonesom', 'one-room', 'expect', 'bumpkin', 'sunday', 'hounddog', 'hear', 'meehan', 'slit', 'paradin', 'beleiv', 'etwa', 'saga', 'depui', 'oscar', 'tarzi', 'tantal', 'platon', 'a-way', 'reach', 'lamh', 'gainswith', 'von', 'verdict', 'dingi', 'isaw', 'pada', 'feedback', 'ummmm', 'lanc', 'shubidiwap', 'troublesom', 'mond', 'stickshift', 'andrew', 'omit', 'ganun', 'blister', 'rhonna', 'fierc', 'rigid', 'forc', 'monk', 'shoe', 'leyna', 'faith', 'policeman', 'hardcor', 'procain', 'tuve', 'opium', 'lemon', 'davidson', 'sledg', 'pharaoh', 'reconsid', \"'neath\", 'bigger', 'shi', 'bale', 'a-bout', 'glenn', 'certainli', 'twenty-two', 'apollo', 'conilingu', 'valium', 'chocalata', 'china', 'preciou', 'hopeless', 'buryin', 'batucada', 'reachin', 'omaha', 'dramat', 'nadin', 'stockin', 'plunder', 'moonless', 'motor', 'bulletproof', 'vertigo', 'k-bar', 'januari', 'spot', 'more-insid', 'pre-hook', 'deal', 'mink', 'manic', 'jell-o', 'renown', 'stayin', 'platypu', 'napkin', 'marti', 'pag', 'ahoy', 'suppress', 'storag', 'adopt', 'hollow', 'fishermen', 'pedal', 'delici', 'reff', 'prickl', 'lace', '1963', 'bo-boy', 'bullsh', 'mishap', 'gavel', 'labi', 'longhorn', 'derri', 'trifi', 'painter', 'quicker', 'methan', 'restar', 'belgian', 'histoir', 'ate', 'bloodless', 'port-o-cal', 'stain', 'identifi', 'firecrack', 'leper', 'connu', 'ripe', 'peculiarli', 'forebod', 'spinn', 'dijalani', 'unexpect', 'raspberri', 'parfait', 'girl-watch', 'jealousi', 'ration', 'dicki', 'southampton', 'nitti', 'infraray', 'silhouett', 'okay', 'li-li-li-li-li-li-lin', 'oh-ho', 'winter', 'herrr', 'yanke', 'kid', 'neurot', 'size', 'shenandoah', 'tom', 'laugh', 'pussi', 'tore', 'laid-off', 'sorcier', 'chart', 'toilin', '3.30', 'launch', 'bah-boo-baby-bah-boo-bah-bay-mmm-bo-bay', 'spain', 'mclean', 'museum', 'bounc', 'hippopotamu', 'hah-hah', 'well-well-wel', 'ako', 'hitch', 'intak', 'butt', 'high-lif', 'g-pass', 'marmelad', 'sure', 'tatter', 'w', 'aid', 'innersexu', 'boogi', 'activist', 'date', 'anyomr', 'sickl', 'tangl', 'rave', 'puddl', 'frog', 'castro', 'homesid', 'riff', 'giraud', 'yak-a-ti', 'edsel', 'new-born', 'silli', 'vanderbilt', 'helpless', 'knife', 'gusto', 'cigar', 'conscious', 'freakshow', 'denver', 'reprehens', 'come', 'corazon', 'upset', \"l'un\", 'jackfrost', 'tulu', 'madmen', 'seduc', 'earthli', 'sophi', 'tersisa', 'umpir', 'peng', 'bila', 'atl', 'belmont', 'pro', 'ratrac', 'rudi', \"com'on\", 'menghilang', 'rca', 'glorifi', 'avail', 'lackaday', 'ethan', 'windshield', 'bustin', 'gross', 'karna', 'vent', 'dinin', 'mark', 'dumbstruck', 'blasphemi', 'pacifi', 'under-stand-', 'grist', 'needi', 'x12', 'slower', '25', 'hangers-on', 'autour', 'comeback', 'these', 'parkin', 'moist', 'thirty-two', 'day-r', 'immigr', 'swastika', 'angl', 'sugga', 'me', 'bower', 'geezer', 'greasi', 'well-known', 'nou', 'manteaux', 'swim', 'readi', 'divid', 'bli-blip', 'rendit', 'twentieth', 'pallor', 'crawl', \"try'na\", 'hough', 'pic', 'presqu', 'breed', 'close', 'keajaiban', 'tho', 'elderli', 'bye', 'oldest', 'ska', 'tip', 'conscienc', 'thrill', 'fenc', 'ihihiga', 'weiberg', 'chester', 'kerbsid', 'nugget', 'collaps', 'whini', 'oblivi', 'aroud', 'real-time-precis', 'regret', 'twat', 'beverli', 'nobodi', 'pickin', 'a-trag', 'computer', 'awoken', 'flickerin', 'whippoorwil', 'rippl', 'role', 'shing-a-ling-a-l', 'venu', 'graham', 'tongue-ti', 'oh-wo-oh', 'shelv', 'tomahawk', 'sorta', 'buzz', 'declin', 'disco-queen', 'cardno', 'threesom', 'hogger', 'ahh', 'kinki', 'mapalagay', 'pitch', 'resort', 'payola', 'retir', 'wimp', 'chin', 'mateless', 'cinnamon', 'promoooo', 'dignifi', 'unfold', 'nothing', 'pun', 'thyself', 'verbal', 'drizzi', 'peril', 'widemissourio', 'unlock', 'unearthli', 'chore', 'tigri', 'nessuno', 'baka', 'grunt', 'finito', 'ni-ther', 'troop', 'snore', 'flop', \"'enough\", 'moanin', 'heroin', \"'tale\", 'whoop', 'osama', 'riqu', 'sewin', 'turnaround', 'howi', 'bintang', 'tim', 'turmoil', 'idiot', 'doin', 'fatter', 'compre-hen-s', 'polaroid', 'comprenda', 'tenth', 'alexa', 'sculptor', 'cattl', 'lingeri', 'cafe', 'strobe', 'lunar', '9-11', 'agin', 'clare', 'grizzi', 'rut', 'news', 'withoutyour', \"'lac\", 'tackl', 'glimmer', 'pilgrim', 'cluster', 'demur', 'lawn', 'shubert', 'versatil', 'fleec', 'hidup', 'mallow', 'ahead', 'mensong', 'leonard', 'ripper', 'anonym', 'goldenrod', 'pitchfork', 'chevrolet', 'matur', 'bmm', 'betti', 'goa', 'nifti', 'behaiviour', 'seldom', 'floatin', 'horni', 'beaten', 'wrap', 'spruce', 'view', 'madman', 'trailer', 'lamont', 'extasi', 'a-pul', 'good-by', 'novelti', 'stonewal', 'secret', 'kini', 'sagittariu', 'adunana-n', 'denzel', 'tribut', 'graze', 'turtl', 'spacecraft', 'stength', 'trojan', 'locust', 'clear-head', 'bam', 'elf', 'undim', 'seven-year-itch', 'crime', 'qui', 'tayong', 'churp', 'cobbler', 'backup', 'evita', 'beetl', 'sap', 'sideman', 'tatap', 'sha', 'brough', 'berlabuh', 'cask', 'child', 'throughput', 'bitch', 'no-win', 'gop', 'manner', 'acclaim', 'til', 'affect', 'chewin', 'excieti', '85', 'putt', 'cof', 'delic', 'gc', 'charad', 'out', 'potenti', 'boat', 'susi', 'outlook', 'neatli', 'jawaban', 'gape', 'hang-up', 'spillin', 'britney', 'air', 'honestli', 'timberlak', 'workshop', 'canin', 'healer', 'middl', 'gordi', 'slop', 'guid', 'seriou', 'elvi', 'neighborhood', 'choosi', 'drillin', 'ethnic', 'chung', 'dimaggio', 'cheap', \"a'cryin\", 'intrins', 'coercion', 'goddamn', 'beatin', 'gal', \"'nuff\", 'domor', 'name', 'cle', 'tropicana', 'radar', 'overrid', 'eagl', 'galleon', 'willin', 'duvet', 'rekindl', 'lebih', 'honey', 'pearl', 'incorrectli', 'health', 'wrote', 'pakinggan', 'polo', 'vacanc', 'womankind', 'deprav', 'twee', 'boutcha', 'wrest', \"'tude\", 'garth', 'damnit', 'mass', 'prei', 'ramona', 'toc', 'scald', 'tetap', 'extra', 'trib', 'august', 'cocki', 'ar', 'thin', 'chug-a-lug', '1913', 'stir-crazi', 'drinker', 'primal', 'turnt', \"d'envi\", 'contour', 'july-in', 'pourtant', 'repress', 'wrinkl', 'sauga', 'diosc', 'failur', 'thompson', 'indiana', 'zit', 'shakedown', 'monopoli', 'apolog', 'po-poppin', 'variabl', 'tagal', 'parise', 'sardon', 'insanin', 'himalaya', 'american', 'surf', 'twenty-on', 'pulung', 'not-not-not-not', 'v-live', 'hangin', 'flair', 'vie', 'giaconda', 'sing', 'mamah', 'waltz', 'noblemen', 'half-forgotten', 'bowl', 'combin', 'misconceiv', 'worn', 'william', 'arkansa', 'posses', 'vive', 'shiver', 'thebounti', 'testicl', 'foretold', 'becky-wecky-oh', 'tremblin', \"won't-wo\", \"gen'ral\", 'spare', 'darwin', 'gutter', 'woogi', 'parallelworld', 'bandit', 'souli', 'approach', 'donat', 'brittl', 'thunder', 'try-i', 'echar', 'sniffi', 'few', 'sift', 'cathol', 'wilt', 'temper', 'boojum', 'skreeee', 'skin', 'tray', 'shootin', 'mont', 'jordan', 'kemunduran', 'salahku', 'jong', '1999', 'sabihin', 'carousel', 'slave', 'tick', 'bamboo', 'brim', 'portarlo', 'calend', 'especi', 'stroh', 'vote', 'gia', 'prari', 'blonder', \"d'un\", 'quackin', 'playoff', 'destini', 'nativ', 'nyata', 'brownsvil', 'runt', 'hannah', 'doggon', 'decent', 'shithous', 'hardwir', 'sana', 'heavi', 'porcupin', 'losin', 'possess', 'skyscrap', 'kinds-a', 'rovin', 'menac', 'stardom', 'chemistri', 'weee-ah', 'fa-fa-fa', 'rubbl', 'startin', 'wine-bar', 'shouldv', 'roughest', 'seven', 'frenzi', 'extrem', 'twinki', 'outstrech', '110', 'purs', 'patawad', 'gaug', 'metropoli', 'meantim', 'wipedown', 'normal', 'semen', 'later', 'joy', 'winnin', 'sasakay', 'dumb-be-dumb-dumb', 'cintamu', 'bocephu', 'forgetabout', \"why'know\", 'strut', 'singt', 'seeger', \"'er\", 'unscath', 'viciou', 'cross', 'grip', 'windrush', 'lettuc', 'catch', 'waaaaaaaaaaah', 'magnific', 'shinin', 'reap', 'marzipan', 'mhm', 'yah', \"s'embrass\", 'occupi', 'dure', 'aroo', 'hatinya', 'aggress', 'sticker', 'chosen', 'anchorman', 'garrett', 'sha-la-la-la', 'men', 'ali', 'purpl', '109', 'thot', 'pastel', 'housew', 'unw', 'mme', 'nag-iisa', 'entier', 'halv', 'dessert', 'hall', 'ett', \"l'espac\", 'mockingbird', 'characterist', 'target', 'shatter', 'tel', 'underpass', 'cotton-ey', 'nag-iisang', 'aladdin', 'crossway', \"'nam\", 'tidal', 'ceas', 'bombardi', 'grand-dad', 'angri', 'shakin', 'methuselah', 'suffoc', 'kafka', 'amigo', 'steak', 'mvo', 'symbolis', 'dress', 'sin', 'partytim', 'siriu', 'evangelina', 'unzip', 'mexicali', 'foreseen', 'torment', 'bogi', 'cassock', 'ooh-ah-ah-ah-ah-ah', 'gimmi', 'kri', 'i-hi', 'stringerti', 'driveway', 'groovin', 'voglio', 'harsh', 'backgammon', 'expir', 'y-o-u', 'bore', 'breakin', 'tweet-a-tweet', 'handl', '19', 'georeg', 'pla', \"j'avai\", 'other', 'repeal', 'frit', 'price', 'bud', 'unemploy', 'phillip', 'cook', 'ooh-oh-ohh', 'c', 'faster', 'pandangan', 'dunia', 'assembl', 'notic', 'guy', 'farther', 'format', 'took', 'sooner', 'eb', 'thirst', 'southern', 'sherri', 'lloyd-webb', 'midaway', 'inning', 'coral', 'intellectu', 'whooperwil', 'load', 'wynett', 'chenis', 'risen', 'blumen', 'under-estim', 'deceiv', 'stadium', 'all-you-can-eat', 'milki', 'storch', 'posi', 'curtin', 'minim', 'abitar', 'actor', 'twelfth', 'parol', 'chee', 'thumbtack', 'everyth', 'stuntdoubl', 'waycross', 'local', 'greek', 'sanggup', 'verdi', 'gabriel', 'whatchu', 'slure', 'oooohhh', 'afford', 'loui', 'theatr', 'soft', 'dati', 'sss-singl', 'johnson', 'giliw', 'taupin', 'onli', 'forget-me-not', 'parliament', 'wile', 'african', '2x4', 'hitchcock', 'youv', 'mainsail', 'hmmm', \"'gone\", 'bowel', 'breez', 'pushin', 'elain', 'sunglass', 'flighti', 'herbsman', 'european', 'want', 'untast', 'ackev', 'individualist', 'kudamba', 'squezer', 'a-honey', 'chanc', 'scrap', 't-bone', 'modestli', 'lawd', 'chariti', 'chanel', 'rollin', 'brodi', \"don't-car\", \"whadda'ya\", 'adject', 'hallelujah', '6', 'ottoman', 'remotiv', 'stick-bal', 'shrug', 'ledg', 'mmm-hmm-hmm-hmm-hmm', 'skinner', 'grandson', 'frost', 'intrigu', 'pasti', 'queda', 'raft', '4:30', 't', 'geneva', 'mimi', 'stunt', 'dinadakila', 'drug-fre', 'forgotten', 'sushi', 'six-below', 'abus', 'breast', 'ledge-star', 'charm', 'skavil', 'mascara', 'pinch', 'trillion-watt', 'stewart', 'bhuh', 'framingham', \"'yoy\", 'snowmen', 'break', 'psalm', 'leve', 'drip', 'carlo', 'oz', 'whilst', 'scum', 'util', 'news-stand', 'mong', 'neg', 'associ', 'moslem', 'jhene', 'winkin', 'armalit', 'mascot', 'trough', 'frat', 'misapprehens', 'downi', 'drama', 'morgan', 'moss', 'speedin', 'brilliant', 'burrito', 'shrinker', 'thank', 'ohio', 'cummin', 'ballroom', 'speak', 'tawdri', 'madeov', 'takeoff', 'religieus', 'becomin', 'colorblind', 'stonelik', 'kata-kata', 'atomospher', 'back-spin', 'mcswiney', 'duo', 'entr', 'acn', 'teardrop', 'getaway', 'facial', 'arti', 'safest', 'selv', 'special', 'finnal', 'lockeroom', 'steal', 'cyberot', 'oversight', 'hearin', 'pivot', 'giusepp', 'famili', 'macgyv', 'self-assur', 'ever-liv', 'aven', 'izzi', 'veranda', 'sheffield', 'welfar', 'tearless', 'gatlinburg', 'envis', 'yin', 'habia', 'homework', 'imagin', 'lava', 'decapit', 'viper', '69', 'matamu', 'thoes', 'unwound', 'smirk', 'slam', 'ember', 'improp', 'effort', 'sit', 'arn', 'misunderstand', 'bikini', 'hawaiian', 'sweeti', 'three-r', 'prend', 'ministri', \"i'ma\", 'aarhw-aarhw', 'cleft', 'anchor', 'dah-um-dah', 'openli', 'plowshar', 'sphere', 'peel', 'demis', 'hid', 'mornin', 'flunt', 'injur', 'ostrich', 'jive', 'classi', 'yell', 'achin', 'tourism', 'bandana', 'thud', 'disown', 'hackensack', 'theft', 'ton', 'stutter', 'shown', 'ingin', 'unh', 'perri', 'didddd', 'charleston', 'document', 'riverview', 'terisolasi', 'stranglehold', 'panpip', 'seafood', 'tunisia', 'palad', 'booz', 'spellbound', 'truth', 'featur', 'cowhand', 'intuit', 'xana', 'overheard', 'magic', 'dwight', 'partisan', 'brazilian', 'betrix', 'funnel', \"mem'ri\", 'technolog', 'twentiest', 'nine-year-old', 'jambore', 'acki', 'outrag', 'gabba', 'studio', 'sill', 'greasepaint', 'burg', 'sei', 'o-babi', 'thom', 'jazzmen', 'splinter', 'shauna', 'beachi', 'immer', 'futur', 'ding-dong', 'collect', 'fur', 'dm', 'wendi', 'bernardino', 'disrob', 'paraciera', 'whitley', 'vaselin', 'descript', 'doot-doot', 'idea', 'benign', 'ex-ballet', 'reflection-so', 'jawn', 'well-oh', 'kitten', 'christendom', \"we'r\", 'depot', \"'gainst\", 'minamasdan', 'mamaya', 'dunk', 'libingan', 'perspect', 'dikeruhnya', 'snorkel', 'notifi', 'a-wait', 't-t-talk', 'tiresom', 'michel', 'diego', 'duka', 'winslow', 'herself', 'hammerin', 'classifi', 'breath', 'lightin', 'fractur', 'oooooooh', 'pinstrip', 'rage', 'uhu', 'aftermath', 'annale', 'british', 'getcha', 'onto', 'tick-tock', 'resoundingli', 'therapist', 'unmistak', 'oh-oh-oh-oh', 'watchman', 'nagmamah', 'whitewal', 'chimmy-chuck', 'bat', 'reluctantli', 'staff', 'ortmund', 'stormi', 'b.i.g', 'smithi', 'halfway', 'rest', 'divorce', 'mmh', 'kraka', 'chimpanzee-si', 'fum', 'mendl', 'optimist', 'debug', \"mav'rick\", 'conestoga', 'mmm', 'ciao', 'self-confid', 'eldorado', 'pelo', 'pleasin', 'warsh', 'aback', 'frumpi', 'subway', 'russel', 'fuzzi', '438', 'three-chord', 'under-und', 'ventil', 'fc-ebc-fc', 'spender', 'adesso', 'comm', 'turban', 'agenc', 'proven', 'matata', 'yeayea', 'acoust', 'suburb', 'persian', 'turner', 'crackl', 'cherub', 'momento', 'wala', 'sugar', 'hatchet', 'state', 'mapigilan', 'aspirasi', 'fix', 'pensieri', 'misspend', \"m'aim\", 'tearin', 'flexibl', 'flower-pow', 'mommi', \"t'arriv\", 'drench', 'kindli', 'god-fear', 'yourselv', 'janet', 'switchblad', 'coach', 'manchest', 'tycoon', 'fedora', 'galact', 'pleasur', 'gin', 'melissa', 'sympathet', 'motorci', 'temperatur', 'piti', 'ivan', 'told', 'hurdl', 'strafe', 'gain', 'toil', 'incandesc', 'haria', 'boomin', 'definit', 'against', '35', 'magari', 'hoodoo', 'deodor', 'highburi', \"'black\", 'barb', 'cage', 'novic', 'wee', 'dat', 'crew', 'militia', 'dimens', 'gentlemen', 'gotcha', 'dummi', 'roi', 'starlet', 'filler', 'splurg', 'brian', 'samurai', 'nairobi', 'po-po-pop', 'ivori', 'bonni', 'bumma', 'wildflow', '38', 'adieu', 'hell-fir', 'extrordinari', 'haggard', 'leisur', 'choo', 'cramp', 'trey', 'champagn', 'doolin', 'distanc', 'transport', 'massa', 'emptier', 'renegad', 'legendari', 'dotti', 'whattaya', \"o'lear\", 'bach', 'cymbal', 'numbskul', 'streetplay', 'boldli', 'true', 'axe', 'gorillaz', 'imf', 'flag', 'granit', 'wit', 'rooster', 'waif', 'leak', 'mount', 'handglid', 'trifl', 'societi', 'eighteen-sixti', 'file', 'diddley', 'jubil', 'light', 'profit', 'tahiti', 'g-o', 'guard', 'chain', 'rubbin', 'content', 'anton', 'pissant', 'walter', 'hey-ey', 'givin', 'fadda', 'wha', 'eden', 'whisk-broom', 'a-1', 'happili', 'broom', 'rope', 'seamless', 'drumstick', 'david', 'sheik', 'frigid', 'nient', 'circumnavig', 'transylvania', 'deari', \"'mon\", 'sebar', 'ditty-bop', 'incens', 'colour', 'seminol', \"n'er\", 'nostalgia', 'teemu', 'meddl', 'mannequin', 'ascend', 'everyodi', 'hotti', 'oughter', 'shag', 'carmelita', 'reciproc', 'lesser', 'attend', 'fiendin', 'incongru', 'loew', 'synthes', \"'wish\", 'cave', 'dime', 'firmwar', 'whinin', 'rikki', 'ark', 'unrealist', 'connoisseur', 'northern', 'includ', 'a-wheezin', 'portray', 'steamboat', 'gandhi', 'hollerin', 'rule', 'nacho', 'venal', 'unnecessari', 'elud', 'fiend', 'heir', 'deadliest', 'paul', 'slimi', 'alfr', 'cheer', 'cuckoo', 'otherwis', 'pensaba', \"they'r\", 'maladi', 'insecur', 'jitney', 'wipe', 'bick', \"'co\", \"o'tea\", 'fool', 'camera', 'couldnt', 'triggerman', 'summertim', 'globe', 'ewigkeit', 'known', 'weezi', 'aubrey', 'poi', \"'paint\", \"doesnt't't\", 'lose', 'candyland', 'yaweh', 'everyon', 'warmth', 'baggi', 'winder', 'fairest', 'jeer', 'pathway', 'spire', 'chicken', 'father-son', \"t'ward\", 'pathet', 'trebl', 'cryyi', 'card-play', 'koop', 'be-3', 'buaian', 'victrola', 'mainstream', \"ev'ri\", 'non-believ', \"groc'ri\", 'gambl', 'murderess', 'asia', 'knot', 'ooo-weeoo', 'cousin', 'lou', 'dilig', 'biff', 'guil', 'suckin', '47', 'merl', 'gent', 'oblig', 'also', 'resolut', 'nga', 'studi', \"o'brian\", 'comedi', 'uyless', 'gangway', 'upstream', 'snowfal', 'sailng', 'level', 'a.b', 'li-li', 'trude', 'remindin', 'donk', 'ahh-haa', 'a-pretti', 'buttonhol', 'choir', 'untri', 'wham', 'poke', 'abundantli', 'hidden', 'scene', 'widow', 'mystic', 'distingu', 'peachi', 'birdi', 'suze', 'pillbox', 'bient', 'giraff', 'indestruct', 'pentagon', 'a-hummin', 'church', 'ambiti', 'jatuh', 'pini', 'wicked', 'consult', 'amsterdame', 'queen', 'wouldnt', 'fruit', 'real', 'victim', 'rectifi', 'class', 'r.i.p', 'pogo', 'proceed', 'red-nos', 'pernah', 'ought-a', 'flake', 'tuesday', 'sharp', \"d'abord\", 'snug', '1950', 'penderazdown', 'hanna', 'gypsi', 'simplifi', 'best', 'petit', 'vieux', 'membasahi', 'ii', 'mizz', 'anthil', 'drill', 'jerusalem', 'teat', 'sue', 'shotgun', 'purr', 'runyon', 'merg', 'lamp', 'fi', 'ruth', 'three', 'hippi', 'hand-stash', 'spider-web', 'forthcom', 'unlimit', 'sneezi', 'uh-huh', 'd.c', 'waggl', 'neighbour', 'desiderio', 'newspap', 'hinihil', 'sell-bi', 'brine', 'croissant', '40', 'payday', 'disarray', 'relat', 'effect', 'lue', 'daylight', 'subtleti', 'bald', 'sped', 'oo', 'feat', 'paint', 'mrr', 'dedic', \"l'itali\", 'flap', 'spoil', 'laundri', 'shovin', 'meat', 'iran', 'punk', 'liberac', 'inquir', 'imposin', 'trader', 'kato', '11', 'majesti', 'wretch', 'likelihood', 'starlight', 'vacat', 'romancin', 'como', 'l', 'f1', 'kucoba', 'barzini', 'fourth', 'tock', 'aaaahh', 'microbu', 'good-night', 'skyward', 'frown', 'que', 'piannissimo', 'charg', 'whi', 'gap', 'ngayo', 'heather', 'sympton', 'unruli', 'umibig', 'add', 'day-in', 'heifer', 'chambr', 'cell', 'visin', '23', 'freight', 'allianza', 'otha', 'sandali', 'mixtap', 'wanderin', 'uptight', 'sylvian', 'corncob', 'sakit', 'ormai', 'tommorow', 'whiskey', 'interven', 'clapton', 'scoot', 'daughteraway', \"j'aurai\", 'yare', 'shortgun', 'blunder', \"why'self\", 'siam', 'clarinet', 'hound', 'eagerli', 'diplomat', 'nervou', 'fall-en', 'ready-ready-ready-readi', 'skateboard', 'wooooo', 'louie', 'contain', 'she', 'a-playin', 'janey', 'bugger', 'cleans', '700', 'whoever', 'eiron', 'shouldst', 'preach', 'pen', 'vein', 'steep', 'lantern', 'returnin', 'magkahiwalay', 'native-born', 'lambingan', '2-trey', 'ought', 'disord', 'bag', 'jimmi', 'spiritu', 'fou', 'boo-noo-noo', 'deliber', 'hindenberg', 'lie-high-high-high', 'clod', 'pistol', 'april', 'illeg', 'arsen', 'matrimoni', 'himb', 'dollarsaway', 'ir', 'amanda', 'swathi', 'wed', 'unti', 'seem', 'sebagainya', 'monetari', \"l'enfer\", 'fire-proof', \"na't\", 'apparel', 'takin', 'golden', 'ne', 'de-fen-si-bl', 'twelv', 'hoe', 'seashor', 'mistleto', 'congoland', 'sixty-on', 'play-off', 'clipper', 'urban', 'daddi', 'proteg', 'radioact', 'disappear', 'luha', 'matthew', 'clyde', 'weevil', 'rim', 'deva', 'darn', 'dupa', 'rushin', 'fro.thi', 'claridad', 'hairthat', 'in-between', 'grotto', 'witchcraft', 'exclus', 'carr', 'gruesom', 'apprehend', 'alabami', 'sigh', 'handspr', 'wordli', 'practis', 'guilt', 'straight', 'darbi', 'mutha', 'dancer', 'tadpol', 'commi', 'potato', 'lurk', 'dwele', 'learnt', 'fendi', 'playth', 'clean-cut', 'throwback', 'monoton', 'ohm', 'holey', 'oo-oo-ooh', 'stammer', 'studda', 'h-bomb', 'unpleas', \"'feel\", 'black', 'asta', 'aesthet', 'ride', 'currenc', 'staight', 'cygnu', 'two-wheel', 'sid', 'myself', 'lizzi', 'freez', 'ripensando', 'too-too-mm-dah-dah-dah', 'mafia', \"'ere\", 'whoooo', 'clamp', 'nickel', 'graveyard', 'ranger', 'thunderstruck', 'a-fix', 'engin', 'abound', 'fixer', 'stow', 'transit', 'voyant', 'sucha', 'verv', 'enigmat', 'pulsat', 'usher', 'honki', 'six-pack', 'rabbit-trap', 'quisl', 'parkland', 'burgundi', 'bereav', 'lame', 'desir', 'prolli', 'dash', 'stimmen', 'gonn', 'clamor', 'sculli', 'guardian', '1917', 'serengeti', 'molecul', 'hand', 'diggin', 'detroit', 'fertil', 'wateraway', 'spotlit', 'dosey', 'steepl', 'forese', 'shone', 'thrown', 'cheek', 'each', 'eyelin', 'bulbasaur', 'a-bang', 'truer', 'flame', 'peepshow', 'bewild', 'metropolitan', 'mhmh', 'still.no', 'kayo', 'fior', 'ake', 'runni', 'consuelo', 'fleet', \"stayin'togeth\", 'loon', 'huddlin', 'bagism', 'sash', 'dude', 'chargin', 'oucha-ma-goucha', 'llorar', 'sondheim', 'wilson', 'towel', 'hangang', \"j'ai\", 'brood', 'shoutin', 'berserk', 'shirt', 'script', 'youknow', 'cotillion', 'yum', 'aunt', 'silveri', 'cradl', 'v8', 'tuoi', 'ahhhh', 'dismiss', 'pum', 'revlon', 'heaven-knows-when', 'shellac', 'split', 'blink', 'wisconsin', 'charger', 'stun', 'charmer', 'gershwin', 'madam', 'strap', 'deciev', 'pentium', 'reynold', 'sought', 'dreamin', 'tot', 'newborn', 'guillotin', 'pet-pail', 'punish', 'sausag', 'grape', 'f-are', 'never-never-nev', \"l'ail\", 'rhyme', 'irrit', 'bodi', 'preeee-zent', 'lack', 'detector', 'streamin', 'side', 'trippin', 'oui', 'drool', 'norman', 'morrow', 'war', 'christen', 'kansa', 'tragiqu', 'prosper', 'greatest', 'pore', \"l'ensorcel\", 'slum', \"don't\", 'troubadour', 'damnat', 'soir', 'shit', 'constantli', 'bestrid', 'guru', 'overweight', \"d'accord\", 'palazzo', 'better', 'holliday', 'mor-ore', 'macarthur', 'creep', 'wicki', 'echo-trey', 'pocahonta', 'alibiin', 'm2', 'a-poppin', 'market', 'peyton', 'wa-watch', 'carin', 'lawnmow', 'gangsta', 'infinit', 'yearli', 'wate', 'fc', \"'babi\", 'shackleton', 'strainin', 'unfamiliar', 'finchley', 'chimpanze', 'unmark', 'peron', 'perti', 'christ', 'morn', 'crucifi', 'newtonvil', 'bypass', 'chacaranda', 'unworldli', 'accept', 'kringl', 'elv', 'ooz', 'mi-i-i-i-ind', 'englishmen', 'trans-continent', 'respect', 'sock', 'tang', 'baxter', 'chauffeur', 'carefre', \"s'makin\", 'elit', 'poof', 'sun', 'grind', 'reject', 'prone', 'flock', 'hatch', 'snot', 'about', 'rhino', 'willing', 'darlington', 'deiti', 'a-clappin', 'gene', 'friendli', 'dive', 'rancid', 'dancefloor', 'platter', 'mime', 'pressin', 'bullhead', 'tempter', 'hed', 'daaaaay', 'est', 'saitenspiel', 'cagey', 'backflip', 'way-out', 'sellup', 'high', 'sequenc', 'sympathi', 'tiger', 'seren', 'intern', 'jellybean', 'disney', 'ludacri', 'rin', 'io', 'gut', 'spoken', \"qu'on\", 'pere', 'rearrag', 'beep', \"falli'l\", 'hella', 'cochran', 'dwell', 'slaughterhous', 'wrongli', 'didnt', 'roomi', 'oiseau', 'wino', 'fantaz', 'vultur', 'doo-yoo-doo-dun-doo', '92', 'slugger', 'amarillo', 'flagston', 'bassoon', 'breakpoint', 'track', 'defi', 'stephen', '4x', 'inject', 'sweetli', 'incap', 'hunky-tonkey', 'pleasantli', 'hanch', 'sparkler', 'eggnog', 'they', 'dammit', 'eva', 'rit', 'starry-ey', 'deliqu', 'loft', 'berri', 'winner', 'o-oh', 'sayonara', 'queer', 'teeth', 'robbi', 'washington', 'yep-yep', 'g-spot', 'religh', 'peraduan', 'froze', 'blessin', 'ownership', 'sherrif', 'creatin', 'ima', 'constanc', 'stole', 'albuquerqu', 'arista', 'beaver', 'vorsprung', 'che', 'gris-gri', 'homerun', 'sauc', 'te', 'fizzi', 'bahama', \"ever'th\", 'pit', 'bet', 'cellar', 'mandolina', 'yesterday', 'climat', '737', 'ruang', 'megaphon', 'nagbago', \"i'am\", 'hustl', 'gratia', 'thirteenth', 'buah', 'assum', 'frustrat', 'shortag', 'streetlight', 'mighti', 'diddi', 'jungl', 'parta', 'ivr', 'overhead', 'chi', 'pissin', 'mown', 'strippin', 't.gentri', 'cloven', 'fucker', 'fixtur', 'nope', 'son', 'fare', 'foreverand', 'barn', 'afar', 'mulligan', 'unifi', 'challeng', 'tyrann', 'samson', 'flare', 'atlanta', 'byway', 'yank', 'serpent', 'midget', 'rougher', 'logic', 'aloft', 'chapstick', 'humpin', 'mayor', 'jerom', '4d', 'quello', 'stay-in', 'pensai', 'calomin', 'maarch', 'clearli', 'fleasi', 'grinstead', 'chee-oo', 'tak', 'da-da-da', 'co-direct', 'indent', 'lettin', 'dobro', 'safe', 'philli', 'fanfar', 'pronounc', 'fair-the', 'cad', 'moodi', 'cali', 'infant', 'backdrop', 'coke', 'accordingli', '20-mile', 'la-aa-aac', 'wooaah', 'fryin', 'chew', \"'cross\", 'wroof-wroof', 'ture', 'suntan', 'scandal', 'gin-ti', 'terbelenggu', 'fing', 'oooohhhh', 'sexi', 'hoop', 'chainsaw', 'pleasant', 'brigad', 'yucki', 'pimpin', 'supris', 'douc', 'grazi', 'lorrain', 'disclos', 'hand-me-down', 'detail', 'ticklish', 'nagkatagpo', 'awit', 'hooo', 'hater', 'manchu', 'windfal', 'liegt', 'ladenaway', 'lauten', 'castaway', 'yellin', 'warm', 'downstat', 'river', 'newlif', 'ruff', 'follow', 'robert', 'dominum', 'homecom', 'jfk', 'exalt', 'acm', 'papalayo', 'bub-by', \"'you\", 'ooooooooooh', 'arrog', 'dine', 'earl', 'firenz', 'yeux', 'rome', 'couth', 'sai', 'bookstor', 'schoolin', 'tran', 'no-no-no-no', '2000', 'judi', 'tarantula', 'sampson', 'zoom', 'norm', 'ideal', 'jokin', 'misty-ey', 'smokin', 'further', 'backyard', 'practic', 'domin', 'juliet', 'visionari', 'slap', 'fledg', 'crass', 'portugues', 'yes-yes-y', 'bedsid', 'rain.that', 'bluebeat', 'delani', 'x2', 'australia', 'swan', 'sembl', 'feathercan', 'himmel', 'brruup', 'chloe', 'walkin', 'compliment', 'h-a-t-', 'studyin', 'burlap', 'wrench', 'blanket', 'noi', 'network', 'mason', 'mm-hmm', 'a-on', 'raccoon', 'bittersweet', 'five-year-old', 'campaign', 'measur', 'twa', 'reggi', 'byt', 'kelz', 'mukha', 'bukanlah', 'sixteen', 'optimu', 'prophesis', 'mistle-to', 'jone', 'feud', 'improb', 'michelob', 'beat-up', 'bound', 'daili', 'mound', 'clown', 'humor', 'claric', 'czar', 'da-day', 'jelli', 'wrapper', 'harusnya', 'supperclub', 'bello', 'counsler', 'cellophan', 'nanay', 'paddl', 'emori', 'undistinquish', 'mann', 'labor', 'dimand', 'sheet', 'americard', 'silver', 'reconstruct', 'sky', 'uh-oh', 'muff', 'coaster', 'lowest', 'newer', 'minaret', 'lesson', 'revolt', 'nafasku', \"'ya\", 'beal', 'queasi', 'bein', 'pull', 'wearin', 'creagho', 'aguilera', 'safari', 'nippl', 'unruffl', 'remark', \"'leav\", 'gizzard', 'bunker', 'crest', 'a-team', 'buri', 'maroon', 'underp', 'fret', 'magnifiqu', 'hook', 'pag-asa', 'medal', 'outta', 'interrupt', 'kiddi', 'maaan', 'hurri', 'jogger', 'ageless', 'carv', 'erd', 'crucifix', 'confusin', 'dentur', 'jail', 'arabesqu', 'impli', 'reason', 'jackknif', 'crosbi', 'cd-rom', 'overdos', 'diamond-hard', 'landlord', 'mosquito', 'dutch', 'passion', 'egocentr', 'deja', 'granddaddi', 'hihingin', 'suka', 'exe', 'catwalk', 'ce', 'shoal', 'stockyard', 'rebuild', 'mabel', 'acut', 'rhapsodi', 'hon', 'fargin', 'supermen', 'not', 'half-heart', 'rapper', 'enfant', 'kingdow', 'argentino', 'ooooooooooooohhhhhh', 'flush', 'frankenstein', 'semua', 'beetlebum', 'ritmo', 'realiz', 'ganito', 'ju-you-you-you-uic', 'all-right', 'wool', 'thicket', 'revoir', 'pedigre', 'ahhhhhhhhhhhh', 'enraptur', 'tall', 'hashtag', 'said', 'sleazi', 'credibl', 'aah..oh', 'ac.guitar', 'cot', 'chalk', 'certitud', 'psych', 'flirtin', 'vapor', 'whe', 'sou', 'tool', 'thinkin', 'hoppin', 'virginia', 'stylish', 'kknow', 'sara', 'wa-wa', 'coup', 'coppin', 'voices-your', 'corneliu', 'jolt', 'prix', 'danni', 'sisa-sisa', 'bullforg', 'minni', 'kommt', 'barcelona', 'rocket-eight', 'seventi', 'give', 'aggrav', 'shanti', 'buffet', 'walk', 'gangster', 'dovey', 'toodl', 'someplac', 'railway', 'brink', 'olli', 'the', 'soo', 'g.t', 'berlin', 'recip', 'dasher', 'sahaja', 'chord', 'relentlessli', 'him', 'monaco', 'rude', 'deserv', 'whit', 'acr', 'garente', 'ziegfeld', 'bread', 'magazin', 'homeit', 'kommand', 'food', 'terbungkam', 'frankincens', 'scientist', 'purest', 'simian', 'provin', 'heffalump', 'tango', 'omin', 'utah', 'milo', 'tradin', 'puls', 'hakuna', 'lo-ohnli', 'exert', 'auw', 'wondr', 'cooper', 'edith', 'far-look', 'loneli', 'denni', 'perder', 'come.might', 'mackay', 'prado', 'fame', 'vite', 'repeat', 'mammoth', 'nakaraang', 'cancer', \"o'donnel\", 'picket', 'sophist', 'shorti', 'candl', 'ulster', 'macro', 'sizzl', 'disc', 'hidin', 'baggag', 'spaced-', 'dyin', 'chrome', 'twirl', 'tumindig', 'thrust', 'dion', 'alfredo', 'gf', 'dreamboat', 'jihad', 'third', 'catipillar', 'obvious', 'd.j', 'synthet', 'parapaleg', 'absolv', 'over-r', 'fluff', 'bygon', 'feudal', 'luncu', 'fleme', 'dwarf', 'bouncer', 'unclear', 'perih', 'perfum', 'snapper', 'anyon', 'conclus', 'fixat', 'raini', 'baba', 'squirrel', 'me1', '1-2-3-4-5-6-7a.m', 'portmento', 'coastin', 'kong', 'byroad', \"gainin'on\", 'erni', 'like-lik', 'martini', 'minh', 'adapt', 'davi', 'kingdom', 'remov', 'espana', 'shrivel', 'polish', 'ami', 'snake', 'hometown', 'checker', 'hackl', 'furur', 'laughter', 'bersama', 'traitor', 'imma', 'k.i.m.o.n.o', 'axl', 'wail', 'which', 'accomplish', 'defer', 'berdua', 'haa', 'beba', 'gump', 'snuggi', 'buffalo', 'bulg', 'thousand', 'cry-cry-cri', 'lidah', 'bathin', 'musk', \"'aint\", \"bird's-nest\", 'hurrah', 'nul', 'jean', 'aye', 'headlin', 'cecilia', 'neck', 'dream', 'skirt', 'bailey', 'northwest', 'cut', 'immobil', 'enought', 'zombi', 'wa', 'corps', 'ident', 'candls', 'oooooooo', 'billow', 'back-end', 'mid', 'percfect', 'pace', 'falter', 'perch', 'pencil', 'johnstown', 'articul', 'lightenin', 'tit', 'bumbl', 'meninggalkan', 'tinsel', 'big-ey', 'natur', 'sweeter', 'sweden', 'basketbal', 'keen', 'magnum', 'mary-ann', 'visor', 'truckdriv', 'enorm', 'minsan', 'hellish', 'entomb', 'girli', 'lucid', 'cup', 'breakaway', 'reliev', 'realli', 'schoolgirl', 'beseech', 'ipod', 'chihuahua', 'differ', 'and-a-two', 'hair-do', 'pod', 'wadi', 'questionin', 'mathemat', 'mo', 'woul', 'rosari', 'pflug', 'casket', 'menanti', 'fell', 'ghost', 'buy', 'fountain', 'goebbel', 'itu', 'wring', 'appear', 'misguid', 'momo', 'factori', 'roleplay', 'dual-quad', 'angelo', 'invent', 'right.mi', 'furiou', 'dulu', 'sparkel', 'al', 'wizz', 'sssh', 'yow', 'jo', 'becom', 'paz', 'provid', 'menghapu', 'unreleas', 'indian', 'well-b', \"j'aim\", 'youngblood', 'berarti', 'around', 'kiddin', \"c'est\", 'slightest', 'moi', 'quotat', 'theirhom', 'carelessli', 'newsstand', 'masculin', 'marc', 'ail', 'kindr', 'solitud', 'pier', 'seventy-nin', 'pacman', 'comer', 'feelin', 'polychronopol', 'ya-ya', 'enter', 'plow', 'flow.it', 'confesar', 'diujung', 'wig', 'jsut', '2:1', 'polythen', 'vejez', 'washin', 'nevermor', 'spun', 'eleanor', 'came', 'creatur', 'sky-ris', 'stub', 'unreal', '100', 'voit', 'firm', 'rockabilli', 'dig', 'followaway', 'payphon', 'terrac', 'hysteria', 'coo', 'riker', 'smear', 'yearn', 'mother', 'likeli', 'ninety-two', 'hamburg', 'lank', 'low-lif', 'milman', 'butterfli', 'beet', 'twenty-f', 'nevertheless', 'awaitin', 'rj', 'filigre', 'yimmini', 'tentacl', 'franklin', 'strass', 'ash', '175', 'repair', 'flirtat', 'sloe', 'documentari', 'dagger', 'membership', 'unordinari', 'a-blowin', 'keyboard', 'hundred-acr', 'i.o.u', 'household', \"wond'rin\", 'sr', 'payload', 'courtney', \"'head\", 'sensualist', 'panahon', 'sorrow', 'tennesse', 'gr', 'velvet', 'crouch', 'two-step', 'interscop', 'mi', 'rarin', 'm-o.but', 'nineti', 'mefor', 'psychodelis', 'miel', 'celeb', 'sprinkl', 'yeaaaah', 'a-havin', 'langkahku', 'incur', 'bye-by', 'boogey', 'negoti', 'deed', 'indigo', 'homm', 'period', 'timesback', 'drake', 'arnold', \"could'nt\", 'traver', 'changin', 'mabuhay', 'unencumb', 'pat', 'nohow', 'usedbut', \"d'ya\", 'suspici', 'youd', 'daze', 'yukon', 'catherin', 'ice', 'cooin', 'era', 'yeh-o', 'othello', 'caminar', 'deflat', 'devot', 'hunyak', 'mobster', 'doo-doo-wop-wop', 'againi', 'friend', 'singin', 'frighten', 'silhou', 'compost', 'utmost', 'tapi', 'prison', 'nastassia', 'jauh', 'awkward', \"'hello\", 'adalah', 'preacher', 'ayer', 'braggart', 'strayin', 'butter', 'haingin', 'brag', \"'61\", 'rippin', 'glasgow', 'explos', 'freewheel', 'ahhhhhh', 'holli', 'spaghetti', 'delight', 'waiter', 'sassi', 'rio', 'sherwood', 'kwai', 'op', 'yesl', 'dumb-dumb', 'charmant', 'baselin', 'sombong', 'regrettin', 'coffe', 'ventri', 'holdin', 'lullaby', 'basic', 'snoop', 'dalangin', 'repent', 'galant', 'etch', 'nite', 'synchron', 'crayin', 'no-on', 'path', 'pulsford', 'easili', 'good-look', 'kook', 'teen', 'harold', 'kiss-kiss', \"j'attend\", 'nintendo', 'walau', 'rainbow', 'satan', 'ludenvil', 'balik', 'busi', 'amo', 'pullin', 'stepto', 'mountainsid', 'b-b-bin', 'hangup', 'misl', 'repetit', 'montain', 'hambanya', 'connect', 'croi', 'age', 'clue', 'neckin', \"i'v\", 'mountain', 'bic', 'plate', 'beaujoli', 'waddl', 'whap-whip-whip-whip', 'jill', 'dt', 'clift', 'butterbal', 'hygien', 'adam', 'union', 'circum', 'cd-singl', 'biaz', 'thee', 'nerv', 'trimm', 'hoaxer', 'two-bit', 'join', 'feloni', 'steaigt', 'tai-chi', 'habari', 'ohhh', 'warm-heart', 'slump', 'shape', 'jenni', 'enrich', 'avril', 'navel', 'attorney', 'kennedi', \"l'enfeminin\", 'runout', 'benjamin', 'souint', 'infin', 'rite', 'daydream', 'tuviera', 'mea', 'how', 'passag', 'anyhow', 'lever', 'tiara', 'attendion', 'tsunami', 'roof', 'bitsi', 'grace', 'a-diggin', 'padamu', 'fragranc', \"'open\", 'bonfir', 'spa', 'empti', 'vulner', 'ora', 'matagpuan', 'ach', 'strewn', 'reconcil', 'twenty-four', 'jewelri', 'hendrix', 'chameleon', 'syndic', 'oxi', 'hostess', 'pond', 'greedi', 'million-dollar-man', 'famin', 'dimpl', 'plymouth', 'baptist', 'multi-n', 'rinkin', 'lonesome-heart', 'peut', 'cong', 'muddi', 'oo-oozin', 'media', 'lick', 'quarter', 'aha-ahaaa', 'ffff', 'purchas', 'ladbrok', 'womp', 'wassup', 'therapi', 'liv', 'cypress', 'cuz', 'hemispher', 'darken', \"'tuk\", 'ich', 'gunshot', 'sassafra', 'veteran', 'flagstaff', 'biz', 'peas', 'sicken', 'joltin', 'trump', 'annual', 'bae', 'nei', 'leicest', 'watermelon', 'macaqu', 'lamar', 'oh-a-la-la-la', 'belt', 'yall', 'pierr', 'person', 'apologis', 'spin-off', 'rink', 'livin', 'drove', 'windowless', 'fizz', 'irrespect', 'ee-ya', 'dvd', 'peasant', 'banquet', 'defect', 'razor', 'hemingway', 'do-re-mi', 'fro', 'stifl', 'gate', 'longest', 'x-ma', 'a-kissin', 'corvett', 'oddl', 'jubile', 'fact', 'dismal', 'dissect', 'decis', 'bitti', 'copper', 'elast', 'aaa', 'blackplanet', 'regent', 'limosuin', 'salisburi', 'beau', 'b-i-n-g-o', 'alchemist', 'missin', 'tab', 'apathi', 'knew', 'vinyl', 'ussr-beatl', 'gland', 'duel', 'bitterest', 'gadd', 'hush-a-by', 'cliff', 'conduct', 'johnston', 'polyest', 'sunlit', 'waverley', 'surround', 'boot', 'krishna', 'long-term', 'verg', 'freakin', 'iri', \"l'appel\", 'matter', 'eighty-f', 'mor-or-or-or-or', 'spine', 'standin', 'wait', 'hopelessli', 'videt', 'spud', 'plantat', 'unnerv', 'rasputin', 'though', 'pint', 'bounti', 'hardship', 'linguist', 'telegram', 'undi', 'curbston', 'splash', 'focus', 'standard', 'overcam', 'figment', 'decreas', 'nomin', 'promiscu', 'among', 'cuirass', 'conductor', 'hueklebuck', 'unwel', 'peacham', 'gelisah', 'upstair', 'www', 'memorychoru', 'actin', 'swear', 'charcoal', 'aural', 'dinah', 'kailangan', 'coupon', 'girl.sh', 'crutch', 'klnow', 'dose', 'misti', 'cancellar', 'fill', 'ugli', 'closer', 'catastroph', 'well-f', 'unperfect', 'sam', 'muss', 'crumpl', 'disturb', 'francai', 'inconnu', 'mourn', 'gravi', 'paladin', 'archer', 'brotherhood', '9-29', 'soho', 'walk-up', 'naver', 'fleetwood', 'hemlin', 'rise', 'graph', 'dew', 'eskimo', 'levon', 'rucku', 'nya', 'tien', 'vintag', 'to', 'travlin', 'centigrad', 'meddlesom', 'misconcept', 'reborn', 'tornado', 'enchant', 'talkin', 'napoli', 'scarc', 'hoo-oo', 'warden', 'ba-aa-aad', 'pup', 'maipahayag', 'muppet', 'grapefruit', 'surrend', '98', 'mississippi', 'giddy-up', 'nat', 'musket', 'similiar', 'mandalay', 'cashier', 'lacin', 'littl', 'product', 'man', 'hobbitt', 'whatcha', 'jinx', 'lag', 'jawbon', 'commin', 'popey', 'whisker', 'afterburn', 'ventur', 'wall', 'loob', 'tearsand', 'bunch', 'mutter', 'downpress', 'mhmmhmmhmmhmm', 'destroy', 'simulan', 'fuckeri', 'heartlak', 'messin', 'kingman', 'modern', 'honk', 'fake', 'moscow', 'dun', 'wide-ey', 'medli', 'empir', 'forgiv', 'hammer', 'highhh', 'doonna', 'travelin', 'freshli', 'ago-a', 'cring', 'patricia', 'is-cool', 'michael', 'inhuman', 'convey', 'forty-thre', 'lib', 'uncouth', 'sh-sh-shhh', \"'seech\", 'redesign', 'electro-circuit', 'rasakan', 'poupon', 'nearbi', 'sleeper', 'aaaaggghhh', '2x', 'espanol', 'nielsen', 'rebel', 'nephew', 'possessor', 'chippendal', 'fail', 'salama', 'sparkl', 'rebat', 'jan', 'common', 'shhh', 'mr', 'substitut', 'input', 'envi', 'a-screamin', 'battalion', 'dorado', 'cross-ey', 'decid', 'reflect', 'heavy-met', 'franchi', 'base', 'fatboy', 'legion', 'endin', \"liv'in\", 'bit-uh', 'kerouac', 'mikey', 'lefevr', 'routin', 'sinkin', '40,000', 'halt', 'doobedoobedoo', 'beatl', 'mermaid', '1981', 'reduct', 'nur', 'strictest', 'leagu', 'forward', 'thirty-thre', 'a.m', 'opportun', 'dare-dar', 'badger', 'stripteas', 'sinusundan', 'notre-dam', 'zulu', 'newlyw', 'swarm', 'hup', 'unbear', 'rosey', 'muka', 'undertak', 'ago-oh-oh-oh', 'a-sail', 'pawn', \"'scuse\", 'nashvil', 'neverend', 'woah-oh', 'sneaki', 'lazytown', 'aimerez', 'eia', 'soleil', 'greyhound', 'plaintiv', 'companion', 'squish', 'yuh', 'dearli', 'shot', 'bel', 'highest', 'govern', 'kept', 'crappi', 'realizin', 'superpow', 'mastermind', 'typist', '1924', 'rough', 'blackboard', 'deceit', 'cherry-top', 'prototyp', 'galantin', 'mele', 'prose', 'gander', '101', 'majest', 'prophet', 'twenty-thre', 'ports-of-cal', 'insiem', 'statesid', 'taffi', 'underneath', 'refuge', 'christma', 'no-nuk', 'one-night-stand', 'slim', 'ma-ma-ma', 'keel', 'lointain', 'appeas', 'vengeanc', 'ceilin', 'usang', 'poin', 'eyein', \"see'mon\", 'been', 'mag', 'diseas', 'techniqu', 'hare', 'custom', 'schedul', 'motorcad', 'woooo', 'jolson', 'siez', 'be-dumb-be-dumb-dumb', 'cuban', 'malabo', 'squall', 'bairn', 'lub', 'upser', 'shh', 'prick', 'unsur', 'flatterin', 'ding-d', 'burial', 'da-ay', 'efeg', 'askin', 'offer', 'proof', 'berni', 'pinangarap', 'bishop', 'nightgown', 'actual', 'mercuri', 'mobbin', 'freaki', 'lili', 'flesh', 'seeth', 'distinguish', \"'dumain\", 'wakin', 'deliveri', 'beadl', 'soooooo', 'nippin', 'album', 'complet', 'anti', 'salthil', 'contraband', 'promis', 'homi', 'imit', 'exhal', 'lobbyist', 'doggi', 'perdu', 'gol-darn', 'thumpeti', \"'twa\", 'jamahlah', 'center', 'chatter', 'surplu', 'sicura', 'zero', 'proteccion', 'sleepi', 'maniac', 'jog', 'ee', 'ob', 'lice', 'viewer', 'doigt', 'freeif', 'cranberri', 'carolin', 'wilber', 'ripcord', 'restor', 'fana', 'ashor', 'pinocchio', 'piza', 'diaper', 'carat', 'tally-ho', 'grumpi', 'landslid', 'sisi', 'yeah-ah', 'tinggalkan', 'panah', 'curfew', 'terrifi', 'ape', 'train', 'stomach', 'melt', 'icicl', 'unsatisfi', 'caterpillar', 'mara', 'nut', 'make-shift', 'double-crossin', 'day-out', 'interpret', 'flash', 'underf', 'rhee', 'mop', 'hammerhead', 'bother', 'relaps', 'waterb', 'dwellin', 'microchip', 'tumblewe', 'earthworm', 'rabbit', 'mm-hhmm', 'penguin', 'la', 'donut', 'score', 'nah', 'skelter', 'barley', 'rebecca', 'fold', 'errat', 'alma', 'approachin', 'loos', 'spectacular', 'iba', 'inde', 'vile', 'shin', \"a-wond'rin\", 'tendress', 'hair', 'awayi', 'greenwich', 'chairman', 'talv', 'gunni', 'constip', 'plowin', 'instructor', 'linger', 'beuti', 'moral', 'dapat', 'method', 'swamp', 'sinker', 'mesmer', 'tayo', 'somethim', 'morrissett', 'wack', 'beethoven', 'statur', 'rocki', 'bought', 'redneck', 'valentin', 'stoop', 'record-mak', 'quang', 'crush', 'u.', 'hoo', 'hovel', 'juan', 'fogi', 'bahala', 'endow', 'amora', 'small', 'opi', 'replacin', 'templar', 'downer', 'journi', 'ein', 'brandnew', 'er', 'heysham', 'ruler', 'yummi', 'isl', 'two-ton', 'what-to-do', 'tra-la-la-la-la-la-la-la-la', 'layin', 'hinder', 'esophagu', 'reassur', 'ingl', 'basslin', 'gs', 'hesit', 'fault', 'f', 'lakad', 'mention', 'terror', \"'71\", 'liberi', 'caribbean', 'mar', 'field', 'visag', 'thyme', 'hoolihan', 'zoo', 'canmatch', 'grenadin', 'moccasin', 'loafer', 'overthrow', 'fart', 'palestin', 'shad', 'watchtow', 'paramed', 'shirley', 'thinker', 'kang', 'songz', '1831', 'unusu', 'bender', 'resound', 'm-m', 'certefi', 'a-lot', 'oo-ra', 'trooper', 'cement', 'school', 'ouuh', \"d'hiver\", 'tomorrow', 'maureen', 'bake', 'giddi', 'fifteenth', '1,000', 'elder', 'curl', \"l'affect\", 'robin', 'quoth', 'lahat', 'binni', 'ninja', 'steer', 'f.m', 'la-la-la-la-la', 'laura', 'taillight', 'hardbut', 'telegraph', 'stick-up', 'sandhurst', 'mistak', 'nosey', 'hushaby', 'jara', 'omn', 'conced', 'cosmic', 'bitch-fight', 'is-a-sneakin', 'rickshaw', 'multipli', 'clockwork', 'stir-fri', 'coyot', 'one-leg', 'ladi', 'parkinson', 'oppress', 'x-rate', 'ooo', 'ding-a-ling-a-l', 'poorer', 'rep', 'hejust', 'banist', 'haaa', 'religion', 'heiress', 'crownin', 'fellin', 'richer', 'inevit', 'gentri', 'dip', 'domino', 'a-drag', 'nighti', 'hookin', 'dealt', 'case', 'szand', 'coltrol', 'alter', 'sesungguhnya', 'razzl', 'turd', 'ahhhahaha', 'thoroughfar', 'fairy-tal', 'debentur', 'sunken', '65', 'scenario', 'tail', 'lucif', 'hyena', 'uncertain', 'lab', 'radiohead', 'aflam', 'freud', 'foot', 'ohh-oh-ohh', 'weary', 'cranki', 'vector', 'no-oh', 'toss', 'saratoga', 'pocu', 'para-para-paradis', 'sail', 'personn', 'duval', 'pasternak', 'everchang', 'aquarian', 'produc', 'poor', 'looseleaf', 'a-comin', 'yanki', \"'wag\", 'rubi', 'librari', 'pastim', 'clocking.now', 'cockleshel', 'buddha', 'sparraw', 'rapidli', 'everi', 'windscreen', 'katawan', 'shamrock', 'racin', 'trugh', 'belliger', 'drywood', 'rabi', 'kite', 'upgrad', 'kondam', 'conceal', 'happy-sad', 'baaaaaaabi', 'event', 'ba-d', '0o', 'deciph', 'my-mi', 'tertahan', 'sleep', 'tipsi', 'occup', '3d', 'dungeon', 'charter', 'mirag', 'wand', 'romant', 'jason', 'seek', 'worn-out', 'itself', 'multi-color', 'frozen', 'self-mad', 'anna', 'cart', 'expand', 'webb', 'toscanini', \"t'embrass\", 'self-respect', 'timbuktu', 'berg', 'geigen', 'u2', 'footbal', 'scent', 'reactionari', 'rider', 'flagel', 'justifi', 'finley', 'redeem', 'heartstr', 'gritti', 'memuntahkan', 'boundari', 'ordanairi', 'stucco', 'handbag', '1-800-help-myself', 'tolong', 'spandex', 'heartbreak', 'revision', 'too-ra-loo-ra-loo-r', 'argument', 'rifl', 'test', 'ed', 'formin', 'choosin', 'expertis', 'maniwala', 'killer', 'tudo', 'forty-f', 'buggy-rid', 'internet', 'no-solut', 'tamal', 'crisp', 'ring-a-ling-l', 'libbi', 'a-knock', 'parfoi', 'mirror', 'erod', 'fabul', 'whitney', 'raver', 'car', 'bulk', 'helen', 'silken', 'traqu', 'floodi', 'passiv', 'amoroso', 'remain', 'trunk', 'yeyeyey', 'ironi', 'ee-pl', '70', 'cacciator', 'pictur', 'stomp', 'girl', 'juic', 'you-oo-oo', 'walton', 'gibt', 'oooh-huh', 'estrang', 'irrat', 'scholar', 'lo-lov', 'broadcast', 'perhap', 'befor', 'gush', 'voodoo', 'birth', 'manipul', 'roger', 'unknow', 'habit', 'carl', 'onout', 'meani', 'head', \"doolin'-dalton\", 'bate', 'freshen', 'prelud', 'uncivil', 'classmat', 'redenbach', \"s'arr\", 'fletcher', 'achiev', 'foray', 'macnamara', 'flatland', 'lei', 'pope', 'scandinavia', 'heirloom', 'need', 'cautiou', 'lite', 'lifelin', 'stinkin', 'supper', 'deathli', 'furthest', 'heel', 'behold', 'savoir', 'color-blind', 'rogu', 'git', 'patron', 'onc', 'employe', 'istana', 'bom-bom-bom', 'back', 'chilin', 'condo', 'inappropri', 'x3', 'profesor', 'forti', 'out-hey', 'tropez', 'seewhat', 'stoppin', 'un-right', 'rose-bud', 'stuff', 'mick', 'articl', 'blackbird', 'frock', 'jellyrol', 'corset', 'limitless', 'austin', 'bouch', 'maydeenabe', 'liabil', 'while.might', 'hambon', 'tatawirin', 'mulieribu', 'sympath', 'bernadino', 'unpunish', 'red-hand', 'sixti', 'reckless', 'humid', 'stainless', 'boatman', 'belfri', 'poloto', 'bump', 'tupac', 'liz', 'burgess', 'kamay', 'sayangin', 'much', 'aeon', 'jello', 'chey-ey-ey-ey-ey-ey-ney', 'deutschmark', 'wooaaaah', 'h-e', 'oy', 'problem', 'lusuh', 'tuae', 'thirty-f', 'tattletal', 'ah', \"sunflow'ar\", 'bleach', 'cruisin', 'showgirl', 'dri', 'havin', 'blindli', 'shebang', 'brick', 'strummin', 'bun', \"ko't\", 'b-b-b-b-bet', 'cb', 'pot-belli', 'daba', 'cottonpick', 'courier', 'bluer', 'mammi', 'month-long', 'randalph', 'bringt', '1994', '44', 'doncha', 'durch', \"jack-o'lantern\", 'fugit', 'xke', 'pelajaran', 'creas', 'tommi', 'seinem', 'comrad', 'recognis', 'ahora', 'hillsid', 'slew', 'alight', 'arithmet', 'showbiz', 'doorman', 'matamoro', 'meteocr', 'canal', 'shorter', 'chivalri', 'rotten', 'roosi', 'opul', 'fish', 'afrokeluchi', 'barstaw', 'brand', 'a.g.a.i.n', 'recent', \"didn't\", 'growin', 'alon', 'hatiku', 'vision', 'bitter-sweet', 'legaci', 'unwelcom', 'angelorum', 'scan', 'sera', 'chico', 'bordeaux', 'rhinoceroses', 'pirough', 'in-law', 'vamo', 'boy', 'thread', 'ci', 'barstow', 'a-gettin', '32nd', '240', 'waitin', 'festiv', 'militarist', 'ringo', 'ringin', 'sup-p-per', 'fee', 'coult', \"'misfit\", 'hung', 'attitud', 'aquel', 'metaphor', 'adrift', 'strife', 'goner', 'penasco', 'circular', 'airport', 'greenish', '26th', 'syne', 'swagger', 'spiderman', 'wish', 'omnipres', 'unitl', 'graceland', 'goliath', 'shoff', 'begin', 'eclips', '1986', 'hark', 'glanc', 'tijuana', 'youi', 'aaar', 'green-a-light', 'grade', 'machinist', 'court', 'vraie', 'hungarian', 'a-fil', 'bah', 'cape', 'below', 'spitin', 'brendan', 'empow', 'revisit', 'discuss', 'reactin', 'clear', 'limp', 'lu', 'gale', 'introduc', 'leaflet', 'resta', 'vacant', 'scream', 'thirti', 'soar', 'pure', 'platinum', 'brow', 'maidenaway', 'yarn', 'hela', 'fabl', 'attorno', 'magkita', 'loretta', 'insincer', 'jamaika', 'wick', 'samudera', 'grown', 'faulti', 'aim', 'low-down', 'curs', 'doomsday', 'grumbl', 'wailin', 'jani', 'bullet', 'banker', \"'son\", 'cab', 'screwin', 'a-callin', 'comimg', 'cheat', 'crushin', 'wringer', 'sooo', 'allman', 'poem', 'cabl', 'mke', 'fam', 'suspens', 'o.d.in', 'du', 'receptacl', 'mare', 'dubiwap', 'missionari', 'goooo', 'unlearn', \"over..don't\", 'three-way', 'damon', 'sinatra', 'fought', 'beeri', 'faux', 'dog', 'nicest', 'shortcut', 'snowbird', 'ope', 'mmmmm', 'poorest', 'tome', 'sheraton', 'ba-nay-nay', 'robb', \"ma'fuckin\", 'bobbi', 'slain', 'determin', 'dreamsicl', 'unforgett', 'breakdown', 'titti', 'limelight', 'grovel', 'jackpot', 'righteou', 'stolen', 'har', 'lonli', 'smack', 'foil', 'reaffirm', 'leatherp', 'sway', 'ridicul', 'pleadin', 'insensit', 'perish', 'vast', 'etai', 'ange', 'tatti', 'assur', 'intro', 'vicin', 'our', 'sub', 'outdo', 'fourty-f', 'citizen', 'suicid', 'boyscout', 'eve', 'stormbring', 'aspirin', 'lang', 'payback', 'fahrenheit', 'aglow', 'waistband', 'chimp', 'graduat', 'nuh', 'hade', 'meant', 'schopenhau', 'condition', 'my', 'g', 'box-radio', 'brother', 'monday', 'tubb', 'eachoth', 'lazer', 'juici', 'benih', 'marshmallow', 'fade', 'steadili', 'schemer', 'salli', 'eleven-thirti', 'dont', 'spread', 'tupelo', 'mose', 'betweeen', 'puppi', 'rel', 'fasten', 'earli', 'everytim', 'glockenspiel', 'rubbish', 'trudg', 'protest', 'limb', 'superhero', 'boozi', 'drivethru', 'manhattan', 'hard', 'drinkin', 'circuit', 'bereft', 'truman', 'v.w', 'derang', 'lest', 'fraud', 're-act', 'woman', 'summon', 'tug', 'expens', 'michelangelo', 'cassidi', 'blind', 'piggi', 'fender', 'menger', 'indi', \"moth'are-in-law\", 'flunk', 'council', 'labyrinth', 'menfolk', 'tide', 'those', 'clay', 'drug', 'spittl', 'terukur', 'jami', 'rta', 'punter', 'stumbl', 'kucumbu', 'tortur', \"'ti\", 'censor', 'untold', 'stabil', 'finder', 'freudian', 'sherman', 'craw', 'vocalist', 'al-queda', \"'kan\", 'six-foot', 'bijoux', 'toilet', 'two-strok', 'water', 'enclos', 'piss', 'may', 'maomoondog', 'western', 'correct', 'ayokong', 'provokin', 'pm', 'vietnames', 'sponsor', 'esakiel', 'aloud', 'marchant', 'pretti', 'unwant', 'balmi', 'tiisin', 'underworld', 'flatb', 'whimper', 'honeybe', 'r.a.f', 't-men', 'guthri', 'undyin', 'oa', 'boll', 'worthi', 'brace', 'foundat', 'cutthroat', 'tengo', 'fff', 'paie', 'trappin', 'precoci', 'pounc', \"'56\", 'birth-er', 'woof', '19:59-24:00', 'rye', 'saucer', '20', 'merry-o', 'mona', 'forgettin', 'kidney', 'flinch', 'p.o.p', 'snobbi', 'amsterdam', 'kayang', 'fe', 'flea', 'knee', 'loveless', 'sourc', 'infidel', 'desert', 'fearless', 'tagism', 'alonglook', 'bakit', 'spear', 'technomarin', 'airbag', 'tragic', 'sapnish', 'glu', 'kurt', 'ochr', 'tumigil', 'harp', 'treetop', 'discont', 'rulag', 'greav', 'a-heh', 'queue', 'homemad', 'a-scar', 'more-and', 'ooooohh', 'joyc', 'dragism', 'impati', 'colbi', 'bayonet', 'sasabih', 'encor', 'ough', 'prematur', 'simultan', 'ascot', 'advic', 'conscript', 'appli', 'switch', 'pressur', 'tell', 'ass', 'friction', 'colleg', 'digam', 'lost', 'caretak', 'la-la-la', 'consequ', 'birddog', 'glad', 'tarzan', 'samll', 'effortlessli', 'springi', 'clover', 'mall', 'macki', 'bloodshot', 'pire', 'orpheu', 'ri', 'coop', 'emporium', 'hypertens', 'hu-hump', 'clees', 'heya', 'drive-in', \"prob'li\", 'winteri', 'backwood', 'prolong', 'artifici', 'mahu', 'ariel', 'sundown', 'spider', 'qualif', 'lasst', 'blinder', 'duyan', 'russ', 'inf', 'claus', 'befriend', 'crawlin', 'loveli', 'mule', 'charact', 'mindless', 'soft-rock', 'arriv', 'two', 'regim', 'rebekah', 'thrive', 'wateri', 'oh-yeah', 'boston', 'feet', 'sithink', 'walkaway', 'jolli', 'spinnin', 'sight', 'benedicta', 'bedless', \"you'r\", 'kepadamu', 'too', 'rocker', 'biarkan', 'heaven', 'strait', 'appoint', 'parkway', 'biscuit', 'vine.i', 'twenty-first', 'satellit', 'greenback', 'sheriff', 'sputnik', 'jigsaw', 'much..that', 'tract', 'excit', 'headphon', 'evergrow', 'coeuf', \"pro'li\", 'jazzin', 'leg', 'cram', 'jane', 'tahu', 'molotov', 'dumpti', 'tomboy', 'la-la-la-la-la-la-la-la-la', 'angel-man', 'riveraway', 'spanner', 'celtic', 'brokin', 'contin', 'rediscoveri', 'hookah', 'skeddle-daddle-do', 'skeptic', 'needca', 'cri', 'serg', 'rail', 'i-ther', 'chanson', 'injustic', 'flimsi', 'wah', 'alibi', 'posit', 'gallon', 'enfin', 'kamu', 'laser', '66', 'tator', 'b-i-i-i-i-i-i-i-i-i-g', 'yous', 'darrel', 'talker', 'demarcu', 'wave', 'citta', 'seperti', 'stump', 'assort', 'thuddin', 'pumpkin', 'award', 'sapessi', \"t'ador\", 'grounder', 'headach', 'cycl', 'toaster', 'aris', 'lalu', 'peep-show', 'shutter', 'molatov', 'yeahhh', 'sorcer', 'tryin', 'giomo', 'patterson', 'leg-warm', 'costello', 'ooo-we', 'obituari', 'autr', 'kasih', 'toujour', 'profession', 'bluf', 'mp', 'grang', 'away-ay-ay-ay-ay', 'clark', 'picturesqu', 'salvag', 'replay', 're-stack', 'giblin', \"'ould\", 'gleason', 'wrangler', '90210', 'crunch', 'elyse', 'afterward', 'sour', 'twistin', 'bosher', 'jambo', 'burst', 'feder', 'nit', 'sew', 'jacob', 'cookin', 'sugarman', 'incomprehens', 'hive', 'n-g-o', 'merubah', 'judith', 'dynam', 'beef', 'voltron', 'merchant', 'einstien', 'da-da', 'huggin', 'sunk', 'topic', 'agnetha', 'shakespear', 'unfortun', 'shangrila', 'stretch', 'evrybodi', 'torch', 'doper', 'a-goin', 'oh-nin', 'cocktail-gener', 'lethargi', 'length', 'donni', 'flowin', 'whew', 'gu', 'infect', 'life-long', 'bwanahav', 'mulitpli', 'uncertainti', 'a-rol', 'eth', 'blew', 'clooney', 'absenc', 'eleph', 'proclaim', 'choppin', 'splatter', 'prairi', 'penthous', 'magmaliw', 'unarm', 'pessimist', 'chicago', 'zebra', 'shel', 'loungin', 'bomb', 'linkin', 'ninetynin', 'renew', 'campbel', 'sooth', 'air-air', 'keg', 'interessa', 'with', 'control', 'fondli', 'redempt', 'stori', 'month', 'so', 'whoahhhh', '4-0-9', 'conni', 'disco', \"'put\", 'grownup', 'ohn', 'vederti', 'blue-ey', 'catcal', 'myrtl', 'continental-styl', 'ozon', 'vivid', 'algebra', 'regain', 'explodin', 'eil', \"'hey\", 'mmmmmmm', 'kabul', 'absolut', 'suci', 'sitter', 'yeah-ah-eah', 'alot', 'truck', 'ugh', \"'take\", 'form', 'you-know-which', \"'60\", 'loke', 'starr', 'goodbi', 'pisc', 'schemin', 'aaaaaah', 'squash', 'privat', 'jess', 'occas', 'sugarfal', 'terr', 'cane', 'breaker', 'mapapatawad', 'pianissimo', 'transcendent', 'transplant', 'motha', 'fingernail', 'wing', 'bout', '59', 'unheard', 'peoploid', 'tuition', 'dearest', 'nagatoyo', 'grumblin', 'holiday', 'clementin', 'kate', 'sellin', 'yessire', 'seattl', 'vital', 'allerg', 'roller', 'shittin', 'ph.d', 'discourag', 'pupper', 'grit', 'deem', 'na-na', 'repli', 'ford', 'nooo', 'tediou', 'sacrifici', 'f-ck', 'moo', 'a-quiv', 'unspar', 'atomica', 'siames', 'west', 'koochi', 'dread', 'bred', 'spout', 'nearit', 'sunni', 'shaggin', 'nestl', 'suie', 'yea', 'chou', 'miliki', 'petersburg', 'frantic', 'cakewalk', 'donna', 'pagmamahalan', 'governor', 'aunti', 'push', 'shoue', 'whip', 'peggi', 'foreman', 'tractor', 'igor', 'tambl', 'yonder', 'coke-f', 'stylist', 'leadin', 'godli', 'insomnia', 'session', 'miami', 'wound', 'cheroke', 'sublim', 'rig', 'platitud', 'section', 'counten', 'snivellin', 'm-hm', 'tiger-skin', 'woho', 'take-hom', \"g'on\", 'kaya', 'bridl', 'dans', 'layaway', 'overworkin', 'horizon', 'statist', 'undress', 'va', 'fore', 'cyber', 'flu', 'mind-craz', 'memang', 'stream', 'cope', 'revant', 'vienn', 'crucifixion', 'frivol', 'finess', 'stunna', 'fad', 'goo-oo-oood', 'finest', 'countin', 'mothbal', 'such', 'red-ey', 'unabl', 'boom-a-boomerang', 'inherit', 'red-cold', 'blue-ish', 'alcohol', 'taliban', 'duti', 'cube', 'forcep', 'collis', 'genocid', 'uh', 'hemi-pow', 'plug', 'outward', 'letter', 'crank', 'quset', 'canist', 'xma', 'blank', 'dissatisfi', 'insignific', 'centuri', 'recov', 'outsmart', 'treacher', 'boom', 'tokyose', 'delford', 'pauvr', 'blond', 'flurri', 'frettin', 'forehead', \"s'anim\", 'all-al', 'convert', 'duke', 'malaman', 'gaurante', 'sphinx', 'lesso', 'bruno', 'volum', 'touch', 'keanu', 'occasion', 'overnight', 'mae', 'comment', 'jacka', 'malibu', 'layov', 'sleepin', 'asset', 'il', 'lovelight', 'golden-hair', 'alla', 'fled', 'sayooohhhhhh', 'hide', 'edi', 'decenc', 'craggi', 'ruin', 'agap', 'pre-choru', 'costli', 'stubborn', 'mabuho', 'voice-it', 'bin-laden', 'whopper', 'saint', 'leap', 'amour', 'ballad', 'mortgag', 'pott', 'dori', 'scab', 'clip', 'sheba', 'mtv-host', 'poignant', 'almond', 'eugen', 'fraction', 'clutter', 'comapani', 'hee-ey', 'here-left', 'favor', 'afterglow', 'central', 'spaceship', 'loverman', 'pepsi', 'orchestre', 'toyfriend', 'ahhhhhhhhhhhhhhhhhhhhhhh', 'blitzen', 'anesthesia', 'cha-cha-cha-chance-birthday', 'sleaz', 'capit', 'a-round', \"'dem\", 'unimpress', 'galaxi', 'graciou', 'heartless', 'reelin', 'helloa', 'massachusett', 'pheasant', 'bloodi', 'heat', 'concienc', 'lumber', 'catalog', 'accru', 'impercept', 'dusti', 'mulut', 'mereka', 'battl', 'wintri', 'bem', 'substanc', 'puhunang', 'hitchhik', 'enthusiasm', 'languag', 'hoy', 'selena', 'bulletin', 'defenceless', 'kilter', 'brawn', 'streets-a', 'worth', 'specter', 'intertwin', 'off-duti', 'peak', 'diss', 'point', 'cobra', 'posey', 'purifi', 'lieu', 'greeni', 'ankl', \"what'chor\", 'snowbal', 'reproach', 'blame', 'spat', 'marvin', 'seranad', 'scari', 'flirt', 'ba', 'totem', 'clad', 'gabl', 'rumour', 'igottagetoutahereigottagetoutahereigottagetoutaher', 'motorsickl', 'letterbox', 'sublimin', 'victor', 'therein', 'held', 'parent', 'whoah', 'sus-g', 'stockholm', 'miniskirt', 'shred', 'lawrenc', 'deh', 'imperialist', 'gown', 'someway', 'dribbl', 's.d.t', 'rabbit-rabbit', 'induc', 'that-ism', 'bonnet', 'pnd', 'wavin', 'bing', 'leav', \"'91\", 'whirligig', 'disgrac', 'wealthi', 'leari', 'perman', 'x', '855-7019', 'uncanni', 'repeata', 'name-o', 'understandin', 'wide', 'collectivist', 'hunger', 'between', 'hoov', 'shark', 'missu', 'nouveau', 'pandora', 'says-hi', 'hug', 'checkin', 'jiwa', 'tempo', 'commiser', 'survivin', 'curiou', 'pinnin', 'girbraud', 'cha-cha', 'exta', 'thrilla', 'howdi', \"l'enfant\", 'stink', 'braka', \"'not\", 'stallion', 'exxon', 'seeker', 'artist', 'ecstat', 'piston', 'cogner', 'neeedl', 'submiss', 'nanaisin', 'salad', 'suppertim', 'indoor', 'jockey', 'infatu', 'ball', 'suez', 'reev', 'offens', 'briant', \"l'eternita\", 'seinin', 'decay', 'hostil', 'sadden', 'baby-fac', 'alcatraz', 'recuerda', 'hassl', 'afir', 'malic', 'divan', 'arrrrgggghhhhnnnn', 'compart', 'oregon', 'upper', 'spec', 'barricad', 'icon', 'papadum', 'piccadilli', 'vida', 'wo-womp', 'boy-child', 'maafkanlah', 'straightjack', 'tut', 'glidin', 'throat', 'a-hom', 'tyga', 'druggy-drag', 'joey', 'wors', 'llego', 'unconsci', 'puedo', 'stuggl', 'ut', 'provinc', 'difusco', 'peep', 'far-off', 'tunnel', 'm-town', 'semi', 'convinc', 'indiffer', 'tippin', 'farren', 'accross', 'mob', 'lash', 'q', 'cheveux', 'regnez', 'eighth', 'woodi', 'physician', 'filth', 'command', 'paraan', 'voyag', 'twistl', 'simpan', 'voices-warm', 'uncl', 'public', 'suspect', 'unfair', 'nag-iba', 'monkey', 'hydrant', 'sambora', 'ea', 'at', 'virtu', 'exchang', 'sharper', 'shiverin', 'stair', 'transpir', 'patrick', 'anguish', 'sister', 'ciel', 'crier', 'outshin', 'rambler', 'a-lovin', 'cynic', 'threadbar', 'harvard', 'restin', 'ozzi', 'hangganan', 'politician', 'ezekiel', 'plain', 'garcia', 'sheen', 'unright', 'resum', 'accident', 'jeden', 'belli', 'no..oh..ah..no', 'lefti', 'wherev', 'pothead', 'yi', 'policemen', 'heartach', 'skill', 'rattl', 'je', 'cinder', 'jaw', 'comprehend', 'sidewalk', 'coexist', 'peas-m', 'mon', 'smoothi', 'memotong', \"what'\", 'pete', 'ile', 'merri-o', 'goal', 'fate', 'stir', 'mapl', 'andant', 'sweetheart', 'niec', 'intimid', 'snuf', '1920', 'la-la-la-la-la-la-la', 'a-find', 'reminisc', 'publib', 'glaze', 'sallow', 'writ', 'sullivan', 'coron', 'franki', 'surfboard', '3000', 'super', 'oblivion', 'childlik', 'crook', 'melodi', 'motorhead', 'rearrang', 'maypop', 'payin', 'fade.repeat', 'monro', 'drole', 'sagebrush', 'mangl', \"a'daar\", 'mussolini', 'lt', 'heey', 'down', 'energi', 'recur', 'can-can', 'divo', 'mcdonald', 'topaz', 'rae', 'swish', 'worst', 'sled', 'shriek', 'anggun', 'philosoph', 'ooohhhhhhhhhh', 'just', \"clo'e\", 'haven', 'pwede', 'molin', 'amor', 'kirana', 'gowan', 'smolder', 'torn', 'a-jokin', 'c-3', 'pokin', 'listen', 'trio', 'cheapskat', 'throne', 'tribal', 'fatal', 'deni', 'winkl', 'arbuckl', 'adrenalin', 'franci', 'barg', 'soprano', 'servic', 'paral', 'clink', 'carrot', 'kali', 'unfaith', \"ma'am\", 'dedumdudidudi', 'tombent', 'modul', 'humpti', 'wooden', 'black-jack', 'serrat', 'anyth', 'boo', 'wildlif', 'tantric', 'sketch', 'without', 'syngman', 'j-o-e', 'compet', 'fo', 'wailer', 'goodwil', 'highschool', 'floosi', 'fume', 'somewher', 'amerasian', 'delet', 'iffi', 'whisperin', 'beggin', 'vagu', 'ambassador', 'squeal', 'dreamer-ey', '64-bit', 'sayo', 'term', 'plumb', 'perimet', 'fallujah', 'walang', 'seul', 'veng', 'bethlehem', 'waver', 'rollersk', 'akin', 'be', 'pangalan', 'commit', 'restaur', 'hors', 'daniel', 'paroroonan', 'randi', 'oasi', 'mutant', 'lower', 'lovey-dovey', 'duluth', 'woah', 'sekian', 'down-guitar', 'th', 'anniversari', 'bubba', 'somon', 'inferior', 'hi-de-hey', 'brixton', 'thoughtless', 'bmi', 'mesa', 'arranged.lif', 'auberg', 'charley', 'underwear', 'venic', 'keri', 'bang', 'agoni', 'stopp', 'tilli', 'shuberti', 'baromet', 'pont', 'yellowi', 'wooli', 'ahoohoh', 'take', 'tens', 'bailar', 'sneez', 'awhil', 'skylark', 'souvien', 'fantas', 'border', 'charlott', 'weigh', 'acceler', 'subsid', 'sentiment', 'gallopin', \"cams't\", 'a-run', 'barren', 'bracelet', 'selfishli', 'malam', 'broaden', 'longit', 'instil', 'applejack', 'skinni', 'seduce', 'vulgar', 'watchin', 'crossroad', 'stern', 'cuori', 'sulfur', 'mistrust', 'carbon', 'bruce', 'jehovah', 'flowchart', 'cuddl', 'deform', 'nosotro', 'hee', 'suspend', 'nowher', 'stairwel', 'blowing-wint', 'strive', 'bar-b-qu', 'ase', 'smuggler', 'face', 'darksid', 'friendzon', 'salti', 'blackberri', 'luh', 'luckier', 'paycheck', 'poet', 'capsiz', 'moni', 'symphathis', 'plato', 'meyer', 'watercolour', 'self-preserv', 'pretendin', \"'yong\", 'along', 'kakailanganin', 'puck', 'christmastim', 're-thread', 'mosey', 'nicol', '2nd', 'trapper', 'laisson', 'm-m-me', 'orangutan', 'mileag', 'coi', 'kupandangi', 'armour', 'makulay', 'loud', 'babygirl', 'phil', 'navi', 'pui', 'twilight', 'toot', 'tourist', 'convent', 'baboon', 'ebbtid', 'women', '3:00a.m', 'odor', \"d'avoir\", 'iberian', 'unhappi', 'vehicl', 'clickin', 'eeh', 'fructu', 'prokofiev', 'chariot', \"'go\", 'therel', 'rose', 'lanki', 'enamabala', 'dar', 'ladybug', 'olympu', 'commut', 'part', 'wizardri', 'rock-and-rol', 'unend', 'erupt', \"'phone\", \"y'orn\", 'closur', 'endless', 'melani', \"'gator\", 'god', 'compens', 'rastafari', 'messag', 'orchid', 'reflex', 'repaet', 'braver', 'tomor-orrow-ow', 'a-honey-honey', 'greas', 'mess', 'cloudi', 'a-tel', 'slaveri', 'deputi', 'blatant', 'fish-ey', 'salaam', 'marsha', 'mope', 'survivor', 'mameland', 'natali', 'trail', 'ting', 'melodia', 'spaciou', 'rode', 'rewound', \"a'lik\", 'fifth', 'regul', 'torna', 'northeast', 'speedbal', \"'cuz\", 'terlalu', 'aver', 'grab', 'now', 'puiss', 'ump', 'yor', 'evermor', 'walhalla', 'execut', 'squattin', 'poker', 'ravi', 'bualadh', 'masai', 'trembler', 'hinding-hindi', 'unwis', 'wreck', 'ordinari', \"'cuas\", 'brillent', 'lotto', 'behavin', 'spoon', 'vienna', 'dewfal', 'meanest', 'chalic', 'lethal', 'kata', 'alicia', 'ms', 'fiberglass', 'cari', 'two-hundr', 'maxi', 'harlow', 'deceni', 'granni', 'lord', 'drive-thru', 'a-m', 'tweet-tweet-tweet', \"'cause'era\", 'no-whoah', 'mccall', 'finger', 'showroom', 'all-star', 'christmas', 'unmarri', 'slogan', 'oooo', 'blueh', 'bargain', 'nearer', 'banana', 'cahoot', 'sweat', 'forev', 'lie', 'seep', 'oil', 'presto', 'until', 'bermuda', 'vergisst', 'imbib', 'anoint', 'coal-train', 'hiasi', 'south', 'purpos', 'overwhelm', 'puccini', 'freeli', 'land-slid', 'deliver', 'volunt', 'talkov', 'nick', 'haw', 'rooki', 'lime', 'waltzin', 'quell', 'bloodbath', 'wohoo', 'dali', 'tramp', 'mahulog', 'windowsil', 'yes-men', 'convincin', 'benedictu', 'icaru', 'bin', 'worm', 'napalm', 'trap', 'madden', 'lancelot', 'spous', 'jimi', 'business-lik', 'instruct', 'succour', 'bawat', 'lager', 'loudest', 'unlik', 'declar', 'rah', 'isi', 'waken', 'unlucki', 'istasyon', 'warward', 'unpaid', 'sauci', 'nobleman', 'romanc', 'commiss', 'vixen', 'immacul', 'unafraid', 'scyth', 'gucci', 'mobil', 'pein', 'd-i-v-o-r-c-', 'into', '13th', 'brute', 'nba', 'hunter', 'gooey', 'catamaran', 'brush', 'ronda', 'screeeeeen', 'cyanid', 'peekin', 'olay', 'daub', 'pageant', 'advoc', 'spotlight', 'platform', 'givemi', 'hippopotamuses', 'sed', 'rockway', 'spectrum', 'arrow', 'tol', 'ocean', 'dice', 'run-way', 'arc', 'bait', 'pal', 'neo', 'possibl', 'loneliest', 'awok', 'put', 'pan', \"'ll\", 'x5', 'banner', 'ready-ready-ready-ready-readi', 'shoppin', 'uncontrol', 'faceless', 'bushland', 'boo-hoo', 'f-f-frustrat', 'braggin', 'constitut', 'indic', 'nake', 'peux', 'matrix', 'petti', 'bbc', 'irish', 'a-waitin', \"a'walkin\", 'tinker', 'prosecut', 'scope', 'dormant', 'compre', 'palc', 'a-mexico', 'chimney', 'soooo', 'beardsley', 'wicklow', 'hep', '21st', 'comfy-cozi', 'dick', 'mm', 'showtim', 'florida', 'mushroom', \"'how\", 'prassin', 'spellin', 'roll', 'button', 'bandmast', 'gondola', 'bickerin', 'word', 'lunch', 'ku', \"gav'em\", 'visit', 'tammi', 'dart', 'sampl', 'trafalgar', 'cobbleston', 'bonu', 'owner', 'send', 'see-through', 'nicer', 'difficult', 'say', 'mountaintop', 'stall', 'wheew', 'immatur', 'beauti', 'illustr', 'raitt-takin', 'meatloaf', 'fring', \"'shut\", 'bub-bub-bub-by', \"'side\", 'power', 'natal', 'leavin', 'colorado', 'vanish', 'essay', 'mush', 'earphon', 'toreador', 'horribl', 'cap', 'averag', 'henesse', 'slingin', \"'long\", 'reel', 'slay', 'dum', 'g-note', 'killarney', '102', 'prise', 'skysurf', 'somehow', 'like-a', 'dealer', 'comet', 'restroom', 'anarchist', 'whirl', 'them', 'writer', 'jam', 'unsaid', 'dampen', 'charmand', 'homewher', 'defend', 'pep', 'emancip', 'flux', 'finda', 'came-a', 'mam', 'radiant', 'explor', 'avion', 'statu', 'bitterli', 'poo', 'vow', 'aisl', 'felon', 'specul', 'steril', 'pieti', 'swung', 'secretli', 'shini', 'goat', 'poverti', 'bureau', 'dad', 'iacocca', 'abil', 'typewrit', 'riptid', 'chime', 'encaptur', 'clinic', 'vodka', 'brini', 'mortar', 'keping-kep', 'trophi', 'impress', 'douchebag', 'slighest', 'uhuuu', 'onwher', 'anni', 'zip', 'bip-bip-bip', 'million', 'electrica', 'wrong', 'baby-baby-babi', 'funni', 'matulog', 'jun', 'pareho', 'bibirmu', 'confront', 'perk', 'starv', 'glisten', 'baby-babi', 'skeleton', 'conch', 'terbentang', \"'burgh\", 'dilli', 'mould', 'compar', 'motor-cyanid', 'rrsp', 'eel', 'mid-flight', 'botani', 'julio', 'never-end', 'deicid', 'tub', 'trashi', 'exot', 'i', 'pove', 'dogmous', 'stunk', 'lass', 'cutest', 're-up', 'straighten', 'lagi', 'errol', 'sell', 'yogurt', 'jeun', 'salahkah', 'tonto', '3p', 'unhook', 'translat', '1-drake', 'maidenhead', 'disfrutar', 'devo', 'trillion', 'ovo', 'yoko', 'sayang', 'consent', 'set', 'kelli', 'disagre', 'manacl', 'lighten', 'shift', 'migrant', 'trigger', 'recompens', 'ahh-ah-ah-ah-ah', 'arabella', 'lift', 'vinc', 'rammbl', 'mike', 'three-quart', 'sinon', 'thirty-on', 'lambast', 'taunt', 'breakup', 'seen', 'howlin', 'caught', 'jonah', 'diagram', 'yeeeah', 'somewhat', 'ivanho', 'jeep', \"t'entend\", 'oklahoma', 'overrul', 'tood-a-loo', 'jar', 'gran', 'elmtre', 'rattlesnak', 'veil', 'houston', 'a-pay', 'chip', 'georgia', 'warehous', 'murder', 'mexican', 'aku', 'asur', 'man-eatin', 'humorless', 'loav', 'sir', 'pillow', 'coule', 'streakin', 'conk', \"'less\", 'damdamin', 'lilac', 'remors', 'oo-oo-oo-oo', 'hideaway', 'drawn', 'a-tunin', 'patriot', 'mad', 'voic', 'spacemen', 'mccurdi', 'hilltop', 'none', 'neon', 'budg', 'clariti', 'aspir', 'subhuman', 'abel', 'plaster', 'swine', '31', 'rid', \"orn'ri\", 'ladder', 'rein', 'stabl', 'bincoln', 'waylaid', 'multitud', 'dab', 'ether', 'folow', 'shanghai', 'whoaa', 'nevil', 'wunderbar', 'glorious', '124', 'pika', \"'can\", 'degre', 'bilbao', 'clive', 'rev', 'ordeal', 'cornf', 'criteria', 'ammend', \"would'nt\", 'luxuri', 'mustard', 'growl', 'chief', 'rock-a-by', 'member', 'splendid', 'lb', 'nie', 'doormat', 'twinklin', 'checkout', 'twitch', 'strategi', 'rabbitt', 'borri', 'juvenil', 'chat-room', 'homeward', 'bff', 'clerk', 'spar', '27', 'prehistor', 'i-n-g-o', 'whistlin', 'advert', 'wonderin', 'clutterin', 'saigon', 'pontevecchio', 'montcomag', 'halloween', 'illinoi', 'honor', 'found', 'two-ey', 'pluck', 'steamer', 'bestsel', \"'d\", 'marri', 'way-ey', 'meski', 'ohhhhhhh', 'dreamsit', 'revers', 'ralph', 'long-lost', 'tootin', 'exactli', 'hi-hi-hip-hello', 'turnpik', 'fetter', 'wreak', 'nombr', 'lickin', 'im', 'datin', 'fiction', 'agre', 'n', 'theolog', 'diplomaci', 'dov', 'hustler', 'jewel', 'flutter', 'hart', 'seaport', 'sonni', 'brando', 'busur', 'uni', 'andr', 'februari', 'chanton', 'rever', 'cumberland', 'frisco', 'mundo', 'shitti', 'jacket', 'rug', 'wisdom', 'inventor', 'snigger', 'twitchin', 'punch', 'yeh', 'hav', 'avenu', 'underr', 'disastr', 'financ', 'dramamin', 'king', 'skold', 'unholi', 'clock', 'yalla', 'caddi', 'fright', 'barroom', 'stealin', 'much-lov', 'greater', 'cowcrush', 'parad', 'understudi', 'student', 'kalbu', 'communist', 'iyo', 'flagpol', 'fieri', 'hipster', 'geometri', 'rack', 'compon', 'publicli', 'boogaloo', 'foster', 'presenc', 'washboard', 'railroad', 'craziest', 'brice', 'gloat', 'plu', 'flicker', \"all'amor\", 'broad', 'boleyn', 'maedchen', 'crow', 'nana', 'ssh', 'babyit', 'bear', 'itanong', 'sang', 'ding', 'rebellion', 'fara', 'chandeli', 'chair', 'senset', 'lady-kil', 'illus', 'headlight', 'scarlet', 'elvira', 'kumain', 'befo', 'a-huggin', 'slipperi', 'uum', 'novelett', 'balconi', 'contact', 'lawman', 'ridden', \"can'tcha\", 'hippo', 'chri', 'touchdown', 'sarah', 'block', 'roquefort', 'crux', 'lincoln', 'mayb', 'solo', 'crane', 'habitat', 'chester-y', 'rodman', 'aluminum', 'pretend', \"o'ryan\", 'scrawl', 'oracl', 'togeth', 'hate', 'coven', 'who', 'aster', '1st', 'cheapest', 'prop', 'siya', 'typic', 'disbeliev', 'kindl', 'quietli', 'jag', 'curd', 'inspect', 'cou', 'lalo', 'duart', 'skynyrd', 'indescrib', 'mcentir', 'ok', 'inconsider', 'manusia', 'ome', 'rokafella', 'shoula', 'fair', 'luckiest', 'freund', 'snuff', 'unspoken', 'condui', 'bad', 'gentl', 'snuck', 'do7', 'personag', 'pancak', 'shorelin', 'lake', 'nightmar', 'truckin', \"l'attendr\", \"trav'l\", 'institut', 'hem', 'gasolin', 'seduct', 'adventur', 'beav', 'wing-a-ma-th', 'parusa', 'while', 'throwin', 'cancel', 'bella', 'pox', 'ba-ba', 'concentr', 'budapest', 'crescent', 'triumphant', 'escuchar', 'insan', 'ferm', 'marlboro', 'outgrew', 'version', 'exclud', 'goldfing', 'handbasket', 'instrument', 'won', 'murmark', 'chummi', 'meanin', 'tea', '000', 'incomplet', 'tersaji', 'meronta', 'nazaren', 'scratchin', 'euer', 'roadsid', 'po', \"''caus\", 'mediocr', 'slender', 'parlarti', 'mutat', 'honeysuckl', 'pool', 'nassau', 'immun', 'testifi', 'godot', 'clicker', 'ihn', 'maritim', 'isaac', 'yougin', 'imbu', 'pimpl', 'vault', 'bail', 'nee', 'from', 'reed', 'milli', 'stopper', 'optim', 'ribbon', 'figur', 'parnass', 'high-ris', 'lack-a-daisi', 'cabin', 'motorway', 'cleanest', 'remet', 'ex', 'bhutan', 'noos', 'cotton-tal', 'perpisahan', 'shack', 'feroci', 'tacki', 'heart-break', 'snail', \"m'gill\", 'jed', 'stage', 'kutangisi', 'postag', 'account', 'sinta', 'waitress', 'lumier', 'radish', 'fadin', 'days.i', 'diamond', 'uptown', 'cocktail', 'sever', 'pill', 'peppermint', 'a-cut', 'learn', 'touchera', 'raincheck', 'hatin', 'lousiana', 'noah', 'pledg', 'seer', 'dinki', 'clew', 'swiss', 'streichelt', 'tack', 'temp', 'repres', 'rulesy', 'cours', 'shorthand', 'spit', 'ba-a-a-a-a-a-abi', 'trace', 'wofi', 'glass', 'money', 'railhead', 'folk', 'steeli', 'tercinta', 'love', 'spittin', 'slitti', 'when', 'seger', \"d'import\", 'tootsi', 'parlour', 'yodel', 'alert', 'atheist', 'oyster', 'nino', 'summarili', 'deauvil', 'riddanc', 'saturday', '8e', 'ra', 'bill', 'plasterboard', 'feller', 'injuri', 'lordi', 'qu', 'canadian', 'lalena', 'stood', 'jingl', 'vett', 'kick', 'copyright', 'pued', 'glock', 'bedroom', 'scrape', 'machineri', 'springsteen', 'out-a-st', 'suivr', 'merci', 'fanat', 'discotequ', 'kangaroo', 'again.lif', 'insist', 'succul', \"abso-bloomin'-lut\", 'swivel', 'buttercup', 'imperi', 'fleapit', 'eras', 'chinatown', 'mengiris-iri', 'luv', 'awww', 'manual', 'iniqu', 'marriag', 'josephin', 'dudley', 'spell', 'candid', 'birch', 'thigh', 'noon', 'thump', 'shameless', 'tamla', 'wiper', 'damp', 'alam', 'bummin', 'enlist', 'moan', 'realiti', 'guitarrear', 'calmer', 'adn', 'segna', 'board', 'incolor', 'lunat', 'hardwood', 'ayah', 'self-defens', 'mothafuck', 'blood', 'hilt', 'woo-ooh', 'stripper', 'latest', 'reagan', 'medit', 'element', 'denial', 'televis', 'margaret', 'nil', 'forsak', 'impend', 'bind', 'sweepin', 'heatin', 'cheaper', 'gleam', 'recommand', 'evensong', 'nijtht', 'crimea', 'fincoln', 'liber', 'report', 'chuck', 'pioneer', 'cour', 'bitterblu', 'mood', 'slappin', 'tulan', 'soakin', 'keepsak', 'keyhol', 'kamikaz', 'divers', 'gourmet', 'pickl', 'switchback', 'talent', 'rape', '10,000', 'fratter', 'lumbr', 'blade', 'commerc', \"'airmail\", 'goodby', 'freeeeez', 'trod', 'regrets-for', 'hulk', 'paparazzi', 'gestur', 'philomena', 'smooth', 'gaze', 'usa', 'unskil', 'forest', 'valuabl', 'well-aim', 'workhous', 'mmmmmm', 'sickli', 'handin', '1', 'getti', 'fiddlin', 'fernando', 'toad', 'post', 'lawy', 'inaasam', 'stridin', 'finna', 'tipi', '1,2,3', 'withstand', 'limit', 'bubbi', 'titan', 'two-timin', 'me-no', 'inquisit', 'la-la-la-la-la-la', 'septemb', 'junkheap', 'job', 'funniest', 'hawk', 'cannabi', 'schubert', 'wisest', 'pucker', 'shifti', '88', 'relief', 'cancion', 'oww', 'bummer', 'bob-tail', 'weaver', 'nakatago', 'coward', 'bell', 'autumn', 'vinci', 'feather', 'disapear', 'melang', 'passed-ov', 'pinapanalangin', 'everywher', 'worryin', 'eternali', 'elois', 'smilin', 'by-gon', 'fondl', 'sore', 'botherin', 'coal', 'loobi', 'math', 'friski', 'poppi', 'soilder', 'curli', 'incant', 'a-hum', 'frosti', 'lamplight', 'morolda', 'joit', 'doop', 'lipo', 'swedish', 'never', 'refriger', 'dentist', 'tattoo', 'salut', 'crawdad', 'ferrari', 'tu', 'savor', 'mina', 'shit-ah', 'hunnid', 'felic', 'chasin', 'spurt', 'descend', \"whadd'ya\", 'doe-si-do', 'desespoir', 'beckon', 'architect', 'kro', 'dipper', 'elus', 'turbul', 'sedang', 'pale', 'yeah-yeah', 'colonel', 'opera', 'diata', 'overdr', 'disast', 'foolin', 'bong', 'windin', 'rougit', 'whitetail', 'radic', 'dabbl', 'die-hard', 'read', 'grief', 'sco', 'perot', 'stanza', 'sa', 'tomcat', 'laboratori', 'cheatin', 'starl', 'voulez-v', 'megahertz', 'cloth', 'ore', 'fiddle-i-fe', 'rambo', 'search', 'lorri', 'driller', 'water-b', 'industri', 'sport', 'todd', 'inyong', 'heah', 'stop', 'slip', 'guarante', 'madali', 'wilder', 'notebook', 'cirqu', 'tatum', 'arden', \"i'm-a\", 'beach', 'haunt', 'antifreez', 'guava', 'liver', 'a-wonderin', 'enrag', \"'classic\", 'unborn', 'broccoli', 'deux', 'pensabamo', 'fortress', 'snap', 'slink', 'sailor', 'iye', 'shoulder', 'al1', 'audienc', 'a-sit', 'dosag', 'pinilit', 'nahh', 'downfal', 'fade-out', 'behav', 'lighthous', 'angel', 'sold', 'overrrr', 'nausea', 'soupi', 'gott', 'underdog', 'hurrican', 'gone', 'zone', 'oright', 'ooh-ey', 'carvin', 'back-stag', 'doggish', 'levr', 'driftwood', 'cod', 'taken', 'twig', 'bleed', 'uhh', 'piec', 'britain', 'yer', 'addit', 'drought', 'heaviest', 'revoit', 'hey-hey-hey-hey', 'jame', 'overcoat', 'ramblin', 'argenitna', 'muski', 'regrett', 'chat', 'toronto', 'clean', 'bomber', 'foggi', 'seal', 'deep-fri', 'judgement', \"'em\", 'weird', 'pendulum', 'poni', 'cruelti', 'sen-sen', \"'tho\", 'pornographi', 'hoochi', 'nararamdaman', 'pommeri', 'ahhh', 'haow', 'fikir', 'diari', 'leetl', 'login', 'satur', 'fortunetel', 'badhead', 'loser', 'nagkita', 'sling', \"'yo\", 'scandinavian', 'tecolot', 'mannish', 'a-babi', 'stead', 'buzzard', 'icecream', 'a-courtin', 'mailer', 'treasur', 'squawk', 'stalem', 'writin', 'ownself', 'mattress', 'clime', 'barbar', 'phone', 'lui', 'tay', 'drooppin', 'hord', 'l-la', 'rejoin', 'anvil', 'snowblow', 'deadhead', 'shaver', 'swoop', 'outro', 'gloria', 'van', 'integr', 'bruis', 'beaux', 'reluct', 'meltdown', 'misplac', 'quench', 'pokemon', 'p.m', 'eso', 'reaction', 'hail', 'sukey', 'ugoy', 'einstein', 'increas', 'fight', 'beneath', 'brew', 'squench', 'allan', 'austrian', 'orgafr', 'mane', 'coupl', 'arab', 's.o.', 'pitt', 'persecut', 'throught', 'cue', 'ex-boyfriend', 'bog', 'shovel', 'a-ah-ah-ah-ah-ah-arsen', 'calvari', 'midway', 'architectur', 'sudden', 'scarv', 'tissu', 'high-class', 'psycho', 'familiar', 'seed', 'dispos', 'cyberpunk', '30', 'phantom', 'benevol', 'brianna', 'ard-vark', 'like-but', 'mag-alala', 'arianamania', 'meaning', 'abod', 'quicksilv', \"'rari\", 'pub', 'undo', 'lifestyl', 'marchin', 'outreach', 'starkweath', 'insignu', 'pea', 'barber', 'floppi', 'jah', 'offic', '1812', 'wean', 'homicid', 'wo-oh', 'sage', 'farsha', 'athlet', 'appetit', \"n't\", 'patsi', 'india', 'intens', 'bankruptci', 'margaritavil', 'pedang', 'waxen', 'mmmmmmmmmm', 'coventri', 'herd', 'krushchev', 'clan', 'papoos', 'shallow', 'than', 'imbed', 'pansi', \"j'aimai\", 'lurkin', 'geta', 'quicksand', 'heeeeyyyi', 'pulpit', 'un-harm', 'double-barrel', 'care-car', 'se', 'aura', 'result', 'hihingi', 'charl', 'newfoundland', '9:20', 'bullsey', 'gossam', 'meet', 'plait', 'campfir', 'wild', 'tostig', 'divil', 'straddlin', 'intrud', 'oak', 'acid', 'gill', 'peso', 'baffl', 'grey', 'trekki', 'speckl', 'prozac', 'hack', 'error', 'holler', 'kinda', 'wastin', 'climbin', 'u-haul', 'mel', 'saber', 'del', 'baby-sit', 'forty-seven', 'puszta', 'cor-or-orn', 'screamin', 'cruis', 'necklin', 'elton', 'klux', 'or', 'backin', 'p-are-', 'belief', 'rabbi', 'lamang', 'grinder', 'apt', 'lion', 'underth', 'rosen', 'cumpari', 'sabe', \"'s\", \"'re\", 'sweati', '28', 'drier', 'poach', 'sheiff', 'ficitonari', 'surgeri', 'eveywher', 'granddad', 'seper', 'emmyl', 'penit', 'rout', 'cuor', 'double-wid', '50-nil', 'mullet', 'bonita', 'advanc', 'esta', 'senor', 'hoh', 'rumor', 'overdraft', 'buffoon', 'skippin', 'sip', 'acapella', 'kecup', '6th', 'kawaii', 'revu', 'entic', 'anya', 'ring-ting-tingl', 'cloud', \"o'green\", 'technic', '29', 'variat', 'coloni', 'philosophi', 'disput', 'piano-la', 'demonstr', 'abort', 'loco', 'toe', 'cruso', 'wet', 'emiss', 'evil', 'clueless', 'dena', 'chino', '11th', 'yield', 'speed', 'helmet', 'dragnet', 'instantli', 'nigga', 'pervert', 'refresh', 'offhil', 'subroutin', 'happenin', 'condescend', 'dass', 'asthmat', 'sind', 'abandon', 'pinki', 'kau', 'beast', 'pray', 'million-dollar', 'forty-two', 'stephani', 'room', 'beheld', 'snook', 'wizard', 'shuffl', 'petrifi', 'adjac', \"c'mon\", 'downstair', 'rabbitsfoot', 'luckless', 'invit', '45', 'anima', 'fastest', 'intervent', 'worldwid', 'four-forty-four', 'wheeler', 'shrine', 'stealer', 'eichmann', 'might', 'unobserv', 'soft-spoken', 'antara', 'peruvian', 'pound', 'moth', \"ev'rybodi\", 'rythm', 'rich', 'momentari', 'ke', 'sli', 'past', 'bob', 'creator', 'infecti', 'circumstanti', 'putter', 'mandolin', 'rosemari', 'twentyfourth', 'truant', 'jantung', 'caution', 'dispair', 'kusesali', 'hedg', 'display', 'fortun', 'ge', 'toughest', 'lovesick', 'ginagawa', 'lum', 'express', 'outlaw', 'dependson', 'hunch', 'caress', 'estat', 'spike', 'vitamin', 'furri', 'folli', 'emphasi', 'he', 'horsesho', 'barbecu', 'entrail', 'typefac', 'lobster', 'veggi', 'situat', 'nerver', 'keef', 'philadelphia', \"'from\", 'shudder', 'academi', 'accendi', 'peacock', 'puppet', 'paton', 'nixon', 'vers', 'overplay', 'dala', 'strung-out', 'slither', 'eventu', 'rockefel', 'mockin', 'boredom', 'warnin', 'raisin', 'introvert', 'romeo', 'saviou', 'b-b-b-bin', 'tmz', 'dinastinya', 'tiada', 'huntin', 'defin', 'baltimor', 'giardino', 'demeanor', 'glistenin', 'lennon', 'slime', 'coeur', 'fellow', 'lohan', 'home-sweet-hom', 'dragon', 'slaver', 'pa-rum', 'chorusx4', 'sould', 'brawni', 'start', 'cheney', 'shrapnel', 'muriel', 'ah-ha', 'celebr', 'behavior', 'peek', 'intermezzo', 'yuletid', 'reinvent', 'ni', 'allow', 'babyif', 'monti', 'settler', 'prettier', 'greet', 'erykah', 'crummi', 'gallup', 'waterway', 'longtim', 'alic', 'snicker', 'regardless', 'ropa', 'consol', 'altern', 'worldli', 'couch', 'comprend', 'creepin', 'snort', 'a-fumblin', 'courtesi', 'inhibit', 'asphyxi', 'dusk', 'financi', 'balanc', 'rascal', 'tolkein', 'complainin', 'reced', 'dissolv', 'stench', 'bare', 'one-oh-thre', 'ng', 'inessenti', 'loop', 'countrifi', 'musik', 'vietnam', 'euphrat', 'tez', 'gulli', 'ecolog', 'chang', 'ghetto', 'noy', 'sparrow', 'kree', 'sacrif', 'raitt-trinket', 'terrif', 'lean', 'safisfi', 'hip', 'cicero', 'to-mah-to', 'initi', 'unsuspect', 'muchacho', 'riveracross', 'ever-changin', 'deepest', 'fakin', 'atlant', 'silki', 'pig', 'arabi', 'dimension', 'faculti', 'twiddlin', 'groin', 'sad', 'masihkah', 'soon', 'slag', 'grey-hair', 'freelanc', 'expert', 'spastic', 'caus', 'nazi', 'mixtur', 'larri', 'book', 'walt', 'harri', 'anytim', 'partyin', 'make-believ', 'tabloid', '8am', 'alarm', 'sementara', 'ici', 'champion', 'pangarap', 'debutant', 'unimagin', 'ngunit', 'soda', 'd-d-do', 'jerki', 'humil', \"maupo't\", 'too-ra-loo-ra-li', 'decod', 'enemi', 'amongst', 'cagney', 'lock', 'barnabi', 'depriv', 'ain', 'dakota', 'remniscin', 'donkey', 'nijinski', 'but', 'militari', 'bartend', 'murphi', 'miseri', 'repaid', 'piddli', 'invest', 'unter', 'kitsch', 'ricki', 'unverifi', 'greener', 'commod', 'sleepwalk', 'keller', 'rulr', 'stinki', 'seaboard', 'fig', 'gun-aerosmith', 'apart', 'montgomeri', 'emili', 'gloom', 'glimps', 'simper', 'wo-o-wo-o', 'nakatingin', 'gaw', 'confessor', 'colt', '696', 'denis', 'adjust', 'motion', 'spin', 'silver-pl', 'madism', 'somin', 'huwag', 'quiff', 'airplan', 'stripe', 'copi', \"'m\", 'electrifi', 'airlin', 'sofa', 'thinnest', 'oat', 'crocodil', 'diriku', 'hobbl', 'peer', 'cavalri', 'julep', 'phono', 'dogi', 'pipe', 'adanya', 'fatima', 'punchin', 'woodstock', 'highlight', 'crazier', 'motivatin', \"s'en\", 'crackin', 'buddi', 'chet', 'shepherd', 'fightin', 'strawberri', 'withdrawn', 'entrer', 'traffic', 'hap', 'wheel-to-rol', 'sprung', 'spivi', 'preserv', 'fondest', 'el-elyon', 'babi', 'eaton', 'joker', 'ramon', 'brae', 'a-gleam', 'bachstag', 'rahter', 'superhatin', 'doom', 'a-ne', 'discov', 'e.s.p', 'borrow', 'turquois', 'mnemon', 'snooz', 're-remind', 'blacksmith', 'lonley', 'hilari', 'restrict', 'memor', 'a-get', 'rash', 'jamaica', 'baseb', 'motherfuckin', 'revoici', 'molesta', 'bewitch', 'pac', 'quiet', 'x9', 'afternoon', 'starri', 'struggl', 'concept', 'mudda', 'fetch', 'insuffici', 'trampolin', 'justin', 'threshold', 'movin', 'ready-readi', 'prostitut', 'jadikan', 'tehs', 'repo', 'compromis', 'pisa', 'aux', 'stella', 'rewind', 'destitut', 'reptil', 'a-blow', \"qu'un\", 'eager', 'tilt', 'perform', 'mater', 'lush', 'cuter', 'hae', \"'til\", 'mamma-san', 'hungri', 'soni', 'spectr', 'vanleer', 'bettin', 'camp', 'loverli', 'hieroglyph', 'fonz', 'repay', 'trousseau', 'congregatin', 'kati', 'footprint', 'kailan', 'youuu', 'snowflak', 'then', 'saddest', 'bolder', 'contradict', 'eyebal', 'shear', 'span', 'lure', 'hope', 'justic', 'dock', 'chow', 'ton-up', 'lodg', 'dirinya', 'seabird', 'cartridg', 'laro', 'phonecal', 'coma', 'viel', \"corp'ral\", 'hammerlock', 'cuba', 'beckett', 'maintindihan', 'offa', 'inflat', 'strada', 'mold', 'moor', 'neglectin', 'boulevard', 'slippa', 'gold-lloyd-echolett', 'subscrib', 'tropic', 'micro', 'rod', 'strode', 'nuttin', 'marciano', 'everglow', 'toddlin', 'f-you-see-k', 'higher', 'volcano', 'recess', 'getter', 'lai', 'cha', 'rehab', 'creo', 'pie', 'puritan', 'green', 'tv', 'fib', 'jekyl', 'eighty-nin', 'oooohh', 'concubin', 'heaven-s', \"dont'cha\", 'niagara', 'fixin', 'dim', 'happi', 'schoen', 'trellick', 'dug', 'radiantli', 'snare', 'skil', 'dancestep', 'hop', 'missil', 'rubero', 'giddyup', 'pom-pom', \"'most\", 'twenty-six', 'crucial', 'ignor', 'mctell', 'regist', 'cautious', 'jean-jacqu', 'nightingal', 'spong', 'pourrait', 'somebodi', 'siento', 'daybreak', 'map', 'nurs', 'imperfect', 'tiupkan', 'ther', 'heigh', 'burri', 'nappi', 'podia', 'confess', 'impact', 'liit', 'efharisto', 'tighter', 'smellin', 'dideh', 'tenni', 'zing', 'vacquero', 'swallow', 'sea-ea-ea', 'diemen', 'california', 'ginsberg', 'makapil', '2x2', 'tutto', 'goin', 'superced', 'marco', 'freezer', 'downplay', 'chit', 'mengapa', \"'let\", 'flashin', 'dent', 'dize', 'waterfal', 'ah-ah-ah-ah-ah', 'becki', 'gnarli', 'tallow', 'carrol', 'miller', 'fiddl', 'stiletto', 'kabiyak', 'darkwood', 'sal', 'lavign', 'x8', 'hourglass', 'diddl', 'ernest', 'ptomain', 'cabbi', 'bike', 'tippido', 'jolen', 'maybel', 'ikaw', \"niag'ra\", 'thing', 'hill', 'outcast', 'horner', 'juggler', 'valet', 'mandrak', 'look', 'easin', 'itll', 'psychic', 'tonk', 'dragonfli', 'astronett', 'mchugh', 'backpack', 'jacko', 'businessman', 'interlud', 'mislead', 'inspector', 'healthi', 'under', 'conform', 'janitor', 'broken-heart', 'oxford', 'lambkin', 'cayman', 'dinna', 'magmamaliw', 'siyang', 'machin', 'mohair', 'aniston', 'pardis', 'gig', 'seas', 'wilderbeast', 'toremina', 'whoa', 'hippest', 'portland', 'secreci', 'cowgirl', 'rcmp', 'cowboy', 'dj', 'seein', 'boer', 'will', 'turk', 'kumohon', 'kaleidoscop', \"l'espoir\", 'cadg', 'devin', 'uptak', \"d'une\", 'junior', 'arabia', 'bellyach', 'construct', 'apprentic', 'longinli', 'thick', 'luci', 'ow', 'gulf', 'neighborli', 'manhattohse', 'havent', 'tarr', 'shoulda', 'aah', 'quail', 'far-fetch', 'trop', 'involvin', 'hype', 'mi-i-i-in', 'toler', 'hofner', 'crashin', 'laeti', 'absorb', 'rins', \"'king\", 'm', 'novocain', 'paus', 'pandemonium', 'gravel', 'celo', 'foxi', 'mettr', 'yokohama', 'smile.th', 'bronc', 'fever', 'sidekick', 'trial', 'slide', 'hummingbird', 'bunni', 'scare', 'boxcar', 'coil', 'runnin', 'nutshel', 'sceneri', 'gladsom', 'puss', 'm6', 'arnstein', 'cosmo', 'tanod', 'ah-ah', 'arroyo', 'massag', 'armer', 'camden', 'magician', 'ensenada', 'twinkl', 'cloudless', 'effici', 'alvarado', 'poi-son', 'elabor', 'bit-a-y', 'dignatari', 'fussin', 'ahhh-huh', 'horen', 'critic', 'jeani', 'tsa', 'chevi', 'condemn', 'dublin', 'proper', 'maw', 'mousi', 'firmament', 'carriag', 'mansion', 'warfar', 'dollar', 'within', 'unsmil', \"'thou\", 'presuppos', 'laptop', 'weatherman', 'tremolo', 'unconcern', 'heav', 'mindin', 'damag', 'croop', 'etabl', 'frisbe', 'tall-short', 'outer', 'boyfriend', 'fission', 'orchard', 'crystal', 'helper', 'yayaya', 'corridor', \"knockin'at\", 'heureux', 'wayfar', 'preachin', 'exagger', 'orvil', 'doo', 'lyricsandsong', 'quatr', 'gaudett', 'drag', \"'53\", 'polar', 'tuwina', 'starboard', 'sass', \"c'qui\", 'word-it', 'simplist', 'carib', 'netti', 'avancez', 'ancient', 'stab', 'finsh', 'matador', 'tarmac', 'langsung', 'rock-a-billi', 'auto-work', 'rhythm', 'divin', 'camara', 'reac', \"lalo't\", 'costum', 'sodusti', 'gladi', 'laidback', 'rewrap', 'bosom', 'childish', 'maneuv', 'indah', 'perpetu', 'sting', 'warmer', 'baby-o', 'magmah', 'abroad', 'carcass', 'grinnin', 'singapor', 'overtak', 'blanch', 'save', 'parlor', 'capitalist', 'luda', 'blue-green', 'blurt', 'afrika', 'luggag', 'j.c', 'gasp', 'looka', 'ancora', 'decor', 'slang', 'wanni', 'gosh', 'roug', 'tokk', 'swore', 'arthur', 'trifflin', 'sawdust', 'cesspool', 'joell', 'toesand', 'sekedar', 'scissor', '4', 'harvest', 'swimming-pool', 'leakin', 'downbound', 'afghanistan', 'kichwa', 'cambr', 'logement', 'locomot', 'generos', 'a-hey-hey', 'earthquak', 'herber', 'stickbal', 'unsham', 'flynn', 'english', 'sag', 'burgandi', 'oar', 'seventy-f', 'loney', 'munti', 'channel', 'l-i', 'zipper', 'redress', 'unexpectedli', 'unveil', 'intestin', 'princ', 'summer', 'ha-ha', 'fue', 'alabam', 'antelop', 'last', 'inn', 'ani', 'michigan', 'fil', 'harmless', 'double-click', 'mump', 'heed', 'attent', 'circumst', 'j', 'tanya', 'goe', 'stout', 'jim', 'aleilujah', 'grandest', 'life', 'collid', 'tele', 'buster', 'workabl', 'potent', 'bwana', 'rihanna', 'eyelid', 'arthriti', 'childishli', 'homestead', 'l.a', 'cargo', 'remenis', 'din', 'careless', 'guild', 'ragism', 'vine', 'height', 'naman', 'cartoon', 'custer', 'killin', 'quickli', 'lauren', 'tunic', 'muy', 'subdu', 'inbetween', 'courthous', 'pack', 'grow', 'saddl', 'thanksgiv', 'whisper', \"doobedood'ndoo\", 'pagkahimb', 'emerald', 'dependin', 'farandol', 'wooo', \"'the\", 'boobi', 'sumpa', 'tiehead', 'paranoia', 'brewer', 'rare', 'unser', \"d'lee\", 'echoin', 'whenc', 'pompeii', 'tress', 'glug', 'calabash', 'chillin', 'moe', 'doe', 'humbl', 'bitch-aa', 'slippin', 'songbird', 'traci', 'cure', 'unit', 'greenhous', 'ahold', 'grasp', '50', 'cabana', 'gun', 'reward', 'coz', 'abid', 'keith', 'collar', 'replac', 'eya', 'gim', 'et', 'nose', 'bled', 'mai', 'gloriou', 'soccer', 'vigil', 'cottonfield', 'denn', 'tablet', \"i'll\", 'docket', 'dif', 'yo', 'a-stand', 'swept', 'get-a', 'louisiana', 'matang', 'overkil', 'uneasi', 'a-washin', 'entangl', 'pagtingin', 'cosmonaut', 'street', 'secuil', \"'chief\", 'twenti', 'gwen', 'daintili', 'streak', 'unrefin', 'wept', 'jalousi', 'direct', 'da-ay-ay', 'mat', 'fab', 'fairli', 'farewel', 'talk', 'editori', 'womanhood', 'captain', 'ungrat', 'goodbye-', 'coliseum', 'cornerston', 'retort', 'tame', \"'pon\", 'convers', 'pavement', \"'62\", 'storyvil', 'maserati', 'soldier', 'patronizin', 'fredro', 'carp', 'pavan', 'ten', 'observ', \"'cut\", 'pale-tail', 'truncheon', 'ruthlessli', 'hell', 'baaad', 'callou', 'dapper', 'log', 'susten', 'nag-aantok', 'findin', 'curin', 'whorehous', 'bicycl', 'sombrero', 'tic', 'eucalyptu', 'in', 'wholl', 'benar', 'phenomen', 'more-count', 'blous', 'yeee-eeaaah', 'maggi', 'palisad', 'matern', 'tou', 'morman', 'selfish', 'teepe', 'grievin', 'jejak', 'hurryin', 'step', 'dope', 'packet', 'fallout', 'watchout', '60', 'arigato', 'v', 'hypoderm', 'panaginip', 'shroud', 'disgust', 'au', 'friend..i', 'frontin', 'humili', 'gorgeou', 'monologu', 'symptom', 'had', 'design', 'heavenli', 'groucho', 'lifetim', 'yooou', 'is', 'pagpalain', 'steerin', 'joli', 'theater', 'alto', 'paranoid', 'note', 'a-feud', 'call', 'cant', 'paradox', 'parola', 'dimana', 'ya', 'eh', 'heater', 'travel', 'groceri', 'lend', 'lovabl', 'headston', 'penicillin', 'full', 'off-a', 'dictionari', \"o'doherti\", 'crash', 'abl', 'tape', 'whoa-oh-oh', \"l'univ\", 'scarili', 'easier', '20,000', 'sustain', 'doorbel', 'derrick', 'data', 'di', 'cynthia', 'lea', 'door-a', 'yu', 'quietud', 'churnin', 'shadow', 'biddin', 'lhuna', 'ngayon', 'elm', 'fasta', 'velma', 'drum-rol', 'han', 'tricki', 'kevin', 'poster', 'kith', 'twist', \"'pose\", 'subject', 'lawmen', 'dooo', 'mitchel', 'skate', 'suasana', 'haru', 'try-y-i', \"comp'ne\", 'garrot', 'fl-fl-fli', 'excelsi', 'retreat', 'singgah', 'firefli', 'mal', 'leani', 'fuer', 'soil', 'conflict', 'faze', 'everlast', 'kapil', 'drownin', 'impuls', 'rumpl', 'pink', 'cow', \"y'all\", 'chainsand', 'disconnect', 'a-r', 'bank', 'conceiv', 'down-swiss', 'shrink', 'dictat', \"what'cha\", 'grandissima', 'cork', 'apiec', 'jesu', 'bunk', 'disregard', 'unannounc', 'babababbababababa', 'loch', 'shrinkin', 'scar', 'bathtub', 'autobu', 'doo-dee-yup', 'faccio', 'gm', 'mortal', 'duchess', 'coldli', 'video-drugs-bullet', 'ghettolog', 'fortunato', 'cooler', 'kahit', 'ziggi', 'self-destruct', 'sarap', 'obtain', 'escap', 'spi', 'deadlin', 'shinni', 'ink', 'night-light', 'respir', 'gunpowd', 'patient', 'baddest', \"'case\", 'sedona', 'cheater', 'riot', \"must'nt\", 'nonchalantli', 'cherchant', 'choogl', 'woaahh', 'deeper', 'livingston', 'notr', 'wink', 'alison', 'bush', 'salamat', 'widemissourih', 'tiket', 'cajun', 'vindaloo', 'interview', 'maggot', 'ou', 'syahdu', 'bata', '1-5-1970', 'tout', \"t'wa\", 'a-reelin', 'consider', 'homeland', 'ayaaayyoa', 'themself', 'color', 'eric', 'g.i', 'motorola', 'noo', 'novemb', 'hmmmm', 'jackhamm', 'playboy', 'hi-o', 'un', 'hangarin', 'sinu', 'panti', 'retriev', 'rembrandt', 'couplet', 'england', 'depend', 'mhmm', 'wine', 'honeymoon', 'bed', 'russian', 'good-lucil', 'ballyhoo', 'univers', 'hum', 'sabl', 'mercedez-benz', 'duh', 'companionship', 'stitch', 'casanova', 'year', 'stilt', 'luba', 'mantlepiec', 'surv', 'goldman', 'assent', 'reliant', 'squad', 'southwest', 'sawn', 'a-wishin', 'tomb', 'munchkin', 'rien', 'burt', 'soften', 'quiz', 'courag', 'wangi', 'catcher', \"ev'rywher\", 'slope', 'lala', 'irresist', 'auction', 'blackout', 'understand', 'ounc', 'audit', 'itv', 'continneti', 'mercedes-benz', 'share', 'aspen', 'goate', 'still', 'downpressor', 'sti', 'mind', 'junip', 'kisumu', 'housewif', 'loner', 'imposs', 'lookit', 'unfinish', 'fli', 'brownston', 'texarkana', 'bugatti', 'offend', 'shithol', 'deader', 'verandah', 'watchdog', 'atm', 'dishonor', 'secula', 'pole', 'damsel', 'clef', 'asleep', 'patch', 'asp', 'risk', 'skyway', 'remembr', '10538', 'russet', 'sleet', 'loigner', '2', 'a-flam', 'cogsworth', 'heck', 'slug', 'straight-fac', 'dreg', 'latch', 'surreal', 'lackin', 'ua', 'itali', 'una', 'master', 'planet', 'snag', 'park', 'harmoni', 'newsprint', 'success', 'yo-yo', 'vanilla', 'zealot', 'screw', 'he-hey', 'eeri', 'flee', 'stroke', 'panorama', 'gwinnett', 'alway', \"it'\", 'maytal', 'naehrt', 'lah', 'datang', 'hussi', \"'cept\", 'guarana', 'braveri', 'parasit', 'necklac', 'confe', 'oooh', 'tin', 'tequila', 'peach', 'grope', 'congratul', 'catchin', 'hypocrit', 'christina', \"'squita\", 'booti', 'sabr', 'alive-b', 'yet', 'either', 'ehr', 'more', 'ultim', 'annihil', 'country-f', 'immort', 'canuck', 'sweeterman', 'surg', 'yore', \"o'leari\", 'heba', 'sanglot', 'solemn', 'langit', \"'so\", 'dah', 'buick', 'daycar', 'peddl', 'peluhkupun', 'mourner', 'demigod', 'detest', 'pout', 'locker', 'superb', 'open-heart', 'cost', 'foldin', 'aahh', 'smoke-fil', 'cullercoat', \"'and\", 'bur', 'plum', 'ra-ra', 'he-eh-eh-hey', 'president', 'dahlia', 'fiddler', 'almost', 'smother', 'minut', 'photographi', 'comput', 'tinititigan', 'toffe', 'troubl', 'sunder', 'up-town', 'b-o-b', 'seiz', 'rubber-leg', 'final', 'spent', 'rust', 'anew', 'boast', 'frightenin', 'revel', 'pigeonhol', 'believ', 'labour', 'if', 'chines', 'overh', 'clam', 'guzzi', 'topsi', 'abolish', 'sunnin', 'chug-chug', 'extens', 'enforc', 'grill', 'predict', 'expos', 'carniv', 'mice', 'tiffani', 'cantik', 'exact', 'delay', 'shaddai', 'coal-dust', 'jumbo', 'merri', 'mediterranean', 'beard', 'quiero', 'thief', 'counterfeit', 'parallel', \"qu'il\", 'fitt', 'wast', 'inmat', 'mine', 'bay', 'billi', 'demand', 'strongyou', 'pranc', 'aww', 'barri', 'ravag', 'love.i', 'tucson', 'wo', 'britannia', 'weighin', 'felt', 'roast', 'reba', 'surprisingli', 'lingo', 'swing', 'doubt', 'whether', 'top', 'autograph', 'borderlin', 'freezin', 'a-fight', 'inang', 'peur', 'disclosur', 'hiemlich', 'ka', 'drop', 'unriv', 'druggist', 'that', \"wond'rou\", 'wa-aterfal', 'maulit', 'rosa', 'plung', 'sii-hii-yiiiii', 'sultan', 'e-str', 'charli', 'stale-al', 'blunt', 'fifteen', 'crowd', 'korp', 'unem', 'alik', 'maybellen', 'gudda', 'breakout', 'conjur', 'ornament', 'n.w.o', 'refreign', 'anoth', 'thoma', 'naririto', 'actress', 'divi', 'worki', 'noodl', \"'t\", 'pentagram', 'by-ny-ni', 'nouveau-n', 'coal-oil', 'telephon', 'sniff', 'theori', 'scrambl', 'gaull', 'fronc', 'treadmil', 'self-deni', 'oven', 'fox', 'sabbath', 'd-d-d-di', 'woken', 'where', 'katmandu', 'milano', 'baim', 'castl', 'pensami', 'psychosomat', 'glori', \"'state\", 'dum-be-dum-dum', \"'70\", 'hook-up', 'vibrat', 'drum', 'whale', 'knockout', 'pompadour', 'swig', 'pinipigil', 'breakthrough', 'threat', 'ballin', 'pneumonia', 'twinbrook', 'skali', 'build', 'turnin', 'causght', 'soak', 'ice-t', 'felin', 'snide', 'iwan', 'marvel', 'nightli', \"'55\", 'o-l', 'scoundrel', 'hungari', 'prier', 'worship', 'headwat', 'sixty-two', 'menjadi', 'call-in', 'like', 'bunnel', 'woo-hoo', 'modesti', 'barter', 'dow', 'unrehears', 'parl', 'stung', '5', 'revenu', 'berjalan', 'jackson', 'bailiff', 'full-tim', 'slurpi', \"d'arbanvil\", 'stupidli', 'forget', 'ashtray', 'howev', 'prayin', 'harder', 'grove', 'kentucki', 'pickup', 'a-f', 'wondrou', 'one-ey', \"glitt'r\", 'boweri', 'billion', 'oh-th', 'san', 'exil', 'wallahi', 'strangest', 'twosom', 'genuin', 'spice', 'mari', 'adorn', 'yeaaaaah', 'hula', \"'stay\", 'songwrit', '103', 'mothafucka', 'veri', 'a-oh', 'roll-roll-rol', 'shalay', 'lifeblood', 'comb', 'clever', 'written', 'trashin', 'hoodlum', 'alomo', '0', 'bid', 'west-end', 'reveng', 'susan', 'hoot', 'stray', \"'forget\", 'hot', 'singl', 'bureaucrat', 'plan', 'handbil', 'brack', 'd', 'rosewood', 'oh-pl', 'kingsman', 'outskirt', 'two-car', 'confin', 'heist', 'yob', 'clap', 'claim', 'sullen', 'a-standin', 'locket', 'eri', 'perrinevil', 'cooki', 'supermarket', 'guitar', 'viva', 'emanuel', 'whiski', 'tossin', 'jericho', 'pain', 'bourgeois', 'stubbornest', 'ten-tim', 'cushion', 'rock-olla', 'corner', 'frame', 'destin', 'marbl', 'jumpim', 'dresser', 'cheeesboig', 'tidbit', 'tightli', 'o-o-l', 'magunita', 'equal', \"'we\", 'beer', 'dededudidudu', 'vest', 'magnifi', 'saviour', 'baya', 'mia', 'schwab', 'sadli', 'elop', 'branch', 'personnel', 'unplug', 'vuitton', 'self-disillus', 'scurri', 'ooh-ooh-ooh', 'blest', 'dissip', 'heart', 'ahhhhhhh', 'crisi', 'posi-tract', 'choke', 'brazil', 'late', 'kartel', 'copenhage', 'driftin', 'mineur', 'dagat', 'together-now', \"cosmic'li\", 'musett', 'chromoson', 'lembut', 'refrain', 'serv', 'heighten', 'applaus', 'obsolet', 'shadi', 'newest', 'rhodi', 'bucket', \"'screw\", 'plead', 'complic', 'repris', 'speechless', \"'thank\", 's-u-r-p-r-i-c-', 'poppa', 'balloon', 'buzzin', '310-143-1437', 're-enact', 'pri', 'churn', 'woke', 'telex', 'suppli', 'tecum', 'cleavag', 'project', 'g-men', 'sent', 'pip', 'creaki', 'foldback', 'enzio', 'locat', 'fag', 'ibiza', 'syncop', 'reli', 'crossfir', \"haven't\", 'fuller', 'colada', 'mous', '13', 'buona', 'burnin', 'moonshin', 'cider', 'pierc', 'cloak', 'jackal', 'bumi', 'stew', 'mcqueen', 'soit', 'waktu', 'homeboy', 'bling', 'tale', 'glitch', 'boilin', '1992', 'junkiedom', 't-top', 'wiener', 'went', 'parquet', 'washroom', 'earless', \"'industri\", 'pursuit', \"'63\", 'liebl', 'dian', 'mashallah', 'jailbird', 'promot', 'straw', 'milkman', 'grow-up', 'matanto', 'de-evolut', 'gripp', 'russia', 'try-try-tri', 'swerv', 'survey', 'wadin', 'enlighten', 'bash', 'privileg', 'neath', 'pimp', 'admit', 'king-siz', 'glac', 'percept', 'trumpet', 'unspoilt', 'droolin', 'bug', 'site', 'lona', 'satu', 'skip', 'dark', 'winsom', 'shipwreck', 'cuttin', 'countdown', 'a-singin', 'tam', 'respiratori', 'perceiv', 'mabigat', 'right', 'backsid', 'araw', 'x4', 'acquaint', 'asnwer', 'estim', 'roulett', 'pantri', 'nation', 'lawyer', 'second', 'breakman', 'meager', 'backstag', 'morbid', 'hurdy-gurdi', 'darat', 'rosenberg', 'tender', 'void', 'ever-chang', 'merriment', 'hinter', 'stapl', 'mach', \"'59\", 'faintli', 'experi', 'deli', 'mu', 'flip', 'puriti', 'row', 'nurseri', 'cano', 'film', 'molli', 'music', 'soapbox', 'avalanch', 'old', 'lane', 'rent', 'foreign', 'scale', 'ross', 'tasti', 'vocal', 'preposter', 'roosenbloom', 'sunlight', 'ay-ay', \"'when\", 'bugler', 'sinus', 'softli', 'wahat', 'ooooh', 'credit', 'illi', 'nelson', 'motherload', 'trinket', 'choic', 'station', \"j'en\", 'sane', 'nooooo', 'sincer', 'chimpi', 'midst', 'livingroom', 'buttuck', 'snowin', 'wreckag', 'gunn', 'exist', 'admiss', 'wreckless', 'space', 'probabl', 'louver', 'pencipta', 'greyhound-bound', '1-2-3', 'trombt', 'cinema', 'celesti', 'footsor', 'buildin', 'beautfi', 'magtii', 'walli', 'ratatatat', 'jr', 'dooooo', 'dodg', 'rumpu', 'scat', 'tongu', 'suggest', 'ght', 'abba', 'dainti', 'untru', 'blown-out', 'deafen', 'triathlon', 'litll', 'orgel', 'la-la-la-lov', 'realism', 'goali', 'g-g-g-get', 'shave', 'colder', 'cellunoid', 'choix', 'georg', 'bathrob', 'europ', 'gipsi', 'covet', 'nouer', 'signifi', 'again-gain-gain', 'gnome', 'insid', 'leas', 'modem', 'eyebrow', 'yard', 'pinalalayaw', 'bast', 'program', 'a-flash', 'skinniest', 'senorita', 'rigidli', 'chapter', '0h', 'cloppin', 'daring-do', 'winona', 'ever', 'wrist', 'pinic', 'brrrrr', 'lumi', 'wire', 'loweri', 'old-fashion', 'skull', 'junki', 'hyster', 'joplin', 'capitol', 'uniform', 'maiden', 'grillo', \"o'riley\", 'pigeon', 'banal', 'saud', 'robbin', 'doubl', 'regem', 'pre', 'okefenoke', 'club', 'confid', 'fashionless', 'walker', 'sylvia', 'berdansa', 'onward', 'residin', 'solv', 'tumblin', 'ai', 'scariest', 'maalala', 'mist', 'swamper', 'ite', 'hey-ey-ey', 'slicker', 'have', 'harpo', 'elimin', 'spunk', 'fick', 'classroom', 'semakin', 'kingpin', 'garbagemen', 'crossin', 'lifelong', 'spill', 'languish', 'queri', 'buyer', 'trustworthi', '105', 'viennes', 'rhineston', 'arlo', 'lowlif', 'marker', 'noonday', 'stash', 'accompagnera', 'ata', 'sandler', 'flatter', 'nai', 'bligh', 'milk', 'spot-spot-spot-spot', 'asleepin', 'toothpast', 'ohhh-whoa', 'urg', 'asylum', 'wingless', 'le', 'climb', 'song', 'christian', 'fifti', 'blueberri', 'cole', 'leafi', 'acquit', 'beginnin', 'drink', 'gotten', 'caller', 'nuptial', 'allen', 'heartland', 'christin', 'attach', 'calmli', 'ruddi', 'virtual', 'speci', 'outdoor', 'kown', 'streptococci', 'klingt', 'magnificat', 'bulan', 'do-do-do-do-do', 'hur', \"e'nuff\", 'obey', 'peal', 'redefin', 'janeiro', 'dunc', \"d'oeil\", 'victoria', 'superhuman', 'quitin', 'ama', 'southbound', 'away', 'pose', 'intend', 'lisa', 'bloat', 'terrai', 'glen', 'visitor', 'shrunk', 'hahanapin', \"i'mma\", 'one-two', 'mit', 'hard-workin', 'caviar', 'karma', 'la-ah', 'impun', 'woo', 'fifty-nin', 'mayhem', 'umiibig', \"fam'li\", 'lover', 'uh-uh-oh-oh', 'elys', 'candlelight', 'sweeten', 'breathless', 'stock', 'brochur', 'sunris', 'unstabl', 'jay', 'lent', 'minamah', 'diesel', 'wantin', 'ago', 'elisabeth', 'stoni', 'assassin', 'eighty-thre', 'arch', 'grain', 'souvient', 'sum', 'louboutin', 'uncov', 'meal', 'no..oh', 'alittl', 'hat', 'foul', 'flatten', 'enrol', 'lassi', 'sombodi', 'dust', 'shield', 'defense-less', 'swag', 'dish', 'shirttail', 'anymor', 'travi', 'just-just-just', 'm1', 'despair', 'treason', 'suin', 'flick', 'trandewind', 'perkin', 'mire', 'drunkenli', \"list'n\", 'rene', 'sembra', 'soufl', 'franc', 'cling', 'similar', 'therefor', 'nip', 'fling', 'freer', 'plottin', 'sycamor', 'implant', 'raven', 'nois', 'lowli', 'highway', 'mixer', 'coucher', 'planner', 'guilti', 'misdemeanor', 'profan', 'motherboard', 'jetplan', 'man-mad', 'stoke', 'stirrin', 'window', 'is-m', 'young', 'uptighten', 'basket', 'rook', 'iron', 'rooftop', 'fredrich', 'highroad', 'waylon', 'diction', 'devil', 'cassandra', 'fleshpot', 'dre', 'cupcak', 'odeur', 'imposit', 'velour', 'lobotomis', 'altar', 'law', 'uke', 'ipipikit', 'excalibur', 'mahatma', 'stardust', 'slash', 'mariann', 'ad', 'hasselhoff', 'rag', 'paid', 'ys', 'rhine', 'ex-girl', 'fines', 'beat', 'needin', 'chooser', 'pang', 'israel', 'fancy-fre', 'silti', 'youuuuu', 'madonna', 'ooooooohhhh', 'rudolph', 'petik', 'k.o', 'recommend', 'play-girl', 'sex', 'francisco', 'disappearsy', 'ada', 'dia', 'crippl', 'automat', 'cog', 'peeb', 'jokingli', 'ringl', 'tant', 'hoodi', 'celeri', \"'89\", 'aros', 'tuhan', 'bird', 'brook', 'sensit', 'hairi', 'ooohhh', 'cleaner', 'diabl', 'blindfold', 'celsiu', 'someth', 'nishigesh', 'vivimo', 'inspir', 'magmula', 'cadillac', 'tussl', 'grandchildren', 'make', 'flirti', 'starlit', 'isisigaw', 'weari', 'fisherman', 'devalu', 'salmon', 'buggi', 'mutini', 'human', 'napoleon', 'savag', 'alaala', 'visual', 'stan', 'moonboy', 'mudah', 'cryin', 'bet-i-cha', 'detect', 'capabl', 'jungleland', 'mackerel', 'barkin', 'born', 'fourteen', 'joseph', 'pass', 'chunk', 'ahhhahhhhahhh-bob', 'mah', 'nier', 'gull', 'now-a-day', 'buttock', 'snuggl', 'mouth', 'poutin', 'dugo', 'allend', 'homebound', \"l'oiseau\", 'rowdi', 'chonc', 'tougher', 'sikat', 'minstrel', 'delta', 'disposit', 'broke', 'christam', 'alchohol', 'pressure-cook', 'riversid', 'mitt', 'mida', 'iringi', 'nonchal', '150', 'nasser', \"qu'hier\", 'porno', '64', 'unpretensi', 'teachin', 'tripper', 'sweet', 'whoa-oo', 'downstream', 'find', 'natum', 'fuck', 'draw', 'flatteri', 'harper', 'earthen', 'tree', 'bliss', 'agrophil', 'hermit', 'peculiar', 'johanna', 'royal', 'awaken', 'sabit', 'umm', 'chan', 'stogi', 'nay', 'propan', 'armstrong', 'melon', 'mailtrain', 'engross', 'a-bomb', 'warmest', 'pardon', 'compound', 'dawghous', 'death', 'phenomenon', 'wild-erbeast', 'sandpit', 'becaus', 'santuari', 'tko', 'boze', 'terluka', 'smart', 'hey', \"n'roll\", 'sickliest', 'c-h-i-c-k-e-n', 'healin', 'deadbeat', 'declair', 'darl', \"o'clock\", 'quiver', 'seet', 'blacken', 'sagan', 'snuffi', 'sweater', 'mapaparam', 'were', 'chorus.s', 'owl', 'rotterdam', 'aston', 'bulb', 'stuntin', 'nozzl', 'teddi', 'team', 'brighter', 'hap-hap-hap-happi', 'truli', 'aground', 'mt', 'tragedi', 'subtl', 'mengenang', 'runaround', 'red-hot', 'tamborin', 'sori', 'pacif', 'histori', 'chalet', 'looser', 'grob', 'close-up', 'grass', 'grail', 'cathedr', \"jesus'caus\", 'snack', 'breathin', 'bean', 'salt', 'polli', 'wonderland', 'interest', 'rounded-bodi', \"'it\", 'bend', 'plush', 'spector', 'symbol', 'aught', 'bo', 'berkeley', 'boomer', 'vamp', 'occur', 'frontier', 'volatil', 'saturn', 'lesli', 'fuckin', 'mustach', 'see', 'smalltalk', 'flivver', 'ascens', 'fast', 'insurmount', 'mile', 'struck', 'strip', \"'fore\", 'whitford', 'entranc', 'hazard', 'chastiti', 'rubber', 'senseless', 'psychopath', 'dixi', 'ram', 'lark', 'sinaktan', 'run-off', 'do', 'their', 'multidimesion', 'natin', 'weather', 'procedur', 'houdini', 'lovesteal', 'brand-new', 't.p', 'outstretch', 'homag', 'electrod', 'thinner', 'telli', 'karunia', 'priest', 'screech', 'mug', 'lump', 'mundong', 'ritual', 'panoram', 'sorri', 'dylan', 'clack', 'montana', 'kracker', 'teaser', 'sop', 'exampl', 'tad', 'resolv', 'lint', 'lookin', 'carol', 'ahlman', 'whoa-oh', 'tucker', 'searchin', 'hahaha', 'preston', 'sazzafrazz', 'firmli', 'gosl', 'black-hair', 'rindu', 'one-of-on', 'mopey', 'to-and-fro', 'catfish', 'couldn', 'sergeant', 'print', 'trawl', 'reviendrai', 'kepala', 'beg', 'nikko', 'america', 'undertow', 'priceless', 'seafront', 'displac', 'bip-bip', 'achiv', 'flat', 'rosin', 'line-up', 'guadalajara', 'technician', 'desol', 'beliv', 'puff', 'imageri', 'code', 'ish', 'wrath', 'a-what', 'anyway-ay', 'underground', 'fun', 'ha', 'saiko', 'eyeyey', 'jai', 'waterfront', 'rear-view', 'hyde', 'giant', 'wilsonvil', 'luvi', 'pupil', 'rock-rock-rock', 'shawl', 'chirur', 'hit', 'yo-ho', 'liftin', 'satch', 'tightrop', \"d'uss\", 'illumin', 'savez', 'scarsdal', 'iy', 'singular', 'alleluia', 'bagai', '200', 'prancer', 'satisfi', 'ist', 'mj', 'dear', 'swam', 'undeni', 'blaze', 'donner', 'jig', 'andrea', 'illegitim', 'dada', 'oh-la-la', 'mulai', 'tumbl', 'foam', 'donald', 'strakosh', 'newel', 'per', \"masaya't\", 'grocer', 'navajo', 'symmetri', 'blare', 'runway', 'coleslaw', 'classic', 'glamor', 'static', 'armor', 'streamlin', 'trampl', 'cairo', 'badu', 'mcneil', 'dumplin', 'cemeteri', 'pasaba', 'jinglin', 'shall', 'residu', 'bewar', 'numberless', 'kuingin', 'bo-no-no', 'pinin', 'briefcas', 'disini', 'prove', 'churchyard', \"'bleak\", '75', 'fucka', 'susani', 'der', 'honesti', 'nude', 'bland', 'hallow', 'titl', 'sortin', 'bird-brain', 'attempt', 'elliot', 'muscl', 'ohhhh', 'page', 'ye', 'hiyo', 'forth', \"'88\", 'nina', 'evolut', 'ymcmb', 'mmmm', '5.2', 'testo', 'pench', 'coastguard', 'idl', 'web', 'closin', 'drawl', 'bukan', 'sand', 'transcrib', 'haze', 'woe', 'eighti', 'hunki', 'bass', 'fatigu', 'zander', 'poser', 'chump', 'gruel', 'pagtibok', 'army-navi', 'jealous', 'trite', 'cabailo', 'dewi', 'teensi', 'droop', 'thick-aa', 'everett', 'tastin', 'digerot', \"'68\", \"l'infini\", 'parodi', 'mockeri', 'cast', 'strand', 'suffer', 'chock', 'perfectli', 'taken-for-gr', 'bit-ah', 'ballard', \"heav'nli\", 'grizzli', 'whet', 'cucko-coo', 'sein', 'oh-oh-oh-ohh', 'teresa', 'neevr', 'itchi', 'vendor', 'orient', 'baa', 'fromm', 'skydiv', 'box', 'dougi', 'apprivois', 'cataton', 'absent-mind', 'eat', 'haircut', 'columbu', 'toboggan', 'ha-um-ha', 'vom', 'quedarm', 'jake', 'nanni', \"'good\", 'partag', 'contrast', 'circu', 'sorrrow', '3-drake', 'mystifi', 'surgic', '1990', 'violent', 'unphotograph', 'fooststep', '1903', 'ditch', 'wheel', 'flipper', 'coltran', 'newton', 'toi', 'tendenc', 'dixieland', 'trow', 'boob', \"un'eternita\", 'pedest', 'subconsci', 'l-l-ladi', 'pourvu', 'act', 'enuff', 'workin', 'orlean', 'mm-mm-mm', 'unison', 'unfulfil', 'softer', 'tough', 'seam', 'hindsight', 'hatchback', 'storm', 'boooooo', 'poontang', 'a-slinkin', 'smarter', 'emmanuel', 'erl', 'compani', 'rolex', 'blush', 'carpent', 'waterg', 'indefinit', 'attract', 'eekyaa', 'crab', 'saltlak', 'shim', 'penetr', 'bleibt', 'lilli', 'comma', 'odd', 'stetson', 'muzzl', 'matey', 'we-oh', 'ahm', 'properli', 'heartsong', 'stunner', 'textur', 'yeah', 'calm', 'didit', 'coquett', 'showboat', 'nuclear', 'shaker', 'unkind', 'endlessli', 'incub', 'tast', 'ug', 'sie', 'telah', 'sack', 'impissibol', 'pprrrsss', 'sicilian', 'x-ray', 'thorazin', 'woulda', 'tai', 'lipshitz', 'phrase', 'masih', 'everynight', 'bee-nee-ne', 'checkmat', 'flamingo', 'kahabag', 'fat-skinni', 'englishman', 'aaaah', 'slow', 'ira', 'pane', 'courtyard', 'lofti', 'pile', 'jukebox', 'hautboi', 'dozier', 'azul', 'howda', 'forgon', 'toast', 'prickli', 'strike', '3-p', 'nearest', 'look-a', 'pifiata', 'gibson', 'windowpan', 'besid', 'sea', 'rice', 'brightman', 'cold-cold', 'hefti', \"o'connor\", 'cabinet', 'pigment', 'tj', 'rai', 'caffein', 'neat', 'sui', 'margin', 'louis', 'ete', 'howl', 'alreadi', 'rib', 'porklif', 'revient', 'catacomb', 'pennsylvania', 'cigarett', 'cline', 'drummer', 'ba-a-a-abi', 'sake', 'cottl', 'shower', 'jennif', 'recept', 'beekman', 'else-els', 'fresh', 'millionair', 'hone', 'wetter', 'boi-1da', 'cassett', 'unclos', 'submerg', 'lengthi', 'belch', 'octob', 'minnesota', 'tru', 'cool', 'jaybird', 'hmmmmmm', 'termin', 'hen', 'pawnshop', 'd-do', 'twice', 'aged-in-the-wood', 'wooooaaaa', 'primros', 'raw', 'deduct', 'squeak', 'stallin', 'giggl', 'whisk', 'loin', 'schizophrenia', 'built', 'janic', 'ninth', 'geek', 'judgment', 'nightlight', 'drab', 'high-ton', 'tortilla', 'alright', 'oh-no', 'x10', 'coincident', 'kemukakan', 'mcgraw', 'rearrangin', 'a-grin', 'midwest', 'gumbo', 'french', 'hehe', 'spacegun', 'scold', 'spring-tim', 'siesta', 'arr', 'powder', 'ti', 'download', 'ham', 'dicken', 'menschen', 'chauvinist', 'housetown', 'feel', 'prom', 'mama', 'freeway', 'hush', 'crept', 'pou', 'gratitud', 'trixi', 'wooh', 'rex', 'stamp', 'catapult', 'weathervan', 'explain', 'mengundang', 'valeri', 'faithless', 'endors', 'menemani', 'doorstep', 'deaf', 'moonlit', 'tobi', 'streetcar', 'handv', 'sharin', \"ev'ryon\", 'slowli', \"a'you\", 'teapot', 'mixed-up', 't-shirt', 'freewheelin', 'terurai', 'buncha', 'timber', 'anywher', 'cupid', 'barbra', 'bushi', 'hormon', 'slab', 'truce', 'eleven', 'freedom', 'reliv', 'outcom', 'unwav', 'brown', 'emot', 'countri', 'etc', 'katrina', 'nest', 'hoch', 'tschaikowski', 'scratch', 'drank', 'starbuck', 'ayyayoaii', 'anticip', 'dreami', 'cherish', 'comic', 'economi', 'clamour', 'anyday', 'spank', 'spendin', 'malaika', 'wag', 'mither', 'self-self', 'jumpin', 'lalala-la', 'reveal', 'oppos', 'menhav', 'laden', 'prowess', 'pilihan', 'tembo', 'buggin', 'leapin', 'yale', 'propos', 'crazi', 'mucho', 'nitty-gritti', 'round-up', 'dave', 'blazin', 'clinton', 'sickman', 'mostri', 'worker', 'penni', 'malt', 'payment', 'corn-cob', 'hanya', 'pusher', 'tuck', 'indentur', 'by-pass', 'hum-de-hum-hum', 'announc', 'korea', 'ah-haa', '17th', 't-bird', 'premier', 'bich', 'milhou', 'race', 'maui', 'bringin', 'mildest', 'catdaddi', 'serious', 'tumor', 'beehiv', 'mang', 'taxi', 'exclaim', 'tr', 'tha', 'everth', 'himself', 'finer', 'atom', 'darker', 'bulldoz', 'eleventh', 'gettin', 'und', 'woven', 'anemia', 'meek', 'vandal', 'ryan', 'sofab', 'wompit', 'mosley', 'pinkerton', 'fed-up', 'burley', 'feisti', 'pagkakataon', 'wrestl', 'weston', 'raid', 'roll-a-rama', 'bawlin', 'cain', 'deplet', 'one', 'whore', 'motionand', 'despis', 'ding-a-ding-a-dong', 'swinger', 'jealou', 'sneaker', \"'pop\", 'mandi', 'coolin', 'mode', 'rapport', 'woolworth', 'thicker', 'way-ay-ay-ay-yeah-ah', 'giv', 'selflessli', 'insur', 'lie-low', 'fait', 'hottest', 'medicin', 'drunken', 'flaunt', 'karl', 'deer', 'saunter', 'jupit', 'handcuf', 'flipflop', 'epitaph', 'hoard', 'fork', \"pray'r\", 'banjo', 'fat', 'penitentiari', 'ban', 'pet', 'arki', 'absurd', 'lid', 'newgrass', 'reaci', 'polic', 'behaviour', 'blog', 'watcha', 'fowler', 'recklessli', 'a-just', 'daw', 'two-fac', 'basement', 'frizzel', 'oft', 'payton', 'appar', 'whose', 'rang', 'shyli', 'a-movin', 'solitari', 'has-been', 'morrison', 'nippi', 'address', 'oh-oh-oh', 'tincel', 'jeff', 'cultur', 'dog-gon', 'test-tub', 'doublecross', 'alongsid', 'x15', 'papuri', 'euclid', 'resuscit', 'punchlin', 'cyndi', 'axi', 'ode', \"why'al\", 'sword', 'play', 'contriv', 'menatap', 'adio', 'mustang', 'lit-up', 'flannel', 'vampir', 'spree', 'highbrow', 'chap', 'roy', 'ting-a-ling-l', 'sabay', 'junction', 'whitewash', \"perche'io\", 'ireland', 'rollercoast', \"'happi\", '20th', 'streetlif', 'loath', 'figtin', 'oh-wow', 'sweep', 'innermost', 'whaler', 'jack', 'isang', 'halelujah', 'orbison', 'dixon', 'egypt', 'bop', 'bardot', 'spew', 'mvp', 'hank', 'some', 'juda', 'lamborghini', 'realisin', 'habbit', 'genoux', 'awa', 'phoenix', 'pulver', 'babe', 'virgin', 'alphabetbet', 'reclin', 'huh', 'chocol', 'brat', 'dran', 'melintasi', 'nasal', 'skillet', 'menangi', 'embarrassin', 'whine', 'histor', 'mildew', 'caravan', 'ingratitud', 'petal', 'cottonpickin', 'babylon', 'mekon', 'cabo', 'feminin', 'fairytal', 'disrespect', 'carryin', 'schoolday', 'pollut', 'treatin', 'e-evil', 'reviewin', 'leadership', 'resist', 'vener', 'clich', 'recoveri', 'half-ful', 'arizona', 'ah-ha-ha', 'answer', 'somethin', 'erika', 'ey-y-y', 'trivial', 'dubiou', 'system', 'stupid', 'sixty-f', 'ta', 'troop-p-per', 'mio', 'budgi', 'rainin', 'uncondit', 'reunit', 'trip', 'distract', 'galveston', 'voix', 'align', 'babysit', 'presley', 'atmospher', 'gentleman', 'glowin', 'erect', 'kiss', 'mix', 'weepi', 'painkil', 'fewer', 'ricordi', 'tee', 'superman', 'espous', \"'sox\", 'prowl', 'overther', 'spooki', 'season', 'adest', 'fether', 'sunburn', 'slipper', 'brakeman', 'misfortun', 'star', 'gong', 'rivet', 'florist', 'overthrown', 'a-mi', 'goddess', 'new', 'slightli', 'peke', 'rival', 'strauss', 'plaincloth', 'previou', 'habla', 'overtim', 'doheni', 'isabella', 'milloin', 'barki', 'joan', 'endeavor', 'en-lai', 'blab', 'strangeway', 'spoke', \"t'en\", 'one-night', 'cavali', 'nevada', 'meter', 'camel', 'night', 'gold-plat', 'a-go', 'pay-off', 'senior', 'dale', 'taboo', 'vorac', 'shepard', 'octavarium', 'panic', 'spark', 'server', 'thicken', 'usual', 'missouri', 'salesman', 'ron', 'doorpost', 'spring', 'thunk', 'jeopard', 'audemar', 'use', 'ariana', 'prair', 'telescop', 'babywhat', 'joni', 'children', 'acquir', 'masayang', 'swede', 'erreur', 'white', 'dieu', 'sleigh', 'rais', 'partner', 'foi', 'onth', 'cliqu', 'enough', 'incorrect', 'bond', 'consensu', 'steepest', 'bluegrass', 'x-y-z', 'buckin', 'cellphon', 'disench', \"'creep\", 'pork', 'threw', 'dooby-dum', 'kneel', 'comprendo', 'wax', 'deja-vu', 'ooohh', 'chin-chin', 'mga', 'bailin', 'so-long', 'milwauke', 'a-stayin', 'prevail', 'pinochio', 'kelsey', 'prolog', 'clone', 'willingli', 'windi', 'kalua', 'bedim', 'uniti', 'oppenheim', 'i-t', 'e-rot-tickl', 'oridinari', 'clientel', 'attimo', 'splendor', \"l'amor\", \"'sit\", 'minist', 'berdiam', 'bubbl', 'attic', 'dej', 'magtatag', 'imag', 'poll', 'tux', 'partai', 'oni', 'steroid', 'jangl', 'assail', 'reno', 'everyplac', 'dud', 'reviv', 'count', 'bruwe', 'nichola', 'fuss', 'contract', 'controversi', 'thu', 'schlitz', 'tugboat', 'dawn', 'buck', 'savanna', 'hairlin', 'didn', 'porti', 'strenght', 'juke', 'nicotin', 'tush', '1792', 'thereaft', 'ratapan', 'easilyit', 'lip-print', 'ay', \"qu'import\", 'om', 'sulk', 'roxi', 'scientif', 'bareback', 's-o-c-k', 'particular', 'albert', 're', 'hangov', 'bilin', 'fm', 'la-aa-ac', 'con', 'dye', 'smile', 'kill', 'waysid', 'albino', 'holocaust', 'select', 'earnest', 'noooo', 'prophesi', 'lovin', 'appl', 'unsettl', 'contamin', 'blackjack', 'havoc', 'goldwyn', 'plagu', 'nama', 'muchilina', '40.000', 'insol', 'clench', 'dynamo', 'banter', 'k-k-k-kawaii', 'fors', 'veo', 'disegnero', 'solut', 'action', 'chao', 'portbello', 'narnia', 'alm', 'bestow', 'armament', '7-11', 'dangit', 'suspicion', 'floss', 'doc', 'gita-gita', 'princess', 'els', 'vim', 'maintain', 'one-man', 'defens', 'wade', 'scaveng', 'stevi', 'ski-i', 'biggest', 'aj', 'refleja', 'u.s.s.r', 'crop', 'day', 'who-oo-oo-oo', 'cleanli', 'gravedigg', 'first', 'flawless', 'lisbon', 'parang', 'palmtre', 'host', \"won'tcha\", 'ninetieth', 'maririnig', 'flavor', 'appart', 'frontpag', 'hymn', 'bivi', 'main', 'made-up', 'elliott', 'spam', 'virago', 'type', 'reappear', 'harm', 'sheehan', 'setll', \"wand'rin\", '76543', 'boycott', 'drap', 'crate', '25th', 'chile', 'long-leg', 'luther', 'roe', 'patienc', 'gallantli', 'masturbatin', 'mu-fuck', 'tryna', 'simmon', 'grrrr', 'butta', 'uncag', 'favourit', 'creat', 'jadi', 'betray', 'cerita', 'racket', 'cultiv', 'mani', 'frigidair', 'jodi', 'recogn', 'furnish', 'commun', 'maximum', 'blower', 'soi-tainli', 'evelina', 'packard', 'furthermor', 'big-tim', \"wit'chor\", 'sneakin', 'punjab', 'paintin', 'wealth', 'shorn', 'auld', 'ayoko', 'untukmu', 'sourit', 'epitom', 'bowi', 'hickori', 'vaniti', 'toys-are-u', 'crumb', 'farriss', '5th', 'deceas', 'chim', 'shorten', 'saukrat', 'ervina', 'nilalaman', 'unload', 'u.k', 'bingo', 'loom', 'swollen', 'bwanajambo', 'nor', 'perspir', 'antartica', 'a-a-and', 'hunt', 'provoc', 'hidupku', 'anybodi', 'arianamaniac', 'dustman', 'off', 'strength', 'presidenti', 'conway', 'attribut', 'structur', 'dahint', 'receivin', 'stool', 'red-light', 'menutupi', 'mend', 'dinosaur', 'barrier', 'lahfor', 'ack', 'wood', 'milikku', 'door', 'soufflait', 'transistor', 'shome', 'ike', 're-arrang', 'sometim', 'bundl', 'dumber', 'unnot', 'bookmark', 'sunbath', 'retribut', 'marley', 'm-2', 'mmmmmmmmmman', 'calico', 'blinker', 'beret', 'forrr', 't-o-i', 'golli', 'handkerchief', 'gym', 'lebanon', 'anticipatin', 'jay-z', 'diem', 'jet-lag', 'danc', 'lollipop', 'terribl', 'miracl', 'graffiti', 'farc', 'foreplay', 'marijuana', 'heartbroken', 'hittin', 'waermt', 'doa', 'bitin', 'darkest', 'la-la', 'miner', 'drifter', 'phaser', 'intact', 'ca', 'penyesalan', 'puse', 'bide', 'mummi', 'emblazon', 'interfac', 'bit', 'capricorn', 'calf', 'lindi', 'appeal', 'leanin', 'barbarella', 'criticis', 'mongrel', 'stagger', 'march', 'nudist', 'bosson', 'socialit', 'julia', 'shirk', 'flaw', 'predat', 'manger', 'dollhous', 'thorough', 'mere', 'drive', 'entri', 'pebbl', 'dog-collar', 'sub-zero', 'god-forsaken', 'crispi', 'cun', 'volk', 'careen', 'incognito', 'restrain', 'sens', 'bough', 'croup', 'enfum', 'jd', 'englein', 'sutter', 'berth', 'cherri', 'campanella', 'dismay', 'outnumb', 'heheh', 'fabric', 'gift', 'fritter', 'do-wo-wo-wo-wo', 'vicksburg', 'organ', 'lineup', 'banig', 'bless', 'baker', 'vet', 'hey-day', 'ask', 'bama', 'po-tah-to', 'hancur', 'a-tuggin', 'entend', 'cogn', 'squint', 'support', 'chamber', 'ceil', 'mccoy', 'farnold', 'clingin', 'sick', \"a'rockin\", 'jaunda', 'lenni', 'kind', 'dizzi', 'dewey', 'alien', 'maisip', 'goos', 'across', 'reeperbarn', 'stark', 'executin', 'ice-cream', 'kin', 'wild-ey', \"'delicatessen\", 'ang', 'exterior', 'mocha', 'rous', 'entwin', 'germani', 'avalon', 'motherless', 'desperado', 'fang', 'tend', 'marionett', 'crevat', 'dropper', 'sammi', 'landi', 'weed', 'neighbourhood', 'multi-corpor', 'bogu', 'come-on', 'aparad', 'forsaken', 'thou', 'winni', 'lovesong', 'ourselv', 'barnyard', 'lute', 'tight-collar', 'hire', 'materi', 'cha-cha-cha', 'harbor', 'alley', 'relic', 'extend', 'flaggin', 'well-worn', 'ritz', 'plastic', 'underestim', 'oooouhhh', 'readin', 'wesley', 'b-i', '100-dollar', 'batteri', 'jen', 'silicon', 'a-lookin', 'show', 'yourself', 'donn', 'brows', 'greed', 'fuoco', 'starter', 'uhm', 'timin', 'cuss', \"ma'fucka\", 'vestig', 'motiv', 'plea', 'celluloid', 'road', 'chevett', 'tahe', 'overdu', 'motown', 'helplessli', 'etta', 'intim', 'mackin', 'ferri', 'breach', 'aaahm', 'steppenwolf', 'kami', 'ahhhhh', 'atin', 'miniatur', 'cinta', 'spearmint', 'reflectin', 'aw', 'valley', 'maid', 'becam', 'layer', 'bromo', '1940', 'dreamless', 'remix', 'list', 'swayin', 'upside-down', 'crimpelen', 'ran', 'vega', 'and-a-buckle-my-sho', 'headspac', 'paill', 'viell', 'snowblind', 'rager', 'lockin', 'help', 'grapevin', 'wallow', 'categor', 'autom', 'backrub', 'breakfast', 'zellweg', 'regurgut', 'swasti-kkk', 'saul', 'bravest', 'conspiraci', 'quash', 'avec', 'spokesman', 'allah', 'assist', 'oliv', 'ibm', 'curdl', 'quittin', 'mademoisel', 'friendless', 'robot', 'laughabl', 'open', 'tap', 'waist', 'wise', 'favorit', 'holi', 'halik', 'cruel', 'five', 'worthless', 'promettai', 'toro', 'hurray', 'pala', 'namun', 'juventud', 'fee-fi-fo-fum', 'free', 'defeat', 'gradual', 'deadli', 'newli', 'check', 'chaka', 'throwdown', 'geranium', 'spreadin', 'infer', 'plot', 'downtown', 'a-now', 'gave', 'kany', 'indistinct', 'mow', 'unharm', 'edit', 'you-oh', 'slavin', 'bonheur', 'jailbait', 'puerto', 'half-damp', 'suit', 'socket', 'goblin', 'slob', 'restiamo', 'lowdown', 'chose', 'faun', 'cauliflow', 'journey', 'smoki', \"t'avait\", 'more-i', 'carcas', 'lapel', 'disgraceland', 'vaccin', 'sideshow', 'dirt', 'hockey', 'frae', 'lout', 'least', 'hirap', 'devast', 'jouez', 'putih', 'expresso', 'sean', 'unf', 'tach', 'hot-hot-hot-hot', 'faint', 'gag', 'unbroken', 'mental', 'daisi', 'isip', 'finish', \"'kick\", 'bad-bad', 'dan', 'pavlo', 'ment', 'friggin', 'thought', 'obscen', 'brougham', 'research', 'len', 'ann', 'outweigh', 'kidnap', 'toward', 'freed', 'filthi', 'makeshift', 'pc', 'invoic', 'psychosi', 'rat', 'ohhhhhh', 'gustafsson', 'jama', 'cabaret', 'olean', 'store', 'frolic', 'queeni', 'overtur', 'seesu', 'sleight', 'surveyor', 'doorway', 'p.a', 'degrees', 'run', 'ploughboy', 'sait', 'godowngodowngodown', 'stowp', 'mababago', 'showman', 'hocu', 'review', 'herbert', 'tradit', 'bateau', 'minc', 'mauv', 'stress', 'guerr', 'rend', 'foresight', 'establish', 'windblown', 'superson', 'abstin', 'sono', 'dynomit', 'laiss', 'owowow', 'valor', 'cock', 'cudi', 'uhhhhhhh', 'difficulti', 'murda', '17', 'tar', 'preced', 'terbaik', 'smash', 'consempl', 'poacher', 'witcha', 'ear', 'tie', 'lotten', 'skylin', 'mapigil', 'frank', 'mixin', 'swirl', 'a-knockin', 'fascin', 'behind', 'huski', 'sheena', 'kiev', 'savour', 'kremlin', 'a-famili', 'jalan', 'tipper', 'stone', 'biddi', 'watt', \"'tane\", 'umbrella', 'tone', 'a', 'tromp', 'hummin', 'daysi', 'complex', 'hood', 'coincid', 'pengorbanan', 'fallen', 'react', 'taker', 'brave', 'silk', 'hold', 'ghostli', 'helm', 'quelqu', 'blast', 'worri', 'wagon', 'gentli', 'slice', 'dien', 'pagkat', 'suddenli', 'vento', 'weve', 'tippy-toein', 'igni-it', 'cone', 'dikau', 'jacki', 'joke', 'easierand', 'mot', 'convict', 'thabish', 'widemissouri', 'astrolog', 'heathen', 'delus', 'wan', 'yakap', 'reckon', \"let'\", 'percol', 'arrrghhhgorra', 'brought', 'punki', 'puni', 'submit', 'jew', 'quickest', 'ignac', 'origin', 'newsweek', 'descart', 'rangoon', 'bluebird', 'cracker', 'a-hop', 'did', 'york', 'miss', 'kanluran', 'flour', 'argentin', 'besam', 'movement', 'civil', 'boil', \"ne'er\", 'examin', 'booth', 'whistl', 'real-liv', 'stud', 'richli', 'basebal', 'four-bit', 'thanng', 'aaaaah', 'sauver', 'pag-ibig', 'harley', 'chapin', 'firework', 'consuela', 'neglect', 'sticki', 'wintertim', 'pakistan', 'devour', 'fifty-seven', 'ligaya', 'ohhhhahhhhhhhh', 'nore', 'pregnant', '7:00', 'splish', \"delayin'th\", 'mao', 'listenin', 'dacron', 'three-si', 'hennessi', 'horseman', 'underto', 'met', 'yipe', 'stuck', 'gael', 'everlovin', 'can', 'via', 'anxious', 'crafti', 'coe', 'yom-kippur', 'pea-pick', 'adrian', 'drag-net', 'cooli', 'jessi', 'licketi', 'loosinin', 'resuc', 'flood', 'vicari', 'croyai', 'ole', 'battleground', 'pola', 'dadadada', 'mean', 'hardli', 'gloomi', 'madd', 'grandad', 'steeplechas', 'dreamworld', 'superglu', 'martyr', 'shell', 'through', 'sucker', 'luke', 'inay', 'overlook', 'hole', 'bentley', 'rational', 'sensibl', 'keaton', 'bluff', 'craft', \"s'pose\", 'p', 'bite', 'djump', 'heroic', 'decir', 'episod', 'sender', 'turnip', 'ooo-oo-oo-ooh', 'wardour', 'impal', 'sharpest', 'alabama', 'husler', 'narwhal', 'strongest', \"int'rest\", 'sormai', 'muzak', 'cobb', 'alan', 'daffodil', 'resent', 'hay', 'wildfir', 'apparit', 'potevo', 'baywatch', 'evolv', 'conceit', 'slick', 'slight', 'loudli', 'bodyguard', 'orbit', 'moonshot', 'depress', 'frontdoor', 'osag', 'millsap', 'groan', 'demon', 'boundless', 'courtin', 'fire-fir', 'atour', 'recycl', 'fed', 'hump', 'bitter', 'allig', 'olden', 'whiplash', 'current', 'nonent', 'friendliest', 'steppin', '2-3', 'splittin', 'prude', 'gold', '15', 'gossip', 'coast', 'tokyo', 'uncertainli', 'adream', 'motionless', 'pseudo', 'harvey', 'chill', 'feed', 'flaq', 'stiffen', \"'till\", 'stingray', 'suurr', 'domain', 've', 'hast', 'dire', 'rhinoceros', 'montar', 'bayou', 'clickety-clack', 'preppi', 'magoo', 'sandwich', 'callous', 'pinbal', 'back-fir', 'caro', 'this-and', 'spongebob', 'overal', 'evenin', \"n'est\", 'aviat', 'brokenheart', 'space-dy', 'captiv', 'a-train', 'trek', 'leader', 'brighten', 'think', 'crimson', 'hingga', 'shill', 'nobil', 'ust', 'divis', 'bacon', \"l'attend\", 'bellyflop', 'scheme', 'tex', \"ain't\", 'larg', 'whoa-oo-oo-oo-o-o-hi', 'awe', 'bachelor', 'fund', 'midday', 'madli', 'agreement', 'matchbox', 't.i.-m-', 'tnt', 'prettiest', 'flora', 'pepperoni', 'benz', 'carpet', 'ecstasi', \"l'amour\", 'booji', 'chees', 'glamour', 'run-around', 'durmio', 'orgullo', 'cake', 'juri', 'turkey-stan', 'firearm', 'rosi', 'sump', 'seabrook', 'a-tryin', 'commerci', 'li-lo', 'wasabi', 'min', 'groov', 'videotap', 'witch', 'inner', 'e-g-o', 'mail', 'depth', 'ohh', 'rakyat', 'fera', 'roommat', 'lifeless', 'a-cal', 'paglagyan', 'wherea', 'wander', 'lobbi', 'reciev', 'eveytim', 'carson', 'goof', 'moment', 'brillaba', 'griffith', 'ruptur', 'sailin', 'weak', 'someday', 'matricul', 'unmad', 'five-thousand', 'numb', 'tatoo', 'shimmer', 'cardiac', 'unless', 'backbon', 'microwav', 'x6', 'wildwood', 'cosa', 'aaah', 'custom-mad', 'ammo', 'legionnair', 'highli', 'toy', 'some-on', 'altogeth', 'unpredict', 'finn', 'ga', 'every-bodi', 'anniverari', 'uk', 'gordon', \"i'ii\", 'milkshak', 'bateaux', 'cbc', 'hard-to-get', 'quier', 'aliv', 'dreamt', \"'ead\", 'overground', 'hag', \"ev'ryth\", 'smokey', 'wreckin', 'canari', 'slaughter', 'tattl', 'sleepless', 'strum', 'impart', 'quo', 'shackl', 'constant', 'khayalku', \"'aus\", 'nautic', 'plaisir', 'myth', 'refoul', 'surpass', 'floor', 'gore', 'restlessli', 'ditti', 'woooooooooo', 'sound', '1980', 'u.s.a', 'jet', 'schoolyard', 'puffin', \"'caus\", 'blown', 'hull', 'illeag', 'tranquil', 'anatomi', 'facad', 'bullbucka', 'horton', 'doesnt', 'traffik-k', 'heap', 'myseri', 'puissant', \"o'sheehan\", 'warn', 'fai', 'reverend', \"'goodby\", 'toothless', 'whiz', 'escandalo', 'beggar', 'deam', 'backporch', 'blea', 'rebuk', 'congreg', 'appalachian', 'muthafucka', 'sama', 'tercipta', 'stanc', 'ship', \"'pear\", 'go', 'disappoint', 'squirtl', 'midnight', 'shipment', 'atau', 'mackenzi', 'heya-heya', 'nottingham', 'reindeer', 'dump', 'out-a-spac', 'tini', 'wildcountri', 'turvey', 'centiped', 'christoph', 'motorcycl', 'bloodhound', 'coca-cola', 'golden-heel', 'lookout', 'mostli', 'emmet', 'pow', 'dune', 'sur', 'escort', 'b-52', 'noch', 'scure', 'arch-confratern', 'cartwheel', 'chromium', 'silenc', 'incident', 'goodman', 'tablecloth', 'rum', 'beaus', 'blinkin', 'lagoon', \"'bip-bip-bip\", 'clear-skin', 'rick', 'weit', 'alabast', 'bulli', 'dumbest', 'lil', 'garfunkel', 'quicken', 'dover', 'longboat', 'misunderstood', 'author', 'x19', 'middleton', 'north', 'gala', 'cellular', 'flam', 'buyin', 'duff', 'corretta', 'lay', 'everon', 'dweller', 'descib', 'unquip', 'alfi', 'switchen', 'fenjtr', 'burden', 'snatchin', 'wh', 'wa-a', 'torino', 'debri', 'do-less', 'choru', 'tripl', 'zydeco', 'enlarg', 'primev', 'garag', 'ma', 'irreplac', 'grand', 'cover', 'oh-oh', 'carburetor', 'harmonica', 'non-stop', 'baton', 'citi', 'superstar', 'inch', 'treatment', 'liquor-fil', 'percuss', 'oohh', 'naiv', 'grandma', 'pikachu', '21', 'undecid', 'lexington', 'babay', 'greg', 'whitest', 'calori', 'ciroc', 'crypt-kick', 'rinduku', 'clutch', 'youuuuuu', 'sheep', 'ironclad', 'tutungo', 'insipid', 'merciless', 'unchain', 'calcul', 'wheelchair', 'burlesqu', 'saw', 'obviou', 'respons', 'bubblegum', 'oral', 'unprotect', 'fairground', 'knock', 'tarnish', 'swap', 'fromh', 'time-honor', 'rose-color', 'jasmin', 'meteor', 'jiwamu', 'leeri', 'dull', 'dalla', 'touchin', 'spewey', 'swingin', 'concern', 'juke-box', 'fellowship', 'bronz', 'com', 'win', \"'loololo\", 'raku', 'moonlight', 'el', 'stale', 'hafta', 'madison', 'japan', 'go-go', 'innuendo', 'belat', 'burnt', 'boomerang', 'messia', 'marten', 'geniu', 'yeeae', 'sh', 'wigwam', 'particip', 'scaremong', 'milkin', 'sen', 'a-al', 'ex-employe', 'decad', 'broken', 'footlight', 'hooray', 'thong', 'luigi', 'love-lov', 'ballgam', 'revvin', 'memphi', 'schizophren', 'tight-tonight', 'lemonad', 'cricket', 'gretzki', 'whom', 'nell', 'poss', 'peintur', 'closest', 'mexico', 'farm', 'turtledov', 'amnesti', 'somthin', 'cet', 'intrus', 'mom', 'slowin', 'muah', 'whoooaou', 'pensar', 'ever-lovin', \"basic'lli\", 'hillbilli', 'carolina', 'implor', 'phosphoresc', 'merrier', 'oloololo', 'r-r-row', '99', 'overland', 'sidestep', 'campu', 'fantasi', 'goome', 'makna', 'heathcliff', 'thursday', 'rob', 'portrait', 'unburden', 'sole', 'drugstor', 'postman', 'granada', 'christi', 'contempl', 'reaper', 'navig', 'macheath', 'far', 'dairy-o', 'frequenc', 'solid', 'yule', 'hoo-oo-oo-oo-oo-oo', \"turn'em\", 'akala', 'stack', 'stiff', 'wiser', 'awar', 'fa', 'debut', 'voyeur', 'renac', 'muffl', 'robberi', 'boudoir', 'patter', 'baleng', 'troup', 'inthi', 'elzhi', 'spectat', 'persuas', 'synch', 'sank', 'p90x', 'fundament', 'hikmah', 'eyesight', 'ruski', 'enticingli', 'gateway', 'starin', 'tappahannock', 'tile', 'ese', 'parti', 'flashback', 'an', 'shoot', 'pocket', 'halleluiah', 'ethic', 'gazin', 'stick', 'shade', 'florenz', 'notch', 'dru-do', 'grenvil', '1810', 'juggl', \"t'aim\", 'wither', 'billiard', 'mariachi', 'oath', 'purg', 'henri', 'sempr', 'latin', 'remeb', 'geht', 'chronic', 'hewitt', 'abd', 'front', 'oh-oh-oh-y', 'savin', 'passport', 'sanctifi', 'merry-go-round', 'fawn', 'nasti', 'vandross', 'protect', 'rattler', 'away.and', 'fifty-f', 'hung-up', 'nothin', 'feeder', 'chartr', 'colorless', 'ooh-ooh', 'bloc', 'lyin', 'brutal', 'coconut', 'bulldog', \"diff'rent\", 'stormkeep', 'hobbi', 'jlisten', 'signorina', 'mid-sixti', 'devrai', 'hazel', \"'round\", 'boombox', 'downward', 'juanita', 're-evalu', 'kirkland', 'ballet', 'strikin', 'etern', 'east', 'omelett', 'taint', 'oom', 'bild', 'oh..god', 'enhanc', 'infight', 'ian', 'mivi', 'chest', 'indemn', 'guest', 'drunk', 'iridesc', 'allegani', 'oswald', 'b-a-s-t-a-r-d', 'ray', 'video', 'braid', 'haffi', 'coll', 'dame', 'rover', 'yahoo', 'shut', 'abaiss', 'oohoooohoooh', 'smoother', 'parc', 'pregnanc', 'dazzl', 'puso', 'tonic', 'affirm', 'huarachi', 'pop', 'essenc', 'succumb', 'oooooh', 'spite', 'seaqueen', 'ground', 'icc', 'unmeasur', 'drippin', 'turn', 'bituin', 'saxophon', 'uphil', 'me-oh', 'smoker', 'yiy', 'one-tim', \"wasn't\", 'cockroach', 'opri', 'nagpapaalam', 'sinist', 'ahkeeraa', 'legal', 'helter', 'oooooo', 'plough', 'vain', 'rebirth', 'lightli', 'wettin', 'wop', 'ladykil', 'pick', 'inclin', 'boricua', 'nadi', 'speedo', 'easter', 'steamin', 'goon', 'kingsiz', 'casper', 'eas', 'cross-purpos', 'neptun', 'sa-a-a-a-a-a-av', 'herdmen', 'cannonbal', 'creativ', 'mileston', 'paintjob', 'tasteless', 'reppin', 'dam', 'non', 'dangl', 'yippe', 'temor', 'helicopt', 'move', 'prime', 'ransom', 'betta', 'treat', \"had'nt\", 'firley', 'aba', 'cose', 'frankli', \"awf'lli\", \"'other\", 'sexual', 'sprite', 'astray', 'watersid', \"lou'siana\", 'sippin', 'valentino', 'vigor', 'ouuu', 'holla', 'cl', 'maala-ala', 'thirteen', 'six', 'y-you', 'import', 'fare-thee-wel', 'chercher', 'dancin', 'consum', 'tenderli', 'goldent', 'clearer', 'huddl', 'derek', 'da', 'wheez', 'feelgood', 'fonder', 'strung', 'maiiwan', 'cheerio', 'revolutionari', 'you-ooh', 'tune', 'canst', 'heur', 'phase', 'murmur', 'idol', 'preffer', 'na', 'tight', 'lalala', 'dealin', 'saan', 'hardest', 'style', 'brassi', 'both', 'conclud', 'leon', 'dub', 'avoid', 'mambo', 'auch', 'z', 'plannin', \"'ve\", 'town', 'rustic', 'heeey', 'jest', 'squatin', \"'bove\", 'flyin', 'boiler', 'willow', 'hick', 'reminiscin', 'blowin', 'tipto', 'beak', 'bu', 'whizz', 'drunkard', 'continu', 'champs-elyse', 'shitten', 'canyon', 'raggiti', 'famou', 'hong', 'you-turn', 'jumped-up', 'sonn', 'cheyney', 'keep-sak', 'nighttim', 'accustom', 'salah', 'fax', 'clash', 'feasanc', 'newsreel', 'liven', 'jockin', 'pinewood', 'total', 'flow', 'anyplac', 'ayatollah', 'moonbeam', 'ditcham', 'moon', 'wolfish', 'mangi', 'kekuasaan', 'magkahawak', 'fri', 'stoney', 'kneww', 'niggaar', 'darlin', 'rot', 'bring', 'gutter-press', 'tailor', 'sorriso', 'loma', 'privaci', 'reincarn', 'paura', 'maison', 'counsel', 'cosi', 'fran', 'candlelit', 'ella', 'as', 'montego', 'wholli', 'breather', 'nylon', 'releas', 'hoopty-do', 'shrimp', 'swervin', 'pigfoot', 'quel', 'blend', 'tingl', 'yellow', 'dough', 'a-mani', 'derrier', \"get'choo\", 'dimmi', 'fan', 'confirm', 'trend', 'amount', 'norway', 'shawti', 'corona', 'header', 'saat', 'heyday', 'hah', 'bloomin', 'a-daisi', 'cent', 'blackest', 'palmer', \"couldn't\", 'swaddl', 'chubbi', 'gener', 'seclus', 'porch', 'caruso', 'broomstick', 'zeta-jon', 'swallowin', 'segreg', 'harikupun', 'hey-ho', 'geez', 'a-bleedin', 'lira', 'nuuumb', 'zion', 'keeper', 'band-aid', 'kirk', 'cyru', 'psychot', 'settl', 'ho', 'ver', 'favour', 'hello', 'timmi', 'sham-am', 'd-a-v-i-d', 'kickin', 'letterman', 'studebak', 'dead-end', 'i-pl', 'vuoi', 'linda', 'gana', 'moow', 'tellin', 'waterloo', 'bicara', 'weapon', 'buckl', 'principl', 'fatti', 'linseman', 'microphon', 'trickl', 'apr', 'go-go-go', 'seribu', 'chase', \"sino'ng\", 'uneven', 'yayayayayayayow', 'contest', 'whatev', 'sued', 'naugahyd', 'end', 'ohmtown', 'bracket', 'haystack', 'incid', 'pounder', 'buckshot', 'elat', 'skism', 'gather', 'closet', 'younger', 'habang', 'denim', 'selama', 'certainti', 'peckin', 'low-cut', 'compos', 'shortwav', 'father', 'pembagian', 'freakiest', 'senti', 'ballerina', 'leach', 'sportacu', 'slander', 'baghdad', 'hurt', 'balk', 'alphabet', 'lotion', 'toothach', 'oh', 'led', 'exorcist', 'levi', 'grandfath', 'stairway', 'giver', 'cintaku', 'marilyn', 'vouch', 'nobl', 'magbago', 'twiddl', \"'foolish\", 'reserv', 'depart', 'key', 'ticket', 'pour', 'mechan', 'hollar', 'dandi', 'riski', 'wordland', 'tow-own', 'nine', 'option', 'willa', 'honolulu', 'sat', 'fellowmen', 'unclean', 'femal', 'ant', 'su', 'momma', 'coat', \"t'all\", 'squarep', 'pollard', 'bedtim', 'ordinarili', 'jing-jingl', 'flight', 'comedien', 'tri', 'imbecil', 'hose', 'fallow', 'shortnin', 'repos', 'amateur', 'dout', 'formal', 'longin', 'decidedli', 'meratapi', 'freckl', 'plena', \"t'emport\", 'amontillado', 'templ', 'fear', 'advertis', 'tempatku', 'adanunana', 'siren', 'monster-truck', 'laughin', 'pave', 'regular', 'watcher', 'makeup', 'contrit', 'hissi', 'gaili', 'mutton', 'pittsburgh', 'sociologist', 'jailer', 'angkasa', 'clumsi', 'wayward', 'a-walkin', 'resid', 'a-cuss', 'lauper', '4th', 'awash', 'kathleen', 'congress', 'requiem', 'proudli', 'sorrento', 'hotpant', 'adlib', 'plateau', 'owwww', 'crave', 'richard', 'hairdo', 'olso', 'seat', 'bell-bottom', 'pfeift', '1976', 'maaaan', 'outthos', 'bodili', 'teach', 'snow', 'sacrific', 'meetcha', 'tourin', 'fargo', 'ho-o-om', 'slideshow', 'loi', 'latifah', 'schoolbag', 'satisfact', 'comparison', 'tre', 'slo-ow', 'rub', 'osmond', 'wrestlemania', 'cr', 'instead', 'grammar', 'drilin', 'sloppi', 'qualiti', 'eiderdown', 'photograph', 'short', 'you-ou-ou-', 'tarot', 'aawaah..ohh', 'embarrass', \"'now\", 'seagul', 'didint', 'aeroplan', 'ding-a-l', 'henni', 'cleaver', 'aka', 'dome', 'cor', 'pair', 'sacr', '1969', 'sailboat', 'hawkin', 'souvenir', \"c'etait\", 'evri', 'teasin', 'chango', 'fino', 'oo-oo-oo', 'marque', 'abovey-bovey', 'nineteenth', 'facedown', 'cro', 'bondag', 'let', 'jefferi', 'morphin', 'molehil', 'male', 'tan', 'adonai', 'gest', 'snatch', 'lenor', 'non-union', 'clau', 'echo', 'audi', 'bangin', 'groupi', 'well-lik', 'baisser', 'suction', 'busier', 'snif', 'quand', 'crucif', 'breakseveri', 'a-usin', 'philippin', 'weaker', 'spanish', 'taze', 'threatenin', 'milledg', 'black-ey', 'eddi', 'output', 'half-wrot', 'urgenc', 'savior', 'one-hors', 'mada', 'richter', 'burn', 'self-esteem', 'bangor', 'concert', 'cinderella', 'mast', 'seventh', 'throughout', 'bethleham', 'weah', 'sensuou', 'cavaliero', 'beretta', 'wavi', 'edison', 'fighter', 'wronger', 'nengw', 'starbright', 'southeast', 'aristocraci', 'c.k.e.d', 'act-in', 'partial', 'habe', 'swell', 'amoung', 'got', 'daytona', 'checklist', 'jersey', 'a-chooglin', 'puoi', 'anyway', 'robber', 'given', 'hobo', 'sort', 'meow', 'ware', 'oxygen', 'screamer', 'hoover', 'internationl', 'wolv', 'supermodel', 'cold', 'handsom', 'doot', 'mata', 'mission', 'jade', 'dovrei', 'confetti', 'bootleg', 'quicki', 'gare', 'housework', 'pantera', 'r', 'next', 'driven', 'corn', 'salvat', 'hi', 'diri', 'auto', 'i50', 'fond', 'hacer', 'saltamu', 'friendship', 'ridin', 'abov', 'issu', 'p.', 'sour-smel', \"s'lalu\", 'creek', 'loo', 'liston', 'lynn', 'high-high', 'dooown', 'toll', 'investig', 'flaxen', 'honest', 'benni', 'tag', 'martin', 'ring', 'too-ry-ah', 'till', 'mencintai', 'oh-a-la-la', 'transcend', 'prerog', 'tangan', 'nook', 'a-com', 'sophomor', 'proce', 'sow', 'niya', 'promisand', 'twain', 'handclap', 'homesick', 'pta', 'mcnormal', 'teacher', 'tami', 'gay', 'bomboclat', 'a-tumblin', 'gargoyl', 'switchboard', 'stove', 'diggi', 'ski', 'coughin', 'coulda', 'yep', 'moonshadow', 'meander', 'linin', 'headin', 'ooh', 'babel', 'maitago', 'fishop', 'womb', 'cranium', 'ribbit', 'biblic', 'undetectedli', 'puberti', 'seasid', 'kingston', 'masarap', \"i'm\", 'it', 'wishin', 'cove', 'foyl', 'unbend', 'stuart', 'no', 'tiempo', 'ghoul', 'jerk', 'cream', 'rusti', 'deliri', 'tube', 'lenox', 'unicorn', 'sheila', 'resembl', 'ambul', 'nutz', 'bigla', 'teem', 'terdampar', 'upsid', 'promo', 'drown', 'hog', 'samestructur', 'faithful', 'nang', 'argu', 'witha', 'whoahhh', 'pointer', 'completli', 'tiba', '4am', 'legend', 'sharp-shoot', 'rememb', 'dopey', 'a-sleepin', 'fom', 'chelsea', 'pad', 'area', 'gori', 'recal', 'forevermor', 'brite', 'geni', 'mute', 'k', 'there', 'pan-handl', 'robe', 'progress', 'cardboard', 'lo', 'bukowski', 'travellin', 'tuff', 'peanut', 'divorc', \"n'ai\", 'forrest', 'annelies', 'astart', 'cept', 'sweatin', 'shoo', 'time-check', \"'love\", 'untouch', 'tambourin', 'slumber', 'bung', 'gon', 'circul', 'blote', 'deaden', 'lerner', 'sleek', 'crusher', 'warmin', 'palm', 'eiffel', 'h-oh', 'totalitarianist', 'could', 'mantl', 'surviv', 'landscap', 'ginger', 'nevermind', 'crown', 'contrari', '303', 'sprayin', 'dominu', 'voulez', 'silver-stud', 'goggl', 'sashay', 'sussex', 'encourag', 'furnac', 'demet', 'drydock', 'exercis', 'wardrob', 'bizet', 'bastard', 'smallest', 'attir', 'lopsid', 'c-gc-bbc', 'satin', 'hutch', 'kee-keep', 'kay', 'yule-tid', 'diana', 'terri', 'smarti', 'bima', 'tarareaba', 'pikiran', 'brushin', 'beefsteak', 'ming', 'understrand', 'cut-off', 'un-american', 'left', 'snitch', 'thoos', 'teller', 'unwrap', 'brewin', 'comprehens', \"gettin'out\", 'misjudg', 'chiquita', 'makin', 'drift', 'hoya', 'dimmer', 'nutt', 'standbi', 'crayon', 'digest', 'tart', 'for', 'all', 'munchin', 'girlish', 'a-lov', 'consolid', 'petersson', 'honey-honey', 'stratospher', 'sunriseand', 'pyramid', 'discouragin', 'succeed', 'crypt', 'goldsmith', 'backbit', 'aaliyah', 'devout', 'balotelli', 'coca', 'zukka', 'domingo', 'big', 'poormouth', 'entir', \"fin'lli\", 'dozen', 'shimmi', 'cashmer', 'wawawa', 'medic', 'shock', 'anthoni', 'horror', 'larawan', 'mac', 'tie-di', 'interconnect', 'fbi', 'a-riggi', 'charmingli', 'shine', 'suitcas', 'palac', \"num'rou\", 'rain', 'trusti', 'eliza', 'prejudic', 'protector', 'disgruntl', 'barefoot', 'soulja', 'peu', 'appealin', 'pirouett', 'brightli', 'funki', 'quiza', 'agent', 'no-go', 'lioness', 'wer', 'balm', 'drew', 'squar', 'vip', 'dai-ri', 'dee', 'cote', 'this-ism', 'masquerad', 'alrededor', 'samba', 'cruelest', 'footfal', 'wehel', 'lot', \"o'tool\", 'tor', 'mezmor', 'kan', 'whoo', 'choisen', 'throng', 'rodder', 'senil', 'kalagayan', 'two-tim', 'hell-bent', 'baci', 'uproot', 'twirl-a-way', 'porter', 'kumelangkah', 'chook', 'axel', 'hotter', 'sympathis', 'long', 'belong', 'jzero', 'abc', 'beguil', 'bridg', 'itong', 'ganda', 'saperti', 'cavemen', 'katydid', 'makakaya', 'london', 'spontanu', 'freno', 'signific', 'monster', 'picnic', 'regard', 'goldmin', 'dang', '300', 'aspettero', 'inher', 'double-cross', 'nasa', 'cold-old', 'ten-but', 'audio', 'logramo', 'c-circl', 'damnedest', 'ruff-ruff-ruff-ruff-ruff-ruff-ruff-arow', 'muck-div', 'impresario', 'liberti', 'pot', 'honky-tonk', 'fragrant', 'skat', 'panach', 'absent', 'masturb', 'honna', 'akan', 'morir', 'loyal', 'fireman', 'scarier', 'narrow', 'signal', 'tenor', 'hip-hop', 'proud', 'cleric', 'youuuu', 'heartbeat', 'badli', 'gouchi', 'init', 'notion', 'popin', 'democraci', 'farmer', 'a-shakin', 'lumisan', 'misbehav', 'a-2', 'rhonda', 'carpool', 'malfunct', 'lage', 'diyo', 'buggler', 'carter', 'laggin', 'again', 'sneak', 'www.killerhiphop.com', 'conqueror', 'ricochet', 'realm', 'bade', 'embassi', 'detenton', 'rank', 'foreveri', 'asanti', 'subaru', \"makin'al\", 'escal', 'monit', 'spend', 'asid', 'believin', 'sabi', 'eatrh', 'id', 'lucil', 'pagan', 'pavilion', 'latter', 'wari', 'bairnson', 'oaahh', 'southward', 'crystalbal', 'siberia', \"'75\", 'lovestruck', 'maze', 'swelter', 'taller', 'gabel', 'plant', 'hangman', 'emptiest', 'thrillin', 'goofu', 'bist', 'pseudogod', 'fiil', 'epiphani', 'carazzi', 'ballsack', 'hero', 'six-shoot', 'bottom', 'nostalgi', 'lucretia', 'exceed', 'sleev', 'postmark', 'ere', 'chevaux', 'venom', 'ravishingli', 'rejoic', 'vinegar', 'vill', 'transform', 'care', \"'xactli\", 'popcorn', 'lat', 'meme', 'sittin', 'neve', 'jaguar', 'goodyear', 'deo', 'aerosmith', 'lavend', \"'way\", 'phonograph', 'forlorn', '8', 'hike', 'acuff', 'gad', 'bumblebe', 'footstep', 'jug', 'fumbl', 'tooth', 'pugh', 'due', 'chiquitita', 'desk', 'insight', 'coars', 'forty-three-oh-on', 'leilani', 'porsch', 'bombo', 'scienc', 'object', 'southland', 'laid', 'i-i', 'ooo-cha-cha', 'wage', 'estrella', 'dev', 'zee-si', 'bloom', 'refr', 'elect', 'a-bor', 'b.v', 'stand', 'motherfuck', 'aiden', 'bankrupt', 'toodle-oo', 'uhuu', 'skim', 'remind', 'chaperon', 'incarcer', 'sinner', 'ascrib', 'mmmmmmmmm', 'tapdanc', 'cornbread', 'qua', 'bloke', 'e.t.c', 'himwhen', 'scarin', 'barkeep', 'youisabella', 'gigant', 'hunk', 'gorilla', 'wonder', 'brummel', 'columbia', 'ay-pl', 'mag-isa', 'flight-by-night', 'compass', 'whoa-oo-woh', 'boutiqu', 'prioriti', 'grown-up', 'ave', 'texan', 'began', 'blood-curdlin', 'tread', 'exhaust', 'indiscreet', 'touchup', 'horn', 'proudest', 'scribbl', 'itch', \"'bout\", 'way', 'primat', 'boppa', 'blue-blood', 'fairweath', \"mo't\", 'tonight', 'yes-sir', 'wive', 'underwat', 'libya', 'antoinett', \"d'amour\", 'wyle', 'garland', 'stalkin', 'hindi', \"king'\", 'flashbulb', 'caucasian', 'four', 'land', 'sho', 'in-tray', 'weep', 'eeeeeenough', 'compel', 'secur', 'quick', 'wednesday', '48', 'aberdeen', 'victori', 'limo', 'changeif', 'grampa', 'pourin', 'x7', 'singer', 'aphrodit', 'charriot', 'independ', 'bowel-shak', 'simil', 'bakeri', 'after', 'eaten', 'woo-oo', 'flack', 'chequ', 'dairi', 'horoscop', 'nowaday', 'bow', 'toyota', 'bow-wow', 'deport', \"'look\", 'steve', 'cello', 'gregg', 'bricka', 'rescu', 'astut', 'tow', 'cough', 'barmi', 'royalti', 'hotel', 'bra', 'tunay', 'happen', 'shania', 'porridg', \"'49\", 'husband', 'chorus-trey', 'mercia', 'flower', 'redial', 'co-e', 'farthest', 'gummi', 'watch', 'arcad', 'wallet', 'crap', \"'swish\", 'dari', 'solomon', 'gambler', 'fuel', 'raggedi', 'loveline-', 'scroll', 'het', 'blue-tail', 'off-season', 'a-latch', 'kno-oh-onli', 'confidenti', 'revil', 'flutterin', 'jazzi', 'lone', 'rap', 'elegantli', 'dare', 'cambridg', 'measl', 'curios', 'd-d-danger', 'laissez', 'cluck', 'yeah-hey', 'sandra', 'westwher', 'devic', 'crater', 'yg', 'triangl', 'cortina', 'lovey', 'picker', 'blitzkrieg', 'himh', 'bridal', 'tanqueray', 'sonic', 'bedeck', 'reput', \"'member\", 'tn', \"'to\", 'keisha', 'greenwood', 'florenc', 'nearli', 'kann', 'roach', 'porcelain', 'request', 'indecis', \"doobedood'ndoob\", 'tousl', 'slur', 'waltzer', 'pineappl', 'consciou', 'toddi', 'sandal', 'strong', 'conlon', 'europa', \"'catch\", 'passeng', 'aimlessli', 'partridg', 'transfix', 'jamaican', 'basi', 'perfect', 'liftoff', 'alleyway', 'flown', 'uhuh', 'taketh', 'edg', 'emperor', 'bogart', 'quot', 'intox', 'bacal', 'keep', 'potion', 'teeni', 'heh', 'coast-to-coast', 'regress', 'grant', 'krall', 'euphoria', \"'rous\", 'ceremoni', 'duck', 'tombston', 'rapid', 'pilot', 'root', 'hairdress', 'adoremu', 'dove', 'meadow', 'handout', 'motto', 'happier', 'place', 'udder', 'papi', 'hock', 'viter', 'tallybook', 'pall', 'worthwhil', 'aerosol', 'speck', 'mahal', 'champ', 'bright', 'bathroom', 'diner', 'passin', 'monaaay', 'allur', 'envelop', 'groom', 'hatter', 'teari', 'daddy-o', 'numa', 'gimmick', 'hooker', 'physic', 'fiya', 'wasteland', 'rock-hard', 'righ', 'neighbor', 'airwav', 'runner', 'jose', 'poodl', 'stanley', '24', 'b-r-i-t-n-e-i', 'warm-up', 'approv', 'brawl', 'anim', 'devolv', 'tumpahkan', 'leaf', 'deco', 'brambl', 'santa', 'harlem', 'abnorm', 'lepaskan', 'casualti', 'masta', 'miko', 'whenev', 'forgetmenot', 'cupboard', 'creak', 'projector', 'mutt', 'fusion', 'ote', 'hath', 'brudda', 'accent', 'witchu', 'locl', 'c-fc-c-bb-fa-f7', 'mistress', 'harden', 'roar', 'four-leaf', 'hurl', 'persuad', 'shake', 'away.w', 'moder', 'dullest', 'poison', 'omen', 'moondog', 'overflow', 'abraham', \"t'incontrai\", 'stuf', 'prow', 'oper', 'poetri', 'glam', 'brief', 'nauwi', 'barrack', 'detractor', 'slayer', 'hardi', 'upturn', 'ah-hah', 'visibl', 'hideout', 'theif', 'respond', 'should', 'restitut', 'angriest', 'brown-hair', 'wil', 'wildli', 'stranger', 'sulu', 'trembl', 'porou', 'paralys', 'birthday', 'tomarrow', 'bobolink', 'german', 'broke-down', 'temporari', 'four-thirteen', 'feedin', 'well-plan', 'o.k', 'cord', 'woa-yeah', 'homegirl', 'mill', 'oversea', 'squeez', 'glee', 'upright', 'brad', 'a-watch', 'mischiev', 'misdirect', 'admir', 'rubberneck', 'emough', 'android', 'work', 'grew', 'focu', '500', 'gail', 'herbi', 'molder', 'alphonso', 'chare', 'aladin', 'choppi', \"trav'lin\", 'son-of-a-gun', 'wrung', 'eventid', 'fudda', 'sssssssssss', 'clearest', 'radiat', \"d'alcool\", 'sculpt', 'ari', 'pearli', 'naughti', 'yaaa', 'lentil', 'amoeba', '410', 'tail-light', 'stovepip', 'dous', 'pur', 'chire', 'label', 'moli', 'would', 'whassup', 'goodnight', 'scaffold', 'barnold', 'hopin', 'oceansid', 'mid-night', 'disk', 'harrison', 'throw', 'carmen', 'galile', 'suck', 'b.c', 'a-cri', 'outcri', 'libram', '16th', 'cindy-l', 'loot', 'model', 'poppin', 'unto', 'natakot', 'sniper', 'soothin', 'ooh-hoo', 'bigchief', 'boss', 'simpli', \"dark'n\", \"s'effac\", 'souffl', 'lubo', '1983', 'teas', 'pride', 'yoo-hoo', 'tuo', 'longev', \"'mr\", 'doodi', 'trim', 'hang-out', 'itsi', 'disabl', 'willy-nilli', 'purer', 'nom', 'paradis', 'burnett', 'concret', 'ourself', 'mace', 'melodrama', '3', 'drizzl', 'playin', 'manuv', 'ammunit', 'quaint', 'solitair', 'haul', 'except', 'red-tail', 'apple-cor', 'bbut', 'arlen', 'up', 'doo-doo', 'sadi', 'matchstick', 'rung', \"l'air\", 'straddl', 'beam', 'westway', 'mamela', 'sheer', 'marketplac', 'willpow', 'drib', 'tyrant', 'mungkin', 'bar', 'ladylik', 'backend', 'truest', 'dinner', 'deeno', 'loosen', 'hectic', 'wooooooooo', 'fulli', 'a-mighti', 'spook', 'less', 'tabl', 'thiry-two', 'aint', 'bonnevil', 'herb', 'quit', 'reign', \"'eat\", 'out-of-sight', 'return', 'gladli', 'luna', 'remedi', 'homeless', 'tyin', 'array', 'unfurl', 'home.th', 'ex-girlfriend', 'glade', 'paper', 'piper', 'calendar', 'reasi', 'catatonia', 'claimin', 'fallin', 'yey', 'sedat', 'rearview', 'laredo', 'trickin', 'popul', 'tweedl', 'souped-up', 'ken', 'consid', 'metaphys', 'messiah', 'panel', 'maim', 'gulp', 'venetia', 'wash', 'safer', 'tru-u', 'backstreet', 'sissi', 'outgrow', 'firelight', 'sten', 'demolit', 'theme', 'soup', 'outsid', 'cett', 'superstiti', 'don', 'jung', 'foolish', 'thru', 'sabik', 'chant', 'driver', 'hogan', 'croix', 'spudman', 'zwei', 'four-spe', 'nightw', 'liquor', 'blur', 'motel', 'yearnin', 'wich', 'brea', 'aaaaaaaah', 'raind', 'vanessa', 'triomph', 'gawin', 'birmingham', 'showdown', 'glow', 'cannon', 'leather', 'fol-de-diddle-dah', 'superdom', 'opec', 'santayana', 'radiatin', 'phoni', 'lighter', 'lammin', 'polit', 'fashion', 'jovi', 'll', 'sentenc', 'couchett', 'roebuck', 'suss', 'decept', 'deuc', 'amidst', 'puttin', 'churchil', 'earn', 'cuti', 'deepen', 'bench', 'ac-cent-tchu-', 'mear', 'wat', 'concord', 'highland', 'lizard', 'us', 'hellen', 'mounti', 'tuh', 'masaya', 'upfront', 'wud', 'ego-trip', 'breezeway', 'smog', 'partin', 'stronger', 'scott', 'supernatur', 'stereo', 'invas', 'crumbl', 'debo', 'countless', 'assoiffe', 'shala', 'pickerin', '14', 'lip-lock', 'tambo', 'magnet', 'discipl', 'bloodworm', 'bullhorn', 'mulatto', 'eatin', 'leo', 'germ', 'tappin', 'mainli', 'slid', 'twister', 'belaian', 'bleacher', 'callin', 't-pain', 'antiqu', '1803', 'sekuntum', 'huli', 'lotu', 'karlo', 'cry-y-i', 'simpler', 'toxic', 'projet', 'dole', 'bozo', 'boifriend', 'japanes', 'moolah', 'of', 'asant', 'accord', 'slather', 'thoughtlessli', 'heard', 'loan', \"that'\", 'seedi', 'redoblar', 'menstrual', 'tallest', 'mask', '9th', 'oughta', 'handshak', 'stride', 'lousi', 'erased-', 'basta', 'binghi', 'etcwho', 'enchain', 'giorno', 'flunki', 'jemand', 'eighteen', 'trash', 'click', '32', 'former', 'core', 'sagot', 'fort', 'safetybelt', 'inferno', 'brightest', 'hol', 'a-rock', 'esteem', 'uplift', 'bandanna', 'iibig', 'golf', 'beng-a-deng', 'factor', \"'get\", 'gigolo', 'hydroplan', 'cursin', 'flashlight', 'irat', 'aucun', 'competit', 'ika', 'double-fold', 'enjoy', 'career', 'expel', 'glo-glo-gloria', 'humorist', 'karat', 'venit', 'insect', 'mistaken', 'joint', 'despit', 'arena', 'guis', 'birdland', 'batten', 'benefit', 'funer', 'utopian', 'overview', 'unhealthi', 'wierd', 'kabut', 'retail', 'lyinest', 'lithuanian', 'israelit', 'canada', 'battlefield', 'brooch', 'hemorrhoid', 'pummel', 'elderberri', 'curler', 'port', 'stroll', 'diver', 'dynamit', 'penc', 'payda', 'moulin', 'cuff', 'nough', 'rumbl', 'squir', 'ba-da-ba-ba-bee-oh', 'saccharin', 'snappin', 'ny', 'sunari', 'warrior', 'luv-a-duckin', 'inform', 'ben', 'marnold', 'refere', \"could't\", 'group', 'self-execut', 'gallant', 'tchaikovski', 'thorugh', 'preoccupi', 'whoo-woo-woo-woo-woo-woo', 'iceberg', 'harfen', 'happiest', 'hullabaloo', 'pushi', 'gavott', 'baller', 'breit', 'loff', 'knowin', 'flamm', 'talk-oh', 'fingerprint', 'shove', 'dental', 'juliu', 'thirtieth', 'arriverderci', 'deviat', '606', 'twitti', 'thrifti', 'wo-wo-wo-wo-wo-wo', 'coffeevil', 'annoy', 'wake', 'inanna', 'elizabeth', 'mccarthi', 'ingonyama', 'and', 'cower', 'followin', 'vinni', 'funk', 'marx', 'forgiven', 'tong', 'barrel', 'what', 'buksan', 'ivi', 'fier', 'mowin', 'await', 'long-abandon', 'clearwat', 'cobweb', 'a-fli', 'penat', '16', 'shuttin', 'camelot', 'wathev', 'groundhog', 'heatwav', 'easierfor', 'toyin', 'combust', 'bugl', 'necessari', 'night-tim', 'advantag', 'messeng', '360', 'oi', 'hash', 'thet', 'heyeah', 'stonemason', 'banyak', 'habitu', 'love-m', 'grandkid', 'dogwood', 'recherch', 'machet', 'ned', 'appet', 'craze', 'climax', 'dalton', 'servant', 'asund', 'rupto-pac', 'wist', \"'red\", 'questo', 'peopl', 'tat', 'stringless', 'easi', 'lem', \"pictcha'-pictcha\", 'captur', 'frederick', 'black-fac', 'tangi', 'squalor', 'ihahatid', 'hollywood', 'hypnot', 'tala', 'italian', 'paw', \"e'er\", 'corrupt', 'diffrent', \"aren'tcha\", 'engi', 'wiedersehen', 'dissapear', 'creepi', 'juli', 'reeli', 'squidgi', 'martian', 'rafter', 'saracen', 'payn', 'forefath', 'unscrambl', 'aspect', 'jailhous', 'bambina', 'goldfish', 'shuop', 'scottish', 'slidin', 'egg', 'tortois', 'craker', 'dreamgirl', 'acrobat', 'roma', 'teary-ey', 'snappi', \"he'yeah\", 'vice-presid', 'rate', 'pagsisisihan', 'headfirst', '1,2,3,4,5', 'madrid', 'joyou', 'lotsa', 'gamblin', 'sedan', 'majeur', 'ador', 'incom', 'plaid', 'doll', 'steam', 'rambl', 'sighin', 'monsieur', 'menuai', 'separ', 'whole', 'talkabubi', 'runabout', 'mash', 'foe', 'andi', 'stookey', 'screwhead', 'dominiqu', 'unrush', 'hardwork', 'galiath', 'y', 'breathlessli', 'crockett', 'needl', 'gallow', 'gesto', 'langua', 'entendr', 'reclaim', 'datalog', 'oink', 'afraid', 'simplic', 'song-som', 'trapez', 'alvin', 'nigh', 'dap', 'overrun', 'margarita', 'recreat', 'socrat', 'a-moan', 'unnurtur', 'ia', 'throb', 'sneer', 'deadman', 'aboard', 'tait', 'godsend', 'arctic', 't-t-take', 'pr', 'frisson', 'sugarplum', 'kow', 'develop', 'sette', 'pyre', 'lebt', 'violin', 'violet', \"'plane\", 'hom-homicid', 'canasta', 'strollin', 'ballot', 'string', 'kink', 'sewer', 'froggi', 'liverpool', 'doze', 'natti', 'ani-ani-ani', 'smell', 'flew', 'bumper', 'roman', 'bent', 'kuburkan', 'mombassa', 'frezz', 'yeeeaaaah', 'arrang', 'alalahanin', 'bitten', 'baby-oil', 'um', 'buffer', 'coffin-bang', 'mojo', \"conqu'r\", 'ser', 'confus', 'struttin', 'oohhhh', 'profil', 'boo-tay', 'lunchroom', 'soli', 'spade', 'kung', 'joggin', 'taco', \"d'hotel\", 'knive', 'in-stor', 'cocoanut', 'mankind', 'vogu', 'wacki', 'cat', 'ritter', 'wicker', 'magnolia', 'c-u-s-t-o-d-i', 'b', 'flashi', 'noel', 'litter', 'musta', 'territori', 'sixth', 'synonym', 'shun', 'parker', 'bone-a-fid', 'double-t-i', 'daughter', 'skater', '47th', 'aha', 'barbara', 'glitter', 'lumberjack', 'girlfriend', 'function', 'tongight', 'departur', 'rumba', 'hellfir', 'cologn', 'obsess', 'mellow', 'pristin', 'kissin', 'unleash', 'random', 'skidder', 'door-knob', 'brain', 'ex-to-se', 'prevent', 'encag', 'guett', 'assasin', '1954', 'sadyang', 'suzi', 'downright', 'meilleur', 'luckili', 'impolit', 'tersimpan', 'self-control', 'unrest', 'blindin', 'looker', 'trot', 'dilettant', 'vou', 'interfer', 'come-a', 'battit', 'inconsequenti', 'mint', 'moineau', 'broil', 'canva', 'munch', 'meanwhin', 'packin', 'scroung', 'bugman', 'garment', 'repeat5x', 'bolt', 'magkasama', 'your', 'ice-cold', 'oughtta', 'lad', 'kust', 'pretens', 'a-tricklin', 'hover', 'gigi', 'nostradamu', 'norfolk', 'safeti', 'slack', 'laudat', 'dot', 'ahhh-ha', 'sherriff', 'amazin', 'aaahhhh', 'loung', 'dean', 'back-stabbin', 'buh', 'umaasa', 'dijon', 'card', 'releasin', 'jagger', 'gainin', 'miscommun', 'hercul', 'peac', 'island', 'manli', 'evid', 'goetz', 'bieber', 'donder', 'illuminati', 'hiker', 'chiuso', 'rant', 'hati', 'wore', 'gunna', 'sworn', 'weepin', 'oubli', 'overcom', 'ratchet', 'phonebook', 'drivin', 'yaddl', 'fairyland', 'retrac', 'grave', 'janji', 'patton', 'god-aw', 'manufactur', 'photoshop', 'moc', 'tickl', 'surfin', 'bandstand', 'open-ey', 'bluesmen', 'buck-and-w', 'malam-malamku', 'courtroom', 'pontiac', 'relationship', \"n'low\", 'knowest', 'bernstien', 'tambor', 'cactu', 'fife', 'ox', 'drape', 'down-you', 'custodi', '911', 'shoop', 'palayaw', 'danglin', 'nile', 'a-givin', 'woolli', 'yeaah', 'a-rollin', 'incarn', 'jamah', 'time', 'astern', 'tension', 'ponder', 'pointless', 'mistitl', 'mum', 'contemporari', 'repertoir', 'atra', 'glare', 'bust', 'ill', 'coverag', 'setelah', 'twerkin', 'lung', 'thirty-wight', 'gether', 'drawin', 'cobaan', 'distratto', 'chewinggum', 'nasasaktan', 'tent', 'youngest', 'quest', 'revior', 'weddin', \"'reveal\", 'twine', 'sung', 'boonoonoonoo', \"'doctor\", 'loveland', 'a-lon', 'gung-ho', 'good-lik', 'calamin', '7x', 'wobbl', 'finnish', 'pedastool', 'involv', 'gauntlet', 'gopher', 'justa', 'plainli', 'jeez', 'mundan', 'thumpetti', 'whylin', 'springtim', 'de', 'orang', 'exce', 'belfast', 'carillon', 'galor', 'stabbin', 'hears', 'strain', 'nanci', 'call-up', 'owe', 'back-hand', 'storytel', 'en', 'fanni', 'bendin', 'den', 'knockin', 'and-a-on', 'text', \"'ye\", 'queu', 'allegi', 'sigmund', 'teenag', 'boom-bah', 'e', 'mid-summ', 'flagg', 'fritz', 'billboad', 'habag', 'keli', 'chitch', 'minimum', 'huge', 'malcolm', 'be-dum-be-dum-dum', 'user', 'nod', 'rheumat', 'fffff', 'snoot', 'tra', 'heal', 'harass', 'owen', 'plutonium', 'massiv', 'rustl', 'sordo', 'half-past', 'match', 'immedi', 'twenty-eight', 'unspoil', 'soap', 'immateri', 'insepar', 'tomato', 'marin', 'hanggang', 'number', 'hal', 'bath', 'shagism', 'awak', '5x', 'make-up', 'welcom', 'firebird', 'sgt', 'obstacl', 'a-rockin', 'ohoh', 'healthier', 'puke', 'siad', 'badd', 'decal', 'anger', 'uniqu', 'ko', 'dut', 'essenti', 'eboni', 'faar', 'amber', 'fred', 'chiqu', 'simon', 'feast', 'volkswagon', 'complexion', 'yeah-yeah-yeah', 'havana', 'jezebel', 'fourteenth', 'lipstick', 'creed', 'unknown', 'shop', 'minor', 'lightn', 'pinagdurusa', 'em', 'master-plan', '42nd', 'eisenhow', 'boomtown', 'never-nev', 'chien', 'disillus', 'stake', 'shore', 'oooohhhhh', 'cunt', 'slum-bum', 'roadhous', 'today', 'drover', 'syndrum', 'know', 'ziplock', 'gang', 'haaaaaaay', 'shoeless', 'isol', \"'lina\", 'incit', 'countrysid', 'slept', 'upwardli', 'por', 'shed', 'tint', 'tracheotomi', 'silent', 'radio-beacon', 'testimoni', 'dement', 'viennent', 'bili', 'fontella', 'drone', 'beyond', '1-800', 'password', 'greet-i-eth', 'libido', 'patrol', 'repouis', 'thistl', 'ragtim', 'anxiou', \"can't\", \"d'allora\", 'pit-a-pat', 'muntahkan', 'redbird', 'over', 'databu', 'rappin', 'cheri', 'off-guard', 'gitalong', 'elisa', 'withdrew', 'fin', 'congo', 'frozebridg', 'wayn', 'parish', 'fog', 'sunshin', 'parklif', 'lamb', 'sportin', 'bye-bye-babi', 'confer', 'desper', 'paperback', 'pin', 'trucker', 'shoesth', 'contagi', 'pitcher', 'patern', 'bernadett', 'garageland', 'uuuuh', 'sorceri', 'tentang', 'barbequ', 'bourbon', 'rodeo', 'ahhhhhhhh', 'clotheslin', 'knick', 'hollowest', 'pasta', 'vient', 'explod', 'mr.dog', 'omfg', 'bullfrog', 'rewrit', 'fondo', 'cozi', 'bommerang', 'afflict', 'heathrow', 'jusqu', 'hippopotamus', 'refug', 'bouquet', 'ukulel', 'fourteen-eighteen', 'shame', 'shiloh', 'unnam', 'badg', 'narrowli', 'martial', 'deleg', 'open-mind', 'yup', 'unprepar', 'brent', 'centr', 'pois', 'even', 'footloos', 'everyday', 'tidi', 'endang', 'hey-ay-ay-ay', 'upon', 'sax', 'live', 'task', 'revolut', 'cartier', 'indulg', 'hulli', 'dweeb', 'liner', 'turkey', 'speaker', 'suppos', 'melancholi', 't.v', 'inc', 'pursu', 'half', 'africa', 'scintil', 'orthicon', 'creakin', 'isa', 'disbelief', 'quandari', 'consist', 'fine', 'requir', 'grutti', 'johnni', 'nice', 'frijol', 'hecat', 'firebal', 'weav', 'fortune-tel', 'ducati', 'skinhead', 'gitche', 'livr', 'ism', 'mic', 'major', 'astronom', \"'stead\", 'pepper', 'cheeri', 'eli', 'unselect', 'assault', 'evapor', 'parecia', 'manuel', 'cotton', 'nigerian', 'indel', 'round', 'lust', 'winchel', 'congeal', 'sergei', 'suppin', 'bull', 'streamer', 'arrest', 'jellyfish', 'royc', 'a-fuss', 'headway', 'ronni', 'dusa', 'draggin', 'wot', 'jeffri', 'chilli', 'juggernaut', 'calib', 'papa', 'riddl', 'pauper', 'frida', 'soggi', 'half-a-dollar', 'piu', \"'come\", 'lakumu', 'comfi', 'unrecogn', '808', 'aftershock', 'knight', 'casual', \"shoot'em\", 'vice', 'timog', 'sideway', 'hawaii', 'fingertip', 'shelf-shelf', 'frequent', 'windward', 'jerri', 'thumb', 'starvat', 'crib', 'co-star', 'hight', 'trade', 'snowman', 'yang', 'neva', 'speakin', 'kasama', 'replica', 'mir', 'skint', 'yak', 'metro-goldwyn', 'innoc', 'backless', 'downhil', 'bordersaway', 'ihear', 'on', 'temptat', 'segala', 'dalamnya', 'cola', 'prescrib', 'fantast', 'recit', 'oh-so', 'gee', 'backward', 'halo', 'scrub', 'elev', 'star-struck', 'cornett', 'scarecrow', 'someon', 'go-round', 'trick', 'imprison', 'duckl', 'nel', 'villag', 'resurrect', 'eom', 'g450', 'ooh-ooh-ooh-ooh', 'wolf', 'grandmoth', 'a-hoin', 'press', 'chitter', 'glide', 'long-gon', 'phu', 'dead', 'a-got', 'fridg', 'buk', 'kita', 'angelin', 'made', \"'girl\", 'jae', 'knowledg', 'wont', 'co', 'bluest', 'eight', 'by', 'pizza', 'flank', 'trouser', 'windmil', 'dr', 'linen', 'revolv', 'novel', 'fifty-eight', 'refin', \"'kong\", 'entourag', 'ive', 'slot', '7up', 'fendervil', 'bom', 'amus', 'nova', 'saloon', 'clang', 'poltergeist', 'ab', 'dreamland', 'comin', 'superior', 'sharpen', 'haulin', 'am', 'seventeen', 'shrew', 'invis', 'burger', 'porpus', 'withou', 'overpaid', 'a-want', 'starrin', 'panmunjom', 'corpor', 'good', '1964', 'ace', 'tonit', 'kinski', 'pirat', 'i-i-i', 'qot', 'nextdoor', 'flip-sid', 's', 'ninety-nin', 'masterpiec', 'fol-de-diddl', 'snivel', 'beat-a', 'crimin', 'bi', 'piraci', 'same', 'thang', 'trimmin', 'nag', 'pu', 'woh-woh-wo', 'stefani', 'home-mad', 'wear', 'remote-control', 'glueck', 'outrun', 'hitler', 'tour-eifel', 'millennium', 'rather', 'over..do', 'coda', 'be-rain', 'boop', 'innervenu', 'pipilit', 'pagkakaibiga', 'suppliant', \"n'ont\", 'infiltr', 'receiv', 'step-in', 'rush', 'endur', 'betcha', 'gover', 'squeezin', 'maria', 'liabl', 'themepark', 'post-choru', 'backlash', 'fluoresc', 'luga', 'pecker', 'weaken', 'overr', 'poitin', 'spur', 'knicker', 'hostag', 'startl', 'la-la-la-la-la-la-la-la-la-la', 'thi', 'raider', 'gem', 'hm', \"see'est\", 'noir', 'mendekap', 'kizz', 'utter', 'saniti', 'bubble-sac', 'one-arm', 'rear', 'rememberin', 'jitterbug', 'peter', 'erkamka', 'awri', 'cash', 'everybodi', 'patio', 'defil', 'destruct', 'texaco', 'scorch', 'tenir', 'overpow', 'astroturf', 'nonetheless', 'well-connect', 'strangl', 'e-mail', \"'live\", 'cavern', 'drac', 'realis', 'dashboard', 'cannib', 'britainye', 'must', 'rodger', 'surprendr', 'attest', 'tv-set', 'chu', 'sperm', 'fit', 'oop', 'myspac', 'resign', 'mistakesaft', 'reful', 'home', 'pompom', 'helena', 'shannon', 'inconsist', 'sensat', 'up-you', 'nadama', 'fuse', 'corteg', 'diggety-dog', 'link', 'sadder', 'player', 'shout', 'guest-appear', 'sayin', 'jilt', 'phantasi', 'decemb', 'playmat', 'hov', 'amp', 'u', 'somth', 'waistlin', 'piano', 'seizur', 'almighti', 'vimli', 'hardwar', 'ridg', 'nome', 'sturdi', 'horseback', 'fiance', 'risqu', 'instinct', 'broodi', 'aretha', 'keadilan', 'apeal', 'misinterpret', 'pillar', 'californian', 'vacuum', 'ritorno', 'crusad', 'dirty-dirti', 'bon', 'sprout', 'demi', 'insult', 'circl', 'crude', 'taho', 'villain', 'bouncin', 'devoid', 'schimmern', 'peic', 'learnin', 's-u', 'bloodsh', 'eloqu', 'plenti', 'poopsi', 'unseen', 'rico', 'spake', 'lebanes', 'hasten', 'persist', 'tether', 'june', 'fillin', 'fire', 'debt', 'heheheh', 'half-empti', 'kakalimutan', 'anthem', 'glint', 'pa', 'fairi', 'sont', 'messi', 'boardwalk', 'affair', 'pump', 'complain', 'bold', 'mckay', 'anesthet', 'rocket', 'viddl', 'gari', 'aqua', 'tom-tom', 'a-turnin', 'bedsit', 'pixel', 'refus', 'invad', 'disrepair', 'camptown', 'pail', 'prompt', 'weekend', 'unpack', 'musician', 'droppin', 'orchestra', 'homeroom', 'meanwhil', 'brandi', 'fergi', 'unlevel', 'tonker', 'low', 'rendezv', 'chrou', 'longer', 'leroy', 'exam', 'umc', 'roam', 'fivi', 'h', 'impecc', 'diminish', 'trust', 'prize', 'elocut', 'x11', 'a-prayin', 'present', 'cumulonimbu', 'thalidomid', 'bead', 'heaven-er', 'avondal', 'junkyard', 'unpawn', 'willer', 'blurri', 'st', 'rake', 'muffler', 'fourti', 'shelter', 'mate', 'molloy', 'griffin', 'breviari', 'reefer', 'hour', 'pagmamah', 'lotteri', 'brake', 'panzer', 'woop', 'swimmer', 'monument', 'gassi', 'mamalang', 'addict', 'horsepow', 'willi', 'wheat', 'itty-bitti', 'particl', 'checkerboard', 'excel', 'iz', 'stem', 'hablo', 'conspir', 'unbeliev', 'bum', 'fist', 'ragin', \"fav'right\", 'jivin', 'pakakawalan', 'deck', 'freezi', 'dishevel', 'federov', 'bono', 'viso', 'furnitur', 'si', 'lullabi', 'usai', 'marathon', 'sioux', 'fanci', 'vowel', 'line', 'four-lett', 'prayer', 'you', 'rotat', 'debat', 'oti', 'rehears', 'mungkinkah', 'cindi', 'hilbili', 'tour', \"'listen\", 'dearer', 'causin', 'off-schedul', 'mack', 'suzy-hang-around', 'pagtulog', 'transmit', 'kit', 'no-no', 'daiquiri', 'kurasakan', 'improvis', 'olymp', 'denyin', 'forbid', 'looov', \"ev'rythin\", 'aaahhh', 'regga', 'abstain', 'roamin', 'grate', 'pe', 'tickin', 'decre', 'yeahhhhh', 'dolphin', 'misquito', '8759', 'ioway', 'mami', 'elbow', 'oilfield', 'blue', 'counter', 'prey', 'professor', 'manzanillo', 'muddl', 'surmis', 'mumma', 'a-oklahoma', 'entertain', 'advis', 'mania', 'symphoni', 'begun', 'ooooooo', 'tranc', 'caramel-co', 'laki-laki', 'aton', 'menu', 'creux', 'mail-speci', 'a-rain', 'tightest', 'triad', 'are', 'half-a-mil', 'caw', 'fulfil', 'c-i-v-i-c', 'brittania', 'beaufort', 'lineag', 'a-mumblin', 'passando', 'prefer', 'marlon', 'kinfolk', 'ini', 'bleep', 'one-two-thre', 'game', 'hookey', 'zeppelin', 'mysteri', 'burro', \"a'hit\", 'bah-boo-dah-do-dah-do-dah-do', 'haha', 'roundabout', 'accur', 'baru', 'priestess', 'item', 'profound', 'gulch', 'lucki', 'sidewind', '6x', '3x', 'followest', 'eaven', 'rockin', 'firewood', 'pointlessli', 'wiggl', 'obscur', 'macho', 'maybe-babi', 'garbag', 'strictli', 'overload', 'doghous', 'self-piti', 'order', '10', 'raptur', 'recharg', 'sogno', 'p-p-pushin', 'applaud', 'dolli', 'missa', 'fano', 'raindrop', 'emerg', 'namin', 'billboard', 'mild', 'cinch', 'glowi', 'ju', 'karaok', 'ward', 'malimutan', 'tampax', 'twin', 'token', 'ha-ha-had', 'offici', 'ipanema', 'mighta', 'in-ne', 'nun', 'sia', 'seniorita', 'baptis', 'hiss', 'shard', 'grandeur', 'gray', 'toothpick', 'drain', 'junk', \"s'envola\", 'snip', 'shaken', 'delilah', 'half-rememb', 'enthron', 'utopia', 'collin', 'toni', 'montmart', '22', 'distort', 'bangun', 'dom', 'kickapoo', 'katakan', 'yen', 'eye', 'bridesmaid', 'may-day', 'vari', 'bullshit', 'half-tim', 'record', 'conculut', 'shover', 'dappl', 'passoff', 'fella', 'forag', 'sendin', 'dumb', 'kooki', 'armageddon', 'graceless', 'capitul', 'muslim', 'unchang', 'fettuccini', 'ala', 'roarin', 'patti', 'sculptur', 'swimmin', 'southeastern', 'spangl', 'sunbeam', 'vu', 'bibl', 'barbi', 'b-i-i-i-i-i-i-i-i-i-i-i-g', 'prais', 'freedi', 'surpris', 'polka', 'boh', 'judg', 'dippin', 'ide', 'teeter', 'write', 'candi', 'coldest', 'muligan', 'partynextdoor', 'basin', 'deepli', 'world', 'drawer', 'badder', 'valu', 'foretel', 'grin', 'gear', 'm.o', 'well', 'nazareth', 'buhay', 'beaucoup', \"'rambl\", 'handi', 'luck', 'sign', 'fishin', 'relax', 'soul', 'tumatawag', 'tribe', 'moviestar', 'seaman', 'bisa', 'parton', 'papoo', 'pulchritud', 'mccormick', 'unwil', 'aun', 'misfit', 'cocoon', 'moonwalk', 'pattern', 'forse', 'seemdd', 'oo-pl', 'here', 'comfort', 'plutocrat', 'tiran', 'silvan', 'servira', 'vale', 'mengambil', 'backroad', 'hey-hey', 'pumpin', 'skonkin', 'corni', 'bunda', 'tempt', 'femm', 'dirimu', 'boomp', 'neckti', 'a-runnin', 'rea', 'trill', 'milan', 'hussein', 'gum', 'detain', 'wearisom', 'blizzard', 'arf', 'curv', 'riverboat', 'hustlin', 'accus', 'tellement', 'unglu', 'miser', 'beri', 'themselv', 'paki', 'madalang', 'cohn', 'wild-wild', 'sapphir', 'nuit', 'texa', 'timeless', 'svengali', 'darksom', '26', 'ngayong', 'li-if', 'iowa', 'galleri', 'rummag', 'ooooo', 'caviti', 'stay', 'butcher', 'hoein', 'mondo', 'armi', 'fearsom', 'shrinea', 'shoesi', 'nadamang', 'clampdown', 'papa-san', 'spectacl', 'vincent', 'pianist', 'rip', 'boppin', 'bah-boo-bah-boo-bah-boo-bah-boo-bah', 'to-a-t', 'doth', 'denk', 'heimlich', 'half-fil', 'saxon', 'pastur', 'everest', 'velveeta', 'pasqual', 'uncar', 'coffin', 'kalikimaka', 'hous', 'shaki', 'triumph', 'pee', 'ninety-f', 'chestnut', 'shane', 'jobim', 'kitchen', 'unreturn', 'ta-ta', 'mmmhmmmhmmmm', 'mock', 'yeahh', 'pssst', 'bark', 'rock', 'cookout', 'star-cross', 'woa', 'glue', 'risin', 'aisi', 'deftli', 'stalin', 'a-town', 'runaway', 'coattail', 'midler', 'ajar', 'akalain', 'lax', 'electr', 'showin', 'remot', 'presid', 'aki', 'neigh', 'digniti', 'secretari', 'acercaban', 'aroun', 'sunset', 'flue', 'croakin', 'skid', 'tootl', 'unalik', 'discreet', 'dadada', 'stare', 'hummmm', 'joe', 'explan', 'engros', \"un'altra\", 'meaningless', 'hello-wow', 'we', 'sweetest', 'firesid', 'poolroom', 'dial', 'daytim', 'stil', 'a-ridin', 'argentina', 'bien', 'minu', 'chaffen', 'promenad', 'throttl', 'mur', 'outliv', \"qu'el\", 'whiter', 'frani', 'toke', 'gridin', 'flippin', 'tank', 'suav', 'mor', \"don'tcha\", 'seth', 'muli', 'lord-lord', 'root-toot-shoot', 'astrodom', 'spotti', 'liquid', 'downheart', 'iiti', 'pappi', 'spars', 'semblanc', 'nigger', 'debonair', 'kindest', 'defiant', 'sandpap', 'irv', \"l'autr\", 'joue', 'stretcher', 'nekkid', 'jour', 'sober', 'firstborn', 'gusta', 'hut', \"l'ahoy\", 'done', 'ijust', 'earth', 'hubert', 'fornic', 'schoolboy', 'april-heart', 'spiral', 'lip', 'newley-w', \"d'you\", 'duet', 'veronica', 'tapestri', 'nerd', 'mud', 'ooohhhh', 'social', 'pertama', 'walru', 'twosi', 'vo', 'crust', 'swoon', 'overturn', 'darkenss', 'quack', 'tient', 'brooklyn', 'acquisit', 'bagah', 'pari', 'employ', 'share..do', 'softest', 'grim', 'ehla', 'misleto', 'disturbia', 'shc', 'exhibit', 'undon', 'choo-choo', 'thiev', 'why-o-you-n-g', 'describ', 'older', 'uglier', 'kush', 'weight', 'hubcap', 'fireplac', 'oooooooooooooooh', 'quota', 'malubo', 'heebie-jeebi', 'hypnotist', 'a-flyin', 'discothequ', 'scriptur', 'great', 'contend', 'neither', 'orphan', 'religi', 'band', 'jonesin', 'wompan', 'chapel', 'molass', 'glove', 'middle-ag', 'send-off', 'macram', 'plane', 'bodiy', 'merced', 'whirlpool', 'pine', 'par', 'undermin', 'pant', 'sandi', 'steadi', 'steel', 'pleur', 'long-ear', 'peephol', 'cottag', 'unawar', 'ale', 'metal', 'bee-yoo-tee-', 'menangislah', 'sinc', 'deep', 'flourish', 'tower', 'lectur', 'mickey', '18th', 'claw', 'cnn', '67', 'fall', 'mer', \"'yan\", 'manag', 'profess', 'duppi', 'seai', 'yestarday', 'd-o-o-o-g', 'theyr', 'thug', 'commenc', 'ralli', 'broadway', 'dilemma', 'settlin', 'tax', 'armistic', 'nail', 'hi-fi', 'berger', 'taylor', \"wand'r\", 'ehhh', \"'she\", 'garden', 'diploma', 'barba', 'seawe', 'creedenc', 'bengi', 'battle-khaki', 'teru', 'friday', 'nightclub', 'flute', 'arm', 'robinson', 'although', 'fetal', 'thunderbird', 'lightnin', 'viru', 'vocabulari', 'bone', 'snowi', 'ranch', 'watford', 'restraint', 'vagabond', 'yacht', 'heavyweight', \"'be\", 'unguard', 'algo', 'embrac', 'delicioso', 'timer', 'verguenza', 'amaz', 'roulin', 'sheath', \"'though\", 'shopper', 'stalk', 'surfac', 'meteorologist', 'recognit', 'propaganda', 'unnumb', 'spyder', 'spurn', 'contribut', 'hoer', 'loyalti', 'memori', 'realest', 'staircas', 'iiwasang', 'clodi', 'wildest', 'smoke', '42', 'nembutol', 'mamma', 'emul', 'conquer', 'exit', 'detour', 'harmon', 'wind', 'surfer', 'veget', 'vegeterian', 'doux', 'sown', 'nabana', 'photo', 'enuogh', 'a-glow', 'sveglia', 'snarl', 'bee', 'serweet', 'liar', 'fascist', 'entitl', 'canastoga', 'econom', 'hand-in-hand', 'redwood', 'hallway', 'opinion', 'dropp', 'nirwana', 'nobobdi', 'growup', 'cocain', 'distant', 'californi-a', 'telestr', 'strongarm', 'roustabout', 'ego', 'lap', 'tallstand', 'doff', 'balon', 'mumbl', 'everyht', 'organis', 'deliv', 'shufflin', 'superstit', 'sale', 'chop', 'lit', 'howard', 'bandwagon', 'wedlock', 'bang-up', 'beatlemania', 'faggot', 'cryogen', 'borg', 'tavern', 'milieu', 'accordeon', 'cute', 'volverlo', 'lonely-heart', 'chick', 'lilimutin', 'speech', 'flung', 'hmm', 'mailbox', 'knelt', 'un-huh', 'miley', 'lotta', 'sync', 'liebt', 'louder', 'partli', 'asian', 'ol', '645', 'hadir', 'walkway', 'fidel', 'knuckl', 'curb', 'stylin', 'violenc', 'supernova', 'bongo', 'summa', 'nim', 'prepar', 'prescript', 'twide', 'strang', 'possum', 'bertemu', 'boardroom', 'banish', 'red-hair', 'dreari', 'es', 'malenkov', 'die', 'scotch', '12th', 'attack', 'su-p-per', 'flex', 'question', 'leash', 'britch', 'old-tim', 'duomo', 'scorn', 'skelet', 'zappa', 'most', 'gumabi', 'uninvit', 'everyman', 'greyston', 'kettl', 'educ', 'moto', 'john', 'amid', 'net', 'ell', 'simpl', \"'think\", 'chilliest', 'smith', 'ars', 'cuddli', 'meatbal', 'instant', 'mooooooooooooo', \"o'er\", 'hue', 'percent', 'hospit', 'tremor', 's-u-r-p-r-i-s-', 'contrapt', 'marshal', 'tire', 'serenad', \"not-the-kind-of-girl-you'd-marri\", 'ignit', 'fairer', 'bigot', 'flatlin', 'red', 'o', 'engag', 'fagen', 'oldi', 'prune', 'e-lim-i-n', 'dupe', 'skipperaway', 'hypocrisi', 'time-th', 'dreamhous', 'alimoni', 'hatr', 'whirlwind', 'jelata', 'bertha', 'mister', 'tuw', 'flageolet', 'tonni', 'merrili', 'damn', 'engel', 'max', 'blow', 'niko', 'syndrom', 'dah-dah-dah', 'memahami', 'coin', 'statement', 'oot', 'furi', 'week', 'everyobodi', 'mahwah', 'gautama', 'harsher', 'thoughi', 'amend', 'pumanaw', 'properti', 'arent', 'angela', 'ohohoh', 'a-thinkin', \"y'do\", 'hallucin', 'exors', 'opp', 'reve', 'suprem', 'influenc', 'neglige', 'vita', 'pyjama', 'faraway', 'curtain', 'filament', 'nonsens', 'are-are-are-round', 'resonnez', '9', 'up-side-down', 'magpi', 'alor', 'trainabl', 'neal', 'nineteen', 'tighten', 'kackl', 'magbalik', 'loseyour', 'ooooooh', 'multipl', 'beta', 'untuk', 'butan', 'vibrant', 'misus', 'muchacha', 'understood', 'fragil', 'griev', 'dovin', 'dong', 'busin', 'crack', 'ito', 'disguis', 'quarrel', 'slumberless', 'liza', 'hogshead', 'amin', 'lazi', 'jingo', 'packag', 'trabb', 'johnny-cak', 'thriller', 'vibe', 'suivez-moi', 'lily-whit', 'geschieht', 'pussycat', 'guitaro', 'landin', 'bit-o-thi', 'undercov', 'shirtless', 'jazz', 'slouch', 'godiva', 'kangaroosi', 'celin', 'b4', 'morri', 'breezi', 'amplifi', 'noisi', 'dalamh', 'carrousel', 'get', 'sii-hii-yi', 'portion', 'troo-p-per', 'nauseou', 'une', 'minivan', 'chug', 'improv', 'bighway', 'screen', 'hoof', 'analyz', 'discoveri', 'usal', 'invinc', 'bantay', 'urin', 'luxembourg', 'certain', 'rockstar', 'currier', 'seiner', 'thine', '1984', \"fo'ev\", 'wow', 'disneyland', 'condit', '18', 'c.i.t.a', 'sento', 'excus', \"'coz\", 'disarm', 'taught', 'nonononon', 'hum-drum', 'somersault', 'naught', 'stickin', 'bustl', 'astrowash', 'pajama', 'metallizepp', \"'shhh\", 'advant', 'iv', 'fuzzy-head', 'dank', 'lampshad', 'counti', 'warp', 'korthoff', 'talk-do', 'crosswalk', 'veitnam', 'self', 'overtir', 'hooki', 'shook', 'eggman', 'paidl', 'onion', 'refer', 'go-to', 'importantli', 'hazi', 'w-w-w-w-w-w-w-w-w-w-w-w-w', 'cason', 'chambermaid', 'ambit', 'fu', 'intent', 'aight', 'lam', 'prophes', 'maker', 'mayweath', 'cross-leg', 'playground', 'quick-step', 'die.th', 'ragazzo', 'well.look', 'simmer', 'sumthin', 'cyber-wif', 'puzzl', 'sermon', 'bahagiaku', 'recaptur', 'extermin', 'applic', 'monstrou', \"m'bop\", 'spudgun', 'permiss', 'cruelli', 'judd', 'stunnin', 'bloodthristi', 'own', 'wal-mart', 'thirsti', 'corp', 'opposit', 'humdrum', 'inidan', 'maud', 'contemptu', 'onetta', 'c.b', 'blossom', 'storybook', 'orchestr', 'desperateley', 'mormon', 'unbreak', 'pud', 'near', 'art', '12', 'a-readi', 'noth', 'bedpost', 'grandpa', 'a-travel', 'asham', 'alpha', 'dra-da-da', 'restless', 'unscrew', \"'place\", 'mistreat', 'disdain', 'whooo', 'tote', 'dem', 'guess', 'bottl', 'a-sittin', '90', 'thorn', '514', 'midtown', 'karena', 'paalam', 'gendarm', 'un-photograph', 'triniti', 'carri', 'themon', 'tonn', 'bitchin', 'averti', 'gunsmok', 'kitti', '4-0', 'figurin', 'topeka', 'puf', 'ddt', 'yawn', 'sprang', 'resurfac', 'maestro', 'danger', 'dalami', 'receipt', 'ont', 'fals', 'a-doin', 'shelf', 'layn', 'intellig', 'her', 'incred', 'unreach', 'poorly-dress', 'aay', 'pay', 'limousin', 'mutual', 'spray', 'change.repeat', 'alani', 'parson', 'goodi', 'cd', 'appreci', 'li', 'smokestack', 'creation', \"n'attend\", 'remi', 'bedda', 'buse', 'insert', 'hurtin', 'agenouil', 'stingi', '365', 'walkwhen', 'avocado', 'fronti', 'jump', 'one-way', 'smaller', 'collector', 'hundr', 'bribe', 'qualifi', 'choos', \"'65\", 'fasin', 'sion', '7', 'lyric', 'loss'}\n"
     ]
    }
   ],
   "source": [
    "## Exercise: find the lexicon\n",
    "\n",
    "\n",
    "lexicon = set([])\n",
    "for song in lyrics_stems:\n",
    "    lexicon |= set(song)\n",
    "\n",
    "print (len(lexicon))"
   ]
  },
  {
   "cell_type": "code",
   "execution_count": 135,
   "metadata": {},
   "outputs": [],
   "source": [
    "lexicon_map     = {term:id for id,term in enumerate(lexicon)}\n",
    "lexicon_rev_map = {id:term for term,id in lexicon_map.items()}"
   ]
  },
  {
   "cell_type": "code",
   "execution_count": 62,
   "metadata": {},
   "outputs": [
    {
     "data": {
      "text/plain": [
       "16462"
      ]
     },
     "execution_count": 62,
     "metadata": {},
     "output_type": "execute_result"
    }
   ],
   "source": [
    "lexicon_map['pink']"
   ]
  },
  {
   "cell_type": "code",
   "execution_count": 65,
   "metadata": {},
   "outputs": [
    {
     "data": {
      "text/plain": [
       "'pink'"
      ]
     },
     "execution_count": 65,
     "metadata": {},
     "output_type": "execute_result"
    }
   ],
   "source": [
    "lexicon_rev_map[16462]"
   ]
  },
  {
   "cell_type": "markdown",
   "metadata": {},
   "source": [
    "#### Use numpy for matrix-based computations\n",
    "\n",
    "http://www.numpy.org/"
   ]
  },
  {
   "cell_type": "code",
   "execution_count": 130,
   "metadata": {},
   "outputs": [],
   "source": [
    "import numpy as np\n",
    "\n",
    "#Matrice riempita di zeri\n",
    "\n",
    "lyrics_vector_space = np.zeros((len(lyrics_stems), len(lexicon)))\n"
   ]
  },
  {
   "cell_type": "code",
   "execution_count": 131,
   "metadata": {},
   "outputs": [
    {
     "data": {
      "text/plain": [
       "(5000, 16919)"
      ]
     },
     "execution_count": 131,
     "metadata": {},
     "output_type": "execute_result"
    }
   ],
   "source": [
    "lyrics_vector_space.shape"
   ]
  },
  {
   "cell_type": "code",
   "execution_count": 132,
   "metadata": {},
   "outputs": [
    {
     "data": {
      "text/plain": [
       "dtype('float64')"
      ]
     },
     "execution_count": 132,
     "metadata": {},
     "output_type": "execute_result"
    }
   ],
   "source": [
    "lyrics_vector_space.dtype"
   ]
  },
  {
   "cell_type": "code",
   "execution_count": 136,
   "metadata": {},
   "outputs": [],
   "source": [
    "def get_vector_space (songs, lex_map):\n",
    "    m = np.zeros((len(songs), len(lex_map)))\n",
    "\n",
    "    for song_id, (s,t,l,song_text) in enumerate(songs):\n",
    "        for stem in TextBlob(song_text).lower().words.stem():\n",
    "            if stem in lex_map:\n",
    "                term_id = lex_map[stem]\n",
    "                m[song_id,term_id] += 1.0\n",
    "    \n",
    "    return m\n",
    "\n",
    "lyrics_vector_space = get_vector_space(raw_dataset, lexicon_map)"
   ]
  },
  {
   "cell_type": "code",
   "execution_count": 68,
   "metadata": {},
   "outputs": [
    {
     "data": {
      "text/plain": [
       "array([0., 0., 0., ..., 0., 0., 0.])"
      ]
     },
     "execution_count": 68,
     "metadata": {},
     "output_type": "execute_result"
    }
   ],
   "source": [
    "lyrics_vector_space[query_id]"
   ]
  },
  {
   "cell_type": "code",
   "execution_count": 69,
   "metadata": {},
   "outputs": [
    {
     "data": {
      "text/plain": [
       "236.0"
      ]
     },
     "execution_count": 69,
     "metadata": {},
     "output_type": "execute_result"
    }
   ],
   "source": [
    "sum(lyrics_vector_space[query_id])"
   ]
  },
  {
   "cell_type": "code",
   "execution_count": 70,
   "metadata": {},
   "outputs": [
    {
     "data": {
      "text/plain": [
       "array([False, False, False, ..., False, False, False])"
      ]
     },
     "execution_count": 70,
     "metadata": {},
     "output_type": "execute_result"
    }
   ],
   "source": [
    "lyrics_vector_space[query_id]!=0"
   ]
  },
  {
   "cell_type": "code",
   "execution_count": 71,
   "metadata": {},
   "outputs": [
    {
     "data": {
      "text/plain": [
       "89"
      ]
     },
     "execution_count": 71,
     "metadata": {},
     "output_type": "execute_result"
    }
   ],
   "source": [
    "sum(lyrics_vector_space[query_id]!=0)"
   ]
  },
  {
   "cell_type": "code",
   "execution_count": 72,
   "metadata": {},
   "outputs": [
    {
     "data": {
      "text/plain": [
       "89"
      ]
     },
     "execution_count": 72,
     "metadata": {},
     "output_type": "execute_result"
    }
   ],
   "source": [
    "len(lyrics_stems[query_id])"
   ]
  },
  {
   "cell_type": "markdown",
   "metadata": {},
   "source": [
    "Good, numbers look consistent!"
   ]
  },
  {
   "cell_type": "markdown",
   "metadata": {},
   "source": [
    "#### What kind of similarity we can use ?"
   ]
  },
  {
   "cell_type": "markdown",
   "metadata": {},
   "source": [
    "#### This is euclidean ..."
   ]
  },
  {
   "cell_type": "code",
   "execution_count": 73,
   "metadata": {},
   "outputs": [
    {
     "name": "stdout",
     "output_type": "stream",
     "text": [
      "[ 0 -3 -4]\n"
     ]
    }
   ],
   "source": [
    "# let's try with euclidean\n",
    "\n",
    "a = np.array([1,2,3])\n",
    "b = np.array([1,5,7])\n",
    "\n",
    "print (a-b)"
   ]
  },
  {
   "cell_type": "code",
   "execution_count": 74,
   "metadata": {},
   "outputs": [
    {
     "name": "stdout",
     "output_type": "stream",
     "text": [
      "[ 0  9 16]\n"
     ]
    }
   ],
   "source": [
    "print ( (a-b)**2 )"
   ]
  },
  {
   "cell_type": "code",
   "execution_count": 75,
   "metadata": {},
   "outputs": [
    {
     "name": "stdout",
     "output_type": "stream",
     "text": [
      "25\n"
     ]
    }
   ],
   "source": [
    "print ( np.sum((a-b)**2) )"
   ]
  },
  {
   "cell_type": "code",
   "execution_count": 76,
   "metadata": {},
   "outputs": [
    {
     "name": "stdout",
     "output_type": "stream",
     "text": [
      "5.0\n"
     ]
    }
   ],
   "source": [
    "print ( np.sqrt(np.sum((a-b)**2)) )"
   ]
  },
  {
   "cell_type": "code",
   "execution_count": 77,
   "metadata": {},
   "outputs": [],
   "source": [
    "def euclidean(a,b):\n",
    "    return np.sqrt( np.sum((a-b)**2.0) )"
   ]
  },
  {
   "cell_type": "code",
   "execution_count": 78,
   "metadata": {},
   "outputs": [
    {
     "name": "stdout",
     "output_type": "stream",
     "text": [
      "Most similar song is: 2548\n",
      "Similarity is: 30.643106892089126\n",
      "Artist: Cher\n",
      "Title: Fires Of Eden\n",
      "Lyrics: It's not over til it's over  \n",
      "I heard someone say  \n",
      "Must be a whisper in the wind  \n",
      "'Cause you're too far away  \n",
      "  \n",
      "But in my restless sleep  \n",
      "I could swear I saw you next to me  \n",
      "Saying , oh I'm coming home  \n",
      "You'll never spend another night alone  \n",
      "  \n",
      "[Chorus]  \n",
      "Remember when love was innocent  \n",
      "There was never a better time  \n",
      "But you know those fires of Eden  \n",
      "Still burn in this heart of mine  \n",
      "  \n",
      "The morning's uncertain  \n",
      "It's a nervous day  \n",
      "And I look for a reason  \n",
      "Why I should feel this way  \n",
      "  \n",
      "I hear a voice run before  \n",
      "Drifting through my open door  \n",
      "Saying it's alright  \n",
      "We're going to light those flames tonight  \n",
      "  \n",
      "[Chorus]  \n",
      "  \n",
      "And don't you wonder  \n",
      "How we drifted so far  \n",
      "When we belong to each other  \n",
      "We were miles apart  \n",
      "  \n",
      "And there's a place  \n",
      "That was meant for the two of us  \n",
      "And when you touch the embers  \n",
      "You feel my love  \n",
      "As strong as it ever was  \n",
      "  \n",
      "[Chorus]\n",
      "\n",
      "\n"
     ]
    }
   ],
   "source": [
    "def most_similar_euclidean(s, songs, skiplist):\n",
    "    num_songs, num_terms = songs.shape\n",
    "    most_similar = min( [ (euclidean(songs[s], songs[s_id]), s_id) \n",
    "                             for s_id in range(num_songs) \n",
    "                             if s_id not in skiplist ]   )\n",
    "    return most_similar[1], most_similar[0]\n",
    "\n",
    "sim_id, sim_value = most_similar_euclidean(query_id, lyrics_vector_space, \n",
    "                                           set(skip+[query_id]))\n",
    "\n",
    "print (\"Most similar song is:\", sim_id)\n",
    "print (\"Similarity is:\", sim_value)\n",
    "print (\"Artist:\", raw_dataset[sim_id][0])\n",
    "print (\"Title:\", raw_dataset[sim_id][1])\n",
    "print (\"Lyrics:\", raw_dataset[sim_id][-1])"
   ]
  },
  {
   "cell_type": "code",
   "execution_count": 79,
   "metadata": {},
   "outputs": [
    {
     "name": "stdout",
     "output_type": "stream",
     "text": [
      "[\"'caus\", \"'s\", 'a', 'alright', 'and', 'as', 'be', 'but', 'could', 'do', 'ever', 'go', 'i', 'in', 'it', 'light', 'love', 'me', 'my', \"n't\", 'not', 'of', 'so', 'that', 'the', 'to', 'tonight', 'wa', 'we', 'when', 'you']\n"
     ]
    }
   ],
   "source": [
    "print ( sorted(lyrics_stems[sim_id] & lyrics_stems[query_id]) )"
   ]
  },
  {
   "cell_type": "markdown",
   "metadata": {},
   "source": [
    "#### Space for proposals"
   ]
  },
  {
   "cell_type": "code",
   "execution_count": null,
   "metadata": {},
   "outputs": [],
   "source": []
  },
  {
   "cell_type": "code",
   "execution_count": null,
   "metadata": {},
   "outputs": [],
   "source": []
  },
  {
   "cell_type": "code",
   "execution_count": null,
   "metadata": {},
   "outputs": [],
   "source": []
  },
  {
   "cell_type": "code",
   "execution_count": null,
   "metadata": {},
   "outputs": [],
   "source": []
  },
  {
   "cell_type": "code",
   "execution_count": null,
   "metadata": {},
   "outputs": [],
   "source": []
  },
  {
   "cell_type": "code",
   "execution_count": null,
   "metadata": {},
   "outputs": [],
   "source": []
  },
  {
   "cell_type": "markdown",
   "metadata": {},
   "source": [
    "#### What we need is Cosine Similarity\n",
    "\n",
    "\n",
    "$$\n",
    "\\cos(A,B)= \\frac{A \\cdot B}{\\|A\\| \\|B\\|} = \\frac{\\sum_i A_i B_i}{\\sqrt{\\sum_i A_i^2}\\sqrt{\\sum_i B_i^2}}\n",
    "$$"
   ]
  },
  {
   "cell_type": "code",
   "execution_count": 80,
   "metadata": {},
   "outputs": [],
   "source": [
    "def cosine(a,b):\n",
    "    return np.dot(a,b)/( np.sqrt( np.sum(a**2.0) ) * np.sqrt( np.sum(b**2.0) ) )"
   ]
  },
  {
   "cell_type": "code",
   "execution_count": null,
   "metadata": {},
   "outputs": [],
   "source": [
    "cosine( np.array([1,0]), np.array([0,1]) )"
   ]
  },
  {
   "cell_type": "code",
   "execution_count": null,
   "metadata": {},
   "outputs": [],
   "source": [
    "cosine( np.array([1,0]), np.array([2,0]) )"
   ]
  },
  {
   "cell_type": "code",
   "execution_count": 81,
   "metadata": {},
   "outputs": [
    {
     "name": "stdout",
     "output_type": "stream",
     "text": [
      "Most similar song is: 99\n",
      "Similarity is: 0.5622402881617116\n",
      "Artist: ABBA\n",
      "Title: The Winner Takes It All\n",
      "Lyrics: I don't want to talk  \n",
      "About the things we've gone through  \n",
      "Though it's hurting me  \n",
      "Now it's history  \n",
      "I've played all my cards  \n",
      "And that's what you've done too  \n",
      "Nothing more to say  \n",
      "No more ace to play  \n",
      "  \n",
      "The winner takes it all  \n",
      "The loser standing small  \n",
      "Beside the victory  \n",
      "That's my destiny  \n",
      "  \n",
      "I was in your arms  \n",
      "Thinking I belonged there  \n",
      "I figured it made sense  \n",
      "Building me a fence  \n",
      "Building me a home  \n",
      "Thinking I'd be strong there  \n",
      "But I was a fool  \n",
      "Playing by the rules  \n",
      "  \n",
      "The gods may throw a dice  \n",
      "Their minds as cold as ice  \n",
      "And someone way down here  \n",
      "Loses someone dear  \n",
      "The winner takes it all  \n",
      "The loser has to fall  \n",
      "It's simple and it's plain  \n",
      "Why should I complain.  \n",
      "  \n",
      "But tell me does she kiss  \n",
      "Like I used to kiss you?  \n",
      "Does it feel the same  \n",
      "When she calls your name?  \n",
      "Somewhere deep inside  \n",
      "You must know I miss you  \n",
      "But what can I say  \n",
      "Rules must be obeyed  \n",
      "  \n",
      "The judges will decide  \n",
      "The likes of me abide  \n",
      "Spectators of the show  \n",
      "Always staying low  \n",
      "The game is on again  \n",
      "A lover or a friend  \n",
      "A big thing or a small  \n",
      "The winner takes it all  \n",
      "  \n",
      "I don't want to talk  \n",
      "If it makes you feel sad  \n",
      "And I understand  \n",
      "You've come to shake my hand  \n",
      "I apologize  \n",
      "If it makes you feel bad  \n",
      "Seeing me so tense  \n",
      "No self-confidence  \n",
      "But you see  \n",
      "The winner takes it all  \n",
      "The winner takes it all\n",
      "\n",
      "\n"
     ]
    }
   ],
   "source": [
    "def most_similar_cosine(s, songs, skiplist):\n",
    "    num_songs, num_terms = songs.shape\n",
    "    most_similar = max( [ (cosine(songs[s], songs[s_id]), s_id) \n",
    "                             for s_id in range(num_songs) \n",
    "                             if s_id not in skiplist ]   )\n",
    "    return most_similar[1], most_similar[0]\n",
    "\n",
    "sim_id, sim_value = most_similar_cosine(query_id, lyrics_vector_space, set(skip+[query_id]))\n",
    "\n",
    "print (\"Most similar song is:\", sim_id)\n",
    "print (\"Similarity is:\", sim_value)\n",
    "print (\"Artist:\", raw_dataset[sim_id][0])\n",
    "print (\"Title:\", raw_dataset[sim_id][1])\n",
    "print (\"Lyrics:\", raw_dataset[sim_id][-1])"
   ]
  },
  {
   "cell_type": "markdown",
   "metadata": {},
   "source": [
    "#### Let's investigate the words that contribute most"
   ]
  },
  {
   "cell_type": "code",
   "execution_count": null,
   "metadata": {},
   "outputs": [],
   "source": [
    "# normalized prod instead of dot product\n",
    "\n",
    "def norm_prod(a,b):\n",
    "    return a*b/( np.sqrt( np.sum(a**2.0) ) * np.sqrt( np.sum(b**2.0) ) )\n",
    "\n",
    "p = norm_prod(lyrics_vector_space[sim_id], lyrics_vector_space[query_id])\n",
    "print (len(p), p)"
   ]
  },
  {
   "cell_type": "code",
   "execution_count": null,
   "metadata": {},
   "outputs": [],
   "source": [
    "idx = np.argsort(p)\n",
    "print (idx)"
   ]
  },
  {
   "cell_type": "code",
   "execution_count": null,
   "metadata": {},
   "outputs": [],
   "source": [
    "prova = np.array([1,3,5,4,2])"
   ]
  },
  {
   "cell_type": "code",
   "execution_count": null,
   "metadata": {},
   "outputs": [],
   "source": [
    "np.argsort(prova)"
   ]
  },
  {
   "cell_type": "code",
   "execution_count": null,
   "metadata": {},
   "outputs": [],
   "source": [
    "prova[ np.argsort(prova) ]"
   ]
  },
  {
   "cell_type": "code",
   "execution_count": null,
   "metadata": {},
   "outputs": [],
   "source": [
    "prova[ np.argsort(prova)[::-1] ]"
   ]
  },
  {
   "cell_type": "code",
   "execution_count": null,
   "metadata": {},
   "outputs": [],
   "source": [
    "p[idx]"
   ]
  },
  {
   "cell_type": "code",
   "execution_count": null,
   "metadata": {},
   "outputs": [],
   "source": [
    "p[idx[::-1]]"
   ]
  },
  {
   "cell_type": "code",
   "execution_count": null,
   "metadata": {},
   "outputs": [],
   "source": [
    "for term_id in np.argsort(idx)[::-1]:\n",
    "    if p[term_id]>0:\n",
    "        print (lexicon_rev_map[term_id])"
   ]
  },
  {
   "cell_type": "markdown",
   "metadata": {},
   "source": [
    "### Inverse document frequency\n",
    "\n",
    "Inverse document frequency approximates the specificity of a term in a given document collection.\n",
    "IDF is defined as follows:\n",
    "\n",
    "$$\n",
    "idf(t) = \\ln \\frac{N_{docs}}{df(t)}\n",
    "$$\n",
    "\n",
    "where $N_{docs}$ is the number of documents in the collection and ${df(t)}$ is the number of documents containing the term $t$.\n",
    "\n",
    "IDF is used to discount frequent terms.\n",
    "\n",
    "The weight of a term for a document is thus defined as $tf(t)\\cdot idf(t)$."
   ]
  },
  {
   "cell_type": "code",
   "execution_count": null,
   "metadata": {},
   "outputs": [],
   "source": [
    "m_sum = np.sum(lyrics_vector_space)"
   ]
  },
  {
   "cell_type": "code",
   "execution_count": null,
   "metadata": {},
   "outputs": [],
   "source": [
    "print (m_sum)"
   ]
  },
  {
   "cell_type": "code",
   "execution_count": null,
   "metadata": {},
   "outputs": [],
   "source": [
    "lyrics_vector_space.shape"
   ]
  },
  {
   "cell_type": "code",
   "execution_count": null,
   "metadata": {},
   "outputs": [],
   "source": [
    "m_sum = np.sum(lyrics_vector_space, axis=1)\n",
    "print (m_sum)\n",
    "print (m_sum.shape)"
   ]
  },
  {
   "cell_type": "code",
   "execution_count": null,
   "metadata": {},
   "outputs": [],
   "source": [
    "m_sum = np.sum(lyrics_vector_space, axis=0)\n",
    "print (m_sum)\n",
    "print (m_sum.shape)"
   ]
  },
  {
   "cell_type": "code",
   "execution_count": null,
   "metadata": {},
   "outputs": [],
   "source": [
    "m_sum = np.sum(lyrics_vector_space>0, axis=0)\n",
    "print (m_sum)\n",
    "print (m_sum.shape)"
   ]
  },
  {
   "cell_type": "code",
   "execution_count": null,
   "metadata": {},
   "outputs": [],
   "source": [
    "# let's do a small test\n",
    "\n",
    "A = np.array([ [1,2,3], [4,5,6] ])\n",
    "b = np.array([1,2,3])\n",
    "\n",
    "print (A)\n",
    "print (b)\n",
    "print (A*b)"
   ]
  },
  {
   "cell_type": "code",
   "execution_count": null,
   "metadata": {},
   "outputs": [],
   "source": [
    "print( np.sum(A/b>2, axis=0) )"
   ]
  },
  {
   "cell_type": "code",
   "execution_count": null,
   "metadata": {},
   "outputs": [],
   "source": [
    "num_docs, _ = lyrics_vector_space.shape"
   ]
  },
  {
   "cell_type": "code",
   "execution_count": null,
   "metadata": {},
   "outputs": [],
   "source": [
    "lyrics_tdif = lyrics_vector_space * np.log( num_docs/m_sum)"
   ]
  },
  {
   "cell_type": "code",
   "execution_count": null,
   "metadata": {},
   "outputs": [],
   "source": [
    "def most_similar_cosine(s, songs, skiplist):\n",
    "    num_songs, num_terms = songs.shape\n",
    "    most_similar = max( [ (cosine(songs[s], songs[s_id]), s_id) \n",
    "                             for s_id in range(num_songs) \n",
    "                             if s_id not in skiplist ]   )\n",
    "    return most_similar[1], most_similar[0]\n",
    "\n",
    "sim_id, sim_value = most_similar_cosine(query_id, lyrics_tdif, set(skip+[query_id]))\n",
    "\n",
    "print (\"Most similar song is:\", sim_id)\n",
    "print (\"Similarity is:\", sim_value)\n",
    "print (\"Artist:\", raw_dataset[sim_id][0])\n",
    "print (\"Title:\", raw_dataset[sim_id][1])\n",
    "print (\"Lyrics:\", raw_dataset[sim_id][-1])"
   ]
  },
  {
   "cell_type": "code",
   "execution_count": null,
   "metadata": {},
   "outputs": [],
   "source": [
    "# normalized prod instead of dot product\n",
    "\n",
    "def norm_prod(a,b):\n",
    "    return a*b/( np.sqrt( np.sum(a**2.0) ) * np.sqrt( np.sum(b**2.0) ) )\n",
    "\n",
    "p = norm_prod(lyrics_vector_space[sim_id], lyrics_vector_space[query_id])\n",
    "\n",
    "idx = np.argsort(p)\n",
    "\n",
    "for term_id in np.argsort(idx)[::-1]:\n",
    "    if p[term_id]>0:\n",
    "        print (lexicon_rev_map[term_id])"
   ]
  },
  {
   "cell_type": "markdown",
   "metadata": {},
   "source": [
    "#### How do you like it?"
   ]
  },
  {
   "cell_type": "markdown",
   "metadata": {},
   "source": [
    "# Is this enough ?"
   ]
  },
  {
   "cell_type": "markdown",
   "metadata": {},
   "source": [
    "## Exercises:\n",
    "\n",
    " - remove stop-words, too frequent words, unusual/infrequent words\n",
    " - Find the most original song:\n",
    "   - most distant on average?\n",
    "   - most distant from the 10 closest ones?\n",
    " - [advanced] filter using additional functionalities of textblob, e.g., lemmatize rather than stem, use only nouns, anything else comes up to your mind"
   ]
  },
  {
   "cell_type": "code",
   "execution_count": null,
   "metadata": {},
   "outputs": [],
   "source": [
    "from nltk.corpus import stopwords\n",
    "print(sorted(stopwords.words('english')))"
   ]
  },
  {
   "cell_type": "markdown",
   "metadata": {},
   "source": [
    "## Good to know about TextBlob\n",
    "\n",
    "### Get Sentiment/Polarity of first sentence\n",
    "\n",
    "TextBlob provides a polarity score, i.e., a number between -1 (negative) and 1 (positive)."
   ]
  },
  {
   "cell_type": "code",
   "execution_count": null,
   "metadata": {},
   "outputs": [],
   "source": [
    "from textblob import Sentence"
   ]
  },
  {
   "cell_type": "code",
   "execution_count": null,
   "metadata": {},
   "outputs": [],
   "source": [
    "Sentence(\"I love playing tennis!\").polarity"
   ]
  },
  {
   "cell_type": "code",
   "execution_count": null,
   "metadata": {},
   "outputs": [],
   "source": [
    "Sentence(\"I hate running!\").polarity"
   ]
  },
  {
   "cell_type": "markdown",
   "metadata": {},
   "source": [
    "### Translation"
   ]
  },
  {
   "cell_type": "code",
   "execution_count": null,
   "metadata": {},
   "outputs": [],
   "source": [
    "chinese_blob = TextBlob(u\"美丽优于丑陋\")\n",
    "chinese_blob.translate(from_lang=\"zh-CN\", to='en')"
   ]
  },
  {
   "cell_type": "code",
   "execution_count": null,
   "metadata": {},
   "outputs": [],
   "source": [
    "eng_blob = TextBlob(\"Beauty is better than ugly\")\n",
    "eng_blob.translate(from_lang=\"en\", to='it')"
   ]
  },
  {
   "cell_type": "code",
   "execution_count": null,
   "metadata": {},
   "outputs": [],
   "source": []
  },
  {
   "cell_type": "markdown",
   "metadata": {},
   "source": [
    "# References\n",
    "\n",
    " - **Introduction to Information Retrieval**. Manning, Raghavan, Schütze. Cambridge University Press. 2008.\n",
    "   - Sections 2.1, 2.2, 6.2, 6.3\n",
    "   - Download: https://nlp.stanford.edu/IR-book/information-retrieval-book.html\n",
    " - **Web Data Mining** 2nd edition. Liu. Springer. 2011.\n",
    "   - Sections 6.2.1, 6.2.2, 6.5\n",
    " - **Mining of Massive Datasets**. Leskovec, Rajaraman, Ullman. Cambridge University Press. 2014.\n",
    "   - Sections 3.1\n",
    "   - Download: http://www.mmds.org/"
   ]
  }
 ],
 "metadata": {
  "kernelspec": {
   "display_name": "Python 3",
   "language": "python",
   "name": "python3"
  },
  "language_info": {
   "codemirror_mode": {
    "name": "ipython",
    "version": 3
   },
   "file_extension": ".py",
   "mimetype": "text/x-python",
   "name": "python",
   "nbconvert_exporter": "python",
   "pygments_lexer": "ipython3",
   "version": "3.7.3"
  },
  "latex_envs": {
   "LaTeX_envs_menu_present": true,
   "autoclose": false,
   "autocomplete": true,
   "bibliofile": "biblio.bib",
   "cite_by": "apalike",
   "current_citInitial": 1,
   "eqLabelWithNumbers": true,
   "eqNumInitial": 1,
   "hotkeys": {
    "equation": "Ctrl-E",
    "itemize": "Ctrl-I"
   },
   "labels_anchors": false,
   "latex_user_defs": false,
   "report_style_numbering": false,
   "user_envs_cfg": false
  }
 },
 "nbformat": 4,
 "nbformat_minor": 2
}
