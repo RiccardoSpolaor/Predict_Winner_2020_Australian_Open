{
 "cells": [
  {
   "cell_type": "markdown",
   "metadata": {},
   "source": [
    "# Web Intelligence\n",
    "# Shingling and LSH\n",
    "\n",
    "#### Prof. Claudio Lucchese"
   ]
  },
  {
   "cell_type": "markdown",
   "metadata": {},
   "source": [
    "## Problem statement\n",
    "\n",
    "Suppose we are interested in finding documents similar to a query document. One basic approach, is to represent documents a the set of (distinct) words they contain and then rely on Jaccard similarity.\n",
    "\n",
    "This is a common problem in several application scenarios:\n",
    " - finding near-duplicate/mirror pages in the Web\n",
    " - clustering similar news\n",
    " - finding similar users/items for recommendation, e.g., movies.\n",
    "\n",
    "By focusing on a document (text) based scenario, we want to achieve the following goals:\n",
    " - efficiency in time and space\n",
    " - beyond string matching\n",
    " \n",
    "In terms of efficiency, dealing with raw strings would be too expensive and little practical. It is clear we need a mapping from words to numerical identifiers (ids). Equality operations (are two words the same?), search operations (is this term in that document?), and many other, are clearly more efficient and less memory demanding if every word is replaced by a simple id.\n",
    "\n",
    "In addition, we would like to overcome the limitation of a naïve string matching. For instance, given the two documents containing \"Players are ready for the next match\" and \"Player is ready for the next matches\" , we would like to measure an high similarity between them. Unfortunately, they have only four words in common, and remaining words are identical up to their suffix."
   ]
  },
  {
   "cell_type": "markdown",
   "metadata": {},
   "source": [
    "## $k$-shingles\n",
    "\n",
    "$k$-shingles is a (syntactic based) method to achieve the two goals above.\n",
    "\n",
    "Consider a document as a string a characters, then it's $k$-shingles are defined as the set of substring of length $k$ occurring in the document.\n",
    "\n",
    "**Example.** Given the document \"Players are ready for the next match\", its 3-shingles are defined as {\"Pla\", \"lay\", \"aye\", \"yer\", \"ers\", \"rs \", \"s a\", \" ar\", \"are\", \"re \", \"e r\", \" re\", \"rea\", \"ead\", \"ady\", \"dy \", \"y f\", \" fo\", \"for\", \"or \", \"r t\", \" th\", \"the\", \"he \", \"e n\", \" ne\", \"nex\", \"ext\", \"xt \", \"t m\", \" ma\", \"mat\", \"atc\", \"tch\", \"che\", \"hes\"}.\n",
    "\n",
    "The similarity between two documents, can thus be computed as the Jaccard among their shingles.\n",
    "\n",
    "The benefit of using shingle is given by the partial string matching they achieve. In the previous sample, the two words \"Player\" and \"Players\" will contribute to the document similarity significantly as they share some shingles. Therefore, the use of shingles provides some improvement over the simple string matching at the word level.\n",
    "\n",
    "The length $k$ of the shingles should be decided on the basis of the document collection at hand. Low values of $k$, increase the probability of finding a shingle in a document, and therefore increase their measured similarity. Larger values of $k$ increase the discriminative power of the different shingles. Typically, a value between 5 (short documents) and 9 (long documents) is considered a good option.\n",
    "\n",
    "The value $k$ also impact on the number of possible shingles, and therefore on their representation. In general, with an alphabet of 27 characters (26 + 1 whitespace) there are $27^k$ shingles. But not all shingles exist in the real world and not all of them are found in a document collection. A good approximation is count for $20^k$ shingles. Note that $20^7<2^{32}$ and $20^9\\ll 2^{64}$, which allows for 32-bit and 64-bit representation. Such representation might be achieved through an explicit enumeration and mapping (i.e., the list of shingles in the full collection of document is materialized so as to assign an id to each of them), or by simply hashing a shingle into a bistring of length 32 or 64 (and discarding collisions). The latter approach is much more practical, e.g., consider adding a new document to the collection.\n",
    "\n",
    "Finally, the number of shingles for a given document $d$ is at most given by $|d|-k+1$, where $|d|$ is the length of the document in characters. This still makes the document representation manageable regardless of $k$.\n",
    "\n",
    "\n",
    "**Other ways to define shingles**. In some contexts, shingles are defined on the basis of words rather than characters as we did. The choice truly depends on the data collection at hand, and which of the two options better model the document similarity. As an additional example, a strategy that was proven to work well with news similarity search, is to define shingles as the a sequence of words occurring after a stop-word (the rationale is that stop-words introduce relevant concepts)."
   ]
  },
  {
   "cell_type": "markdown",
   "metadata": {},
   "source": [
    "## Min-Hashing\n",
    "\n",
    "Even if shingles provide some additional quality beyond a simple string matching, they are still too expansive.\n",
    "\n",
    "**Example**. Consider a collection of 10 billion document, each with an average length of 100 words. This would results in $10\\cdot 10^9 \\cdot 100 \\cdot 64$ bits of data, i.e., $\\approx 8,000$ GB of memory. Is it feasible to scan through such volume of data for finding a similar document?\n",
    "\n",
    "We therefore introduce a *signature* strategy, named **Min-hashing** to compact significantly the representation of a single document, still providing similarity search support.\n",
    "\n",
    "Let's consider a documents $A$ as the sets of their $k$-shingles. The min-hash of $A$ is defined as the smallest element of set $A$ after a random permutation $\\pi$ is applied. Therefore, the min-hash signature of $A$ consists in single element of the set which is carefully chosen by $\\pi$. We collect the min-hash signature of each document in our collection by applying the same permutation.\n",
    "\n",
    "Suppose we have two documents/sets $A=\\{a,d\\}$ and $B=\\{b,d,e\\}$. We can represent them as a binary presence matrix:\n",
    "$$\n",
    "\\begin{array}{ccc}\n",
    " & A & B \\\\ \\hline\n",
    "a & 1 & 0 \\\\\n",
    "b & 0 & 1 \\\\\n",
    "c & 0 & 0 \\\\\n",
    "d & 1 & 1 \\\\\n",
    "e & 0 & 1 \\\\\n",
    "\\end{array}\n",
    "$$\n",
    "We call $\\pi$ a give random permutation of the elements in the sets, i.e., of the row of the above matrix, thus obtaining a new matrix. Note that the permutation must be global and identical for every set, and this is achieved by the row permutation.\n",
    "$$\n",
    "\\begin{array}{ccc}\n",
    "\\pi & A & B \\\\ \\hline\n",
    "c & 0 & 0 \\\\\n",
    "d & 1 & 1 \\\\\n",
    "b & 0 & 1 \\\\\n",
    "e & 0 & 1 \\\\\n",
    "a & 1 & 0 \\\\\n",
    "\\end{array}\n",
    "$$\n",
    "The min-hash is given by the first entry equal to 1 in the above matrix. Therefore, the min-hash of $A$ is $d$ and, similarity, the min-hash of $B$ is $d$.\n",
    "\n",
    "We denote the $min(\\pi_A)$, and $min(\\pi_B)$ the min-hashes of the two documents $A$ and $B$.\n",
    "\n",
    "What we just achieved is a very compact signature, as storing one shingle is trivially much cheaper that storing the full document. But how this signature can be used for similarity search?\n",
    "\n",
    "Let's first answer the question \"what is the probability that $min(\\pi_A) = min(\\pi_B)$?\".\n",
    "To compute the min-hash of those document, we should traverse the above matrix representation from top to bottom (i.e., in the permutation order) and pick the first row with a 1. We denote with $x$ the number of rows where both documents have a 1, and with $y$ the number of rows where *only one* of the two documents has a 1. We can discard rows where both $A$ and $B$ are zeros. Therefore, of $min(\\pi_A) = min(\\pi_B)$ depends on the probability of getting an $x$ row before any other $y$ row. Therefore, this probability is equal to $x/(x+y)$. Another way to see this is to consider the min-hash (as we do not really care about the full permutation) as a random selection of one among the $x$ or $y$ rows; then two documents will have the same min-hash if an $x$ row is selected, for which we have a probability of $x/(x+y)$.\n",
    "\n",
    "Let's now compute the Jaccard similarity between $A$ and $B$ in the above matrix. The Jaccard, $J(A,B)= |A\\cap B|/|A\\cup B|$, is given by the number of rows being all one, divided by the number of rows with at least a 1. Therefore $J(A,B)=x/(x+y)$.\n",
    "\n",
    "We can conclude that: \n",
    "$$P\\big(min(\\pi_A) = min(\\pi_B)\\big) = J(A,B).$$\n"
   ]
  },
  {
   "cell_type": "markdown",
   "metadata": {},
   "source": [
    "### Min-hash signatures\n",
    "\n",
    "We have that the min-hash signature is a good signature for similarity, but still, we cannot rely on the min-hash only. If for two document we have the same min-hash we cannot conclude that they are similar, or at least we cannot tell how much.\n",
    "\n",
    "To overcome this limitation, we can exploit multiple min-hashes. Suppose we define a set of $m$ permutations $\\pi^1,\\pi^2, \\pi^3, \\ldots$, and for each document $A$ we compute the $m$ min-hashes of such permutations $[min(\\pi^1_A),min(\\pi^2_A),min(\\pi^3_A),\\ldots]$. Such vector of permutations is named min-hash signature.\n",
    "\n",
    "The min-hash signature can be used to provide an estimate of the similarity between two documents.\n",
    "If we denote with $k$ the number of matching min-hashes out of $m$ permutations for two documents $A$ and $B$, then $J(A,B)\\approx k/m$. (Law of large numbers, think about tossing a coin.) Of course we count the number of matches $k$ in the same position, i.e., generated by the same permutation. Permutations must be independent.\n",
    "\n",
    "How many permutations should we use? Usually, we want to explore a trade-off between the number accuracy, which increases with the number of permutations, and the cost of computing, processing and storing them. In general we want $m$ to be significantly smaller then the average number of terms in a document.\n",
    "\n",
    "For the actual computation of min-hash signatures of a document, it is not needed to actually materialize a permutation of its elements. A set of hash functions is defined $h_1, \\ldots, h_m$, then for each element $a \\in A$ the hash $h_1$ is computed and the minimum value is then selected, and so for the other hash function $h_i$."
   ]
  },
  {
   "cell_type": "markdown",
   "metadata": {},
   "source": [
    "## LSH: Locality Sensitive Hashing for  Jaccard Distance\n",
    "\n",
    "Even with min-hash signatures, solving the problem of finding the documents being most similar to a query document would be too expensive, as we cannot afford to scan the full list of signatures.\n",
    "\n",
    "We need a method that allows for a faster search and selection. We can use the min-hashing signature technique to define a sort of hashing function such that two similar documents have the same hash with high probability. Therefore, given a query document, we can use the hash function to find the most similar document to that by simply accessing a look-up table.\n",
    "\n",
    "To do so, we first split the $m$ min-hashes in $b$ bands of $r=m/b$ min-hashes each. Then, each sub-sequence of $r$ min-hashes is concatenated and hashed again so as to obtain a new hash that we call super-signature (sometimes called *super-shingle*). In this way, we have $b$ new signatures out of the initial $m$ min-hashes. Such $b$ super-signatures are used as key to access an hash-table. This means that we store the given document in an hash-table using the new signature as the key. Also, we use $b$ different hash tables for managing independently the $b$ different signatures, therefore storing the document $b$ times in total.\n",
    "We know that two similar documents have probability depending on their Jaccard similarity to have the same min-hash signatures and therefore to have the same key in the hash table.\n",
    "\n",
    "The search algorithm works as follows. Given a new document, we compute the min-hashes and its $b$ super-signatures. We the super-signatures to access the hash-tables and to retrieve the documents associated to the its super-signatures, and, finally, the union of such documents is returned. Additionally, it would be possible to access the textual or shingle-based representation of such documents to actually compute the Jaccard similarity and filter out the *false positives* (this filtering is expensive but limited to a possibly small set of candidates).\n",
    "\n",
    "### Analysis of LSH\n",
    "\n",
    "The questions we should answer now, is \"what is the quality of the returned documents?\", \"How $m$, $b$, and $r$ impact on such quality?\"\n",
    "\n",
    "To do so, we go through the following considerations.\n",
    "\n",
    "Suppose the actual Jaccard similarity between two documents is $s$, Then:\n",
    " - the probability of having the same super-signature (super-shingle) is $s^r$\n",
    " - the probability of not having the same super-signature is $1-s^r$\n",
    " - the probability of not matching any of the $b$ super-signatures is $(1-s^r)^b$\n",
    " - The probability of matching in at least one super-signature, i.e., the probability of being retrieved, is $1-(1-s^r)^b$\n",
    "\n",
    "\n",
    "The value of $r$ impacts on the *precision*, i.e., the number of *false positives* with the same super-signature.\n",
    "\n",
    "The value of $b$ impacts on the *recall*, i.e., increases the probability of finding similar documents."
   ]
  },
  {
   "cell_type": "code",
   "execution_count": 1,
   "metadata": {},
   "outputs": [
    {
     "data": {
      "image/png": "[encoded data removed]",
      "text/plain": [
       "<Figure size 720x432 with 1 Axes>"
      ]
     },
     "metadata": {
      "needs_background": "light"
     },
     "output_type": "display_data"
    }
   ],
   "source": [
    "%matplotlib inline\n",
    "import matplotlib.pyplot as plt\n",
    "import numpy as np\n",
    "\n",
    "x = np.linspace(0,1,21)\n",
    "\n",
    "plt.figure(figsize=(10,6))\n",
    "\n",
    "b = 1\n",
    "r = 100\n",
    "y = 1.0-(1.0-x**r)**b\n",
    "plt.plot(x,y, label=\"b=\"+str(b)+\" r=\"+str(r))\n",
    "\n",
    "b = 5\n",
    "r = 20\n",
    "y = 1.0-(1.0-x**r)**b\n",
    "plt.plot(x,y, label=\"b=\"+str(b)+\" r=\"+str(r))\n",
    "\n",
    "b = 20\n",
    "r = 5\n",
    "y = 1.0-(1.0-x**r)**b\n",
    "plt.plot(x,y, label=\"b=\"+str(b)+\" r=\"+str(r))\n",
    "\n",
    "plt.legend()\n",
    "plt.grid()\n",
    "plt.xlabel(\"Jaccard Similarity\")\n",
    "plt.ylabel(\"Probability of Retrieval\")\n",
    "plt.show()"
   ]
  },
  {
   "cell_type": "markdown",
   "metadata": {},
   "source": [
    "**Locality-sensitive hashing for cosine distance**\n",
    "\n",
    "- **general idea**\n",
    "    - take to point on the plane whose angle is $\\theta$\n",
    "    - take a random hyper-plane passing through the origin\n",
    "    - what is the probability that the two points are on the same side?\n",
    "    - we can say the hyperplane as a random angle in [0,180]\n",
    "    - there are only $180-\\theta$ good configurations out of 180\n",
    "    - by repeating the experiments several times, we can have an estimate of the angle\n",
    "- **sketches / sim-hashing**\n",
    "    - ok for large dimensions\n",
    "    - rather than peeking hyper-planes at random, just pick [+1,-1]\n",
    "    - get the side of the hyper-plane by the sign of dot product\n",
    "    - repeat $m$ times to get a sim hash of $m$-bits\n",
    "    - intersection gives you the angle/cosine distance"
   ]
  },
  {
   "cell_type": "markdown",
   "metadata": {},
   "source": [
    "# References \n",
    "\n",
    " - **Mining of Massive Datasets**. Leskovec, Rajaraman, Ullman. Cambridge University Press. 2014.\n",
    "   - Sections 3.2, 3.3, 3.4, 3.7.2, 3.7.3"
   ]
  },
  {
   "cell_type": "code",
   "execution_count": null,
   "metadata": {},
   "outputs": [],
   "source": []
  }
 ],
 "metadata": {
  "kernelspec": {
   "display_name": "Python 3",
   "language": "python",
   "name": "python3"
  },
  "language_info": {
   "codemirror_mode": {
    "name": "ipython",
    "version": 3
   },
   "file_extension": ".py",
   "mimetype": "text/x-python",
   "name": "python",
   "nbconvert_exporter": "python",
   "pygments_lexer": "ipython3",
   "version": "3.7.3"
  },
  "latex_envs": {
   "LaTeX_envs_menu_present": true,
   "autoclose": false,
   "autocomplete": true,
   "bibliofile": "biblio.bib",
   "cite_by": "apalike",
   "current_citInitial": 1,
   "eqLabelWithNumbers": true,
   "eqNumInitial": 1,
   "hotkeys": {
    "equation": "Ctrl-E",
    "itemize": "Ctrl-I"
   },
   "labels_anchors": false,
   "latex_user_defs": false,
   "report_style_numbering": false,
   "user_envs_cfg": false
  }
 },
 "nbformat": 4,
 "nbformat_minor": 2
}
