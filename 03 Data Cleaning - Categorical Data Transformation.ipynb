{
 "cells": [
  {
   "cell_type": "markdown",
   "metadata": {},
   "source": [
    "<center>\n",
    "\n",
    "# Web Intelligence\n",
    "\n",
    "# Who will win the Tennis Australian Open 2020?\n",
    "\n",
    "## 03 Data Cleaning - Categorical Data Transformation\n",
    "\n",
    "### Riccardo Spolaor (864877)\n",
    "\n",
    "</center>"
   ]
  },
  {
   "cell_type": "markdown",
   "metadata": {},
   "source": [
    "### Trasformazione Variabili Categoriali\n",
    "Controllo solo le feature categoriali (Tipo = *Object*) e procedo alla loro trasformazione in variabili numeriche."
   ]
  },
  {
   "cell_type": "code",
   "execution_count": 4,
   "metadata": {},
   "outputs": [],
   "source": [
    "import pandas"
   ]
  },
  {
   "cell_type": "code",
   "execution_count": 1,
   "metadata": {},
   "outputs": [],
   "source": [
    "%store -r\n",
    "%store -z"
   ]
  },
  {
   "cell_type": "code",
   "execution_count": 2,
   "metadata": {},
   "outputs": [
    {
     "name": "stdout",
     "output_type": "stream",
     "text": [
      "Variabili Categoriali:\n",
      "['Location' 'Tournament' 'Series' 'Court' 'Surface' 'Round' 'Winner'\n",
      " 'Loser' 'Comment']\n",
      "\n",
      " Location values length:  111\n",
      "\t ['Adelaide' 'Chennai' 'Doha' 'Auckland' 'Sydney' 'Melbourne' 'Milan'\n",
      " 'Copenhagen' 'Marseille' 'Vina del Mar' 'Buenos Aires' 'Memphis'\n",
      " 'Rotterdam' 'Acapulco' 'Dubai' 'San Jose' 'Delray Beach' 'Scottsdale'\n",
      " 'Indian Wells' 'Miami']\n",
      "\n",
      " Tournament values length:  208\n",
      "\t ['AAPT Championships' 'TATA Open' 'Qatar Open' 'Heineken Open'\n",
      " 'adidas International' 'Australian Open' 'Milan Indoors'\n",
      " 'Copenhagen Open' 'Marseille Open' 'Bellsouth Open' 'Copa AT&T'\n",
      " 'Kroger St. Jude' 'ABN AMRO World Tennis Tournament' 'Abierto Mexicano'\n",
      " 'Dubai Championships' 'Sybase Open' 'Citrix Tennis Championships'\n",
      " 'Franklin Templeton Tennis Classic' 'Indian Wells TMS' 'Ericsson Open']\n",
      "\n",
      " Series values length:  8\n",
      "\t ['International' 'Grand Slam' 'International Gold' 'Masters' 'Masters Cup'\n",
      " 'ATP250' 'ATP500' 'Masters 1000']\n",
      "\n",
      " Court values length:  2\n",
      "\t ['Outdoor' 'Indoor']\n",
      "\n",
      " Surface values length:  4\n",
      "\t ['Hard' 'Carpet' 'Clay' 'Grass']\n",
      "\n",
      " Round values length:  8\n",
      "\t ['1st Round' '2nd Round' 'Quarterfinals' 'The Final' 'Semifinals'\n",
      " '3rd Round' '4th Round' 'Round Robin']\n",
      "\n",
      " Winner values length:  765\n",
      "\t ['Hewitt L.' 'Haas T.' 'Massu N.' 'Henman T.' 'Vinciguerra A.' 'Pless K.'\n",
      " 'Robredo T.' 'Wessels P.' 'Tabara M.' 'Calatrava A.' 'Kiefer N.'\n",
      " 'Vicente F.' 'Gambill J.M.' 'Hrbaty D.' 'Koubek S.' 'Rusedski G.'\n",
      " 'Bastl G.' 'Clement A.' 'Rochus C.' 'Grosjean S.']\n",
      "\n",
      " Loser values length:  1129\n",
      "\t ['Arthurs W.' 'Malisse X.' 'Phau B.' 'Clement A.' 'Hewitt L.'\n",
      " 'Johansson T.' 'Ljubicic I.' 'Massu N.' 'Kratochvil M.' 'Dent T.'\n",
      " 'Sanchez D.' 'Youzhny M.' 'Saulnier C.' 'Pless K.' 'Koubek S.'\n",
      " 'Bjorkman J.' 'Calatrava A.' 'Schalken S.' 'Calleri A.' 'Vinciguerra A.']\n",
      "\n",
      " Comment values length:  6\n",
      "\t ['Completed' 'Retired' 'Walkover' 'Disqualified' 'Sched' 'Awarded']\n"
     ]
    }
   ],
   "source": [
    "print (\"Variabili Categoriali:\")\n",
    "print(dataframe.dtypes[dataframe.dtypes == object].index.values)\n",
    "\n",
    "for value in dataframe.dtypes[dataframe.dtypes == object].index.values:\n",
    "    print('\\n', value, 'values length: ', len(dataframe[value].unique()))\n",
    "    print('\\t', dataframe[value].unique()[:20])"
   ]
  },
  {
   "cell_type": "markdown",
   "metadata": {},
   "source": [
    "Uso la tecnica dello ***one-hot-encoding*** per trasformare le feature con un numero limitato di label e che non presentano nessun tipo di struttura gerarchica (***Court***, ***Surface***, ***Comment***)."
   ]
  },
  {
   "cell_type": "code",
   "execution_count": 5,
   "metadata": {},
   "outputs": [
    {
     "data": {
      "text/plain": [
       "Index(['csvID', 'ATP', 'Location', 'Tournament', 'Date', 'Series', 'Round',\n",
       "       'Best of', 'Winner', 'Loser', 'WPlayed', 'LPlayed', 'WWinRatio',\n",
       "       'LWinRatio', 'WLossRatio', 'LLossRatio', 'WRank', 'WRankAdded', 'LRank',\n",
       "       'LRankAdded', 'W1', 'L1', 'W2', 'L2', 'W3', 'L3', 'W4', 'L4', 'W5',\n",
       "       'L5', 'Wsets', 'Lsets', 'WPts', 'WPtsAdded', 'LPts', 'LPtsAdded',\n",
       "       'MaxW', 'MaxL', 'AvgW', 'AvgL', 'MinW', 'MinL', 'Indoor', 'Outdoor',\n",
       "       'Carpet', 'Clay', 'Grass', 'Hard', 'Awarded', 'Completed',\n",
       "       'Disqualified', 'Retired', 'Sched', 'Walkover'],\n",
       "      dtype='object')"
      ]
     },
     "execution_count": 5,
     "metadata": {},
     "output_type": "execute_result"
    }
   ],
   "source": [
    "dataframe = pandas.get_dummies(dataframe, prefix = ['', '', ''],\n",
    "                   prefix_sep = '', columns = ['Court', 'Surface', 'Comment'])\n",
    "\n",
    "dataframe.columns"
   ]
  },
  {
   "cell_type": "markdown",
   "metadata": {},
   "source": [
    "Per quanto riguarda i ***Round***:\n",
    "* Posso assegnare alle feature un valore numerico crescente in base all'importanza del Round:\n",
    "    * *1st Round* < *2nd Round* < *3rd Round* < *4th Round* < *Quarterfinals* < *Semifinals* < *The Final*;\n",
    "* *Round Robin* non è paragonabile agli altri tipi di round, quindi aggiungo una colonna con valore:\n",
    "    * 0 se il Round non è *Round Robin*;\n",
    "    * 1 se lo è."
   ]
  },
  {
   "cell_type": "code",
   "execution_count": 6,
   "metadata": {},
   "outputs": [
    {
     "name": "stdout",
     "output_type": "stream",
     "text": [
      "Tipi di Round:\n",
      "['1st Round' '2nd Round' 'Quarterfinals' 'The Final' 'Semifinals'\n",
      " '3rd Round' '4th Round' 'Round Robin']\n"
     ]
    }
   ],
   "source": [
    "print('Tipi di Round:')\n",
    "\n",
    "print(dataframe['Round'].unique())\n",
    "\n",
    "dataframe.insert(dataframe.columns.get_loc('Round') + 1, column = 'RoundRobin', value = 0)\n",
    "dataframe.loc[dataframe['Round'] == 'Round Robin', 'RoundRobin'] = 1\n",
    "\n",
    "roundsOrdered = {'1st Round': 1, '2nd Round': 2, 'Quarterfinals': 5, 'The Final': 7, 'Semifinals': 6,\n",
    " '3rd Round': 3, '4th Round': 4, 'Round Robin': 0}\n",
    "\n",
    "dataframe['Round'] = dataframe['Round'].apply(lambda x : roundsOrdered[x])"
   ]
  },
  {
   "cell_type": "markdown",
   "metadata": {},
   "source": [
    "Per quanto riguarda la colonna ***Series***:\n",
    "\n",
    "* Posso assegnare alle feature un valore numerico crescente in base all'importanza del tipo di torneo;\n",
    "* Alcuni tornei hanno cambiato nome nel tempo e risulta:\n",
    "    * *ATP 250* = *International* < *ATP 500* = *International Gold* < *Masters* = *Masters 1000* < *Masters Cup* < *Grand Slam*"
   ]
  },
  {
   "cell_type": "code",
   "execution_count": 7,
   "metadata": {},
   "outputs": [
    {
     "name": "stdout",
     "output_type": "stream",
     "text": [
      "Tipi di Tornei:\n",
      "['International' 'Grand Slam' 'International Gold' 'Masters' 'Masters Cup'\n",
      " 'ATP250' 'ATP500' 'Masters 1000']\n"
     ]
    },
    {
     "data": {
      "text/html": [
       "<div>\n",
       "<style scoped>\n",
       "    .dataframe tbody tr th:only-of-type {\n",
       "        vertical-align: middle;\n",
       "    }\n",
       "\n",
       "    .dataframe tbody tr th {\n",
       "        vertical-align: top;\n",
       "    }\n",
       "\n",
       "    .dataframe thead th {\n",
       "        text-align: right;\n",
       "    }\n",
       "</style>\n",
       "<table border=\"1\" class=\"dataframe\">\n",
       "  <thead>\n",
       "    <tr style=\"text-align: right;\">\n",
       "      <th></th>\n",
       "      <th>Series</th>\n",
       "      <th>WPts</th>\n",
       "    </tr>\n",
       "  </thead>\n",
       "  <tbody>\n",
       "    <tr>\n",
       "      <th>0</th>\n",
       "      <td>Grand Slam</td>\n",
       "      <td>2000</td>\n",
       "    </tr>\n",
       "    <tr>\n",
       "      <th>1</th>\n",
       "      <td>Masters Cup/ATP Finals</td>\n",
       "      <td>1500</td>\n",
       "    </tr>\n",
       "    <tr>\n",
       "      <th>2</th>\n",
       "      <td>ATP250/International</td>\n",
       "      <td>250</td>\n",
       "    </tr>\n",
       "    <tr>\n",
       "      <th>3</th>\n",
       "      <td>ATP500/International Gold</td>\n",
       "      <td>500</td>\n",
       "    </tr>\n",
       "    <tr>\n",
       "      <th>4</th>\n",
       "      <td>Masters/Masters 1000</td>\n",
       "      <td>1000</td>\n",
       "    </tr>\n",
       "  </tbody>\n",
       "</table>\n",
       "</div>"
      ],
      "text/plain": [
       "                      Series  WPts\n",
       "0                 Grand Slam  2000\n",
       "1     Masters Cup/ATP Finals  1500\n",
       "2       ATP250/International   250\n",
       "3  ATP500/International Gold   500\n",
       "4       Masters/Masters 1000  1000"
      ]
     },
     "execution_count": 7,
     "metadata": {},
     "output_type": "execute_result"
    }
   ],
   "source": [
    "print('Tipi di Tornei:')\n",
    "\n",
    "print(dataframe['Series'].unique())\n",
    "\n",
    "pandas.DataFrame(columns = ['Series','WPts'], data = [\n",
    "    ['Grand Slam', 2000],\n",
    "    ['Masters Cup/ATP Finals', 1500],\n",
    "    ['ATP250/International', 250],\n",
    "    ['ATP500/International Gold', 500],\n",
    "    ['Masters/Masters 1000', 1000],\n",
    "])"
   ]
  },
  {
   "cell_type": "code",
   "execution_count": 8,
   "metadata": {},
   "outputs": [],
   "source": [
    "seriesOrdered = {'ATP250': 1, 'International': 1, 'ATP500': 2,'International Gold': 2, 'Masters' : 3, 'Masters 1000': 3,\n",
    "                'Masters Cup': 4, 'Grand Slam': 5}\n",
    "dataframe['Series'] = dataframe['Series'].apply(lambda x : seriesOrdered[x])"
   ]
  },
  {
   "cell_type": "markdown",
   "metadata": {},
   "source": [
    "Le feature ***Tournament*** e ***Location*** presentano troppi label distinti.\n",
    "Per non allargare troppo il Dataframe con lo ***one-hot-encoding*** uso il ***Label Encoder*** per trasformare ogni stringa in un valore intero."
   ]
  },
  {
   "cell_type": "code",
   "execution_count": 9,
   "metadata": {},
   "outputs": [],
   "source": [
    "from sklearn.preprocessing import LabelEncoder\n",
    "\n",
    "leTournament = LabelEncoder().fit(dataframe['Tournament'])\n",
    "leLocation = LabelEncoder().fit(dataframe['Location'])\n",
    "\n",
    "dataframe['Tournament'] = leTournament.transform(dataframe['Tournament'])\n",
    "dataframe['Location'] = leLocation.transform(dataframe['Location'])"
   ]
  },
  {
   "cell_type": "code",
   "execution_count": 16,
   "metadata": {},
   "outputs": [
    {
     "name": "stdout",
     "output_type": "stream",
     "text": [
      "Stored 'leTournament' (LabelEncoder)\n",
      "Stored 'leLocation' (LabelEncoder)\n",
      "Stored variables and their in-db values:\n",
      "leLocation               -> LabelEncoder()\n",
      "leTournament             -> LabelEncoder()\n"
     ]
    }
   ],
   "source": [
    "%store leTournament\n",
    "%store leLocation\n",
    "\n",
    "%store"
   ]
  },
  {
   "cell_type": "markdown",
   "metadata": {},
   "source": [
    "Trasformo infine la colonna ***Date*** suddividendola nelle colonne ***Day***, ***Month*** e ***Year***. "
   ]
  },
  {
   "cell_type": "code",
   "execution_count": 11,
   "metadata": {},
   "outputs": [],
   "source": [
    "dataframe['Day'] = dataframe['Date'].dt.day \n",
    "dataframe['Month'] = dataframe['Date'].dt.month \n",
    "dataframe['Year'] = dataframe['Date'].dt.year\n",
    "\n",
    "dataframe.drop('Date', axis = 1, inplace= True)"
   ]
  },
  {
   "cell_type": "markdown",
   "metadata": {},
   "source": [
    "Trasformo le feature ***Winner*** e ***Loser*** in numeriche intere:\n",
    "* Ordino i giocatori in base alla differenza tra il numero delle loro vittorie e quello delle loro sconfitte;\n",
    "* Assegno un numero crescente ai giocatori in base a quest'ordine."
   ]
  },
  {
   "cell_type": "code",
   "execution_count": 12,
   "metadata": {},
   "outputs": [],
   "source": [
    "players = dataframe['Winner'].value_counts().subtract(dataframe['Loser'].value_counts(), fill_value = 0).sort_values(ascending = True)\n",
    "\n",
    "valueFromPlayer = {w:i for i,w in enumerate(players.index)}\n",
    "playerFromValue = {i:w for i,w in enumerate(players.index)}\n",
    "\n",
    "dataframe['Winner'] = dataframe['Winner'].apply(lambda x : valueFromPlayer[x])\n",
    "dataframe['Loser'] = dataframe['Loser'].apply(lambda x : valueFromPlayer[x])"
   ]
  },
  {
   "cell_type": "code",
   "execution_count": 17,
   "metadata": {},
   "outputs": [
    {
     "name": "stdout",
     "output_type": "stream",
     "text": [
      "Stored 'valueFromPlayer' (dict)\n",
      "Stored 'playerFromValue' (dict)\n",
      "Stored variables and their in-db values:\n",
      "leLocation                  -> LabelEncoder()\n",
      "leTournament                -> LabelEncoder()\n",
      "playerFromValue             -> {0: 'Gabashvili T.', 1: 'Rochus C.', 2: 'Gimeno-Tr\n",
      "valueFromPlayer             -> {'Gabashvili T.': 0, 'Rochus C.': 1, 'Gimeno-Trave\n"
     ]
    }
   ],
   "source": [
    "%store valueFromPlayer\n",
    "%store playerFromValue\n",
    "\n",
    "%store"
   ]
  },
  {
   "cell_type": "code",
   "execution_count": 14,
   "metadata": {},
   "outputs": [
    {
     "data": {
      "text/html": [
       "<div>\n",
       "<style scoped>\n",
       "    .dataframe tbody tr th:only-of-type {\n",
       "        vertical-align: middle;\n",
       "    }\n",
       "\n",
       "    .dataframe tbody tr th {\n",
       "        vertical-align: top;\n",
       "    }\n",
       "\n",
       "    .dataframe thead th {\n",
       "        text-align: right;\n",
       "    }\n",
       "</style>\n",
       "<table border=\"1\" class=\"dataframe\">\n",
       "  <thead>\n",
       "    <tr style=\"text-align: right;\">\n",
       "      <th></th>\n",
       "      <th>csvID</th>\n",
       "      <th>ATP</th>\n",
       "      <th>Location</th>\n",
       "      <th>Tournament</th>\n",
       "      <th>Series</th>\n",
       "      <th>Round</th>\n",
       "      <th>RoundRobin</th>\n",
       "      <th>Best of</th>\n",
       "      <th>Winner</th>\n",
       "      <th>Loser</th>\n",
       "      <th>...</th>\n",
       "      <th>Hard</th>\n",
       "      <th>Awarded</th>\n",
       "      <th>Completed</th>\n",
       "      <th>Disqualified</th>\n",
       "      <th>Retired</th>\n",
       "      <th>Sched</th>\n",
       "      <th>Walkover</th>\n",
       "      <th>Day</th>\n",
       "      <th>Month</th>\n",
       "      <th>Year</th>\n",
       "    </tr>\n",
       "  </thead>\n",
       "  <tbody>\n",
       "    <tr>\n",
       "      <th>0</th>\n",
       "      <td>0</td>\n",
       "      <td>1.0</td>\n",
       "      <td>2</td>\n",
       "      <td>0</td>\n",
       "      <td>1</td>\n",
       "      <td>1</td>\n",
       "      <td>0</td>\n",
       "      <td>3.0</td>\n",
       "      <td>1120</td>\n",
       "      <td>110</td>\n",
       "      <td>...</td>\n",
       "      <td>1</td>\n",
       "      <td>0</td>\n",
       "      <td>1</td>\n",
       "      <td>0</td>\n",
       "      <td>0</td>\n",
       "      <td>0</td>\n",
       "      <td>0</td>\n",
       "      <td>1</td>\n",
       "      <td>1</td>\n",
       "      <td>2001</td>\n",
       "    </tr>\n",
       "    <tr>\n",
       "      <th>1</th>\n",
       "      <td>0</td>\n",
       "      <td>1.0</td>\n",
       "      <td>2</td>\n",
       "      <td>0</td>\n",
       "      <td>1</td>\n",
       "      <td>2</td>\n",
       "      <td>0</td>\n",
       "      <td>3.0</td>\n",
       "      <td>1109</td>\n",
       "      <td>460</td>\n",
       "      <td>...</td>\n",
       "      <td>1</td>\n",
       "      <td>0</td>\n",
       "      <td>1</td>\n",
       "      <td>0</td>\n",
       "      <td>0</td>\n",
       "      <td>0</td>\n",
       "      <td>0</td>\n",
       "      <td>1</td>\n",
       "      <td>1</td>\n",
       "      <td>2001</td>\n",
       "    </tr>\n",
       "    <tr>\n",
       "      <th>2</th>\n",
       "      <td>0</td>\n",
       "      <td>1.0</td>\n",
       "      <td>2</td>\n",
       "      <td>0</td>\n",
       "      <td>1</td>\n",
       "      <td>2</td>\n",
       "      <td>0</td>\n",
       "      <td>3.0</td>\n",
       "      <td>1120</td>\n",
       "      <td>13</td>\n",
       "      <td>...</td>\n",
       "      <td>1</td>\n",
       "      <td>0</td>\n",
       "      <td>1</td>\n",
       "      <td>0</td>\n",
       "      <td>0</td>\n",
       "      <td>0</td>\n",
       "      <td>0</td>\n",
       "      <td>1</td>\n",
       "      <td>1</td>\n",
       "      <td>2001</td>\n",
       "    </tr>\n",
       "    <tr>\n",
       "      <th>3</th>\n",
       "      <td>0</td>\n",
       "      <td>1.0</td>\n",
       "      <td>2</td>\n",
       "      <td>0</td>\n",
       "      <td>1</td>\n",
       "      <td>2</td>\n",
       "      <td>0</td>\n",
       "      <td>3.0</td>\n",
       "      <td>959</td>\n",
       "      <td>174</td>\n",
       "      <td>...</td>\n",
       "      <td>1</td>\n",
       "      <td>0</td>\n",
       "      <td>1</td>\n",
       "      <td>0</td>\n",
       "      <td>0</td>\n",
       "      <td>0</td>\n",
       "      <td>0</td>\n",
       "      <td>1</td>\n",
       "      <td>1</td>\n",
       "      <td>2001</td>\n",
       "    </tr>\n",
       "    <tr>\n",
       "      <th>4</th>\n",
       "      <td>0</td>\n",
       "      <td>1.0</td>\n",
       "      <td>2</td>\n",
       "      <td>0</td>\n",
       "      <td>1</td>\n",
       "      <td>5</td>\n",
       "      <td>0</td>\n",
       "      <td>3.0</td>\n",
       "      <td>1109</td>\n",
       "      <td>1120</td>\n",
       "      <td>...</td>\n",
       "      <td>1</td>\n",
       "      <td>0</td>\n",
       "      <td>1</td>\n",
       "      <td>0</td>\n",
       "      <td>0</td>\n",
       "      <td>0</td>\n",
       "      <td>0</td>\n",
       "      <td>1</td>\n",
       "      <td>1</td>\n",
       "      <td>2001</td>\n",
       "    </tr>\n",
       "  </tbody>\n",
       "</table>\n",
       "<p>5 rows × 57 columns</p>\n",
       "</div>"
      ],
      "text/plain": [
       "   csvID  ATP  Location  Tournament  Series  Round  RoundRobin  Best of  \\\n",
       "0      0  1.0         2           0       1      1           0      3.0   \n",
       "1      0  1.0         2           0       1      2           0      3.0   \n",
       "2      0  1.0         2           0       1      2           0      3.0   \n",
       "3      0  1.0         2           0       1      2           0      3.0   \n",
       "4      0  1.0         2           0       1      5           0      3.0   \n",
       "\n",
       "   Winner  Loser  ...  Hard  Awarded  Completed  Disqualified  Retired  Sched  \\\n",
       "0    1120    110  ...     1        0          1             0        0      0   \n",
       "1    1109    460  ...     1        0          1             0        0      0   \n",
       "2    1120     13  ...     1        0          1             0        0      0   \n",
       "3     959    174  ...     1        0          1             0        0      0   \n",
       "4    1109   1120  ...     1        0          1             0        0      0   \n",
       "\n",
       "   Walkover  Day  Month  Year  \n",
       "0         0    1      1  2001  \n",
       "1         0    1      1  2001  \n",
       "2         0    1      1  2001  \n",
       "3         0    1      1  2001  \n",
       "4         0    1      1  2001  \n",
       "\n",
       "[5 rows x 57 columns]"
      ]
     },
     "execution_count": 14,
     "metadata": {},
     "output_type": "execute_result"
    }
   ],
   "source": [
    "dataframe.head()"
   ]
  },
  {
   "cell_type": "code",
   "execution_count": 19,
   "metadata": {},
   "outputs": [
    {
     "name": "stdout",
     "output_type": "stream",
     "text": [
      "Stored 'dataframe' (DataFrame)\n",
      "Stored variables and their in-db values:\n",
      "dataframe                   ->        csvID   ATP  Location  Tournament  Series  \n",
      "leLocation                  -> LabelEncoder()\n",
      "leTournament                -> LabelEncoder()\n",
      "playerFromValue             -> {0: 'Gabashvili T.', 1: 'Rochus C.', 2: 'Gimeno-Tr\n",
      "valueFromPlayer             -> {'Gabashvili T.': 0, 'Rochus C.': 1, 'Gimeno-Trave\n"
     ]
    }
   ],
   "source": [
    "%store dataframe\n",
    "\n",
    "%store"
   ]
  },
  {
   "cell_type": "code",
   "execution_count": null,
   "metadata": {},
   "outputs": [],
   "source": []
  }
 ],
 "metadata": {
  "kernelspec": {
   "display_name": "Python 3",
   "language": "python",
   "name": "python3"
  },
  "language_info": {
   "codemirror_mode": {
    "name": "ipython",
    "version": 3
   },
   "file_extension": ".py",
   "mimetype": "text/x-python",
   "name": "python",
   "nbconvert_exporter": "python",
   "pygments_lexer": "ipython3",
   "version": "3.7.3"
  },
  "latex_envs": {
   "LaTeX_envs_menu_present": true,
   "autoclose": false,
   "autocomplete": true,
   "bibliofile": "biblio.bib",
   "cite_by": "apalike",
   "current_citInitial": 1,
   "eqLabelWithNumbers": true,
   "eqNumInitial": 1,
   "hotkeys": {
    "equation": "Ctrl-E",
    "itemize": "Ctrl-I"
   },
   "labels_anchors": false,
   "latex_user_defs": false,
   "report_style_numbering": false,
   "user_envs_cfg": false
  }
 },
 "nbformat": 4,
 "nbformat_minor": 2
}
